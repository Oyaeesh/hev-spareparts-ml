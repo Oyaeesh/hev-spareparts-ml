{
 "cells": [
  {
   "cell_type": "markdown",
   "id": "cdad8ab0",
   "metadata": {},
   "source": [
    "# HEV Spare Parts Price Classification\n",
    "\n",
    "_Final consolidated pipeline mirroring the demand workflow for price tiers_"
   ]
  },
  {
   "cell_type": "markdown",
   "id": "b0ec189f",
   "metadata": {},
   "source": [
    "## Environment & Imports"
   ]
  },
  {
   "cell_type": "code",
   "execution_count": 1,
   "id": "0e8b038b",
   "metadata": {
    "execution": {
     "iopub.execute_input": "2025-09-22T18:52:27.230364Z",
     "iopub.status.busy": "2025-09-22T18:52:27.230364Z",
     "iopub.status.idle": "2025-09-22T18:52:35.506537Z",
     "shell.execute_reply": "2025-09-22T18:52:35.506537Z"
    }
   },
   "outputs": [],
   "source": [
    "\n",
    "import warnings\n",
    "warnings.filterwarnings(\"ignore\")\n",
    "\n",
    "import sys\n",
    "import subprocess\n",
    "import platform\n",
    "import os\n",
    "import json\n",
    "import itertools\n",
    "import hashlib\n",
    "from pathlib import Path\n",
    "\n",
    "\n",
    "def _ensure_import(module_name, pip_name=None):\n",
    "    try:\n",
    "        return __import__(module_name)\n",
    "    except ModuleNotFoundError:\n",
    "        pkg = pip_name or module_name\n",
    "        subprocess.check_call([sys.executable, '-m', 'pip', 'install', pkg, '-q'])\n",
    "        return __import__(module_name)\n",
    "\n",
    "\n",
    "_ensure_import('seaborn', 'seaborn')\n",
    "_ensure_import('sklearn', 'scikit-learn')\n",
    "_ensure_import('numpy', 'numpy')\n",
    "_ensure_import('pandas', 'pandas')\n",
    "_ensure_import('matplotlib', 'matplotlib')\n",
    "\n",
    "system = platform.system()\n",
    "machine = platform.machine().lower()\n",
    "tf_pkg = 'tensorflow'\n",
    "if system == 'Windows':\n",
    "    tf_pkg = 'tensorflow-cpu'\n",
    "elif system == 'Darwin' and 'arm' in machine:\n",
    "    tf_pkg = 'tensorflow-macos'\n",
    "_ensure_import('tensorflow', tf_pkg)\n",
    "\n",
    "import numpy as np\n",
    "import pandas as pd\n",
    "import seaborn as sns\n",
    "import matplotlib.pyplot as plt\n",
    "\n",
    "from sklearn.model_selection import GroupShuffleSplit, GroupKFold, StratifiedKFold, StratifiedShuffleSplit, train_test_split\n",
    "from sklearn.preprocessing import StandardScaler, OneHotEncoder, FunctionTransformer\n",
    "from sklearn.compose import ColumnTransformer\n",
    "from sklearn.pipeline import Pipeline\n",
    "from sklearn.metrics import confusion_matrix, classification_report, accuracy_score, f1_score\n",
    "from sklearn.impute import SimpleImputer\n",
    "from sklearn.linear_model import LogisticRegression, SGDClassifier\n",
    "from sklearn.svm import SVC\n",
    "from sklearn.ensemble import ExtraTreesClassifier\n",
    "from sklearn.discriminant_analysis import LinearDiscriminantAnalysis as LDA\n",
    "from sklearn.utils.class_weight import compute_class_weight\n",
    "\n",
    "import tensorflow as tf\n",
    "from tensorflow.keras import regularizers\n",
    "from tensorflow.keras.models import Sequential\n",
    "from tensorflow.keras.layers import Dense, Dropout\n",
    "from tensorflow.keras.optimizers import Adam\n",
    "from tensorflow.keras.callbacks import EarlyStopping, ReduceLROnPlateau\n",
    "\n",
    "os.environ[\"TF_DETERMINISTIC_OPS\"] = \"1\"\n",
    "\n",
    "SEED = 42\n",
    "np.random.seed(SEED)\n",
    "tf.random.set_seed(SEED)\n"
   ]
  },
  {
   "cell_type": "markdown",
   "id": "e4f51069",
   "metadata": {},
   "source": [
    "## Configuration"
   ]
  },
  {
   "cell_type": "code",
   "execution_count": 2,
   "id": "034a61b6",
   "metadata": {
    "execution": {
     "iopub.execute_input": "2025-09-22T18:52:35.508542Z",
     "iopub.status.busy": "2025-09-22T18:52:35.508542Z",
     "iopub.status.idle": "2025-09-22T18:52:35.512808Z",
     "shell.execute_reply": "2025-09-22T18:52:35.512808Z"
    }
   },
   "outputs": [],
   "source": [
    "# Exclude 'part' from features (still used for grouping)\n",
    "DROP_PART = True\n",
    "\n",
    "# Explicit blocklist of known leakage-prone columns (by exact name)\n",
    "BLOCKLIST_FEATURES = {\n",
    "    'on line price',\n",
    "    'repair_to_price',\n",
    "    'maintenance_to_price',\n",
    "}\n",
    "\n",
    "# Guard threshold for the single-feature leakage audit (macro F1)\n",
    "LEAKAGE_F1_THRESHOLD = 0.90\n",
    "\n",
    "# ANN hyperparameter grid (identical to demand workflow; 72 combinations)\n",
    "GRID = {\n",
    "    'num_layers':    [1, 2, 3],\n",
    "    'units':         [16, 32],\n",
    "    'dropout_rate':  [0.0, 0.2],\n",
    "    'l2_reg':        [0.0, 1e-4],\n",
    "    'learning_rate': [1e-3, 3e-3, 1e-2],\n",
    "}\n",
    "\n",
    "# Small grids for the classical models (kept in sync with demand notebook)\n",
    "GRIDS_CLASSIC = {\n",
    "    \"svc_rbf\": {\"C\": [1.0, 3.0], \"gamma\": [\"scale\", \"auto\"]},\n",
    "    \"logreg\":  {\"C\": [0.3, 1.0, 3.0], \"solver\": [\"lbfgs\"], \"max_iter\": [2000]},\n",
    "    \"et\":      {\"n_estimators\": [200, 400], \"max_depth\": [None, 20]},\n",
    "    \"sgd\":     {\"loss\": [\"log_loss\"], \"alpha\": [1e-4, 1e-3], \"max_iter\": [2000], \"random_state\": [SEED]},\n",
    "    \"lda\":     {\"solver\": [\"svd\"]},\n",
    "}\n",
    "\n",
    "MODEL_ZOO = {\n",
    "    \"svc_rbf\": {\n",
    "        \"label\": \"SVC (RBF)\",\n",
    "        \"factory\": lambda p: SVC(**p),\n",
    "        \"style\": \"scale\",\n",
    "    },\n",
    "    \"logreg\": {\n",
    "        \"label\": \"LogisticRegression\",\n",
    "        \"factory\": lambda p: LogisticRegression(multi_class=\"multinomial\", **p),\n",
    "        \"style\": \"scale\",\n",
    "    },\n",
    "    \"et\": {\n",
    "        \"label\": \"ExtraTrees\",\n",
    "        \"factory\": lambda p: ExtraTreesClassifier(random_state=SEED, n_jobs=-1, **p),\n",
    "        \"style\": \"tree\",\n",
    "    },\n",
    "    \"sgd\": {\n",
    "        \"label\": \"SGDClassifier (log_loss)\",\n",
    "        \"factory\": lambda p: SGDClassifier(**p),\n",
    "        \"style\": \"scale\",\n",
    "    },\n",
    "    \"lda\": {\n",
    "        \"label\": \"LinearDiscriminantAnalysis\",\n",
    "        \"factory\": lambda p: LDA(**p),\n",
    "        \"style\": \"scale\",\n",
    "    },\n",
    "}\n",
    "MODEL_KEYS = [\"svc_rbf\", \"logreg\", \"et\", \"sgd\", \"lda\"]\n"
   ]
  },
  {
   "cell_type": "markdown",
   "id": "efa84231",
   "metadata": {},
   "source": [
    "\n",
    "### TODOs\n",
    "- [ ] Explore leakage-safe replacements for removed price-derived ratios (e.g., aggregate pricing by vehicle class).\n",
    "- [ ] Investigate automated feature-pattern rules beyond `BLOCKLIST_FEATURES` (e.g., regex on column names) before ingesting future datasets.\n",
    "- [ ] Monitor the leakage audit threshold after collecting more data to ensure 0.90 remains a sensible guard rail.\n"
   ]
  },
  {
   "cell_type": "markdown",
   "id": "7db1554b",
   "metadata": {},
   "source": [
    "## Data Loading & Profiling"
   ]
  },
  {
   "cell_type": "code",
   "execution_count": 3,
   "id": "645f8339",
   "metadata": {
    "execution": {
     "iopub.execute_input": "2025-09-22T18:52:35.513813Z",
     "iopub.status.busy": "2025-09-22T18:52:35.513813Z",
     "iopub.status.idle": "2025-09-22T18:52:35.765730Z",
     "shell.execute_reply": "2025-09-22T18:52:35.764723Z"
    }
   },
   "outputs": [
    {
     "name": "stdout",
     "output_type": "stream",
     "text": [
      "Using file: \\\\oochcfs10\\users\\oaliyaeesh\\DOWNLOADS\\hev-spareparts-ml\\data\\Price.csv\n",
      "Initial shape: (7652, 16)\n",
      "Dropping 60 duplicate rows\n",
      "Shape after cleaning: (7592, 16)\n",
      "Price summary:\n",
      "count    7592.000000\n",
      "mean      386.137455\n",
      "std      1060.804969\n",
      "min         1.000000\n",
      "25%        50.000000\n",
      "50%       100.000000\n",
      "75%       230.000000\n",
      "max      7716.000000\n",
      "Name: price, dtype: float64\n",
      "Feature dtypes:\n",
      "car type                                              int64\n",
      "made in                                               int64\n",
      "number of cars in jordan                              int64\n",
      "car age                                               int64\n",
      "part                                                  int64\n",
      "failure rate                                        float64\n",
      "price of the car                                    float64\n",
      "original/imitator                                     int64\n",
      "new\\used                                              int64\n",
      "selling location                                      int64\n",
      "service location (repair shop/automotive company      int64\n",
      "repair or replacement cost                            int64\n",
      "car total maintenance cost average                    int64\n",
      "critically                                          float64\n",
      "online price                                        float64\n",
      "price                                               float64\n",
      "dtype: object\n",
      "Unique value counts:\n",
      "original/imitator                                     2\n",
      "new\\used                                              2\n",
      "service location (repair shop/automotive company      2\n",
      "made in                                               3\n",
      "selling location                                      3\n",
      "car total maintenance cost average                    3\n",
      "car type                                              4\n",
      "car age                                              15\n",
      "repair or replacement cost                           21\n",
      "critically                                           35\n",
      "part                                                 36\n",
      "price of the car                                     41\n",
      "number of cars in jordan                             47\n",
      "failure rate                                         81\n",
      "price                                               177\n",
      "online price                                        223\n",
      "dtype: int64\n"
     ]
    }
   ],
   "source": [
    "price_env = os.environ.get(\"PRICE_DATA_PATH\", \"\").strip()\n",
    "candidates = [Path(price_env)] if price_env else []\n",
    "candidates += [\n",
    "    Path(\"data\") / \"Price.csv\",\n",
    "    Path(\"..\") / \"data\" / \"Price.csv\",\n",
    "]\n",
    "file_path = next((p for p in candidates if p.exists()), None)\n",
    "if file_path is None:\n",
    "    raise FileNotFoundError(\"Could not find Price.csv. Set PRICE_DATA_PATH or place the file in data/ or ../data/.\")\n",
    "\n",
    "df = pd.read_csv(file_path)\n",
    "df.columns = df.columns.str.strip()\n",
    "print(\"Using file:\", file_path.resolve())\n",
    "print(\"Initial shape:\", df.shape)\n",
    "\n",
    "dup_count = df.duplicated().sum()\n",
    "if dup_count:\n",
    "    print(f\"Dropping {dup_count} duplicate rows\")\n",
    "    df = df.drop_duplicates().reset_index(drop=True)\n",
    "\n",
    "df['price'] = pd.to_numeric(df['price'], errors='coerce')\n",
    "df = df.dropna(subset=['price']).reset_index(drop=True)\n",
    "print(\"Shape after cleaning:\", df.shape)\n",
    "\n",
    "print(\"Price summary:\")\n",
    "print(df['price'].describe())\n",
    "\n",
    "print(\"Feature dtypes:\")\n",
    "print(df.dtypes)\n",
    "\n",
    "print(\"Unique value counts:\")\n",
    "print(df.nunique().sort_values())\n"
   ]
  },
  {
   "cell_type": "code",
   "execution_count": 4,
   "id": "59f6447a",
   "metadata": {
    "execution": {
     "iopub.execute_input": "2025-09-22T18:52:35.769725Z",
     "iopub.status.busy": "2025-09-22T18:52:35.768729Z",
     "iopub.status.idle": "2025-09-22T18:52:35.774850Z",
     "shell.execute_reply": "2025-09-22T18:52:35.774850Z"
    }
   },
   "outputs": [],
   "source": [
    "# Feature engineering derived from domain ratios\n",
    "# TODO: revisit price-aware ratios once a leakage-safe definition is available.\n",
    "epsilon = 1e-6\n",
    "with np.errstate(divide='ignore', invalid='ignore'):\n",
    "    df['repair_to_car_price'] = df['repair or replacement cost'] / (df['price of the car'] + epsilon)\n",
    "\n",
    "existing_leakage_columns = sorted(set(BLOCKLIST_FEATURES).intersection(df.columns))\n",
    "if existing_leakage_columns:\n",
    "    print(f\"Dropping leakage-prone columns derived from target: {existing_leakage_columns}\")\n",
    "    df = df.drop(columns=existing_leakage_columns)\n",
    "\n",
    "df.replace([np.inf, -np.inf], np.nan, inplace=True)\n"
   ]
  },
  {
   "cell_type": "markdown",
   "id": "735e5ed2",
   "metadata": {},
   "source": [
    "## Feature Taxonomy"
   ]
  },
  {
   "cell_type": "code",
   "execution_count": 5,
   "id": "1cafe867",
   "metadata": {
    "execution": {
     "iopub.execute_input": "2025-09-22T18:52:35.777860Z",
     "iopub.status.busy": "2025-09-22T18:52:35.776860Z",
     "iopub.status.idle": "2025-09-22T18:52:35.782860Z",
     "shell.execute_reply": "2025-09-22T18:52:35.782860Z"
    }
   },
   "outputs": [
    {
     "name": "stdout",
     "output_type": "stream",
     "text": [
      "Categorical features: ['car type', 'made in', 'original/imitator', 'new\\\\used', 'selling location', 'service location (repair shop/automotive company']\n",
      "Numeric features: ['number of cars in jordan', 'car age', 'failure rate', 'price of the car', 'repair or replacement cost', 'critically', 'car total maintenance cost average', 'repair_to_car_price']\n",
      "Log-transform numeric features: ['number of cars in jordan', 'failure rate', 'repair or replacement cost', 'critically', 'price of the car', 'repair_to_car_price']\n"
     ]
    }
   ],
   "source": [
    "cat_cols_raw = [\n",
    "    'car type',\n",
    "    'made in',\n",
    "    'original/imitator',\n",
    "    r'new\\used',\n",
    "    'selling location',\n",
    "    'service location (repair shop/automotive company',\n",
    "    'part'\n",
    "]\n",
    "num_cols_raw = [\n",
    "    'number of cars in jordan',\n",
    "    'car age',\n",
    "    'failure rate',\n",
    "    'price of the car',\n",
    "    'repair or replacement cost',\n",
    "    'critically',\n",
    "    'car total maintenance cost average',\n",
    "    'repair_to_car_price'\n",
    "]\n",
    "\n",
    "cat_cols = list(cat_cols_raw)\n",
    "if DROP_PART and 'part' in cat_cols:\n",
    "    cat_cols.remove('part')\n",
    "\n",
    "num_all = [c for c in num_cols_raw if c not in BLOCKLIST_FEATURES]\n",
    "\n",
    "required_cols = cat_cols + num_all + ['price']\n",
    "missing_cols = [c for c in required_cols if c not in df.columns]\n",
    "if missing_cols:\n",
    "    raise ValueError(f\"Missing expected columns: {missing_cols}\")\n",
    "\n",
    "cat_cols_effective = cat_cols\n",
    "X_all = df[cat_cols_effective + num_all].copy()\n",
    "groups_all = df['part'].astype(str)\n",
    "\n",
    "skewed_candidate = [\n",
    "    'number of cars in jordan',\n",
    "    'failure rate',\n",
    "    'repair or replacement cost',\n",
    "    'critically',\n",
    "    'price of the car',\n",
    "    'repair_to_car_price'\n",
    "]\n",
    "skewed_cols = [c for c in skewed_candidate if c in num_all]\n",
    "other_num_cols = [c for c in num_all if c not in skewed_cols]\n",
    "\n",
    "print(\"Categorical features:\", cat_cols_effective)\n",
    "print(\"Numeric features:\", num_all)\n",
    "print(\"Log-transform numeric features:\", skewed_cols)\n"
   ]
  },
  {
   "cell_type": "markdown",
   "id": "71bc4e84",
   "metadata": {},
   "source": [
    "## Helper Functions"
   ]
  },
  {
   "cell_type": "code",
   "execution_count": 6,
   "id": "50d726a9",
   "metadata": {
    "execution": {
     "iopub.execute_input": "2025-09-22T18:52:35.783862Z",
     "iopub.status.busy": "2025-09-22T18:52:35.783862Z",
     "iopub.status.idle": "2025-09-22T18:52:35.791097Z",
     "shell.execute_reply": "2025-09-22T18:52:35.791097Z"
    }
   },
   "outputs": [],
   "source": [
    "\n",
    "def compute_thresholds_from_train(price_series, q_low=0.33, q_high=0.66):\n",
    "    q = price_series.quantile([q_low, q_high])\n",
    "    return float(q.loc[q_low]), float(q.loc[q_high])\n",
    "\n",
    "def bin_with_thresholds(price_series, low_thr, high_thr):\n",
    "    return pd.cut(\n",
    "        price_series,\n",
    "        bins=[-np.inf, low_thr, high_thr, np.inf],\n",
    "        labels=[0, 1, 2]\n",
    "    ).astype(int)\n",
    "\n",
    "def make_preprocessor(style: str) -> ColumnTransformer:\n",
    "    if style == \"scale\":\n",
    "        num_skew = Pipeline([\n",
    "            ('imputer', SimpleImputer(strategy='median')),\n",
    "            ('log1p', FunctionTransformer(np.log1p, validate=False)),\n",
    "            ('scaler', StandardScaler())\n",
    "        ])\n",
    "        num_plain = Pipeline([\n",
    "            ('imputer', SimpleImputer(strategy='median')),\n",
    "            ('scaler', StandardScaler())\n",
    "        ])\n",
    "    elif style == \"tree\":\n",
    "        num_skew = Pipeline([\n",
    "            ('imputer', SimpleImputer(strategy='median')),\n",
    "            ('log1p', FunctionTransformer(np.log1p, validate=False))\n",
    "        ])\n",
    "        num_plain = Pipeline([\n",
    "            ('imputer', SimpleImputer(strategy='median'))\n",
    "        ])\n",
    "    else:\n",
    "        raise ValueError(f\"Unknown preprocessor style: {style}\")\n",
    "\n",
    "    try:\n",
    "        cat = Pipeline([\n",
    "            ('imputer', SimpleImputer(strategy='most_frequent')),\n",
    "            ('ohe', OneHotEncoder(handle_unknown='ignore', sparse_output=False))\n",
    "        ])\n",
    "    except TypeError:\n",
    "        cat = Pipeline([\n",
    "            ('imputer', SimpleImputer(strategy='most_frequent')),\n",
    "            ('ohe', OneHotEncoder(handle_unknown='ignore', sparse=False))\n",
    "        ])\n",
    "\n",
    "    return ColumnTransformer(\n",
    "        transformers=[\n",
    "            ('num_skew', num_skew,   skewed_cols),\n",
    "            ('num',      num_plain,  other_num_cols),\n",
    "            ('cat',      cat,        cat_cols_effective)\n",
    "        ],\n",
    "        remainder='drop'\n",
    "    )\n",
    "\n",
    "def build_ann(input_dim, num_layers, units, dropout_rate, l2_reg, learning_rate, num_classes=3):\n",
    "    tf.keras.backend.clear_session()\n",
    "    model = Sequential()\n",
    "    reg = regularizers.l2(l2_reg) if l2_reg and l2_reg > 0 else None\n",
    "    for i in range(num_layers):\n",
    "        if i == 0:\n",
    "            model.add(Dense(units, activation='relu', kernel_regularizer=reg, input_shape=(input_dim,)))\n",
    "        else:\n",
    "            model.add(Dense(units, activation='relu', kernel_regularizer=reg))\n",
    "        if dropout_rate and dropout_rate > 0:\n",
    "            model.add(Dropout(dropout_rate))\n",
    "    model.add(Dense(num_classes, activation='softmax'))\n",
    "    model.compile(optimizer=Adam(learning_rate=learning_rate),\n",
    "                  loss='sparse_categorical_crossentropy',\n",
    "                  metrics=['accuracy'])\n",
    "    return model\n",
    "\n",
    "def grid_dict_product(grid):\n",
    "    keys = list(grid.keys())\n",
    "    for values in itertools.product(*(grid[k] for k in keys)):\n",
    "        yield dict(zip(keys, values))\n",
    "\n",
    "def hash_rows(df_like):\n",
    "    str_df = df_like.copy()\n",
    "    for c in str_df.columns:\n",
    "        if pd.api.types.is_numeric_dtype(str_df[c]):\n",
    "            str_df[c] = str_df[c].astype(float).map(lambda x: f\"{x:.12g}\")\n",
    "        else:\n",
    "            str_df[c] = str_df[c].astype(str)\n",
    "    concat = str_df.apply(lambda r: '||'.join(r.values.astype(str)), axis=1)\n",
    "    return concat.map(lambda s: hashlib.md5(s.encode('utf-8')).hexdigest())\n"
   ]
  },
  {
   "cell_type": "markdown",
   "id": "c0f5929d",
   "metadata": {},
   "source": [
    "## Train/Test Split & Label Binning"
   ]
  },
  {
   "cell_type": "code",
   "execution_count": 7,
   "id": "ee6c4dac",
   "metadata": {
    "execution": {
     "iopub.execute_input": "2025-09-22T18:52:35.793100Z",
     "iopub.status.busy": "2025-09-22T18:52:35.793100Z",
     "iopub.status.idle": "2025-09-22T18:52:35.804128Z",
     "shell.execute_reply": "2025-09-22T18:52:35.803121Z"
    }
   },
   "outputs": [],
   "source": [
    "# Outer grouped train/test split (ensures unseen parts in the test set)\n",
    "gss = GroupShuffleSplit(n_splits=1, test_size=0.2, random_state=SEED)\n",
    "train_idx, test_idx = next(gss.split(X_all, None, groups=groups_all))\n",
    "\n",
    "X_train_raw = X_all.iloc[train_idx].reset_index(drop=True)\n",
    "X_test_raw  = X_all.iloc[test_idx].reset_index(drop=True)\n",
    "\n",
    "groups_train = groups_all.iloc[train_idx].reset_index(drop=True)\n",
    "groups_test  = groups_all.iloc[test_idx].reset_index(drop=True)\n",
    "\n",
    "price_train = df['price'].iloc[train_idx].reset_index(drop=True)\n",
    "price_test  = df['price'].iloc[test_idx].reset_index(drop=True)\n",
    "\n",
    "# Create labels using thresholds from TRAIN ONLY\n",
    "low_thr, high_thr = compute_thresholds_from_train(price_train)\n",
    "y_train = bin_with_thresholds(price_train, low_thr, high_thr)\n",
    "y_test  = bin_with_thresholds(price_test,  low_thr, high_thr)\n",
    "\n",
    "class_order = [0, 1, 2]\n"
   ]
  },
  {
   "cell_type": "code",
   "execution_count": 8,
   "id": "c8b83d23",
   "metadata": {
    "execution": {
     "iopub.execute_input": "2025-09-22T18:52:35.806127Z",
     "iopub.status.busy": "2025-09-22T18:52:35.806127Z",
     "iopub.status.idle": "2025-09-22T18:52:35.810346Z",
     "shell.execute_reply": "2025-09-22T18:52:35.810346Z"
    }
   },
   "outputs": [
    {
     "name": "stdout",
     "output_type": "stream",
     "text": [
      "Train-only thresholds: 33%=60.00, 66%=197.51\n",
      "\n",
      "Class distribution (train):\n",
      "price\n",
      "0    1953\n",
      "1    1850\n",
      "2    1917\n",
      "Name: count, dtype: int64\n",
      "Class distribution (test):\n",
      "price\n",
      "0    947\n",
      "1    531\n",
      "2    394\n",
      "Name: count, dtype: int64\n"
     ]
    }
   ],
   "source": [
    "print(f\"Train-only thresholds: 33%={low_thr:.2f}, 66%={high_thr:.2f}\")\n",
    "print(\"\\nClass distribution (train):\")\n",
    "print(y_train.value_counts().sort_index())\n",
    "print(\"Class distribution (test):\")\n",
    "print(y_test.value_counts().sort_index())\n"
   ]
  },
  {
   "cell_type": "code",
   "execution_count": 9,
   "id": "a1070091",
   "metadata": {
    "execution": {
     "iopub.execute_input": "2025-09-22T18:52:35.811878Z",
     "iopub.status.busy": "2025-09-22T18:52:35.811878Z",
     "iopub.status.idle": "2025-09-22T18:52:35.904268Z",
     "shell.execute_reply": "2025-09-22T18:52:35.904268Z"
    }
   },
   "outputs": [
    {
     "name": "stdout",
     "output_type": "stream",
     "text": [
      "\n",
      "Row-hash overlap between train and test using model features: 0 rows\n"
     ]
    }
   ],
   "source": [
    "train_hash = hash_rows(X_train_raw)\n",
    "test_hash  = hash_rows(X_test_raw)\n",
    "overlap = set(train_hash).intersection(set(test_hash))\n",
    "print(f\"\\nRow-hash overlap between train and test using model features: {len(overlap)} rows\")\n",
    "if len(overlap) > 0:\n",
    "    print(\"WARNING: Identical feature rows detected across train and test. Investigate potential duplicates.\")\n"
   ]
  },
  {
   "cell_type": "markdown",
   "id": "81aa14f3",
   "metadata": {},
   "source": [
    "## ANN Hyperparameter Search"
   ]
  },
  {
   "cell_type": "code",
   "execution_count": 10,
   "id": "f73a343b",
   "metadata": {
    "execution": {
     "iopub.execute_input": "2025-09-22T18:52:35.906276Z",
     "iopub.status.busy": "2025-09-22T18:52:35.906276Z",
     "iopub.status.idle": "2025-09-22T19:00:58.731355Z",
     "shell.execute_reply": "2025-09-22T19:00:58.731355Z"
    }
   },
   "outputs": [
    {
     "name": "stdout",
     "output_type": "stream",
     "text": [
      "\n",
      "Starting ANN exhaustive grid search over 72 combinations...\n",
      "Config 1/72: {'num_layers': 1, 'units': 16, 'dropout_rate': 0.0, 'l2_reg': 0.0, 'learning_rate': 0.001}\n"
     ]
    },
    {
     "name": "stdout",
     "output_type": "stream",
     "text": [
      "WARNING:tensorflow:From C:\\Users\\oaliyaeesh\\AppData\\Local\\Programs\\Python\\Python312\\Lib\\site-packages\\keras\\src\\backend\\common\\global_state.py:82: The name tf.reset_default_graph is deprecated. Please use tf.compat.v1.reset_default_graph instead.\n",
      "\n"
     ]
    },
    {
     "name": "stdout",
     "output_type": "stream",
     "text": [
      "Config 2/72: {'num_layers': 1, 'units': 16, 'dropout_rate': 0.0, 'l2_reg': 0.0, 'learning_rate': 0.003}\n"
     ]
    },
    {
     "name": "stdout",
     "output_type": "stream",
     "text": [
      "Config 3/72: {'num_layers': 1, 'units': 16, 'dropout_rate': 0.0, 'l2_reg': 0.0, 'learning_rate': 0.01}\n"
     ]
    },
    {
     "name": "stdout",
     "output_type": "stream",
     "text": [
      "Config 4/72: {'num_layers': 1, 'units': 16, 'dropout_rate': 0.0, 'l2_reg': 0.0001, 'learning_rate': 0.001}\n"
     ]
    },
    {
     "name": "stdout",
     "output_type": "stream",
     "text": [
      "Config 5/72: {'num_layers': 1, 'units': 16, 'dropout_rate': 0.0, 'l2_reg': 0.0001, 'learning_rate': 0.003}\n"
     ]
    },
    {
     "name": "stdout",
     "output_type": "stream",
     "text": [
      "Config 6/72: {'num_layers': 1, 'units': 16, 'dropout_rate': 0.0, 'l2_reg': 0.0001, 'learning_rate': 0.01}\n"
     ]
    },
    {
     "name": "stdout",
     "output_type": "stream",
     "text": [
      "Config 7/72: {'num_layers': 1, 'units': 16, 'dropout_rate': 0.2, 'l2_reg': 0.0, 'learning_rate': 0.001}\n"
     ]
    },
    {
     "name": "stdout",
     "output_type": "stream",
     "text": [
      "Config 8/72: {'num_layers': 1, 'units': 16, 'dropout_rate': 0.2, 'l2_reg': 0.0, 'learning_rate': 0.003}\n"
     ]
    },
    {
     "name": "stdout",
     "output_type": "stream",
     "text": [
      "Config 9/72: {'num_layers': 1, 'units': 16, 'dropout_rate': 0.2, 'l2_reg': 0.0, 'learning_rate': 0.01}\n"
     ]
    },
    {
     "name": "stdout",
     "output_type": "stream",
     "text": [
      "Config 10/72: {'num_layers': 1, 'units': 16, 'dropout_rate': 0.2, 'l2_reg': 0.0001, 'learning_rate': 0.001}\n"
     ]
    },
    {
     "name": "stdout",
     "output_type": "stream",
     "text": [
      "Config 11/72: {'num_layers': 1, 'units': 16, 'dropout_rate': 0.2, 'l2_reg': 0.0001, 'learning_rate': 0.003}\n"
     ]
    },
    {
     "name": "stdout",
     "output_type": "stream",
     "text": [
      "Config 12/72: {'num_layers': 1, 'units': 16, 'dropout_rate': 0.2, 'l2_reg': 0.0001, 'learning_rate': 0.01}\n"
     ]
    },
    {
     "name": "stdout",
     "output_type": "stream",
     "text": [
      "Config 13/72: {'num_layers': 1, 'units': 32, 'dropout_rate': 0.0, 'l2_reg': 0.0, 'learning_rate': 0.001}\n"
     ]
    },
    {
     "name": "stdout",
     "output_type": "stream",
     "text": [
      "Config 14/72: {'num_layers': 1, 'units': 32, 'dropout_rate': 0.0, 'l2_reg': 0.0, 'learning_rate': 0.003}\n"
     ]
    },
    {
     "name": "stdout",
     "output_type": "stream",
     "text": [
      "Config 15/72: {'num_layers': 1, 'units': 32, 'dropout_rate': 0.0, 'l2_reg': 0.0, 'learning_rate': 0.01}\n"
     ]
    },
    {
     "name": "stdout",
     "output_type": "stream",
     "text": [
      "Config 16/72: {'num_layers': 1, 'units': 32, 'dropout_rate': 0.0, 'l2_reg': 0.0001, 'learning_rate': 0.001}\n"
     ]
    },
    {
     "name": "stdout",
     "output_type": "stream",
     "text": [
      "Config 17/72: {'num_layers': 1, 'units': 32, 'dropout_rate': 0.0, 'l2_reg': 0.0001, 'learning_rate': 0.003}\n"
     ]
    },
    {
     "name": "stdout",
     "output_type": "stream",
     "text": [
      "Config 18/72: {'num_layers': 1, 'units': 32, 'dropout_rate': 0.0, 'l2_reg': 0.0001, 'learning_rate': 0.01}\n"
     ]
    },
    {
     "name": "stdout",
     "output_type": "stream",
     "text": [
      "Config 19/72: {'num_layers': 1, 'units': 32, 'dropout_rate': 0.2, 'l2_reg': 0.0, 'learning_rate': 0.001}\n"
     ]
    },
    {
     "name": "stdout",
     "output_type": "stream",
     "text": [
      "Config 20/72: {'num_layers': 1, 'units': 32, 'dropout_rate': 0.2, 'l2_reg': 0.0, 'learning_rate': 0.003}\n"
     ]
    },
    {
     "name": "stdout",
     "output_type": "stream",
     "text": [
      "Config 21/72: {'num_layers': 1, 'units': 32, 'dropout_rate': 0.2, 'l2_reg': 0.0, 'learning_rate': 0.01}\n"
     ]
    },
    {
     "name": "stdout",
     "output_type": "stream",
     "text": [
      "Config 22/72: {'num_layers': 1, 'units': 32, 'dropout_rate': 0.2, 'l2_reg': 0.0001, 'learning_rate': 0.001}\n"
     ]
    },
    {
     "name": "stdout",
     "output_type": "stream",
     "text": [
      "Config 23/72: {'num_layers': 1, 'units': 32, 'dropout_rate': 0.2, 'l2_reg': 0.0001, 'learning_rate': 0.003}\n"
     ]
    },
    {
     "name": "stdout",
     "output_type": "stream",
     "text": [
      "Config 24/72: {'num_layers': 1, 'units': 32, 'dropout_rate': 0.2, 'l2_reg': 0.0001, 'learning_rate': 0.01}\n"
     ]
    },
    {
     "name": "stdout",
     "output_type": "stream",
     "text": [
      "Config 25/72: {'num_layers': 2, 'units': 16, 'dropout_rate': 0.0, 'l2_reg': 0.0, 'learning_rate': 0.001}\n"
     ]
    },
    {
     "name": "stdout",
     "output_type": "stream",
     "text": [
      "Config 26/72: {'num_layers': 2, 'units': 16, 'dropout_rate': 0.0, 'l2_reg': 0.0, 'learning_rate': 0.003}\n"
     ]
    },
    {
     "name": "stdout",
     "output_type": "stream",
     "text": [
      "Config 27/72: {'num_layers': 2, 'units': 16, 'dropout_rate': 0.0, 'l2_reg': 0.0, 'learning_rate': 0.01}\n"
     ]
    },
    {
     "name": "stdout",
     "output_type": "stream",
     "text": [
      "Config 28/72: {'num_layers': 2, 'units': 16, 'dropout_rate': 0.0, 'l2_reg': 0.0001, 'learning_rate': 0.001}\n"
     ]
    },
    {
     "name": "stdout",
     "output_type": "stream",
     "text": [
      "Config 29/72: {'num_layers': 2, 'units': 16, 'dropout_rate': 0.0, 'l2_reg': 0.0001, 'learning_rate': 0.003}\n"
     ]
    },
    {
     "name": "stdout",
     "output_type": "stream",
     "text": [
      "Config 30/72: {'num_layers': 2, 'units': 16, 'dropout_rate': 0.0, 'l2_reg': 0.0001, 'learning_rate': 0.01}\n"
     ]
    },
    {
     "name": "stdout",
     "output_type": "stream",
     "text": [
      "Config 31/72: {'num_layers': 2, 'units': 16, 'dropout_rate': 0.2, 'l2_reg': 0.0, 'learning_rate': 0.001}\n"
     ]
    },
    {
     "name": "stdout",
     "output_type": "stream",
     "text": [
      "Config 32/72: {'num_layers': 2, 'units': 16, 'dropout_rate': 0.2, 'l2_reg': 0.0, 'learning_rate': 0.003}\n"
     ]
    },
    {
     "name": "stdout",
     "output_type": "stream",
     "text": [
      "Config 33/72: {'num_layers': 2, 'units': 16, 'dropout_rate': 0.2, 'l2_reg': 0.0, 'learning_rate': 0.01}\n"
     ]
    },
    {
     "name": "stdout",
     "output_type": "stream",
     "text": [
      "Config 34/72: {'num_layers': 2, 'units': 16, 'dropout_rate': 0.2, 'l2_reg': 0.0001, 'learning_rate': 0.001}\n"
     ]
    },
    {
     "name": "stdout",
     "output_type": "stream",
     "text": [
      "Config 35/72: {'num_layers': 2, 'units': 16, 'dropout_rate': 0.2, 'l2_reg': 0.0001, 'learning_rate': 0.003}\n"
     ]
    },
    {
     "name": "stdout",
     "output_type": "stream",
     "text": [
      "Config 36/72: {'num_layers': 2, 'units': 16, 'dropout_rate': 0.2, 'l2_reg': 0.0001, 'learning_rate': 0.01}\n"
     ]
    },
    {
     "name": "stdout",
     "output_type": "stream",
     "text": [
      "Config 37/72: {'num_layers': 2, 'units': 32, 'dropout_rate': 0.0, 'l2_reg': 0.0, 'learning_rate': 0.001}\n"
     ]
    },
    {
     "name": "stdout",
     "output_type": "stream",
     "text": [
      "Config 38/72: {'num_layers': 2, 'units': 32, 'dropout_rate': 0.0, 'l2_reg': 0.0, 'learning_rate': 0.003}\n"
     ]
    },
    {
     "name": "stdout",
     "output_type": "stream",
     "text": [
      "Config 39/72: {'num_layers': 2, 'units': 32, 'dropout_rate': 0.0, 'l2_reg': 0.0, 'learning_rate': 0.01}\n"
     ]
    },
    {
     "name": "stdout",
     "output_type": "stream",
     "text": [
      "Config 40/72: {'num_layers': 2, 'units': 32, 'dropout_rate': 0.0, 'l2_reg': 0.0001, 'learning_rate': 0.001}\n"
     ]
    },
    {
     "name": "stdout",
     "output_type": "stream",
     "text": [
      "Config 41/72: {'num_layers': 2, 'units': 32, 'dropout_rate': 0.0, 'l2_reg': 0.0001, 'learning_rate': 0.003}\n"
     ]
    },
    {
     "name": "stdout",
     "output_type": "stream",
     "text": [
      "Config 42/72: {'num_layers': 2, 'units': 32, 'dropout_rate': 0.0, 'l2_reg': 0.0001, 'learning_rate': 0.01}\n"
     ]
    },
    {
     "name": "stdout",
     "output_type": "stream",
     "text": [
      "Config 43/72: {'num_layers': 2, 'units': 32, 'dropout_rate': 0.2, 'l2_reg': 0.0, 'learning_rate': 0.001}\n"
     ]
    },
    {
     "name": "stdout",
     "output_type": "stream",
     "text": [
      "Config 44/72: {'num_layers': 2, 'units': 32, 'dropout_rate': 0.2, 'l2_reg': 0.0, 'learning_rate': 0.003}\n"
     ]
    },
    {
     "name": "stdout",
     "output_type": "stream",
     "text": [
      "Config 45/72: {'num_layers': 2, 'units': 32, 'dropout_rate': 0.2, 'l2_reg': 0.0, 'learning_rate': 0.01}\n"
     ]
    },
    {
     "name": "stdout",
     "output_type": "stream",
     "text": [
      "Config 46/72: {'num_layers': 2, 'units': 32, 'dropout_rate': 0.2, 'l2_reg': 0.0001, 'learning_rate': 0.001}\n"
     ]
    },
    {
     "name": "stdout",
     "output_type": "stream",
     "text": [
      "Config 47/72: {'num_layers': 2, 'units': 32, 'dropout_rate': 0.2, 'l2_reg': 0.0001, 'learning_rate': 0.003}\n"
     ]
    },
    {
     "name": "stdout",
     "output_type": "stream",
     "text": [
      "Config 48/72: {'num_layers': 2, 'units': 32, 'dropout_rate': 0.2, 'l2_reg': 0.0001, 'learning_rate': 0.01}\n"
     ]
    },
    {
     "name": "stdout",
     "output_type": "stream",
     "text": [
      "Config 49/72: {'num_layers': 3, 'units': 16, 'dropout_rate': 0.0, 'l2_reg': 0.0, 'learning_rate': 0.001}\n"
     ]
    },
    {
     "name": "stdout",
     "output_type": "stream",
     "text": [
      "Config 50/72: {'num_layers': 3, 'units': 16, 'dropout_rate': 0.0, 'l2_reg': 0.0, 'learning_rate': 0.003}\n"
     ]
    },
    {
     "name": "stdout",
     "output_type": "stream",
     "text": [
      "Config 51/72: {'num_layers': 3, 'units': 16, 'dropout_rate': 0.0, 'l2_reg': 0.0, 'learning_rate': 0.01}\n"
     ]
    },
    {
     "name": "stdout",
     "output_type": "stream",
     "text": [
      "Config 52/72: {'num_layers': 3, 'units': 16, 'dropout_rate': 0.0, 'l2_reg': 0.0001, 'learning_rate': 0.001}\n"
     ]
    },
    {
     "name": "stdout",
     "output_type": "stream",
     "text": [
      "Config 53/72: {'num_layers': 3, 'units': 16, 'dropout_rate': 0.0, 'l2_reg': 0.0001, 'learning_rate': 0.003}\n"
     ]
    },
    {
     "name": "stdout",
     "output_type": "stream",
     "text": [
      "Config 54/72: {'num_layers': 3, 'units': 16, 'dropout_rate': 0.0, 'l2_reg': 0.0001, 'learning_rate': 0.01}\n"
     ]
    },
    {
     "name": "stdout",
     "output_type": "stream",
     "text": [
      "Config 55/72: {'num_layers': 3, 'units': 16, 'dropout_rate': 0.2, 'l2_reg': 0.0, 'learning_rate': 0.001}\n"
     ]
    },
    {
     "name": "stdout",
     "output_type": "stream",
     "text": [
      "Config 56/72: {'num_layers': 3, 'units': 16, 'dropout_rate': 0.2, 'l2_reg': 0.0, 'learning_rate': 0.003}\n"
     ]
    },
    {
     "name": "stdout",
     "output_type": "stream",
     "text": [
      "Config 57/72: {'num_layers': 3, 'units': 16, 'dropout_rate': 0.2, 'l2_reg': 0.0, 'learning_rate': 0.01}\n"
     ]
    },
    {
     "name": "stdout",
     "output_type": "stream",
     "text": [
      "Config 58/72: {'num_layers': 3, 'units': 16, 'dropout_rate': 0.2, 'l2_reg': 0.0001, 'learning_rate': 0.001}\n"
     ]
    },
    {
     "name": "stdout",
     "output_type": "stream",
     "text": [
      "Config 59/72: {'num_layers': 3, 'units': 16, 'dropout_rate': 0.2, 'l2_reg': 0.0001, 'learning_rate': 0.003}\n"
     ]
    },
    {
     "name": "stdout",
     "output_type": "stream",
     "text": [
      "Config 60/72: {'num_layers': 3, 'units': 16, 'dropout_rate': 0.2, 'l2_reg': 0.0001, 'learning_rate': 0.01}\n"
     ]
    },
    {
     "name": "stdout",
     "output_type": "stream",
     "text": [
      "Config 61/72: {'num_layers': 3, 'units': 32, 'dropout_rate': 0.0, 'l2_reg': 0.0, 'learning_rate': 0.001}\n"
     ]
    },
    {
     "name": "stdout",
     "output_type": "stream",
     "text": [
      "Config 62/72: {'num_layers': 3, 'units': 32, 'dropout_rate': 0.0, 'l2_reg': 0.0, 'learning_rate': 0.003}\n"
     ]
    },
    {
     "name": "stdout",
     "output_type": "stream",
     "text": [
      "Config 63/72: {'num_layers': 3, 'units': 32, 'dropout_rate': 0.0, 'l2_reg': 0.0, 'learning_rate': 0.01}\n"
     ]
    },
    {
     "name": "stdout",
     "output_type": "stream",
     "text": [
      "Config 64/72: {'num_layers': 3, 'units': 32, 'dropout_rate': 0.0, 'l2_reg': 0.0001, 'learning_rate': 0.001}\n"
     ]
    },
    {
     "name": "stdout",
     "output_type": "stream",
     "text": [
      "Config 65/72: {'num_layers': 3, 'units': 32, 'dropout_rate': 0.0, 'l2_reg': 0.0001, 'learning_rate': 0.003}\n"
     ]
    },
    {
     "name": "stdout",
     "output_type": "stream",
     "text": [
      "Config 66/72: {'num_layers': 3, 'units': 32, 'dropout_rate': 0.0, 'l2_reg': 0.0001, 'learning_rate': 0.01}\n"
     ]
    },
    {
     "name": "stdout",
     "output_type": "stream",
     "text": [
      "Config 67/72: {'num_layers': 3, 'units': 32, 'dropout_rate': 0.2, 'l2_reg': 0.0, 'learning_rate': 0.001}\n"
     ]
    },
    {
     "name": "stdout",
     "output_type": "stream",
     "text": [
      "Config 68/72: {'num_layers': 3, 'units': 32, 'dropout_rate': 0.2, 'l2_reg': 0.0, 'learning_rate': 0.003}\n"
     ]
    },
    {
     "name": "stdout",
     "output_type": "stream",
     "text": [
      "Config 69/72: {'num_layers': 3, 'units': 32, 'dropout_rate': 0.2, 'l2_reg': 0.0, 'learning_rate': 0.01}\n"
     ]
    },
    {
     "name": "stdout",
     "output_type": "stream",
     "text": [
      "Config 70/72: {'num_layers': 3, 'units': 32, 'dropout_rate': 0.2, 'l2_reg': 0.0001, 'learning_rate': 0.001}\n"
     ]
    },
    {
     "name": "stdout",
     "output_type": "stream",
     "text": [
      "Config 71/72: {'num_layers': 3, 'units': 32, 'dropout_rate': 0.2, 'l2_reg': 0.0001, 'learning_rate': 0.003}\n"
     ]
    },
    {
     "name": "stdout",
     "output_type": "stream",
     "text": [
      "Config 72/72: {'num_layers': 3, 'units': 32, 'dropout_rate': 0.2, 'l2_reg': 0.0001, 'learning_rate': 0.01}\n"
     ]
    },
    {
     "name": "stdout",
     "output_type": "stream",
     "text": [
      "\n",
      "Best ANN grid configuration (inner grouped val macro F1): 0.5659\n",
      "{'num_layers': 3, 'units': 32, 'dropout_rate': 0.2, 'l2_reg': 0.0, 'learning_rate': 0.001}\n"
     ]
    }
   ],
   "source": [
    "# Carve inner validation from outer training (grouped)\n",
    "inner_gss = GroupShuffleSplit(n_splits=1, test_size=0.2, random_state=SEED)\n",
    "inner_tr_idx, inner_val_idx = next(inner_gss.split(X_train_raw, y_train, groups=groups_train))\n",
    "X_inner_tr_raw = X_train_raw.iloc[inner_tr_idx]\n",
    "X_inner_val_raw = X_train_raw.iloc[inner_val_idx]\n",
    "y_inner_tr = y_train.iloc[inner_tr_idx]\n",
    "y_inner_val = y_train.iloc[inner_val_idx]\n",
    "\n",
    "# Fit ONE preprocessor for the inner split and reuse its matrices across grid combos\n",
    "pre_gs = make_preprocessor(style=\"scale\")\n",
    "X_inner_tr = pre_gs.fit_transform(X_inner_tr_raw)\n",
    "X_inner_val = pre_gs.transform(X_inner_val_raw)\n",
    "input_dim_inner = X_inner_tr.shape[1]\n",
    "\n",
    "best_cfg = None\n",
    "best_val_f1 = -np.inf\n",
    "best_history = None\n",
    "\n",
    "total_combos = int(np.prod([len(v) for v in GRID.values()]))\n",
    "print(f\"\\nStarting ANN exhaustive grid search over {total_combos} combinations...\")\n",
    "for idx, cfg in enumerate(grid_dict_product(GRID), start=1):\n",
    "    print(f\"Config {idx}/{total_combos}: {cfg}\")\n",
    "    model = build_ann(\n",
    "        input_dim=input_dim_inner,\n",
    "        num_layers=cfg['num_layers'],\n",
    "        units=cfg['units'],\n",
    "        dropout_rate=cfg['dropout_rate'],\n",
    "        l2_reg=cfg['l2_reg'],\n",
    "        learning_rate=cfg['learning_rate'],\n",
    "        num_classes=len(class_order),\n",
    "    )\n",
    "    early_stop = EarlyStopping(monitor='val_loss', patience=15, restore_best_weights=True)\n",
    "    reduce_lr  = ReduceLROnPlateau(monitor='val_loss', factor=0.5, patience=5, min_lr=1e-5, verbose=0)\n",
    "\n",
    "    history = model.fit(\n",
    "        X_inner_tr, y_inner_tr,\n",
    "        epochs=200,\n",
    "        validation_data=(X_inner_val, y_inner_val),\n",
    "        callbacks=[early_stop, reduce_lr],\n",
    "        verbose=0,\n",
    "    )\n",
    "\n",
    "    y_val_pred = np.argmax(model.predict(X_inner_val, verbose=0), axis=1)\n",
    "    f1 = f1_score(y_inner_val, y_val_pred, average='macro')\n",
    "    if f1 > best_val_f1:\n",
    "        best_val_f1 = f1\n",
    "        best_cfg = cfg\n",
    "        best_history = history\n",
    "\n",
    "print(\"\\nBest ANN grid configuration (inner grouped val macro F1):\", round(best_val_f1, 4))\n",
    "print(best_cfg)\n"
   ]
  },
  {
   "cell_type": "markdown",
   "id": "8f851b2c",
   "metadata": {},
   "source": [
    "## Final ANN Training & Evaluation"
   ]
  },
  {
   "cell_type": "code",
   "execution_count": 11,
   "id": "0ceb8e82",
   "metadata": {
    "execution": {
     "iopub.execute_input": "2025-09-22T19:00:58.733441Z",
     "iopub.status.busy": "2025-09-22T19:00:58.733441Z",
     "iopub.status.idle": "2025-09-22T19:01:07.239587Z",
     "shell.execute_reply": "2025-09-22T19:01:07.239587Z"
    }
   },
   "outputs": [],
   "source": [
    "# Fit ONE preprocessor on the full outer training set\n",
    "preprocessor = make_preprocessor(style=\"scale\")\n",
    "X_train_proc = preprocessor.fit_transform(X_train_raw)\n",
    "X_test_proc  = preprocessor.transform(X_test_raw)\n",
    "input_dim = X_train_proc.shape[1]\n",
    "\n",
    "# Early-stopping split by indexing the already-transformed matrix\n",
    "inner_tr_idx2, inner_val_idx2 = next(inner_gss.split(X_train_raw, y_train, groups=groups_train))\n",
    "X_tr2 = X_train_proc[inner_tr_idx2]\n",
    "X_val2 = X_train_proc[inner_val_idx2]\n",
    "y_tr2 = y_train.iloc[inner_tr_idx2]\n",
    "y_val2 = y_train.iloc[inner_val_idx2]\n",
    "\n",
    "model = build_ann(\n",
    "    input_dim=input_dim,\n",
    "    num_layers=best_cfg['num_layers'],\n",
    "    units=best_cfg['units'],\n",
    "    dropout_rate=best_cfg['dropout_rate'],\n",
    "    l2_reg=best_cfg['l2_reg'],\n",
    "    learning_rate=best_cfg['learning_rate'],\n",
    "    num_classes=len(class_order),\n",
    ")\n",
    "\n",
    "# Optional class weights if imbalance exists\n",
    "class_weight = None\n",
    "train_counts = y_tr2.value_counts().sort_index()\n",
    "if train_counts.min() / train_counts.max() < 0.6:\n",
    "    cw = compute_class_weight(class_weight='balanced', classes=np.array(class_order), y=y_tr2)\n",
    "    class_weight = {cls: w for cls, w in zip(class_order, cw)}\n",
    "    print(\"Using class weights:\", class_weight)\n",
    "\n",
    "early_stop_final = EarlyStopping(monitor='val_loss', patience=15, restore_best_weights=True)\n",
    "reduce_lr_final  = ReduceLROnPlateau(monitor='val_loss', factor=0.5, patience=5, min_lr=1e-5, verbose=0)\n",
    "\n",
    "history = model.fit(\n",
    "    X_tr2, y_tr2,\n",
    "    epochs=200,\n",
    "    validation_data=(X_val2, y_val2),\n",
    "    callbacks=[early_stop_final, reduce_lr_final],\n",
    "    verbose=0,\n",
    "    class_weight=class_weight,\n",
    ")\n"
   ]
  },
  {
   "cell_type": "code",
   "execution_count": 12,
   "id": "c3cdb0da",
   "metadata": {
    "execution": {
     "iopub.execute_input": "2025-09-22T19:01:07.242640Z",
     "iopub.status.busy": "2025-09-22T19:01:07.241680Z",
     "iopub.status.idle": "2025-09-22T19:01:07.502476Z",
     "shell.execute_reply": "2025-09-22T19:01:07.501914Z"
    }
   },
   "outputs": [
    {
     "data": {
      "image/png": "[encoded data removed]",
      "text/plain": [
       "<Figure size 1000x500 with 2 Axes>"
      ]
     },
     "metadata": {},
     "output_type": "display_data"
    }
   ],
   "source": [
    "plt.figure(figsize=(10, 5))\n",
    "ax1 = plt.subplot(1, 2, 1)\n",
    "plt.plot(history.history['accuracy'], label='Train Accuracy')\n",
    "plt.plot(history.history['val_accuracy'], label='Validation Accuracy')\n",
    "plt.title('ANN Accuracy')\n",
    "plt.xlabel('Epoch')\n",
    "plt.ylabel('Accuracy')\n",
    "plt.legend()\n",
    "ax1.set_ylim(0, 1)\n",
    "\n",
    "ax2 = plt.subplot(1, 2, 2)\n",
    "plt.plot(history.history['loss'], label='Train Loss')\n",
    "plt.plot(history.history['val_loss'], label='Validation Loss')\n",
    "plt.title('ANN Loss')\n",
    "plt.xlabel('Epoch')\n",
    "plt.ylabel('Loss')\n",
    "plt.legend()\n",
    "ax2.set_ylim(0, 1)\n",
    "\n",
    "plt.tight_layout()\n",
    "plt.show()\n"
   ]
  },
  {
   "cell_type": "code",
   "execution_count": 13,
   "id": "fd725017",
   "metadata": {
    "execution": {
     "iopub.execute_input": "2025-09-22T19:01:07.503521Z",
     "iopub.status.busy": "2025-09-22T19:01:07.503521Z",
     "iopub.status.idle": "2025-09-22T19:01:07.790127Z",
     "shell.execute_reply": "2025-09-22T19:01:07.790127Z"
    }
   },
   "outputs": [
    {
     "data": {
      "image/png": "[encoded data removed]",
      "text/plain": [
       "<Figure size 800x600 with 2 Axes>"
      ]
     },
     "metadata": {},
     "output_type": "display_data"
    },
    {
     "name": "stdout",
     "output_type": "stream",
     "text": [
      "Classification report (price tiers):\n",
      "              precision    recall  f1-score   support\n",
      "\n",
      "           0       0.72      0.68      0.70       947\n",
      "           1       0.34      0.16      0.21       531\n",
      "           2       0.44      0.83      0.58       394\n",
      "\n",
      "    accuracy                           0.56      1872\n",
      "   macro avg       0.50      0.55      0.50      1872\n",
      "weighted avg       0.55      0.56      0.53      1872\n",
      "\n",
      "Test Accuracy: 0.5614\n",
      "Macro F1:      0.4968\n",
      "Best ANN configuration: {'num_layers': 3, 'units': 32, 'dropout_rate': 0.2, 'l2_reg': 0.0, 'learning_rate': 0.001}\n",
      "Thresholds kept in-session: low=60.00, high=197.51\n"
     ]
    }
   ],
   "source": [
    "\n",
    "y_pred_proba = model.predict(X_test_proc, verbose=0)\n",
    "y_pred = np.argmax(y_pred_proba, axis=1)\n",
    "y_true = y_test.to_numpy()\n",
    "\n",
    "cm = confusion_matrix(y_true, y_pred)\n",
    "plt.figure(figsize=(8, 6))\n",
    "sns.heatmap(cm, annot=True, fmt='d', cmap='Blues', xticklabels=class_order, yticklabels=class_order)\n",
    "plt.title('Confusion Matrix (price tiers)')\n",
    "plt.xlabel('Predicted'); plt.ylabel('True')\n",
    "plt.show()\n",
    "\n",
    "print(\"Classification report (price tiers):\")\n",
    "print(classification_report(y_true, y_pred, zero_division=0))\n",
    "print(f\"Test Accuracy: {accuracy_score(y_true, y_pred):.4f}\")\n",
    "print(f\"Macro F1:      {f1_score(y_true, y_pred, average='macro'):.4f}\")\n",
    "print(f\"Best ANN configuration: {best_cfg}\")\n",
    "print(f\"Thresholds kept in-session: low={low_thr:.2f}, high={high_thr:.2f}\")\n"
   ]
  },
  {
   "cell_type": "markdown",
   "id": "48fb2cfc",
   "metadata": {},
   "source": [
    "## Grouped Cross-Validation (ANN)"
   ]
  },
  {
   "cell_type": "code",
   "execution_count": 14,
   "id": "1972662c",
   "metadata": {
    "execution": {
     "iopub.execute_input": "2025-09-22T19:01:07.792170Z",
     "iopub.status.busy": "2025-09-22T19:01:07.792170Z",
     "iopub.status.idle": "2025-09-22T19:02:09.427260Z",
     "shell.execute_reply": "2025-09-22T19:02:09.427260Z"
    }
   },
   "outputs": [
    {
     "name": "stdout",
     "output_type": "stream",
     "text": [
      "Fold 1: Acc=49.08% | Loss=1.0075 | MacroF1=0.4490\n"
     ]
    },
    {
     "name": "stdout",
     "output_type": "stream",
     "text": [
      "Fold 2: Acc=54.81% | Loss=0.8824 | MacroF1=0.4863\n"
     ]
    },
    {
     "name": "stdout",
     "output_type": "stream",
     "text": [
      "Fold 3: Acc=62.20% | Loss=0.8597 | MacroF1=0.5979\n"
     ]
    },
    {
     "name": "stdout",
     "output_type": "stream",
     "text": [
      "Fold 4: Acc=47.23% | Loss=1.2079 | MacroF1=0.4246\n"
     ]
    },
    {
     "name": "stdout",
     "output_type": "stream",
     "text": [
      "Fold 5: Acc=52.19% | Loss=0.8711 | MacroF1=0.5138\n",
      "\n",
      "------------------------------------------------------------------------\n",
      "Grouped CV summary (unseen parts each fold):\n",
      "Accuracy: mean 53.10%  (+/- 5.24)\n",
      "Macro F1: mean 0.4943 (+/- 0.0601)\n",
      "Loss:     mean 0.9657\n",
      "------------------------------------------------------------------------\n"
     ]
    }
   ],
   "source": [
    "num_folds = 5\n",
    "gkf = GroupKFold(n_splits=num_folds)\n",
    "\n",
    "acc_per_fold, f1_per_fold, loss_per_fold = [], [], []\n",
    "for fold_no, (tr_idx, val_idx) in enumerate(gkf.split(X_all, None, groups=groups_all), start=1):\n",
    "    X_tr_raw, X_val_raw = X_all.iloc[tr_idx], X_all.iloc[val_idx]\n",
    "    price_tr = df['price'].iloc[tr_idx]\n",
    "    price_val = df['price'].iloc[val_idx]\n",
    "\n",
    "    low_f, high_f = compute_thresholds_from_train(price_tr)\n",
    "    y_tr_f = bin_with_thresholds(price_tr, low_f, high_f)\n",
    "    y_val_f = bin_with_thresholds(price_val, low_f, high_f)\n",
    "\n",
    "    pre_fold = make_preprocessor(style=\"scale\")\n",
    "    X_tr = pre_fold.fit_transform(X_tr_raw)\n",
    "    X_val = pre_fold.transform(X_val_raw)\n",
    "\n",
    "    model_fold = build_ann(\n",
    "        input_dim=X_tr.shape[1],\n",
    "        num_layers=best_cfg['num_layers'],\n",
    "        units=best_cfg['units'],\n",
    "        dropout_rate=best_cfg['dropout_rate'],\n",
    "        l2_reg=best_cfg['l2_reg'],\n",
    "        learning_rate=best_cfg['learning_rate'],\n",
    "        num_classes=len(class_order),\n",
    "    )\n",
    "\n",
    "    early_stop_cv = EarlyStopping(monitor='val_loss', patience=15, restore_best_weights=True)\n",
    "    reduce_lr_cv  = ReduceLROnPlateau(monitor='val_loss', factor=0.5, patience=5, min_lr=1e-5, verbose=0)\n",
    "\n",
    "    model_fold.fit(\n",
    "        X_tr, y_tr_f,\n",
    "        epochs=200,\n",
    "        validation_data=(X_val, y_val_f),\n",
    "        callbacks=[early_stop_cv, reduce_lr_cv],\n",
    "        verbose=0,\n",
    "    )\n",
    "\n",
    "    loss, acc = model_fold.evaluate(X_val, y_val_f, verbose=0)\n",
    "    y_val_pred = np.argmax(model_fold.predict(X_val, verbose=0), axis=1)\n",
    "    f1 = f1_score(y_val_f, y_val_pred, average='macro')\n",
    "\n",
    "    print(f\"Fold {fold_no}: Acc={acc*100:.2f}% | Loss={loss:.4f} | MacroF1={f1:.4f}\")\n",
    "    acc_per_fold.append(acc * 100)\n",
    "    f1_per_fold.append(f1)\n",
    "    loss_per_fold.append(loss)\n",
    "\n",
    "print('\\n' + '-'*72)\n",
    "print('Grouped CV summary (unseen parts each fold):')\n",
    "print(f\"Accuracy: mean {np.mean(acc_per_fold):.2f}%  (+/- {np.std(acc_per_fold):.2f})\")\n",
    "print(f\"Macro F1: mean {np.mean(f1_per_fold):.4f} (+/- {np.std(f1_per_fold):.4f})\")\n",
    "print(f\"Loss:     mean {np.mean(loss_per_fold):.4f}\")\n",
    "print('-'*72)\n"
   ]
  },
  {
   "cell_type": "markdown",
   "id": "970125e8",
   "metadata": {},
   "source": [
    "## Classical Model Benchmark"
   ]
  },
  {
   "cell_type": "code",
   "execution_count": 15,
   "id": "752850cc",
   "metadata": {
    "execution": {
     "iopub.execute_input": "2025-09-22T19:02:09.429347Z",
     "iopub.status.busy": "2025-09-22T19:02:09.429347Z",
     "iopub.status.idle": "2025-09-22T19:02:17.168457Z",
     "shell.execute_reply": "2025-09-22T19:02:17.168457Z"
    }
   },
   "outputs": [
    {
     "name": "stdout",
     "output_type": "stream",
     "text": [
      "\n",
      "=== SVC (RBF) (svc_rbf) ===\n"
     ]
    },
    {
     "name": "stdout",
     "output_type": "stream",
     "text": [
      "Selected params: {'C': 1.0, 'gamma': 'auto'} | Inner macro F1=0.4909\n"
     ]
    },
    {
     "name": "stdout",
     "output_type": "stream",
     "text": [
      "Test Accuracy=0.5230 | Test Macro F1=0.5105\n",
      "              precision    recall  f1-score   support\n",
      "\n",
      "           0       0.70      0.54      0.61       947\n",
      "           1       0.33      0.35      0.34       531\n",
      "           2       0.49      0.72      0.58       394\n",
      "\n",
      "    accuracy                           0.52      1872\n",
      "   macro avg       0.51      0.54      0.51      1872\n",
      "weighted avg       0.55      0.52      0.53      1872\n",
      "\n",
      "\n",
      "=== LogisticRegression (logreg) ===\n"
     ]
    },
    {
     "name": "stdout",
     "output_type": "stream",
     "text": [
      "Selected params: {'C': 0.3, 'solver': 'lbfgs', 'max_iter': 2000} | Inner macro F1=0.4959\n",
      "Test Accuracy=0.5524 | Test Macro F1=0.5313\n",
      "              precision    recall  f1-score   support\n",
      "\n",
      "           0       0.70      0.61      0.65       947\n",
      "           1       0.32      0.31      0.32       531\n",
      "           2       0.54      0.73      0.62       394\n",
      "\n",
      "    accuracy                           0.55      1872\n",
      "   macro avg       0.52      0.55      0.53      1872\n",
      "weighted avg       0.56      0.55      0.55      1872\n",
      "\n",
      "\n",
      "=== ExtraTrees (et) ===\n"
     ]
    },
    {
     "name": "stdout",
     "output_type": "stream",
     "text": [
      "Selected params: {'n_estimators': 200, 'max_depth': 20} | Inner macro F1=0.3982\n"
     ]
    },
    {
     "name": "stdout",
     "output_type": "stream",
     "text": [
      "Test Accuracy=0.4594 | Test Macro F1=0.4566\n",
      "              precision    recall  f1-score   support\n",
      "\n",
      "           0       0.64      0.48      0.54       947\n",
      "           1       0.27      0.36      0.30       531\n",
      "           2       0.49      0.56      0.52       394\n",
      "\n",
      "    accuracy                           0.46      1872\n",
      "   macro avg       0.46      0.46      0.46      1872\n",
      "weighted avg       0.50      0.46      0.47      1872\n",
      "\n",
      "\n",
      "=== SGDClassifier (log_loss) (sgd) ===\n",
      "Selected params: {'loss': 'log_loss', 'alpha': 0.0001, 'max_iter': 2000, 'random_state': 42} | Inner macro F1=0.5559\n"
     ]
    },
    {
     "name": "stdout",
     "output_type": "stream",
     "text": [
      "Test Accuracy=0.5662 | Test Macro F1=0.5152\n",
      "              precision    recall  f1-score   support\n",
      "\n",
      "           0       0.68      0.68      0.68       947\n",
      "           1       0.42      0.22      0.29       531\n",
      "           2       0.46      0.76      0.57       394\n",
      "\n",
      "    accuracy                           0.57      1872\n",
      "   macro avg       0.52      0.55      0.52      1872\n",
      "weighted avg       0.56      0.57      0.55      1872\n",
      "\n",
      "\n",
      "=== LinearDiscriminantAnalysis (lda) ===\n",
      "Selected params: {'solver': 'svd'} | Inner macro F1=0.5168\n",
      "Test Accuracy=0.5395 | Test Macro F1=0.5190\n",
      "              precision    recall  f1-score   support\n",
      "\n",
      "           0       0.69      0.59      0.64       947\n",
      "           1       0.33      0.32      0.32       531\n",
      "           2       0.51      0.72      0.60       394\n",
      "\n",
      "    accuracy                           0.54      1872\n",
      "   macro avg       0.51      0.54      0.52      1872\n",
      "weighted avg       0.55      0.54      0.54      1872\n",
      "\n"
     ]
    }
   ],
   "source": [
    "def fit_select_on_inner_classic(model_key, X_tr_raw, y_tr, groups_tr):\n",
    "    # Carve an inner grouped validation split from outer-train to select hyperparams.\n",
    "    inner = GroupShuffleSplit(n_splits=1, test_size=0.2, random_state=SEED)\n",
    "    inner_tr_idx, inner_val_idx = next(inner.split(X_tr_raw, y_tr, groups=groups_tr))\n",
    "\n",
    "    X_inner_tr_raw = X_tr_raw.iloc[inner_tr_idx]\n",
    "    X_inner_val_raw = X_tr_raw.iloc[inner_val_idx]\n",
    "    y_inner_tr = y_tr.iloc[inner_tr_idx]\n",
    "    y_inner_val = y_tr.iloc[inner_val_idx]\n",
    "\n",
    "    spec = MODEL_ZOO[model_key]\n",
    "    grid = GRIDS_CLASSIC[model_key]\n",
    "    style = spec[\"style\"]\n",
    "\n",
    "    pre = make_preprocessor(style)\n",
    "    X_inner_tr = pre.fit_transform(X_inner_tr_raw)\n",
    "    X_inner_val = pre.transform(X_inner_val_raw)\n",
    "\n",
    "    best_f1 = -np.inf\n",
    "    best_params = None\n",
    "\n",
    "    for params in grid_dict_product(grid):\n",
    "        est = spec[\"factory\"](params)\n",
    "        est.fit(X_inner_tr, y_inner_tr)\n",
    "        y_val_pred = est.predict(X_inner_val)\n",
    "        f1 = f1_score(y_inner_val, y_val_pred, average=\"macro\")\n",
    "        if f1 > best_f1:\n",
    "            best_f1 = f1\n",
    "            best_params = params\n",
    "\n",
    "    return best_params, best_f1\n",
    "\n",
    "records = []\n",
    "\n",
    "for key in MODEL_KEYS:\n",
    "    label = MODEL_ZOO[key][\"label\"]\n",
    "    print()\n",
    "    print(f\"=== {label} ({key}) ===\")\n",
    "\n",
    "    # Hyperparameter selection on a grouped inner split\n",
    "    best_params, inner_f1 = fit_select_on_inner_classic(key, X_train_raw, y_train, groups_train)\n",
    "    print(f\"Selected params: {best_params} | Inner macro F1={inner_f1:.4f}\")\n",
    "\n",
    "    # Refit preprocessor on full outer-train, then train and evaluate\n",
    "    pre = make_preprocessor(MODEL_ZOO[key][\"style\"])\n",
    "    X_train_cls = pre.fit_transform(X_train_raw)\n",
    "    X_test_cls  = pre.transform(X_test_raw)\n",
    "\n",
    "    est = MODEL_ZOO[key][\"factory\"](best_params)\n",
    "    est.fit(X_train_cls, y_train)\n",
    "\n",
    "    y_pred_cls = est.predict(X_test_cls)\n",
    "    acc = accuracy_score(y_test, y_pred_cls)\n",
    "    f1m = f1_score(y_test, y_pred_cls, average=\"macro\")\n",
    "\n",
    "    print(f\"Test Accuracy={acc:.4f} | Test Macro F1={f1m:.4f}\")\n",
    "    print(classification_report(y_test, y_pred_cls, zero_division=0))\n",
    "\n",
    "    records.append(\n",
    "        {\n",
    "            \"key\": key,\n",
    "            \"model\": label,\n",
    "            \"best_params\": best_params,\n",
    "            \"inner_macro_f1\": round(inner_f1, 4),\n",
    "            \"test_accuracy\": round(acc, 4),\n",
    "            \"test_macro_f1\": round(f1m, 4),\n",
    "        }\n",
    "    )\n"
   ]
  },
  {
   "cell_type": "code",
   "execution_count": 16,
   "id": "ff1a18d1",
   "metadata": {
    "execution": {
     "iopub.execute_input": "2025-09-22T19:02:17.170463Z",
     "iopub.status.busy": "2025-09-22T19:02:17.170463Z",
     "iopub.status.idle": "2025-09-22T19:02:17.181472Z",
     "shell.execute_reply": "2025-09-22T19:02:17.181472Z"
    }
   },
   "outputs": [
    {
     "name": "stdout",
     "output_type": "stream",
     "text": [
      "\n",
      "=== Ranked results (outer test) ===\n",
      "                        model  test_macro_f1  test_accuracy  inner_macro_f1  \\\n",
      "0          LogisticRegression         0.5313         0.5524          0.4959   \n",
      "1  LinearDiscriminantAnalysis         0.5190         0.5395          0.5168   \n",
      "2    SGDClassifier (log_loss)         0.5152         0.5662          0.5559   \n",
      "3                   SVC (RBF)         0.5105         0.5230          0.4909   \n",
      "4                  ExtraTrees         0.4566         0.4594          0.3982   \n",
      "\n",
      "                                         best_params  \n",
      "0    {'C': 0.3, 'solver': 'lbfgs', 'max_iter': 2000}  \n",
      "1                                  {'solver': 'svd'}  \n",
      "2  {'loss': 'log_loss', 'alpha': 0.0001, 'max_ite...  \n",
      "3                        {'C': 1.0, 'gamma': 'auto'}  \n",
      "4             {'n_estimators': 200, 'max_depth': 20}  \n"
     ]
    }
   ],
   "source": [
    "\n",
    "results = pd.DataFrame.from_records(records)\n",
    "results_sorted = results.sort_values([\n",
    "    \"test_macro_f1\", \"test_accuracy\"\n",
    "], ascending=False).reset_index(drop=True)\n",
    "\n",
    "print(\"\\n=== Ranked results (outer test) ===\")\n",
    "print(results_sorted[[\"model\", \"test_macro_f1\", \"test_accuracy\", \"inner_macro_f1\", \"best_params\"]])\n"
   ]
  },
  {
   "cell_type": "markdown",
   "id": "6f65c201",
   "metadata": {},
   "source": [
    "## Feature Leakage Audit"
   ]
  },
  {
   "cell_type": "code",
   "execution_count": 17,
   "id": "cda96f08",
   "metadata": {
    "execution": {
     "iopub.execute_input": "2025-09-22T19:02:17.183771Z",
     "iopub.status.busy": "2025-09-22T19:02:17.182764Z",
     "iopub.status.idle": "2025-09-22T19:02:18.189874Z",
     "shell.execute_reply": "2025-09-22T19:02:18.189874Z"
    }
   },
   "outputs": [
    {
     "name": "stdout",
     "output_type": "stream",
     "text": [
      "\n",
      "Running single-feature leakage audit (grouped CV, macro F1 per feature)...\n"
     ]
    },
    {
     "name": "stdout",
     "output_type": "stream",
     "text": [
      "Top 10 features by single-feature macro F1:\n",
      "repair or replacement cost                    0.5160\n",
      "repair_to_car_price                           0.4473\n",
      "selling location                              0.3721\n",
      "new\\used                                      0.3085\n",
      "service location (repair shop/automotive company 0.3070\n",
      "car type                                      0.3037\n",
      "failure rate                                  0.3019\n",
      "price of the car                              0.2980\n",
      "car age                                       0.2959\n",
      "made in                                       0.2867\n",
      "No single feature breached the leakage threshold (0.90). Peak macro F1 = 0.5160 (repair or replacement cost).\n"
     ]
    }
   ],
   "source": [
    "def single_feature_cv_score(feature_name):\n",
    "    # Build a tiny pipeline: transform only this feature, then multinomial logistic regression\n",
    "    if feature_name in cat_cols_effective:\n",
    "        try:\n",
    "            ohe = Pipeline([\n",
    "                ('imputer', SimpleImputer(strategy='most_frequent')),\n",
    "                ('ohe', OneHotEncoder(handle_unknown='ignore', sparse_output=False))\n",
    "            ])\n",
    "        except TypeError:\n",
    "            ohe = Pipeline([\n",
    "                ('imputer', SimpleImputer(strategy='most_frequent')),\n",
    "                ('ohe', OneHotEncoder(handle_unknown='ignore', sparse=False))\n",
    "            ])\n",
    "        pipe = Pipeline([('ohe', ohe),\n",
    "                         ('clf', LogisticRegression(max_iter=2000, multi_class='multinomial'))])\n",
    "        X_feat = df[[feature_name]].astype(str)\n",
    "    else:\n",
    "        steps = []\n",
    "        steps.append(('imputer', SimpleImputer(strategy='median')))\n",
    "        if feature_name in skewed_cols:\n",
    "            steps.append(('log1p', FunctionTransformer(np.log1p, validate=False)))\n",
    "        steps.append(('scaler', StandardScaler()))\n",
    "        steps.append(('clf', LogisticRegression(max_iter=2000, multi_class='multinomial')))\n",
    "        pipe = Pipeline(steps)\n",
    "        X_feat = df[[feature_name]].copy()\n",
    "\n",
    "    f1_scores = []\n",
    "    for tr_idx, val_idx in gkf.split(X_all, None, groups=groups_all):\n",
    "        price_tr = df['price'].iloc[tr_idx]\n",
    "        price_val = df['price'].iloc[val_idx]\n",
    "        low_f, high_f = compute_thresholds_from_train(price_tr)\n",
    "        y_tr_f = bin_with_thresholds(price_tr, low_f, high_f)\n",
    "        y_val_f = bin_with_thresholds(price_val, low_f, high_f)\n",
    "\n",
    "        X_tr_f = X_feat.iloc[tr_idx]\n",
    "        X_val_f = X_feat.iloc[val_idx]\n",
    "        pipe.fit(X_tr_f, y_tr_f)\n",
    "        y_val_pred = pipe.predict(X_val_f)\n",
    "        f1_scores.append(f1_score(y_val_f, y_val_pred, average='macro'))\n",
    "\n",
    "    return np.mean(f1_scores)\n",
    "\n",
    "features_to_audit = cat_cols_effective + num_all\n",
    "audit_results = []\n",
    "print()\n",
    "print(\"Running single-feature leakage audit (grouped CV, macro F1 per feature)...\")\n",
    "for feat in features_to_audit:\n",
    "    score = single_feature_cv_score(feat)\n",
    "    audit_results.append((feat, score))\n",
    "audit_results.sort(key=lambda x: x[1], reverse=True)\n",
    "print(\"Top 10 features by single-feature macro F1:\")\n",
    "for name, sc in audit_results[:10]:\n",
    "    print(f\"{name:45s} {sc:.4f}\")\n",
    "\n",
    "suspicious = [(n, s) for n, s in audit_results if s >= LEAKAGE_F1_THRESHOLD]\n",
    "if suspicious:\n",
    "    msg_lines = [\n",
    "        f\"ABORT: The following features exceeded the leakage threshold ({LEAKAGE_F1_THRESHOLD:.2f} macro F1):\"\n",
    "    ]\n",
    "    for n, s in suspicious:\n",
    "        msg_lines.append(f\"  - {n}: macro F1={s:.4f}\")\n",
    "    msg_lines.append(\"Update BLOCKLIST_FEATURES or adjust feature engineering to remove these columns.\")\n",
    "    raise RuntimeError('\\n'.join(msg_lines))\n",
    "else:\n",
    "    worst_name, worst_score = audit_results[0]\n",
    "    print(f\"No single feature breached the leakage threshold ({LEAKAGE_F1_THRESHOLD:.2f}). \"\n",
    "          f\"Peak macro F1 = {worst_score:.4f} ({worst_name}).\")\n"
   ]
  },
  {
   "cell_type": "markdown",
   "id": "4cd2d72e",
   "metadata": {},
   "source": [
    "## SHAP Explanations"
   ]
  },
  {
   "cell_type": "code",
   "execution_count": 18,
   "id": "353d1f60",
   "metadata": {
    "execution": {
     "iopub.execute_input": "2025-09-22T19:02:18.191885Z",
     "iopub.status.busy": "2025-09-22T19:02:18.191885Z",
     "iopub.status.idle": "2025-09-22T19:02:19.937089Z",
     "shell.execute_reply": "2025-09-22T19:02:19.937089Z"
    }
   },
   "outputs": [
    {
     "name": "stdout",
     "output_type": "stream",
     "text": [
      "shap version: 0.48.0\n"
     ]
    },
    {
     "name": "stdout",
     "output_type": "stream",
     "text": [
      "Reused in-memory model and preprocessor for SHAP computation.\n",
      "  X_train_proc shape: (5720, 24)\n",
      "  X_test_proc shape : (1872, 24)\n"
     ]
    }
   ],
   "source": [
    "\n",
    "import sys\n",
    "import subprocess\n",
    "import os\n",
    "import platform\n",
    "from pathlib import Path\n",
    "\n",
    "\n",
    "def _ensure_import(module_name, pip_name=None):\n",
    "    try:\n",
    "        return __import__(module_name)\n",
    "    except ModuleNotFoundError:\n",
    "        pkg = pip_name or module_name\n",
    "        subprocess.check_call([sys.executable, '-m', 'pip', 'install', pkg, '-q'])\n",
    "        return __import__(module_name)\n",
    "\n",
    "\n",
    "shap = _ensure_import('shap')\n",
    "print('shap version:', getattr(shap, '__version__', 'unknown'))\n",
    "\n",
    "_ensure_import('numpy')\n",
    "_ensure_import('pandas')\n",
    "\n",
    "tf_pkg = 'tensorflow'\n",
    "system = platform.system()\n",
    "machine = platform.machine().lower()\n",
    "if system == 'Windows':\n",
    "    tf_pkg = 'tensorflow-cpu'\n",
    "elif system == 'Darwin' and 'arm' in machine:\n",
    "    tf_pkg = 'tensorflow-macos'\n",
    "_ensure_import('tensorflow', tf_pkg)\n",
    "_ensure_import('sklearn', 'scikit-learn')\n",
    "\n",
    "import numpy as np  # noqa: E402\n",
    "import pandas as pd  # noqa: E402\n",
    "import tensorflow as tf  # noqa: E402\n",
    "from sklearn.model_selection import GroupShuffleSplit  # noqa: E402\n",
    "\n",
    "required_globals = ['model', 'preprocessor', 'cat_cols_effective', 'num_all']\n",
    "missing = [name for name in required_globals if name not in globals()]\n",
    "if missing:\n",
    "    raise RuntimeError(f\"Run the training cells first to define: {missing}\")\n",
    "\n",
    "seed = int(globals().get('SEED', 42))\n",
    "np.random.seed(seed)\n",
    "tf.random.set_seed(seed)\n",
    "\n",
    "cat_cols_effective = globals()['cat_cols_effective']\n",
    "num_all = globals()['num_all']\n",
    "model = globals()['model']\n",
    "preprocessor = globals()['preprocessor']\n",
    "\n",
    "price_env = os.environ.get('PRICE_DATA_PATH', '').strip()\n",
    "candidates = [Path(p) for p in [price_env] if p] + [\n",
    "    Path('data') / 'Price.csv',\n",
    "    Path('..') / 'data' / 'Price.csv',\n",
    "]\n",
    "file_path = next((p for p in candidates if p.exists()), None)\n",
    "if file_path is None:\n",
    "    raise FileNotFoundError('Could not find Price.csv for SHAP. Set PRICE_DATA_PATH or place it in data/ or ../data/.')\n",
    "\n",
    "df_price = pd.read_csv(file_path)\n",
    "df_price.columns = df_price.columns.str.strip()\n",
    "df_price['price'] = pd.to_numeric(df_price['price'], errors='coerce')\n",
    "df_price = df_price.dropna(subset=['price']).reset_index(drop=True)\n",
    "\n",
    "df_price = df_price.drop_duplicates().reset_index(drop=True)\n",
    "\n",
    "\n",
    "with np.errstate(divide='ignore', invalid='ignore'):\n",
    "    df_price['repair_to_car_price'] = df_price['repair or replacement cost'] / (df_price['price of the car'] + 1e-6)\n",
    "    df_price['repair_to_price'] = df_price['repair or replacement cost'] / (df_price['price'] + 1e-6)\n",
    "    df_price['maintenance_to_price'] = df_price['car total maintenance cost average'] / (df_price['price'] + 1e-6)\n",
    "df_price.replace([np.inf, -np.inf], np.nan, inplace=True)\n",
    "\n",
    "required_cols = set(cat_cols_effective + num_all + ['part', 'price'])\n",
    "missing_cols = sorted(required_cols - set(df_price.columns))\n",
    "if missing_cols:\n",
    "    raise ValueError(f'Dataset missing expected columns: {missing_cols}')\n",
    "\n",
    "X_all_price = df_price[cat_cols_effective + num_all].copy()\n",
    "groups_all_price = df_price['part'].astype(str)\n",
    "\n",
    "gss = GroupShuffleSplit(n_splits=1, test_size=0.2, random_state=seed)\n",
    "train_idx_shap, test_idx_shap = next(gss.split(X_all_price, None, groups=groups_all_price))\n",
    "\n",
    "X_train_raw_shap = X_all_price.iloc[train_idx_shap]\n",
    "X_test_raw_shap = X_all_price.iloc[test_idx_shap]\n",
    "\n",
    "X_train_proc_shap = preprocessor.transform(X_train_raw_shap).astype(\"float32\")\n",
    "X_test_proc_shap = preprocessor.transform(X_test_raw_shap).astype(\"float32\")\n",
    "\n",
    "print('Reused in-memory model and preprocessor for SHAP computation.')\n",
    "print('  X_train_proc shape:', getattr(X_train_proc_shap, 'shape', None))\n",
    "print('  X_test_proc shape :', getattr(X_test_proc_shap, 'shape', None))\n"
   ]
  },
  {
   "cell_type": "code",
   "execution_count": 19,
   "id": "45ccef71",
   "metadata": {
    "execution": {
     "iopub.execute_input": "2025-09-22T19:02:19.940095Z",
     "iopub.status.busy": "2025-09-22T19:02:19.939095Z",
     "iopub.status.idle": "2025-09-22T19:02:19.947100Z",
     "shell.execute_reply": "2025-09-22T19:02:19.947100Z"
    }
   },
   "outputs": [
    {
     "name": "stdout",
     "output_type": "stream",
     "text": [
      "n_features: 24\n",
      "first 10: ['number of cars in jordan', 'failure rate', 'repair or replacement cost', 'critically', 'price of the car', 'repair_to_car_price', 'car age', 'car total maintenance cost average', 'car type=1', 'car type=2']\n"
     ]
    }
   ],
   "source": [
    "\n",
    "def get_feature_names(preprocessor):\n",
    "    try:\n",
    "        names = preprocessor.get_feature_names_out()\n",
    "        return [str(n).replace('num_skew__', '').replace('num__', '').replace('cat__', '') for n in names]\n",
    "    except Exception:\n",
    "        names = []\n",
    "        for name, trans, cols in preprocessor.transformers_:\n",
    "            if name == 'remainder' and trans == 'drop':\n",
    "                continue\n",
    "            if name in ('num_skew', 'num'):\n",
    "                names.extend(list(cols))\n",
    "            elif name == 'cat':\n",
    "                try:\n",
    "                    ohe = trans.named_steps.get('ohe')\n",
    "                    categories = ohe.categories_\n",
    "                    for col, cats in zip(cols, categories):\n",
    "                        for cat in cats:\n",
    "                            names.append(f'{col}={cat}')\n",
    "                except Exception:\n",
    "                    names.extend(list(cols))\n",
    "            else:\n",
    "                if isinstance(cols, list):\n",
    "                    names.extend(list(cols))\n",
    "        return names\n",
    "\n",
    "feature_names = get_feature_names(preprocessor)\n",
    "print('n_features:', len(feature_names))\n",
    "print('first 10:', feature_names[:10])\n"
   ]
  },
  {
   "cell_type": "code",
   "execution_count": 20,
   "id": "dfb1b8db",
   "metadata": {
    "execution": {
     "iopub.execute_input": "2025-09-22T19:02:19.949410Z",
     "iopub.status.busy": "2025-09-22T19:02:19.949410Z",
     "iopub.status.idle": "2025-09-22T19:02:21.259177Z",
     "shell.execute_reply": "2025-09-22T19:02:21.259177Z"
    }
   },
   "outputs": [
    {
     "name": "stdout",
     "output_type": "stream",
     "text": [
      "SHAP explainer: DeepExplainer\n"
     ]
    }
   ],
   "source": [
    "\n",
    "import platform\n",
    "\n",
    "rng = np.random.RandomState(SEED)\n",
    "X_bg = X_train_proc_shap\n",
    "X_eval = X_test_proc_shap if 'X_test_proc_shap' in globals() else X_train_proc_shap\n",
    "\n",
    "bg_size = min(100, X_bg.shape[0])\n",
    "explain_size = min(200, X_eval.shape[0])\n",
    "bg_idx = rng.choice(X_bg.shape[0], size=bg_size, replace=False)\n",
    "explain_idx = rng.choice(X_eval.shape[0], size=explain_size, replace=False)\n",
    "\n",
    "background = X_bg[bg_idx]\n",
    "X_explain = X_eval[explain_idx]\n",
    "\n",
    "if hasattr(background, 'toarray'):\n",
    "    background = background.toarray()\n",
    "if hasattr(X_explain, 'toarray'):\n",
    "    X_explain = X_explain.toarray()\n",
    "\n",
    "\n",
    "def _run_kernel_explainer(nsamples=100):\n",
    "    f = lambda x: model.predict(x, verbose=0)\n",
    "    explainer_loc = shap.KernelExplainer(f, background)\n",
    "    values = explainer_loc.shap_values(X_explain, nsamples=nsamples)\n",
    "    return explainer_loc, values\n",
    "\n",
    "prefer_kernel = (platform.system() == 'Darwin' and platform.machine().lower().startswith('arm'))\n",
    "\n",
    "if prefer_kernel:\n",
    "    print('Using KernelExplainer on Apple Silicon for stability.')\n",
    "    explainer, shap_values = _run_kernel_explainer()\n",
    "    method = 'KernelExplainer'\n",
    "else:\n",
    "    try:\n",
    "        explainer = shap.DeepExplainer(model, background)\n",
    "        shap_values = explainer.shap_values(X_explain)\n",
    "        method = 'DeepExplainer'\n",
    "    except Exception as err:\n",
    "        print('DeepExplainer failed, falling back to KernelExplainer:', err)\n",
    "        explainer, shap_values = _run_kernel_explainer()\n",
    "        method = 'KernelExplainer'\n",
    "\n",
    "print('SHAP explainer:', method)\n",
    "\n",
    "_shap_values = shap_values\n",
    "_X_explain = X_explain\n",
    "_background = background\n"
   ]
  },
  {
   "cell_type": "code",
   "execution_count": 21,
   "id": "0c770c84",
   "metadata": {
    "execution": {
     "iopub.execute_input": "2025-09-22T19:02:21.262180Z",
     "iopub.status.busy": "2025-09-22T19:02:21.262180Z",
     "iopub.status.idle": "2025-09-22T19:02:24.259739Z",
     "shell.execute_reply": "2025-09-22T19:02:24.259233Z"
    }
   },
   "outputs": [
    {
     "data": {
      "image/png": "[encoded data removed]",
      "text/plain": [
       "<Figure size 800x1110 with 1 Axes>"
      ]
     },
     "metadata": {},
     "output_type": "display_data"
    },
    {
     "data": {
      "image/png": "[encoded data removed]",
      "text/plain": [
       "<Figure size 800x1110 with 2 Axes>"
      ]
     },
     "metadata": {},
     "output_type": "display_data"
    },
    {
     "name": "stdout",
     "output_type": "stream",
     "text": [
      "Displayed SHAP beeswarm plot for low_price; top features listed above (not saved).\n"
     ]
    },
    {
     "data": {
      "image/png": "[encoded data removed]",
      "text/plain": [
       "<Figure size 800x1110 with 2 Axes>"
      ]
     },
     "metadata": {},
     "output_type": "display_data"
    },
    {
     "name": "stdout",
     "output_type": "stream",
     "text": [
      "Displayed SHAP beeswarm plot for high_price; top features listed above (not saved).\n",
      "Displayed SHAP summary plot and feature importance details in notebook (saved to figures/).\n",
      "Saved files:\n",
      "figures\\price_shap_summary.png\n",
      "figures\\price_shap_low_price.png\n",
      "figures\\price_shap_high_price.png\n"
     ]
    }
   ],
   "source": [
    "\n",
    "import matplotlib.pyplot as plt\n",
    "import numpy as np\n",
    "import pandas as pd\n",
    "\n",
    "figures_dir = Path('figures')\n",
    "figures_dir.mkdir(exist_ok=True)\n",
    "\n",
    "sv_raw = _shap_values\n",
    "X_explain = _X_explain.toarray() if hasattr(_X_explain, 'toarray') else _X_explain\n",
    "\n",
    "if isinstance(sv_raw, list):\n",
    "    shap_array = np.stack([np.array(s) for s in sv_raw], axis=-1)\n",
    "else:\n",
    "    shap_array = np.array(sv_raw)\n",
    "    if shap_array.ndim == 2:\n",
    "        shap_array = shap_array[..., np.newaxis]\n",
    "\n",
    "_shap_array = shap_array\n",
    "shap_abs = np.abs(shap_array).mean(axis=-1)\n",
    "\n",
    "plt.figure(figsize=(10, 6))\n",
    "shap.summary_plot(shap_abs, X_explain, feature_names=feature_names, plot_type='bar', show=False, max_display=25)\n",
    "plt.tight_layout()\n",
    "summary_path = figures_dir / 'price_shap_summary.png'\n",
    "plt.savefig(summary_path, dpi=300, bbox_inches='tight')\n",
    "plt.show()\n",
    "\n",
    "class_order = globals().get('class_order', list(range(shap_array.shape[-1])))\n",
    "class_indices = {cls: idx for idx, cls in enumerate(class_order) if idx < shap_array.shape[-1]}\n",
    "target_classes = {\n",
    "    'low_price': 0,\n",
    "    'high_price': 2,\n",
    "}\n",
    "\n",
    "for label, cls_id in target_classes.items():\n",
    "    if cls_id not in class_indices:\n",
    "        continue\n",
    "    cls_idx = class_indices[cls_id]\n",
    "    shap_class = shap_array[..., cls_idx]\n",
    "\n",
    "    plt.figure(figsize=(10, 6))\n",
    "    shap.summary_plot(shap_class, X_explain, feature_names=feature_names, show=False, max_display=25)\n",
    "    plt.tight_layout()\n",
    "    beeswarm_path = figures_dir / f'price_shap_{label}.png'\n",
    "    plt.savefig(beeswarm_path, dpi=300, bbox_inches='tight')\n",
    "    plt.show()\n",
    "\n",
    "    vals_cls = np.abs(shap_class).mean(axis=0)\n",
    "    fi_cls = pd.Series(vals_cls, index=feature_names).sort_values(ascending=False)\n",
    "    print(f\"Displayed SHAP beeswarm plot for {label}; top features listed above (not saved).\")\n",
    "\n",
    "vals = shap_abs.mean(axis=0)\n",
    "fi = pd.Series(vals, index=feature_names).sort_values(ascending=False)\n",
    "print('Displayed SHAP summary plot and feature importance details in notebook (saved to figures/).')\n",
    "print('Saved files:')\n",
    "print(summary_path)\n",
    "for label in target_classes:\n",
    "    print(figures_dir / f'price_shap_{label}.png')\n"
   ]
  }
 ],
 "metadata": {
  "language_info": {
   "codemirror_mode": {
    "name": "ipython",
    "version": 3
   },
   "file_extension": ".py",
   "mimetype": "text/x-python",
   "name": "python",
   "nbconvert_exporter": "python",
   "pygments_lexer": "ipython3",
   "version": "3.12.4"
  },
  "widgets": {
   "application/vnd.jupyter.widget-state+json": {
    "state": {
     "0ac002055556458ba3cf864c20fbc2f7": {
      "model_module": "@jupyter-widgets/controls",
      "model_module_version": "1.5.0",
      "model_name": "HTMLModel",
      "state": {
       "_dom_classes": [],
       "_model_module": "@jupyter-widgets/controls",
       "_model_module_version": "1.5.0",
       "_model_name": "HTMLModel",
       "_view_count": null,
       "_view_module": "@jupyter-widgets/controls",
       "_view_module_version": "1.5.0",
       "_view_name": "HTMLView",
       "description": "",
       "description_tooltip": null,
       "layout": "IPY_MODEL_bbf2e45268e940d39dc2fbf6dda123f1",
       "placeholder": "​",
       "style": "IPY_MODEL_3010f5412fdf4481a595c4256a81d61e",
       "value": " 200/200 [04:29&lt;00:00,  1.41s/it]"
      }
     },
     "1c76a579a32746fe8e0078e5cc617dea": {
      "model_module": "@jupyter-widgets/base",
      "model_module_version": "1.2.0",
      "model_name": "LayoutModel",
      "state": {
       "_model_module": "@jupyter-widgets/base",
       "_model_module_version": "1.2.0",
       "_model_name": "LayoutModel",
       "_view_count": null,
       "_view_module": "@jupyter-widgets/base",
       "_view_module_version": "1.2.0",
       "_view_name": "LayoutView",
       "align_content": null,
       "align_items": null,
       "align_self": null,
       "border": null,
       "bottom": null,
       "display": null,
       "flex": null,
       "flex_flow": null,
       "grid_area": null,
       "grid_auto_columns": null,
       "grid_auto_flow": null,
       "grid_auto_rows": null,
       "grid_column": null,
       "grid_gap": null,
       "grid_row": null,
       "grid_template_areas": null,
       "grid_template_columns": null,
       "grid_template_rows": null,
       "height": null,
       "justify_content": null,
       "justify_items": null,
       "left": null,
       "margin": null,
       "max_height": null,
       "max_width": null,
       "min_height": null,
       "min_width": null,
       "object_fit": null,
       "object_position": null,
       "order": null,
       "overflow": null,
       "overflow_x": null,
       "overflow_y": null,
       "padding": null,
       "right": null,
       "top": null,
       "visibility": null,
       "width": null
      }
     },
     "3010f5412fdf4481a595c4256a81d61e": {
      "model_module": "@jupyter-widgets/controls",
      "model_module_version": "1.5.0",
      "model_name": "DescriptionStyleModel",
      "state": {
       "_model_module": "@jupyter-widgets/controls",
       "_model_module_version": "1.5.0",
       "_model_name": "DescriptionStyleModel",
       "_view_count": null,
       "_view_module": "@jupyter-widgets/base",
       "_view_module_version": "1.2.0",
       "_view_name": "StyleView",
       "description_width": ""
      }
     },
     "328334e4615c4901af04d02f7dbb936c": {
      "model_module": "@jupyter-widgets/controls",
      "model_module_version": "1.5.0",
      "model_name": "DescriptionStyleModel",
      "state": {
       "_model_module": "@jupyter-widgets/controls",
       "_model_module_version": "1.5.0",
       "_model_name": "DescriptionStyleModel",
       "_view_count": null,
       "_view_module": "@jupyter-widgets/base",
       "_view_module_version": "1.2.0",
       "_view_name": "StyleView",
       "description_width": ""
      }
     },
     "3cd67f3365c049d992936e7ecb13e69a": {
      "model_module": "@jupyter-widgets/controls",
      "model_module_version": "1.5.0",
      "model_name": "HBoxModel",
      "state": {
       "_dom_classes": [],
       "_model_module": "@jupyter-widgets/controls",
       "_model_module_version": "1.5.0",
       "_model_name": "HBoxModel",
       "_view_count": null,
       "_view_module": "@jupyter-widgets/controls",
       "_view_module_version": "1.5.0",
       "_view_name": "HBoxView",
       "box_style": "",
       "children": [
        "IPY_MODEL_8fa1a58c12dc49a0873d26ee8ad7fed5",
        "IPY_MODEL_870dc39be4c8458aa6957e5c3cfe27fc",
        "IPY_MODEL_0ac002055556458ba3cf864c20fbc2f7"
       ],
       "layout": "IPY_MODEL_3ec310c7d2834f8facd8a92a0053133c"
      }
     },
     "3ec310c7d2834f8facd8a92a0053133c": {
      "model_module": "@jupyter-widgets/base",
      "model_module_version": "1.2.0",
      "model_name": "LayoutModel",
      "state": {
       "_model_module": "@jupyter-widgets/base",
       "_model_module_version": "1.2.0",
       "_model_name": "LayoutModel",
       "_view_count": null,
       "_view_module": "@jupyter-widgets/base",
       "_view_module_version": "1.2.0",
       "_view_name": "LayoutView",
       "align_content": null,
       "align_items": null,
       "align_self": null,
       "border": null,
       "bottom": null,
       "display": null,
       "flex": null,
       "flex_flow": null,
       "grid_area": null,
       "grid_auto_columns": null,
       "grid_auto_flow": null,
       "grid_auto_rows": null,
       "grid_column": null,
       "grid_gap": null,
       "grid_row": null,
       "grid_template_areas": null,
       "grid_template_columns": null,
       "grid_template_rows": null,
       "height": null,
       "justify_content": null,
       "justify_items": null,
       "left": null,
       "margin": null,
       "max_height": null,
       "max_width": null,
       "min_height": null,
       "min_width": null,
       "object_fit": null,
       "object_position": null,
       "order": null,
       "overflow": null,
       "overflow_x": null,
       "overflow_y": null,
       "padding": null,
       "right": null,
       "top": null,
       "visibility": null,
       "width": null
      }
     },
     "51fc1fa7f98544aca2ee5c211a125a1c": {
      "model_module": "@jupyter-widgets/controls",
      "model_module_version": "1.5.0",
      "model_name": "ProgressStyleModel",
      "state": {
       "_model_module": "@jupyter-widgets/controls",
       "_model_module_version": "1.5.0",
       "_model_name": "ProgressStyleModel",
       "_view_count": null,
       "_view_module": "@jupyter-widgets/base",
       "_view_module_version": "1.2.0",
       "_view_name": "StyleView",
       "bar_color": null,
       "description_width": ""
      }
     },
     "870dc39be4c8458aa6957e5c3cfe27fc": {
      "model_module": "@jupyter-widgets/controls",
      "model_module_version": "1.5.0",
      "model_name": "FloatProgressModel",
      "state": {
       "_dom_classes": [],
       "_model_module": "@jupyter-widgets/controls",
       "_model_module_version": "1.5.0",
       "_model_name": "FloatProgressModel",
       "_view_count": null,
       "_view_module": "@jupyter-widgets/controls",
       "_view_module_version": "1.5.0",
       "_view_name": "ProgressView",
       "bar_style": "success",
       "description": "",
       "description_tooltip": null,
       "layout": "IPY_MODEL_b9e76352283745318f0a784ef86c10ec",
       "max": 200.0,
       "min": 0.0,
       "orientation": "horizontal",
       "style": "IPY_MODEL_51fc1fa7f98544aca2ee5c211a125a1c",
       "value": 200.0
      }
     },
     "8fa1a58c12dc49a0873d26ee8ad7fed5": {
      "model_module": "@jupyter-widgets/controls",
      "model_module_version": "1.5.0",
      "model_name": "HTMLModel",
      "state": {
       "_dom_classes": [],
       "_model_module": "@jupyter-widgets/controls",
       "_model_module_version": "1.5.0",
       "_model_name": "HTMLModel",
       "_view_count": null,
       "_view_module": "@jupyter-widgets/controls",
       "_view_module_version": "1.5.0",
       "_view_name": "HTMLView",
       "description": "",
       "description_tooltip": null,
       "layout": "IPY_MODEL_1c76a579a32746fe8e0078e5cc617dea",
       "placeholder": "​",
       "style": "IPY_MODEL_328334e4615c4901af04d02f7dbb936c",
       "value": "100%"
      }
     },
     "b9e76352283745318f0a784ef86c10ec": {
      "model_module": "@jupyter-widgets/base",
      "model_module_version": "1.2.0",
      "model_name": "LayoutModel",
      "state": {
       "_model_module": "@jupyter-widgets/base",
       "_model_module_version": "1.2.0",
       "_model_name": "LayoutModel",
       "_view_count": null,
       "_view_module": "@jupyter-widgets/base",
       "_view_module_version": "1.2.0",
       "_view_name": "LayoutView",
       "align_content": null,
       "align_items": null,
       "align_self": null,
       "border": null,
       "bottom": null,
       "display": null,
       "flex": null,
       "flex_flow": null,
       "grid_area": null,
       "grid_auto_columns": null,
       "grid_auto_flow": null,
       "grid_auto_rows": null,
       "grid_column": null,
       "grid_gap": null,
       "grid_row": null,
       "grid_template_areas": null,
       "grid_template_columns": null,
       "grid_template_rows": null,
       "height": null,
       "justify_content": null,
       "justify_items": null,
       "left": null,
       "margin": null,
       "max_height": null,
       "max_width": null,
       "min_height": null,
       "min_width": null,
       "object_fit": null,
       "object_position": null,
       "order": null,
       "overflow": null,
       "overflow_x": null,
       "overflow_y": null,
       "padding": null,
       "right": null,
       "top": null,
       "visibility": null,
       "width": null
      }
     },
     "bbf2e45268e940d39dc2fbf6dda123f1": {
      "model_module": "@jupyter-widgets/base",
      "model_module_version": "1.2.0",
      "model_name": "LayoutModel",
      "state": {
       "_model_module": "@jupyter-widgets/base",
       "_model_module_version": "1.2.0",
       "_model_name": "LayoutModel",
       "_view_count": null,
       "_view_module": "@jupyter-widgets/base",
       "_view_module_version": "1.2.0",
       "_view_name": "LayoutView",
       "align_content": null,
       "align_items": null,
       "align_self": null,
       "border": null,
       "bottom": null,
       "display": null,
       "flex": null,
       "flex_flow": null,
       "grid_area": null,
       "grid_auto_columns": null,
       "grid_auto_flow": null,
       "grid_auto_rows": null,
       "grid_column": null,
       "grid_gap": null,
       "grid_row": null,
       "grid_template_areas": null,
       "grid_template_columns": null,
       "grid_template_rows": null,
       "height": null,
       "justify_content": null,
       "justify_items": null,
       "left": null,
       "margin": null,
       "max_height": null,
       "max_width": null,
       "min_height": null,
       "min_width": null,
       "object_fit": null,
       "object_position": null,
       "order": null,
       "overflow": null,
       "overflow_x": null,
       "overflow_y": null,
       "padding": null,
       "right": null,
       "top": null,
       "visibility": null,
       "width": null
      }
     }
    },
    "version_major": 2,
    "version_minor": 0
   }
  }
 },
 "nbformat": 4,
 "nbformat_minor": 5
}

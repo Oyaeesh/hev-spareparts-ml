{
 "cells": [
  {
   "cell_type": "markdown",
   "id": "cdad8ab0",
   "metadata": {},
   "source": [
    "# HEV Spare Parts Price Classification\n",
    "\n",
    "_Final consolidated pipeline mirroring the demand workflow for price tiers_"
   ]
  },
  {
   "cell_type": "markdown",
   "id": "b0ec189f",
   "metadata": {},
   "source": [
    "## Environment & Imports"
   ]
  },
  {
   "cell_type": "code",
   "execution_count": 1,
   "id": "0e8b038b",
   "metadata": {
    "execution": {
     "iopub.execute_input": "2025-09-22T02:13:16.817854Z",
     "iopub.status.busy": "2025-09-22T02:13:16.817589Z",
     "iopub.status.idle": "2025-09-22T02:13:21.039624Z",
     "shell.execute_reply": "2025-09-22T02:13:21.039366Z"
    }
   },
   "outputs": [],
   "source": [
    "\n",
    "import warnings\n",
    "warnings.filterwarnings(\"ignore\")\n",
    "\n",
    "import sys\n",
    "import subprocess\n",
    "import platform\n",
    "import os\n",
    "import json\n",
    "import itertools\n",
    "import hashlib\n",
    "from pathlib import Path\n",
    "\n",
    "\n",
    "def _ensure_import(module_name, pip_name=None):\n",
    "    try:\n",
    "        return __import__(module_name)\n",
    "    except ModuleNotFoundError:\n",
    "        pkg = pip_name or module_name\n",
    "        subprocess.check_call([sys.executable, '-m', 'pip', 'install', pkg, '-q'])\n",
    "        return __import__(module_name)\n",
    "\n",
    "\n",
    "_ensure_import('seaborn', 'seaborn')\n",
    "_ensure_import('sklearn', 'scikit-learn')\n",
    "_ensure_import('numpy', 'numpy')\n",
    "_ensure_import('pandas', 'pandas')\n",
    "_ensure_import('matplotlib', 'matplotlib')\n",
    "\n",
    "system = platform.system()\n",
    "machine = platform.machine().lower()\n",
    "tf_pkg = 'tensorflow'\n",
    "if system == 'Windows':\n",
    "    tf_pkg = 'tensorflow-cpu'\n",
    "elif system == 'Darwin' and 'arm' in machine:\n",
    "    tf_pkg = 'tensorflow-macos'\n",
    "_ensure_import('tensorflow', tf_pkg)\n",
    "\n",
    "import numpy as np\n",
    "import pandas as pd\n",
    "import seaborn as sns\n",
    "import matplotlib.pyplot as plt\n",
    "\n",
    "from sklearn.model_selection import GroupShuffleSplit, GroupKFold, StratifiedKFold, StratifiedShuffleSplit, train_test_split\n",
    "from sklearn.preprocessing import StandardScaler, OneHotEncoder, FunctionTransformer\n",
    "from sklearn.compose import ColumnTransformer\n",
    "from sklearn.pipeline import Pipeline\n",
    "from sklearn.metrics import confusion_matrix, classification_report, accuracy_score, f1_score\n",
    "from sklearn.impute import SimpleImputer\n",
    "from sklearn.linear_model import LogisticRegression, SGDClassifier\n",
    "from sklearn.svm import SVC\n",
    "from sklearn.ensemble import ExtraTreesClassifier\n",
    "from sklearn.discriminant_analysis import LinearDiscriminantAnalysis as LDA\n",
    "from sklearn.utils.class_weight import compute_class_weight\n",
    "\n",
    "import tensorflow as tf\n",
    "from tensorflow.keras import regularizers\n",
    "from tensorflow.keras.models import Sequential\n",
    "from tensorflow.keras.layers import Dense, Dropout\n",
    "from tensorflow.keras.optimizers import Adam\n",
    "from tensorflow.keras.callbacks import EarlyStopping, ReduceLROnPlateau\n",
    "\n",
    "os.environ[\"TF_DETERMINISTIC_OPS\"] = \"1\"\n",
    "\n",
    "SEED = 42\n",
    "np.random.seed(SEED)\n",
    "tf.random.set_seed(SEED)\n"
   ]
  },
  {
   "cell_type": "markdown",
   "id": "e4f51069",
   "metadata": {},
   "source": [
    "## Configuration"
   ]
  },
  {
   "cell_type": "code",
   "execution_count": 2,
   "id": "034a61b6",
   "metadata": {
    "execution": {
     "iopub.execute_input": "2025-09-22T02:13:21.041179Z",
     "iopub.status.busy": "2025-09-22T02:13:21.041001Z",
     "iopub.status.idle": "2025-09-22T02:13:21.044606Z",
     "shell.execute_reply": "2025-09-22T02:13:21.044382Z"
    }
   },
   "outputs": [],
   "source": [
    "\n",
    "# Configuration toggles\n",
    "DROP_PART = False  # set True to drop part identifier from features\n",
    "BLOCKLIST_FEATURES = {'on line price'}  # remove entries to include leak-prone columns\n",
    "SPLIT_STRATEGY = 'random'  # options: 'random', 'group'\n",
    "\n",
    "# Hyperparameter grids\n",
    "GRID = {\n",
    "    'num_layers':    [1, 2, 3],\n",
    "    'units':         [64, 96, 128],\n",
    "    'dropout_rate':  [0.0],\n",
    "    'l2_reg':        [0.0, 1e-4, 1e-3],\n",
    "    'learning_rate': [5e-4, 1e-3, 2.5e-3, 5e-3, 1e-2]\n",
    "}\n",
    "\n",
    "GRIDS_CLASSIC = {\n",
    "    \"svc_rbf\": {\"C\": [0.5, 1.0, 3.0], \"gamma\": [\"scale\", \"auto\", 0.01]},\n",
    "    \"logreg\":  {\"C\": [0.3, 1.0, 3.0, 10.0], \"solver\": [\"lbfgs\"], \"max_iter\": [3000]},\n",
    "    \"et\":      {\"n_estimators\": [300, 500], \"max_depth\": [None, 30]},\n",
    "    \"sgd\":     {\"loss\": [\"log_loss\"], \"alpha\": [1e-4, 5e-4, 1e-3], \"max_iter\": [3000], \"random_state\": [SEED]},\n",
    "    \"lda\":     {\"solver\": [\"svd\"]},\n",
    "}\n",
    "\n",
    "MODEL_ZOO = {\n",
    "    \"svc_rbf\": {\n",
    "        \"label\": \"SVC (RBF)\",\n",
    "        \"factory\": lambda p: SVC(**p),\n",
    "        \"style\": \"scale\",\n",
    "    },\n",
    "    \"logreg\": {\n",
    "        \"label\": \"LogisticRegression\",\n",
    "        \"factory\": lambda p: LogisticRegression(multi_class=\"multinomial\", **p),\n",
    "        \"style\": \"scale\",\n",
    "    },\n",
    "    \"et\": {\n",
    "        \"label\": \"ExtraTrees\",\n",
    "        \"factory\": lambda p: ExtraTreesClassifier(random_state=SEED, n_jobs=-1, **p),\n",
    "        \"style\": \"tree\",\n",
    "    },\n",
    "    \"sgd\": {\n",
    "        \"label\": \"SGDClassifier (log_loss)\",\n",
    "        \"factory\": lambda p: SGDClassifier(**p),\n",
    "        \"style\": \"scale\",\n",
    "    },\n",
    "    \"lda\": {\n",
    "        \"label\": \"LinearDiscriminantAnalysis\",\n",
    "        \"factory\": lambda p: LDA(**p),\n",
    "        \"style\": \"scale\",\n",
    "    },\n",
    "}\n",
    "MODEL_KEYS = [\"svc_rbf\", \"logreg\", \"et\", \"sgd\", \"lda\"]\n",
    "\n",
    "if SPLIT_STRATEGY not in {\"random\", \"group\"}:\n",
    "    raise ValueError(\"SPLIT_STRATEGY must be 'random' or 'group'.\")\n",
    "\n"
   ]
  },
  {
   "cell_type": "markdown",
   "id": "7db1554b",
   "metadata": {},
   "source": [
    "## Data Loading & Profiling"
   ]
  },
  {
   "cell_type": "code",
   "execution_count": 3,
   "id": "645f8339",
   "metadata": {
    "execution": {
     "iopub.execute_input": "2025-09-22T02:13:21.045643Z",
     "iopub.status.busy": "2025-09-22T02:13:21.045555Z",
     "iopub.status.idle": "2025-09-22T02:13:21.060117Z",
     "shell.execute_reply": "2025-09-22T02:13:21.059892Z"
    }
   },
   "outputs": [
    {
     "name": "stdout",
     "output_type": "stream",
     "text": [
      "Using file: /Users/yaeesh/hev-spareparts-ml/data/Price.csv\n",
      "Initial shape: (7652, 16)\n",
      "Dropping 60 duplicate rows\n",
      "Shape after cleaning: (7592, 16)\n",
      "Price summary:\n",
      "count    7592.000000\n",
      "mean      386.137455\n",
      "std      1060.804969\n",
      "min         1.000000\n",
      "25%        50.000000\n",
      "50%       100.000000\n",
      "75%       230.000000\n",
      "max      7716.000000\n",
      "Name: price, dtype: float64\n",
      "Feature dtypes:\n",
      "car type                                              int64\n",
      "made in                                               int64\n",
      "number of cars in jordan                              int64\n",
      "car age                                               int64\n",
      "part                                                  int64\n",
      "failure rate                                        float64\n",
      "price of the car                                    float64\n",
      "original/imitator                                     int64\n",
      "new\\used                                              int64\n",
      "selling location                                      int64\n",
      "service location (repair shop/automotive company      int64\n",
      "repair or replacement cost                            int64\n",
      "car total maintenance cost average                    int64\n",
      "critically                                          float64\n",
      "on line price                                       float64\n",
      "price                                               float64\n",
      "dtype: object\n",
      "Unique value counts:\n",
      "original/imitator                                     2\n",
      "new\\used                                              2\n",
      "service location (repair shop/automotive company      2\n",
      "made in                                               3\n",
      "selling location                                      3\n",
      "car total maintenance cost average                    3\n",
      "car type                                              4\n",
      "car age                                              15\n",
      "repair or replacement cost                           21\n",
      "critically                                           35\n",
      "part                                                 36\n",
      "price of the car                                     41\n",
      "number of cars in jordan                             47\n",
      "failure rate                                         81\n",
      "price                                               177\n",
      "on line price                                       223\n",
      "dtype: int64\n"
     ]
    }
   ],
   "source": [
    "price_env = os.environ.get(\"PRICE_DATA_PATH\", \"\").strip()\n",
    "candidates = [Path(price_env)] if price_env else []\n",
    "candidates += [\n",
    "    Path(\"data\") / \"Price.csv\",\n",
    "    Path(\"..\") / \"data\" / \"Price.csv\",\n",
    "]\n",
    "file_path = next((p for p in candidates if p.exists()), None)\n",
    "if file_path is None:\n",
    "    raise FileNotFoundError(\"Could not find Price.csv. Set PRICE_DATA_PATH or place the file in data/ or ../data/.\")\n",
    "\n",
    "df = pd.read_csv(file_path)\n",
    "df.columns = df.columns.str.strip()\n",
    "print(\"Using file:\", file_path.resolve())\n",
    "print(\"Initial shape:\", df.shape)\n",
    "\n",
    "dup_count = df.duplicated().sum()\n",
    "if dup_count:\n",
    "    print(f\"Dropping {dup_count} duplicate rows\")\n",
    "    df = df.drop_duplicates().reset_index(drop=True)\n",
    "\n",
    "df['price'] = pd.to_numeric(df['price'], errors='coerce')\n",
    "df = df.dropna(subset=['price']).reset_index(drop=True)\n",
    "print(\"Shape after cleaning:\", df.shape)\n",
    "\n",
    "print(\"Price summary:\")\n",
    "print(df['price'].describe())\n",
    "\n",
    "print(\"Feature dtypes:\")\n",
    "print(df.dtypes)\n",
    "\n",
    "print(\"Unique value counts:\")\n",
    "print(df.nunique().sort_values())\n"
   ]
  },
  {
   "cell_type": "code",
   "execution_count": 4,
   "id": "59f6447a",
   "metadata": {
    "execution": {
     "iopub.execute_input": "2025-09-22T02:13:21.061136Z",
     "iopub.status.busy": "2025-09-22T02:13:21.061069Z",
     "iopub.status.idle": "2025-09-22T02:13:21.064249Z",
     "shell.execute_reply": "2025-09-22T02:13:21.064021Z"
    }
   },
   "outputs": [],
   "source": [
    "\n",
    "# Feature engineering derived from domain ratios\n",
    "epsilon = 1e-6\n",
    "with np.errstate(divide='ignore', invalid='ignore'):\n",
    "    df['repair_to_car_price'] = df['repair or replacement cost'] / (df['price of the car'] + epsilon)\n",
    "    df['repair_to_price'] = df['repair or replacement cost'] / (df['price'] + epsilon)\n",
    "    df['maintenance_to_price'] = df['car total maintenance cost average'] / (df['price'] + epsilon)\n",
    "\n",
    "df.replace([np.inf, -np.inf], np.nan, inplace=True)\n",
    "\n"
   ]
  },
  {
   "cell_type": "markdown",
   "id": "735e5ed2",
   "metadata": {},
   "source": [
    "## Feature Taxonomy"
   ]
  },
  {
   "cell_type": "code",
   "execution_count": 5,
   "id": "1cafe867",
   "metadata": {
    "execution": {
     "iopub.execute_input": "2025-09-22T02:13:21.065361Z",
     "iopub.status.busy": "2025-09-22T02:13:21.065265Z",
     "iopub.status.idle": "2025-09-22T02:13:21.069668Z",
     "shell.execute_reply": "2025-09-22T02:13:21.069421Z"
    }
   },
   "outputs": [
    {
     "name": "stdout",
     "output_type": "stream",
     "text": [
      "Categorical features: ['car type', 'made in', 'original/imitator', 'new\\\\used', 'selling location', 'service location (repair shop/automotive company', 'part']\n",
      "Numeric features: ['number of cars in jordan', 'car age', 'failure rate', 'price of the car', 'repair or replacement cost', 'critically', 'car total maintenance cost average', 'repair_to_car_price', 'repair_to_price', 'maintenance_to_price']\n",
      "Log-transform numeric features: ['number of cars in jordan', 'failure rate', 'repair or replacement cost', 'critically', 'price of the car', 'repair_to_car_price', 'repair_to_price', 'maintenance_to_price']\n"
     ]
    }
   ],
   "source": [
    "\n",
    "cat_cols_raw = [\n",
    "    'car type',\n",
    "    'made in',\n",
    "    'original/imitator',\n",
    "    r'new\\used',\n",
    "    'selling location',\n",
    "    'service location (repair shop/automotive company',\n",
    "    'part'\n",
    "]\n",
    "num_cols_raw = [\n",
    "    'number of cars in jordan',\n",
    "    'car age',\n",
    "    'failure rate',\n",
    "    'price of the car',\n",
    "    'repair or replacement cost',\n",
    "    'critically',\n",
    "    'car total maintenance cost average',\n",
    "    'repair_to_car_price',\n",
    "    'repair_to_price',\n",
    "    'maintenance_to_price',\n",
    "    'on line price'\n",
    "]\n",
    "\n",
    "cat_cols = list(cat_cols_raw)\n",
    "if DROP_PART and 'part' in cat_cols:\n",
    "    cat_cols.remove('part')\n",
    "\n",
    "num_all = [c for c in num_cols_raw if c not in BLOCKLIST_FEATURES]\n",
    "\n",
    "required_cols = cat_cols + num_all + ['price']\n",
    "missing_cols = [c for c in required_cols if c not in df.columns]\n",
    "if missing_cols:\n",
    "    raise ValueError(f\"Missing expected columns: {missing_cols}\")\n",
    "\n",
    "cat_cols_effective = cat_cols\n",
    "X_all = df[cat_cols_effective + num_all].copy()\n",
    "groups_all = df['part'].astype(str)\n",
    "\n",
    "skewed_candidate = [\n",
    "    'number of cars in jordan',\n",
    "    'failure rate',\n",
    "    'repair or replacement cost',\n",
    "    'critically',\n",
    "    'price of the car',\n",
    "    'repair_to_car_price',\n",
    "    'repair_to_price',\n",
    "    'maintenance_to_price'\n",
    "]\n",
    "skewed_cols = [c for c in skewed_candidate if c in num_all]\n",
    "other_num_cols = [c for c in num_all if c not in skewed_cols]\n",
    "\n",
    "print(\"Categorical features:\", cat_cols_effective)\n",
    "print(\"Numeric features:\", num_all)\n",
    "print(\"Log-transform numeric features:\", skewed_cols)\n",
    "\n"
   ]
  },
  {
   "cell_type": "markdown",
   "id": "71bc4e84",
   "metadata": {},
   "source": [
    "## Helper Functions"
   ]
  },
  {
   "cell_type": "code",
   "execution_count": 6,
   "id": "50d726a9",
   "metadata": {
    "execution": {
     "iopub.execute_input": "2025-09-22T02:13:21.070754Z",
     "iopub.status.busy": "2025-09-22T02:13:21.070680Z",
     "iopub.status.idle": "2025-09-22T02:13:21.076452Z",
     "shell.execute_reply": "2025-09-22T02:13:21.076219Z"
    }
   },
   "outputs": [],
   "source": [
    "\n",
    "def compute_thresholds_from_train(price_series, q_low=0.33, q_high=0.66):\n",
    "    q = price_series.quantile([q_low, q_high])\n",
    "    return float(q.loc[q_low]), float(q.loc[q_high])\n",
    "\n",
    "def bin_with_thresholds(price_series, low_thr, high_thr):\n",
    "    return pd.cut(\n",
    "        price_series,\n",
    "        bins=[-np.inf, low_thr, high_thr, np.inf],\n",
    "        labels=[0, 1, 2]\n",
    "    ).astype(int)\n",
    "\n",
    "def make_preprocessor(style: str) -> ColumnTransformer:\n",
    "    if style == \"scale\":\n",
    "        num_skew = Pipeline([\n",
    "            ('imputer', SimpleImputer(strategy='median')),\n",
    "            ('log1p', FunctionTransformer(np.log1p, validate=False)),\n",
    "            ('scaler', StandardScaler())\n",
    "        ])\n",
    "        num_plain = Pipeline([\n",
    "            ('imputer', SimpleImputer(strategy='median')),\n",
    "            ('scaler', StandardScaler())\n",
    "        ])\n",
    "    elif style == \"tree\":\n",
    "        num_skew = Pipeline([\n",
    "            ('imputer', SimpleImputer(strategy='median')),\n",
    "            ('log1p', FunctionTransformer(np.log1p, validate=False))\n",
    "        ])\n",
    "        num_plain = Pipeline([\n",
    "            ('imputer', SimpleImputer(strategy='median'))\n",
    "        ])\n",
    "    else:\n",
    "        raise ValueError(f\"Unknown preprocessor style: {style}\")\n",
    "\n",
    "    try:\n",
    "        cat = Pipeline([\n",
    "            ('imputer', SimpleImputer(strategy='most_frequent')),\n",
    "            ('ohe', OneHotEncoder(handle_unknown='ignore', sparse_output=False))\n",
    "        ])\n",
    "    except TypeError:\n",
    "        cat = Pipeline([\n",
    "            ('imputer', SimpleImputer(strategy='most_frequent')),\n",
    "            ('ohe', OneHotEncoder(handle_unknown='ignore', sparse=False))\n",
    "        ])\n",
    "\n",
    "    return ColumnTransformer(\n",
    "        transformers=[\n",
    "            ('num_skew', num_skew,   skewed_cols),\n",
    "            ('num',      num_plain,  other_num_cols),\n",
    "            ('cat',      cat,        cat_cols_effective)\n",
    "        ],\n",
    "        remainder='drop'\n",
    "    )\n",
    "\n",
    "def build_ann(input_dim, num_layers, units, dropout_rate, l2_reg, learning_rate, num_classes=3):\n",
    "    tf.keras.backend.clear_session()\n",
    "    model = Sequential()\n",
    "    reg = regularizers.l2(l2_reg) if l2_reg and l2_reg > 0 else None\n",
    "    for i in range(num_layers):\n",
    "        if i == 0:\n",
    "            model.add(Dense(units, activation='relu', kernel_regularizer=reg, input_shape=(input_dim,)))\n",
    "        else:\n",
    "            model.add(Dense(units, activation='relu', kernel_regularizer=reg))\n",
    "        if dropout_rate and dropout_rate > 0:\n",
    "            model.add(Dropout(dropout_rate))\n",
    "    model.add(Dense(num_classes, activation='softmax'))\n",
    "    model.compile(optimizer=Adam(learning_rate=learning_rate),\n",
    "                  loss='sparse_categorical_crossentropy',\n",
    "                  metrics=['accuracy'])\n",
    "    return model\n",
    "\n",
    "def grid_dict_product(grid):\n",
    "    keys = list(grid.keys())\n",
    "    for values in itertools.product(*(grid[k] for k in keys)):\n",
    "        yield dict(zip(keys, values))\n",
    "\n",
    "def hash_rows(df_like):\n",
    "    str_df = df_like.copy()\n",
    "    for c in str_df.columns:\n",
    "        if pd.api.types.is_numeric_dtype(str_df[c]):\n",
    "            str_df[c] = str_df[c].astype(float).map(lambda x: f\"{x:.12g}\")\n",
    "        else:\n",
    "            str_df[c] = str_df[c].astype(str)\n",
    "    concat = str_df.apply(lambda r: '||'.join(r.values.astype(str)), axis=1)\n",
    "    return concat.map(lambda s: hashlib.md5(s.encode('utf-8')).hexdigest())\n"
   ]
  },
  {
   "cell_type": "markdown",
   "id": "c0f5929d",
   "metadata": {},
   "source": [
    "## Train/Test Split & Label Binning"
   ]
  },
  {
   "cell_type": "code",
   "execution_count": 7,
   "id": "ee6c4dac",
   "metadata": {
    "execution": {
     "iopub.execute_input": "2025-09-22T02:13:21.077495Z",
     "iopub.status.busy": "2025-09-22T02:13:21.077422Z",
     "iopub.status.idle": "2025-09-22T02:13:21.085690Z",
     "shell.execute_reply": "2025-09-22T02:13:21.085488Z"
    }
   },
   "outputs": [
    {
     "name": "stdout",
     "output_type": "stream",
     "text": [
      "Split strategy: random\n",
      "Train size: 6073 | Test size: 1519\n"
     ]
    }
   ],
   "source": [
    "\n",
    "if SPLIT_STRATEGY == 'group':\n",
    "    gss = GroupShuffleSplit(n_splits=1, test_size=0.2, random_state=SEED)\n",
    "    train_idx, test_idx = next(gss.split(X_all, None, groups=groups_all))\n",
    "else:\n",
    "    global_low, global_high = compute_thresholds_from_train(df['price'])\n",
    "    df['_temp_price_bin'] = bin_with_thresholds(df['price'], global_low, global_high)\n",
    "    indices = np.arange(len(df))\n",
    "    train_idx, test_idx = train_test_split(\n",
    "        indices,\n",
    "        test_size=0.2,\n",
    "        random_state=SEED,\n",
    "        stratify=df['_temp_price_bin']\n",
    "    )\n",
    "    df = df.drop(columns=['_temp_price_bin'])\n",
    "\n",
    "low_thr, high_thr = compute_thresholds_from_train(df['price'].iloc[train_idx])\n",
    "df['price_bin'] = bin_with_thresholds(df['price'], low_thr, high_thr)\n",
    "class_order = [0, 1, 2]\n",
    "\n",
    "X_train_raw = X_all.iloc[train_idx].reset_index(drop=True)\n",
    "X_test_raw  = X_all.iloc[test_idx].reset_index(drop=True)\n",
    "y_train = df['price_bin'].iloc[train_idx].reset_index(drop=True)\n",
    "y_test  = df['price_bin'].iloc[test_idx].reset_index(drop=True)\n",
    "\n",
    "groups_train = groups_all.iloc[train_idx].reset_index(drop=True)\n",
    "groups_test  = groups_all.iloc[test_idx].reset_index(drop=True)\n",
    "\n",
    "print(f\"Split strategy: {SPLIT_STRATEGY}\")\n",
    "print(f\"Train size: {len(X_train_raw)} | Test size: {len(X_test_raw)}\")\n",
    "\n"
   ]
  },
  {
   "cell_type": "code",
   "execution_count": 8,
   "id": "c8b83d23",
   "metadata": {
    "execution": {
     "iopub.execute_input": "2025-09-22T02:13:21.086700Z",
     "iopub.status.busy": "2025-09-22T02:13:21.086611Z",
     "iopub.status.idle": "2025-09-22T02:13:21.088972Z",
     "shell.execute_reply": "2025-09-22T02:13:21.088754Z"
    }
   },
   "outputs": [
    {
     "name": "stdout",
     "output_type": "stream",
     "text": [
      "Train thresholds => low: 55.00, high: 167.16\n",
      "Train distribution:\n",
      "price_bin\n",
      "0    2016\n",
      "1    2005\n",
      "2    2052\n",
      "Name: count, dtype: int64\n",
      "Test distribution:\n",
      "price_bin\n",
      "0    504\n",
      "1    502\n",
      "2    513\n",
      "Name: count, dtype: int64\n"
     ]
    }
   ],
   "source": [
    "\n",
    "print(f\"Train thresholds => low: {low_thr:.2f}, high: {high_thr:.2f}\")\n",
    "print(\"Train distribution:\")\n",
    "print(y_train.value_counts().sort_index())\n",
    "print(\"Test distribution:\")\n",
    "print(y_test.value_counts().sort_index())\n"
   ]
  },
  {
   "cell_type": "code",
   "execution_count": 9,
   "id": "a1070091",
   "metadata": {
    "execution": {
     "iopub.execute_input": "2025-09-22T02:13:21.089945Z",
     "iopub.status.busy": "2025-09-22T02:13:21.089876Z",
     "iopub.status.idle": "2025-09-22T02:13:21.171974Z",
     "shell.execute_reply": "2025-09-22T02:13:21.171684Z"
    }
   },
   "outputs": [
    {
     "name": "stdout",
     "output_type": "stream",
     "text": [
      "Row-hash overlap between train and test using model features: 0 rows\n"
     ]
    }
   ],
   "source": [
    "\n",
    "train_hash = hash_rows(X_train_raw)\n",
    "test_hash  = hash_rows(X_test_raw)\n",
    "overlap = set(train_hash).intersection(set(test_hash))\n",
    "print(f\"Row-hash overlap between train and test using model features: {len(overlap)} rows\")\n",
    "if overlap:\n",
    "    print(\"WARNING: Duplicate feature rows detected across splits. Investigate potential leakage.\")\n"
   ]
  },
  {
   "cell_type": "markdown",
   "id": "81aa14f3",
   "metadata": {},
   "source": [
    "## ANN Hyperparameter Search"
   ]
  },
  {
   "cell_type": "code",
   "execution_count": 10,
   "id": "f73a343b",
   "metadata": {
    "execution": {
     "iopub.execute_input": "2025-09-22T02:13:21.173146Z",
     "iopub.status.busy": "2025-09-22T02:13:21.173070Z",
     "iopub.status.idle": "2025-09-22T02:27:48.083346Z",
     "shell.execute_reply": "2025-09-22T02:27:48.082931Z"
    }
   },
   "outputs": [
    {
     "name": "stdout",
     "output_type": "stream",
     "text": [
      "Starting ANN exhaustive grid search over 135 combinations...\n",
      "Config 1/135: {'num_layers': 1, 'units': 64, 'dropout_rate': 0.0, 'l2_reg': 0.0, 'learning_rate': 0.0005}\n"
     ]
    },
    {
     "name": "stdout",
     "output_type": "stream",
     "text": [
      "Config 2/135: {'num_layers': 1, 'units': 64, 'dropout_rate': 0.0, 'l2_reg': 0.0, 'learning_rate': 0.001}\n"
     ]
    },
    {
     "name": "stdout",
     "output_type": "stream",
     "text": [
      "Config 3/135: {'num_layers': 1, 'units': 64, 'dropout_rate': 0.0, 'l2_reg': 0.0, 'learning_rate': 0.0025}\n"
     ]
    },
    {
     "name": "stdout",
     "output_type": "stream",
     "text": [
      "Config 4/135: {'num_layers': 1, 'units': 64, 'dropout_rate': 0.0, 'l2_reg': 0.0, 'learning_rate': 0.005}\n"
     ]
    },
    {
     "name": "stdout",
     "output_type": "stream",
     "text": [
      "Config 5/135: {'num_layers': 1, 'units': 64, 'dropout_rate': 0.0, 'l2_reg': 0.0, 'learning_rate': 0.01}\n"
     ]
    },
    {
     "name": "stdout",
     "output_type": "stream",
     "text": [
      "Config 6/135: {'num_layers': 1, 'units': 64, 'dropout_rate': 0.0, 'l2_reg': 0.0001, 'learning_rate': 0.0005}\n"
     ]
    },
    {
     "name": "stdout",
     "output_type": "stream",
     "text": [
      "Config 7/135: {'num_layers': 1, 'units': 64, 'dropout_rate': 0.0, 'l2_reg': 0.0001, 'learning_rate': 0.001}\n"
     ]
    },
    {
     "name": "stdout",
     "output_type": "stream",
     "text": [
      "Config 8/135: {'num_layers': 1, 'units': 64, 'dropout_rate': 0.0, 'l2_reg': 0.0001, 'learning_rate': 0.0025}\n"
     ]
    },
    {
     "name": "stdout",
     "output_type": "stream",
     "text": [
      "Config 9/135: {'num_layers': 1, 'units': 64, 'dropout_rate': 0.0, 'l2_reg': 0.0001, 'learning_rate': 0.005}\n"
     ]
    },
    {
     "name": "stdout",
     "output_type": "stream",
     "text": [
      "Config 10/135: {'num_layers': 1, 'units': 64, 'dropout_rate': 0.0, 'l2_reg': 0.0001, 'learning_rate': 0.01}\n"
     ]
    },
    {
     "name": "stdout",
     "output_type": "stream",
     "text": [
      "Config 11/135: {'num_layers': 1, 'units': 64, 'dropout_rate': 0.0, 'l2_reg': 0.001, 'learning_rate': 0.0005}\n"
     ]
    },
    {
     "name": "stdout",
     "output_type": "stream",
     "text": [
      "Config 12/135: {'num_layers': 1, 'units': 64, 'dropout_rate': 0.0, 'l2_reg': 0.001, 'learning_rate': 0.001}\n"
     ]
    },
    {
     "name": "stdout",
     "output_type": "stream",
     "text": [
      "Config 13/135: {'num_layers': 1, 'units': 64, 'dropout_rate': 0.0, 'l2_reg': 0.001, 'learning_rate': 0.0025}\n"
     ]
    },
    {
     "name": "stdout",
     "output_type": "stream",
     "text": [
      "Config 14/135: {'num_layers': 1, 'units': 64, 'dropout_rate': 0.0, 'l2_reg': 0.001, 'learning_rate': 0.005}\n"
     ]
    },
    {
     "name": "stdout",
     "output_type": "stream",
     "text": [
      "Config 15/135: {'num_layers': 1, 'units': 64, 'dropout_rate': 0.0, 'l2_reg': 0.001, 'learning_rate': 0.01}\n"
     ]
    },
    {
     "name": "stdout",
     "output_type": "stream",
     "text": [
      "Config 16/135: {'num_layers': 1, 'units': 96, 'dropout_rate': 0.0, 'l2_reg': 0.0, 'learning_rate': 0.0005}\n"
     ]
    },
    {
     "name": "stdout",
     "output_type": "stream",
     "text": [
      "Config 17/135: {'num_layers': 1, 'units': 96, 'dropout_rate': 0.0, 'l2_reg': 0.0, 'learning_rate': 0.001}\n"
     ]
    },
    {
     "name": "stdout",
     "output_type": "stream",
     "text": [
      "Config 18/135: {'num_layers': 1, 'units': 96, 'dropout_rate': 0.0, 'l2_reg': 0.0, 'learning_rate': 0.0025}\n"
     ]
    },
    {
     "name": "stdout",
     "output_type": "stream",
     "text": [
      "Config 19/135: {'num_layers': 1, 'units': 96, 'dropout_rate': 0.0, 'l2_reg': 0.0, 'learning_rate': 0.005}\n"
     ]
    },
    {
     "name": "stdout",
     "output_type": "stream",
     "text": [
      "Config 20/135: {'num_layers': 1, 'units': 96, 'dropout_rate': 0.0, 'l2_reg': 0.0, 'learning_rate': 0.01}\n"
     ]
    },
    {
     "name": "stdout",
     "output_type": "stream",
     "text": [
      "Config 21/135: {'num_layers': 1, 'units': 96, 'dropout_rate': 0.0, 'l2_reg': 0.0001, 'learning_rate': 0.0005}\n"
     ]
    },
    {
     "name": "stdout",
     "output_type": "stream",
     "text": [
      "Config 22/135: {'num_layers': 1, 'units': 96, 'dropout_rate': 0.0, 'l2_reg': 0.0001, 'learning_rate': 0.001}\n"
     ]
    },
    {
     "name": "stdout",
     "output_type": "stream",
     "text": [
      "Config 23/135: {'num_layers': 1, 'units': 96, 'dropout_rate': 0.0, 'l2_reg': 0.0001, 'learning_rate': 0.0025}\n"
     ]
    },
    {
     "name": "stdout",
     "output_type": "stream",
     "text": [
      "Config 24/135: {'num_layers': 1, 'units': 96, 'dropout_rate': 0.0, 'l2_reg': 0.0001, 'learning_rate': 0.005}\n"
     ]
    },
    {
     "name": "stdout",
     "output_type": "stream",
     "text": [
      "Config 25/135: {'num_layers': 1, 'units': 96, 'dropout_rate': 0.0, 'l2_reg': 0.0001, 'learning_rate': 0.01}\n"
     ]
    },
    {
     "name": "stdout",
     "output_type": "stream",
     "text": [
      "Config 26/135: {'num_layers': 1, 'units': 96, 'dropout_rate': 0.0, 'l2_reg': 0.001, 'learning_rate': 0.0005}\n"
     ]
    },
    {
     "name": "stdout",
     "output_type": "stream",
     "text": [
      "Config 27/135: {'num_layers': 1, 'units': 96, 'dropout_rate': 0.0, 'l2_reg': 0.001, 'learning_rate': 0.001}\n"
     ]
    },
    {
     "name": "stdout",
     "output_type": "stream",
     "text": [
      "Config 28/135: {'num_layers': 1, 'units': 96, 'dropout_rate': 0.0, 'l2_reg': 0.001, 'learning_rate': 0.0025}\n"
     ]
    },
    {
     "name": "stdout",
     "output_type": "stream",
     "text": [
      "Config 29/135: {'num_layers': 1, 'units': 96, 'dropout_rate': 0.0, 'l2_reg': 0.001, 'learning_rate': 0.005}\n"
     ]
    },
    {
     "name": "stdout",
     "output_type": "stream",
     "text": [
      "Config 30/135: {'num_layers': 1, 'units': 96, 'dropout_rate': 0.0, 'l2_reg': 0.001, 'learning_rate': 0.01}\n"
     ]
    },
    {
     "name": "stdout",
     "output_type": "stream",
     "text": [
      "Config 31/135: {'num_layers': 1, 'units': 128, 'dropout_rate': 0.0, 'l2_reg': 0.0, 'learning_rate': 0.0005}\n"
     ]
    },
    {
     "name": "stdout",
     "output_type": "stream",
     "text": [
      "Config 32/135: {'num_layers': 1, 'units': 128, 'dropout_rate': 0.0, 'l2_reg': 0.0, 'learning_rate': 0.001}\n"
     ]
    },
    {
     "name": "stdout",
     "output_type": "stream",
     "text": [
      "Config 33/135: {'num_layers': 1, 'units': 128, 'dropout_rate': 0.0, 'l2_reg': 0.0, 'learning_rate': 0.0025}\n"
     ]
    },
    {
     "name": "stdout",
     "output_type": "stream",
     "text": [
      "Config 34/135: {'num_layers': 1, 'units': 128, 'dropout_rate': 0.0, 'l2_reg': 0.0, 'learning_rate': 0.005}\n"
     ]
    },
    {
     "name": "stdout",
     "output_type": "stream",
     "text": [
      "Config 35/135: {'num_layers': 1, 'units': 128, 'dropout_rate': 0.0, 'l2_reg': 0.0, 'learning_rate': 0.01}\n"
     ]
    },
    {
     "name": "stdout",
     "output_type": "stream",
     "text": [
      "Config 36/135: {'num_layers': 1, 'units': 128, 'dropout_rate': 0.0, 'l2_reg': 0.0001, 'learning_rate': 0.0005}\n"
     ]
    },
    {
     "name": "stdout",
     "output_type": "stream",
     "text": [
      "Config 37/135: {'num_layers': 1, 'units': 128, 'dropout_rate': 0.0, 'l2_reg': 0.0001, 'learning_rate': 0.001}\n"
     ]
    },
    {
     "name": "stdout",
     "output_type": "stream",
     "text": [
      "Config 38/135: {'num_layers': 1, 'units': 128, 'dropout_rate': 0.0, 'l2_reg': 0.0001, 'learning_rate': 0.0025}\n"
     ]
    },
    {
     "name": "stdout",
     "output_type": "stream",
     "text": [
      "Config 39/135: {'num_layers': 1, 'units': 128, 'dropout_rate': 0.0, 'l2_reg': 0.0001, 'learning_rate': 0.005}\n"
     ]
    },
    {
     "name": "stdout",
     "output_type": "stream",
     "text": [
      "Config 40/135: {'num_layers': 1, 'units': 128, 'dropout_rate': 0.0, 'l2_reg': 0.0001, 'learning_rate': 0.01}\n"
     ]
    },
    {
     "name": "stdout",
     "output_type": "stream",
     "text": [
      "Config 41/135: {'num_layers': 1, 'units': 128, 'dropout_rate': 0.0, 'l2_reg': 0.001, 'learning_rate': 0.0005}\n"
     ]
    },
    {
     "name": "stdout",
     "output_type": "stream",
     "text": [
      "Config 42/135: {'num_layers': 1, 'units': 128, 'dropout_rate': 0.0, 'l2_reg': 0.001, 'learning_rate': 0.001}\n"
     ]
    },
    {
     "name": "stdout",
     "output_type": "stream",
     "text": [
      "Config 43/135: {'num_layers': 1, 'units': 128, 'dropout_rate': 0.0, 'l2_reg': 0.001, 'learning_rate': 0.0025}\n"
     ]
    },
    {
     "name": "stdout",
     "output_type": "stream",
     "text": [
      "Config 44/135: {'num_layers': 1, 'units': 128, 'dropout_rate': 0.0, 'l2_reg': 0.001, 'learning_rate': 0.005}\n"
     ]
    },
    {
     "name": "stdout",
     "output_type": "stream",
     "text": [
      "Config 45/135: {'num_layers': 1, 'units': 128, 'dropout_rate': 0.0, 'l2_reg': 0.001, 'learning_rate': 0.01}\n"
     ]
    },
    {
     "name": "stdout",
     "output_type": "stream",
     "text": [
      "Config 46/135: {'num_layers': 2, 'units': 64, 'dropout_rate': 0.0, 'l2_reg': 0.0, 'learning_rate': 0.0005}\n"
     ]
    },
    {
     "name": "stdout",
     "output_type": "stream",
     "text": [
      "Config 47/135: {'num_layers': 2, 'units': 64, 'dropout_rate': 0.0, 'l2_reg': 0.0, 'learning_rate': 0.001}\n"
     ]
    },
    {
     "name": "stdout",
     "output_type": "stream",
     "text": [
      "Config 48/135: {'num_layers': 2, 'units': 64, 'dropout_rate': 0.0, 'l2_reg': 0.0, 'learning_rate': 0.0025}\n"
     ]
    },
    {
     "name": "stdout",
     "output_type": "stream",
     "text": [
      "Config 49/135: {'num_layers': 2, 'units': 64, 'dropout_rate': 0.0, 'l2_reg': 0.0, 'learning_rate': 0.005}\n"
     ]
    },
    {
     "name": "stdout",
     "output_type": "stream",
     "text": [
      "Config 50/135: {'num_layers': 2, 'units': 64, 'dropout_rate': 0.0, 'l2_reg': 0.0, 'learning_rate': 0.01}\n"
     ]
    },
    {
     "name": "stdout",
     "output_type": "stream",
     "text": [
      "Config 51/135: {'num_layers': 2, 'units': 64, 'dropout_rate': 0.0, 'l2_reg': 0.0001, 'learning_rate': 0.0005}\n"
     ]
    },
    {
     "name": "stdout",
     "output_type": "stream",
     "text": [
      "Config 52/135: {'num_layers': 2, 'units': 64, 'dropout_rate': 0.0, 'l2_reg': 0.0001, 'learning_rate': 0.001}\n"
     ]
    },
    {
     "name": "stdout",
     "output_type": "stream",
     "text": [
      "Config 53/135: {'num_layers': 2, 'units': 64, 'dropout_rate': 0.0, 'l2_reg': 0.0001, 'learning_rate': 0.0025}\n"
     ]
    },
    {
     "name": "stdout",
     "output_type": "stream",
     "text": [
      "Config 54/135: {'num_layers': 2, 'units': 64, 'dropout_rate': 0.0, 'l2_reg': 0.0001, 'learning_rate': 0.005}\n"
     ]
    },
    {
     "name": "stdout",
     "output_type": "stream",
     "text": [
      "Config 55/135: {'num_layers': 2, 'units': 64, 'dropout_rate': 0.0, 'l2_reg': 0.0001, 'learning_rate': 0.01}\n"
     ]
    },
    {
     "name": "stdout",
     "output_type": "stream",
     "text": [
      "Config 56/135: {'num_layers': 2, 'units': 64, 'dropout_rate': 0.0, 'l2_reg': 0.001, 'learning_rate': 0.0005}\n"
     ]
    },
    {
     "name": "stdout",
     "output_type": "stream",
     "text": [
      "Config 57/135: {'num_layers': 2, 'units': 64, 'dropout_rate': 0.0, 'l2_reg': 0.001, 'learning_rate': 0.001}\n"
     ]
    },
    {
     "name": "stdout",
     "output_type": "stream",
     "text": [
      "Config 58/135: {'num_layers': 2, 'units': 64, 'dropout_rate': 0.0, 'l2_reg': 0.001, 'learning_rate': 0.0025}\n"
     ]
    },
    {
     "name": "stdout",
     "output_type": "stream",
     "text": [
      "Config 59/135: {'num_layers': 2, 'units': 64, 'dropout_rate': 0.0, 'l2_reg': 0.001, 'learning_rate': 0.005}\n"
     ]
    },
    {
     "name": "stdout",
     "output_type": "stream",
     "text": [
      "Config 60/135: {'num_layers': 2, 'units': 64, 'dropout_rate': 0.0, 'l2_reg': 0.001, 'learning_rate': 0.01}\n"
     ]
    },
    {
     "name": "stdout",
     "output_type": "stream",
     "text": [
      "Config 61/135: {'num_layers': 2, 'units': 96, 'dropout_rate': 0.0, 'l2_reg': 0.0, 'learning_rate': 0.0005}\n"
     ]
    },
    {
     "name": "stdout",
     "output_type": "stream",
     "text": [
      "Config 62/135: {'num_layers': 2, 'units': 96, 'dropout_rate': 0.0, 'l2_reg': 0.0, 'learning_rate': 0.001}\n"
     ]
    },
    {
     "name": "stdout",
     "output_type": "stream",
     "text": [
      "Config 63/135: {'num_layers': 2, 'units': 96, 'dropout_rate': 0.0, 'l2_reg': 0.0, 'learning_rate': 0.0025}\n"
     ]
    },
    {
     "name": "stdout",
     "output_type": "stream",
     "text": [
      "Config 64/135: {'num_layers': 2, 'units': 96, 'dropout_rate': 0.0, 'l2_reg': 0.0, 'learning_rate': 0.005}\n"
     ]
    },
    {
     "name": "stdout",
     "output_type": "stream",
     "text": [
      "Config 65/135: {'num_layers': 2, 'units': 96, 'dropout_rate': 0.0, 'l2_reg': 0.0, 'learning_rate': 0.01}\n"
     ]
    },
    {
     "name": "stdout",
     "output_type": "stream",
     "text": [
      "Config 66/135: {'num_layers': 2, 'units': 96, 'dropout_rate': 0.0, 'l2_reg': 0.0001, 'learning_rate': 0.0005}\n"
     ]
    },
    {
     "name": "stdout",
     "output_type": "stream",
     "text": [
      "Config 67/135: {'num_layers': 2, 'units': 96, 'dropout_rate': 0.0, 'l2_reg': 0.0001, 'learning_rate': 0.001}\n"
     ]
    },
    {
     "name": "stdout",
     "output_type": "stream",
     "text": [
      "Config 68/135: {'num_layers': 2, 'units': 96, 'dropout_rate': 0.0, 'l2_reg': 0.0001, 'learning_rate': 0.0025}\n"
     ]
    },
    {
     "name": "stdout",
     "output_type": "stream",
     "text": [
      "Config 69/135: {'num_layers': 2, 'units': 96, 'dropout_rate': 0.0, 'l2_reg': 0.0001, 'learning_rate': 0.005}\n"
     ]
    },
    {
     "name": "stdout",
     "output_type": "stream",
     "text": [
      "Config 70/135: {'num_layers': 2, 'units': 96, 'dropout_rate': 0.0, 'l2_reg': 0.0001, 'learning_rate': 0.01}\n"
     ]
    },
    {
     "name": "stdout",
     "output_type": "stream",
     "text": [
      "Config 71/135: {'num_layers': 2, 'units': 96, 'dropout_rate': 0.0, 'l2_reg': 0.001, 'learning_rate': 0.0005}\n"
     ]
    },
    {
     "name": "stdout",
     "output_type": "stream",
     "text": [
      "Config 72/135: {'num_layers': 2, 'units': 96, 'dropout_rate': 0.0, 'l2_reg': 0.001, 'learning_rate': 0.001}\n"
     ]
    },
    {
     "name": "stdout",
     "output_type": "stream",
     "text": [
      "Config 73/135: {'num_layers': 2, 'units': 96, 'dropout_rate': 0.0, 'l2_reg': 0.001, 'learning_rate': 0.0025}\n"
     ]
    },
    {
     "name": "stdout",
     "output_type": "stream",
     "text": [
      "Config 74/135: {'num_layers': 2, 'units': 96, 'dropout_rate': 0.0, 'l2_reg': 0.001, 'learning_rate': 0.005}\n"
     ]
    },
    {
     "name": "stdout",
     "output_type": "stream",
     "text": [
      "Config 75/135: {'num_layers': 2, 'units': 96, 'dropout_rate': 0.0, 'l2_reg': 0.001, 'learning_rate': 0.01}\n"
     ]
    },
    {
     "name": "stdout",
     "output_type": "stream",
     "text": [
      "Config 76/135: {'num_layers': 2, 'units': 128, 'dropout_rate': 0.0, 'l2_reg': 0.0, 'learning_rate': 0.0005}\n"
     ]
    },
    {
     "name": "stdout",
     "output_type": "stream",
     "text": [
      "Config 77/135: {'num_layers': 2, 'units': 128, 'dropout_rate': 0.0, 'l2_reg': 0.0, 'learning_rate': 0.001}\n"
     ]
    },
    {
     "name": "stdout",
     "output_type": "stream",
     "text": [
      "Config 78/135: {'num_layers': 2, 'units': 128, 'dropout_rate': 0.0, 'l2_reg': 0.0, 'learning_rate': 0.0025}\n"
     ]
    },
    {
     "name": "stdout",
     "output_type": "stream",
     "text": [
      "Config 79/135: {'num_layers': 2, 'units': 128, 'dropout_rate': 0.0, 'l2_reg': 0.0, 'learning_rate': 0.005}\n"
     ]
    },
    {
     "name": "stdout",
     "output_type": "stream",
     "text": [
      "Config 80/135: {'num_layers': 2, 'units': 128, 'dropout_rate': 0.0, 'l2_reg': 0.0, 'learning_rate': 0.01}\n"
     ]
    },
    {
     "name": "stdout",
     "output_type": "stream",
     "text": [
      "Config 81/135: {'num_layers': 2, 'units': 128, 'dropout_rate': 0.0, 'l2_reg': 0.0001, 'learning_rate': 0.0005}\n"
     ]
    },
    {
     "name": "stdout",
     "output_type": "stream",
     "text": [
      "Config 82/135: {'num_layers': 2, 'units': 128, 'dropout_rate': 0.0, 'l2_reg': 0.0001, 'learning_rate': 0.001}\n"
     ]
    },
    {
     "name": "stdout",
     "output_type": "stream",
     "text": [
      "Config 83/135: {'num_layers': 2, 'units': 128, 'dropout_rate': 0.0, 'l2_reg': 0.0001, 'learning_rate': 0.0025}\n"
     ]
    },
    {
     "name": "stdout",
     "output_type": "stream",
     "text": [
      "Config 84/135: {'num_layers': 2, 'units': 128, 'dropout_rate': 0.0, 'l2_reg': 0.0001, 'learning_rate': 0.005}\n"
     ]
    },
    {
     "name": "stdout",
     "output_type": "stream",
     "text": [
      "Config 85/135: {'num_layers': 2, 'units': 128, 'dropout_rate': 0.0, 'l2_reg': 0.0001, 'learning_rate': 0.01}\n"
     ]
    },
    {
     "name": "stdout",
     "output_type": "stream",
     "text": [
      "Config 86/135: {'num_layers': 2, 'units': 128, 'dropout_rate': 0.0, 'l2_reg': 0.001, 'learning_rate': 0.0005}\n"
     ]
    },
    {
     "name": "stdout",
     "output_type": "stream",
     "text": [
      "Config 87/135: {'num_layers': 2, 'units': 128, 'dropout_rate': 0.0, 'l2_reg': 0.001, 'learning_rate': 0.001}\n"
     ]
    },
    {
     "name": "stdout",
     "output_type": "stream",
     "text": [
      "Config 88/135: {'num_layers': 2, 'units': 128, 'dropout_rate': 0.0, 'l2_reg': 0.001, 'learning_rate': 0.0025}\n"
     ]
    },
    {
     "name": "stdout",
     "output_type": "stream",
     "text": [
      "Config 89/135: {'num_layers': 2, 'units': 128, 'dropout_rate': 0.0, 'l2_reg': 0.001, 'learning_rate': 0.005}\n"
     ]
    },
    {
     "name": "stdout",
     "output_type": "stream",
     "text": [
      "Config 90/135: {'num_layers': 2, 'units': 128, 'dropout_rate': 0.0, 'l2_reg': 0.001, 'learning_rate': 0.01}\n"
     ]
    },
    {
     "name": "stdout",
     "output_type": "stream",
     "text": [
      "Config 91/135: {'num_layers': 3, 'units': 64, 'dropout_rate': 0.0, 'l2_reg': 0.0, 'learning_rate': 0.0005}\n"
     ]
    },
    {
     "name": "stdout",
     "output_type": "stream",
     "text": [
      "Config 92/135: {'num_layers': 3, 'units': 64, 'dropout_rate': 0.0, 'l2_reg': 0.0, 'learning_rate': 0.001}\n"
     ]
    },
    {
     "name": "stdout",
     "output_type": "stream",
     "text": [
      "Config 93/135: {'num_layers': 3, 'units': 64, 'dropout_rate': 0.0, 'l2_reg': 0.0, 'learning_rate': 0.0025}\n"
     ]
    },
    {
     "name": "stdout",
     "output_type": "stream",
     "text": [
      "Config 94/135: {'num_layers': 3, 'units': 64, 'dropout_rate': 0.0, 'l2_reg': 0.0, 'learning_rate': 0.005}\n"
     ]
    },
    {
     "name": "stdout",
     "output_type": "stream",
     "text": [
      "Config 95/135: {'num_layers': 3, 'units': 64, 'dropout_rate': 0.0, 'l2_reg': 0.0, 'learning_rate': 0.01}\n"
     ]
    },
    {
     "name": "stdout",
     "output_type": "stream",
     "text": [
      "Config 96/135: {'num_layers': 3, 'units': 64, 'dropout_rate': 0.0, 'l2_reg': 0.0001, 'learning_rate': 0.0005}\n"
     ]
    },
    {
     "name": "stdout",
     "output_type": "stream",
     "text": [
      "Config 97/135: {'num_layers': 3, 'units': 64, 'dropout_rate': 0.0, 'l2_reg': 0.0001, 'learning_rate': 0.001}\n"
     ]
    },
    {
     "name": "stdout",
     "output_type": "stream",
     "text": [
      "Config 98/135: {'num_layers': 3, 'units': 64, 'dropout_rate': 0.0, 'l2_reg': 0.0001, 'learning_rate': 0.0025}\n"
     ]
    },
    {
     "name": "stdout",
     "output_type": "stream",
     "text": [
      "Config 99/135: {'num_layers': 3, 'units': 64, 'dropout_rate': 0.0, 'l2_reg': 0.0001, 'learning_rate': 0.005}\n"
     ]
    },
    {
     "name": "stdout",
     "output_type": "stream",
     "text": [
      "Config 100/135: {'num_layers': 3, 'units': 64, 'dropout_rate': 0.0, 'l2_reg': 0.0001, 'learning_rate': 0.01}\n"
     ]
    },
    {
     "name": "stdout",
     "output_type": "stream",
     "text": [
      "Config 101/135: {'num_layers': 3, 'units': 64, 'dropout_rate': 0.0, 'l2_reg': 0.001, 'learning_rate': 0.0005}\n"
     ]
    },
    {
     "name": "stdout",
     "output_type": "stream",
     "text": [
      "Config 102/135: {'num_layers': 3, 'units': 64, 'dropout_rate': 0.0, 'l2_reg': 0.001, 'learning_rate': 0.001}\n"
     ]
    },
    {
     "name": "stdout",
     "output_type": "stream",
     "text": [
      "Config 103/135: {'num_layers': 3, 'units': 64, 'dropout_rate': 0.0, 'l2_reg': 0.001, 'learning_rate': 0.0025}\n"
     ]
    },
    {
     "name": "stdout",
     "output_type": "stream",
     "text": [
      "Config 104/135: {'num_layers': 3, 'units': 64, 'dropout_rate': 0.0, 'l2_reg': 0.001, 'learning_rate': 0.005}\n"
     ]
    },
    {
     "name": "stdout",
     "output_type": "stream",
     "text": [
      "Config 105/135: {'num_layers': 3, 'units': 64, 'dropout_rate': 0.0, 'l2_reg': 0.001, 'learning_rate': 0.01}\n"
     ]
    },
    {
     "name": "stdout",
     "output_type": "stream",
     "text": [
      "Config 106/135: {'num_layers': 3, 'units': 96, 'dropout_rate': 0.0, 'l2_reg': 0.0, 'learning_rate': 0.0005}\n"
     ]
    },
    {
     "name": "stdout",
     "output_type": "stream",
     "text": [
      "Config 107/135: {'num_layers': 3, 'units': 96, 'dropout_rate': 0.0, 'l2_reg': 0.0, 'learning_rate': 0.001}\n"
     ]
    },
    {
     "name": "stdout",
     "output_type": "stream",
     "text": [
      "Config 108/135: {'num_layers': 3, 'units': 96, 'dropout_rate': 0.0, 'l2_reg': 0.0, 'learning_rate': 0.0025}\n"
     ]
    },
    {
     "name": "stdout",
     "output_type": "stream",
     "text": [
      "Config 109/135: {'num_layers': 3, 'units': 96, 'dropout_rate': 0.0, 'l2_reg': 0.0, 'learning_rate': 0.005}\n"
     ]
    },
    {
     "name": "stdout",
     "output_type": "stream",
     "text": [
      "Config 110/135: {'num_layers': 3, 'units': 96, 'dropout_rate': 0.0, 'l2_reg': 0.0, 'learning_rate': 0.01}\n"
     ]
    },
    {
     "name": "stdout",
     "output_type": "stream",
     "text": [
      "Config 111/135: {'num_layers': 3, 'units': 96, 'dropout_rate': 0.0, 'l2_reg': 0.0001, 'learning_rate': 0.0005}\n"
     ]
    },
    {
     "name": "stdout",
     "output_type": "stream",
     "text": [
      "Config 112/135: {'num_layers': 3, 'units': 96, 'dropout_rate': 0.0, 'l2_reg': 0.0001, 'learning_rate': 0.001}\n"
     ]
    },
    {
     "name": "stdout",
     "output_type": "stream",
     "text": [
      "Config 113/135: {'num_layers': 3, 'units': 96, 'dropout_rate': 0.0, 'l2_reg': 0.0001, 'learning_rate': 0.0025}\n"
     ]
    },
    {
     "name": "stdout",
     "output_type": "stream",
     "text": [
      "Config 114/135: {'num_layers': 3, 'units': 96, 'dropout_rate': 0.0, 'l2_reg': 0.0001, 'learning_rate': 0.005}\n"
     ]
    },
    {
     "name": "stdout",
     "output_type": "stream",
     "text": [
      "Config 115/135: {'num_layers': 3, 'units': 96, 'dropout_rate': 0.0, 'l2_reg': 0.0001, 'learning_rate': 0.01}\n"
     ]
    },
    {
     "name": "stdout",
     "output_type": "stream",
     "text": [
      "Config 116/135: {'num_layers': 3, 'units': 96, 'dropout_rate': 0.0, 'l2_reg': 0.001, 'learning_rate': 0.0005}\n"
     ]
    },
    {
     "name": "stdout",
     "output_type": "stream",
     "text": [
      "Config 117/135: {'num_layers': 3, 'units': 96, 'dropout_rate': 0.0, 'l2_reg': 0.001, 'learning_rate': 0.001}\n"
     ]
    },
    {
     "name": "stdout",
     "output_type": "stream",
     "text": [
      "Config 118/135: {'num_layers': 3, 'units': 96, 'dropout_rate': 0.0, 'l2_reg': 0.001, 'learning_rate': 0.0025}\n"
     ]
    },
    {
     "name": "stdout",
     "output_type": "stream",
     "text": [
      "Config 119/135: {'num_layers': 3, 'units': 96, 'dropout_rate': 0.0, 'l2_reg': 0.001, 'learning_rate': 0.005}\n"
     ]
    },
    {
     "name": "stdout",
     "output_type": "stream",
     "text": [
      "Config 120/135: {'num_layers': 3, 'units': 96, 'dropout_rate': 0.0, 'l2_reg': 0.001, 'learning_rate': 0.01}\n"
     ]
    },
    {
     "name": "stdout",
     "output_type": "stream",
     "text": [
      "Config 121/135: {'num_layers': 3, 'units': 128, 'dropout_rate': 0.0, 'l2_reg': 0.0, 'learning_rate': 0.0005}\n"
     ]
    },
    {
     "name": "stdout",
     "output_type": "stream",
     "text": [
      "Config 122/135: {'num_layers': 3, 'units': 128, 'dropout_rate': 0.0, 'l2_reg': 0.0, 'learning_rate': 0.001}\n"
     ]
    },
    {
     "name": "stdout",
     "output_type": "stream",
     "text": [
      "Config 123/135: {'num_layers': 3, 'units': 128, 'dropout_rate': 0.0, 'l2_reg': 0.0, 'learning_rate': 0.0025}\n"
     ]
    },
    {
     "name": "stdout",
     "output_type": "stream",
     "text": [
      "Config 124/135: {'num_layers': 3, 'units': 128, 'dropout_rate': 0.0, 'l2_reg': 0.0, 'learning_rate': 0.005}\n"
     ]
    },
    {
     "name": "stdout",
     "output_type": "stream",
     "text": [
      "Config 125/135: {'num_layers': 3, 'units': 128, 'dropout_rate': 0.0, 'l2_reg': 0.0, 'learning_rate': 0.01}\n"
     ]
    },
    {
     "name": "stdout",
     "output_type": "stream",
     "text": [
      "Config 126/135: {'num_layers': 3, 'units': 128, 'dropout_rate': 0.0, 'l2_reg': 0.0001, 'learning_rate': 0.0005}\n"
     ]
    },
    {
     "name": "stdout",
     "output_type": "stream",
     "text": [
      "Config 127/135: {'num_layers': 3, 'units': 128, 'dropout_rate': 0.0, 'l2_reg': 0.0001, 'learning_rate': 0.001}\n"
     ]
    },
    {
     "name": "stdout",
     "output_type": "stream",
     "text": [
      "Config 128/135: {'num_layers': 3, 'units': 128, 'dropout_rate': 0.0, 'l2_reg': 0.0001, 'learning_rate': 0.0025}\n"
     ]
    },
    {
     "name": "stdout",
     "output_type": "stream",
     "text": [
      "Config 129/135: {'num_layers': 3, 'units': 128, 'dropout_rate': 0.0, 'l2_reg': 0.0001, 'learning_rate': 0.005}\n"
     ]
    },
    {
     "name": "stdout",
     "output_type": "stream",
     "text": [
      "Config 130/135: {'num_layers': 3, 'units': 128, 'dropout_rate': 0.0, 'l2_reg': 0.0001, 'learning_rate': 0.01}\n"
     ]
    },
    {
     "name": "stdout",
     "output_type": "stream",
     "text": [
      "Config 131/135: {'num_layers': 3, 'units': 128, 'dropout_rate': 0.0, 'l2_reg': 0.001, 'learning_rate': 0.0005}\n"
     ]
    },
    {
     "name": "stdout",
     "output_type": "stream",
     "text": [
      "Config 132/135: {'num_layers': 3, 'units': 128, 'dropout_rate': 0.0, 'l2_reg': 0.001, 'learning_rate': 0.001}\n"
     ]
    },
    {
     "name": "stdout",
     "output_type": "stream",
     "text": [
      "Config 133/135: {'num_layers': 3, 'units': 128, 'dropout_rate': 0.0, 'l2_reg': 0.001, 'learning_rate': 0.0025}\n"
     ]
    },
    {
     "name": "stdout",
     "output_type": "stream",
     "text": [
      "Config 134/135: {'num_layers': 3, 'units': 128, 'dropout_rate': 0.0, 'l2_reg': 0.001, 'learning_rate': 0.005}\n"
     ]
    },
    {
     "name": "stdout",
     "output_type": "stream",
     "text": [
      "Config 135/135: {'num_layers': 3, 'units': 128, 'dropout_rate': 0.0, 'l2_reg': 0.001, 'learning_rate': 0.01}\n"
     ]
    },
    {
     "name": "stdout",
     "output_type": "stream",
     "text": [
      "Best ANN grid configuration (inner validation macro F1): 1.0\n",
      "{'num_layers': 1, 'units': 64, 'dropout_rate': 0.0, 'l2_reg': 0.0001, 'learning_rate': 0.0025}\n"
     ]
    }
   ],
   "source": [
    "\n",
    "if SPLIT_STRATEGY == 'group':\n",
    "    inner_splitter = GroupShuffleSplit(n_splits=1, test_size=0.2, random_state=SEED)\n",
    "    inner_args = {'groups': groups_train}\n",
    "else:\n",
    "    inner_splitter = StratifiedShuffleSplit(n_splits=1, test_size=0.2, random_state=SEED)\n",
    "    inner_args = {}\n",
    "\n",
    "inner_tr_idx, inner_val_idx = next(inner_splitter.split(X_train_raw, y_train, **inner_args))\n",
    "\n",
    "X_inner_tr_raw = X_train_raw.iloc[inner_tr_idx]\n",
    "X_inner_val_raw = X_train_raw.iloc[inner_val_idx]\n",
    "y_inner_tr = y_train.iloc[inner_tr_idx]\n",
    "y_inner_val = y_train.iloc[inner_val_idx]\n",
    "\n",
    "pre_gs = make_preprocessor(style=\"scale\")\n",
    "X_inner_tr = pre_gs.fit_transform(X_inner_tr_raw).astype(\"float32\")\n",
    "X_inner_val = pre_gs.transform(X_inner_val_raw).astype(\"float32\")\n",
    "input_dim_inner = X_inner_tr.shape[1]\n",
    "\n",
    "best_cfg = None\n",
    "best_val_f1 = -np.inf\n",
    "best_history = None\n",
    "\n",
    "total_combos = int(np.prod([len(v) for v in GRID.values()]))\n",
    "print(f\"Starting ANN exhaustive grid search over {total_combos} combinations...\")\n",
    "for idx, cfg in enumerate(grid_dict_product(GRID), start=1):\n",
    "    print(f\"Config {idx}/{total_combos}: {cfg}\")\n",
    "    model_tmp = build_ann(\n",
    "        input_dim=input_dim_inner,\n",
    "        num_layers=cfg['num_layers'],\n",
    "        units=cfg['units'],\n",
    "        dropout_rate=cfg['dropout_rate'],\n",
    "        l2_reg=cfg['l2_reg'],\n",
    "        learning_rate=cfg['learning_rate'],\n",
    "        num_classes=len(class_order)\n",
    "    )\n",
    "    early_stop = EarlyStopping(monitor='val_loss', patience=8, restore_best_weights=True)\n",
    "    reduce_lr  = ReduceLROnPlateau(monitor='val_loss', factor=0.5, patience=4, min_lr=1e-5, verbose=0)\n",
    "\n",
    "    history_tmp = model_tmp.fit(\n",
    "        X_inner_tr, y_inner_tr,\n",
    "        epochs=120,\n",
    "        validation_data=(X_inner_val, y_inner_val),\n",
    "        callbacks=[early_stop, reduce_lr],\n",
    "        verbose=0\n",
    "    )\n",
    "\n",
    "    y_val_pred = np.argmax(model_tmp.predict(X_inner_val, verbose=0), axis=1)\n",
    "    f1 = f1_score(y_inner_val, y_val_pred, average='macro')\n",
    "    if f1 > best_val_f1:\n",
    "        best_val_f1 = f1\n",
    "        best_cfg = cfg\n",
    "        best_history = history_tmp\n",
    "\n",
    "print(\"Best ANN grid configuration (inner validation macro F1):\", round(best_val_f1, 4))\n",
    "print(best_cfg)\n",
    "\n"
   ]
  },
  {
   "cell_type": "markdown",
   "id": "8f851b2c",
   "metadata": {},
   "source": [
    "## Final ANN Training & Evaluation"
   ]
  },
  {
   "cell_type": "code",
   "execution_count": 11,
   "id": "0ceb8e82",
   "metadata": {
    "execution": {
     "iopub.execute_input": "2025-09-22T02:27:48.084882Z",
     "iopub.status.busy": "2025-09-22T02:27:48.084794Z",
     "iopub.status.idle": "2025-09-22T02:27:59.054567Z",
     "shell.execute_reply": "2025-09-22T02:27:59.054262Z"
    }
   },
   "outputs": [],
   "source": [
    "\n",
    "preprocessor = make_preprocessor(style=\"scale\")\n",
    "X_train_proc = preprocessor.fit_transform(X_train_raw).astype(\"float32\")\n",
    "X_test_proc  = preprocessor.transform(X_test_raw).astype(\"float32\")\n",
    "input_dim = X_train_proc.shape[1]\n",
    "\n",
    "if SPLIT_STRATEGY == 'group':\n",
    "    inner_splitter = GroupShuffleSplit(n_splits=1, test_size=0.2, random_state=SEED)\n",
    "    split_args = {'groups': groups_train}\n",
    "else:\n",
    "    inner_splitter = StratifiedShuffleSplit(n_splits=1, test_size=0.2, random_state=SEED)\n",
    "    split_args = {}\n",
    "\n",
    "inner_tr_idx2, inner_val_idx2 = next(inner_splitter.split(X_train_raw, y_train, **split_args))\n",
    "X_tr2 = X_train_proc[inner_tr_idx2].astype(\"float32\")\n",
    "X_val2 = X_train_proc[inner_val_idx2].astype(\"float32\")\n",
    "y_tr2 = y_train.iloc[inner_tr_idx2]\n",
    "y_val2 = y_train.iloc[inner_val_idx2]\n",
    "\n",
    "model = build_ann(\n",
    "    input_dim=input_dim,\n",
    "    num_layers=best_cfg['num_layers'],\n",
    "    units=best_cfg['units'],\n",
    "    dropout_rate=best_cfg['dropout_rate'],\n",
    "    l2_reg=best_cfg['l2_reg'],\n",
    "    learning_rate=best_cfg['learning_rate'],\n",
    "    num_classes=len(class_order)\n",
    ")\n",
    "\n",
    "class_weight = None\n",
    "train_counts = y_tr2.value_counts().sort_index()\n",
    "if train_counts.min() / train_counts.max() < 0.6:\n",
    "    cw = compute_class_weight(class_weight='balanced', classes=np.array(class_order), y=y_tr2)\n",
    "    class_weight = {cls: w for cls, w in zip(class_order, cw)}\n",
    "    print(\"Using class weights:\", class_weight)\n",
    "\n",
    "early_stop_final = EarlyStopping(monitor='val_loss', patience=12, restore_best_weights=True)\n",
    "reduce_lr_final  = ReduceLROnPlateau(monitor='val_loss', factor=0.5, patience=5, min_lr=1e-5, verbose=0)\n",
    "\n",
    "history = model.fit(\n",
    "    X_tr2, y_tr2,\n",
    "    epochs=160,\n",
    "    validation_data=(X_val2, y_val2),\n",
    "    callbacks=[early_stop_final, reduce_lr_final],\n",
    "    verbose=0,\n",
    "    class_weight=class_weight\n",
    ")\n",
    "\n"
   ]
  },
  {
   "cell_type": "code",
   "execution_count": 12,
   "id": "c3cdb0da",
   "metadata": {
    "execution": {
     "iopub.execute_input": "2025-09-22T02:27:59.055888Z",
     "iopub.status.busy": "2025-09-22T02:27:59.055809Z",
     "iopub.status.idle": "2025-09-22T02:27:59.312152Z",
     "shell.execute_reply": "2025-09-22T02:27:59.311918Z"
    }
   },
   "outputs": [
    {
     "data": {
      "image/png": "[encoded data removed]",
      "text/plain": [
       "<Figure size 1000x500 with 2 Axes>"
      ]
     },
     "metadata": {},
     "output_type": "display_data"
    }
   ],
   "source": [
    "\n",
    "plt.figure(figsize=(10, 5))\n",
    "plt.subplot(1, 2, 1)\n",
    "plt.plot(history.history['accuracy'], label='Train Accuracy')\n",
    "plt.plot(history.history['val_accuracy'], label='Validation Accuracy')\n",
    "plt.title('ANN Accuracy')\n",
    "plt.xlabel('Epoch'); plt.ylabel('Accuracy'); plt.legend()\n",
    "\n",
    "plt.subplot(1, 2, 2)\n",
    "plt.plot(history.history['loss'], label='Train Loss')\n",
    "plt.plot(history.history['val_loss'], label='Validation Loss')\n",
    "plt.title('ANN Loss')\n",
    "plt.xlabel('Epoch'); plt.ylabel('Loss'); plt.legend()\n",
    "\n",
    "plt.tight_layout()\n",
    "plt.show()\n"
   ]
  },
  {
   "cell_type": "code",
   "execution_count": 13,
   "id": "fd725017",
   "metadata": {
    "execution": {
     "iopub.execute_input": "2025-09-22T02:27:59.313285Z",
     "iopub.status.busy": "2025-09-22T02:27:59.313213Z",
     "iopub.status.idle": "2025-09-22T02:27:59.429961Z",
     "shell.execute_reply": "2025-09-22T02:27:59.429728Z"
    }
   },
   "outputs": [
    {
     "data": {
      "image/png": "[encoded data removed]",
      "text/plain": [
       "<Figure size 800x600 with 2 Axes>"
      ]
     },
     "metadata": {},
     "output_type": "display_data"
    },
    {
     "name": "stdout",
     "output_type": "stream",
     "text": [
      "Classification report (price tiers):\n",
      "              precision    recall  f1-score   support\n",
      "\n",
      "           0       1.00      1.00      1.00       504\n",
      "           1       1.00      1.00      1.00       502\n",
      "           2       1.00      1.00      1.00       513\n",
      "\n",
      "    accuracy                           1.00      1519\n",
      "   macro avg       1.00      1.00      1.00      1519\n",
      "weighted avg       1.00      1.00      1.00      1519\n",
      "\n",
      "Test Accuracy: 1.0000\n",
      "Macro F1:      1.0000\n",
      "Best ANN configuration: {'num_layers': 1, 'units': 64, 'dropout_rate': 0.0, 'l2_reg': 0.0001, 'learning_rate': 0.0025}\n",
      "Thresholds kept in-session: low=55.00, high=167.16\n"
     ]
    }
   ],
   "source": [
    "\n",
    "y_pred_proba = model.predict(X_test_proc, verbose=0)\n",
    "y_pred = np.argmax(y_pred_proba, axis=1)\n",
    "y_true = y_test.to_numpy()\n",
    "\n",
    "cm = confusion_matrix(y_true, y_pred)\n",
    "plt.figure(figsize=(8, 6))\n",
    "sns.heatmap(cm, annot=True, fmt='d', cmap='Blues', xticklabels=class_order, yticklabels=class_order)\n",
    "plt.title('Confusion Matrix (price tiers)')\n",
    "plt.xlabel('Predicted'); plt.ylabel('True')\n",
    "plt.show()\n",
    "\n",
    "print(\"Classification report (price tiers):\")\n",
    "print(classification_report(y_true, y_pred, zero_division=0))\n",
    "print(f\"Test Accuracy: {accuracy_score(y_true, y_pred):.4f}\")\n",
    "print(f\"Macro F1:      {f1_score(y_true, y_pred, average='macro'):.4f}\")\n",
    "print(f\"Best ANN configuration: {best_cfg}\")\n",
    "print(f\"Thresholds kept in-session: low={low_thr:.2f}, high={high_thr:.2f}\")\n"
   ]
  },
  {
   "cell_type": "markdown",
   "id": "48fb2cfc",
   "metadata": {},
   "source": [
    "## Grouped Cross-Validation (ANN)"
   ]
  },
  {
   "cell_type": "code",
   "execution_count": 14,
   "id": "1972662c",
   "metadata": {
    "execution": {
     "iopub.execute_input": "2025-09-22T02:27:59.431084Z",
     "iopub.status.busy": "2025-09-22T02:27:59.431016Z",
     "iopub.status.idle": "2025-09-22T02:28:46.298423Z",
     "shell.execute_reply": "2025-09-22T02:28:46.298112Z"
    }
   },
   "outputs": [
    {
     "name": "stdout",
     "output_type": "stream",
     "text": [
      "Fold 1: Acc=100.00% | Loss=0.0044 | MacroF1=1.0000\n"
     ]
    },
    {
     "name": "stdout",
     "output_type": "stream",
     "text": [
      "Fold 2: Acc=100.00% | Loss=0.0035 | MacroF1=1.0000\n"
     ]
    },
    {
     "name": "stdout",
     "output_type": "stream",
     "text": [
      "Fold 3: Acc=100.00% | Loss=0.0044 | MacroF1=1.0000\n"
     ]
    },
    {
     "name": "stdout",
     "output_type": "stream",
     "text": [
      "Fold 4: Acc=100.00% | Loss=0.0035 | MacroF1=1.0000\n"
     ]
    },
    {
     "name": "stdout",
     "output_type": "stream",
     "text": [
      "Fold 5: Acc=100.00% | Loss=0.0052 | MacroF1=1.0000\n",
      "\n",
      "------------------------------------------------------------------------\n",
      "Stratified CV summary (unseen validation folds):\n",
      "Accuracy: mean 100.00%  (± 0.00)\n",
      "Macro F1: mean 1.0000 (± 0.0000)\n",
      "Loss:     mean 0.0042\n",
      "------------------------------------------------------------------------\n"
     ]
    }
   ],
   "source": [
    "\n",
    "num_folds = 5\n",
    "if SPLIT_STRATEGY == 'group':\n",
    "    cv_splitter = GroupKFold(n_splits=num_folds)\n",
    "    split_iter = cv_splitter.split(X_all, None, groups=groups_all)\n",
    "else:\n",
    "    cv_splitter = StratifiedKFold(n_splits=num_folds, shuffle=True, random_state=SEED)\n",
    "    split_iter = cv_splitter.split(X_all, df['price_bin'])\n",
    "\n",
    "acc_per_fold, f1_per_fold, loss_per_fold = [], [], []\n",
    "for fold_no, (tr_idx, val_idx) in enumerate(split_iter, start=1):\n",
    "    X_tr_raw, X_val_raw = X_all.iloc[tr_idx], X_all.iloc[val_idx]\n",
    "    price_tr = df['price'].iloc[tr_idx]\n",
    "    price_val = df['price'].iloc[val_idx]\n",
    "\n",
    "    low_f, high_f = compute_thresholds_from_train(price_tr)\n",
    "    y_tr_f = bin_with_thresholds(price_tr, low_f, high_f)\n",
    "    y_val_f = bin_with_thresholds(price_val, low_f, high_f)\n",
    "\n",
    "    pre_fold = make_preprocessor(style=\"scale\")\n",
    "    X_tr = pre_fold.fit_transform(X_tr_raw).astype(\"float32\")\n",
    "    X_val = pre_fold.transform(X_val_raw).astype(\"float32\")\n",
    "\n",
    "    model_fold = build_ann(\n",
    "        input_dim=X_tr.shape[1],\n",
    "        num_layers=best_cfg['num_layers'],\n",
    "        units=best_cfg['units'],\n",
    "        dropout_rate=best_cfg['dropout_rate'],\n",
    "        l2_reg=best_cfg['l2_reg'],\n",
    "        learning_rate=best_cfg['learning_rate'],\n",
    "        num_classes=len(class_order)\n",
    "    )\n",
    "\n",
    "    early_stop_cv = EarlyStopping(monitor='val_loss', patience=8, restore_best_weights=True)\n",
    "    reduce_lr_cv  = ReduceLROnPlateau(monitor='val_loss', factor=0.5, patience=4, min_lr=1e-5, verbose=0)\n",
    "\n",
    "    model_fold.fit(\n",
    "        X_tr, y_tr_f,\n",
    "        epochs=120,\n",
    "        validation_data=(X_val, y_val_f),\n",
    "        callbacks=[early_stop_cv, reduce_lr_cv],\n",
    "        verbose=0\n",
    "    )\n",
    "\n",
    "    loss, acc = model_fold.evaluate(X_val, y_val_f, verbose=0)\n",
    "    y_val_pred = np.argmax(model_fold.predict(X_val, verbose=0), axis=1)\n",
    "    f1 = f1_score(y_val_f, y_val_pred, average='macro')\n",
    "\n",
    "    print(f\"Fold {fold_no}: Acc={acc*100:.2f}% | Loss={loss:.4f} | MacroF1={f1:.4f}\")\n",
    "    acc_per_fold.append(acc * 100)\n",
    "    f1_per_fold.append(f1)\n",
    "    loss_per_fold.append(loss)\n",
    "\n",
    "print('\\n' + '-'*72)\n",
    "print(f'{\"Grouped\" if SPLIT_STRATEGY == \"group\" else \"Stratified\"} CV summary (unseen validation folds):')\n",
    "print(f\"Accuracy: mean {np.mean(acc_per_fold):.2f}%  (± {np.std(acc_per_fold):.2f})\")\n",
    "print(f\"Macro F1: mean {np.mean(f1_per_fold):.4f} (± {np.std(f1_per_fold):.4f})\")\n",
    "print(f\"Loss:     mean {np.mean(loss_per_fold):.4f}\")\n",
    "print('-'*72)\n",
    "\n"
   ]
  },
  {
   "cell_type": "markdown",
   "id": "970125e8",
   "metadata": {},
   "source": [
    "## Classical Model Benchmark"
   ]
  },
  {
   "cell_type": "code",
   "execution_count": 15,
   "id": "752850cc",
   "metadata": {
    "execution": {
     "iopub.execute_input": "2025-09-22T02:28:46.300109Z",
     "iopub.status.busy": "2025-09-22T02:28:46.300002Z",
     "iopub.status.idle": "2025-09-22T02:30:34.689338Z",
     "shell.execute_reply": "2025-09-22T02:30:34.688665Z"
    }
   },
   "outputs": [
    {
     "name": "stdout",
     "output_type": "stream",
     "text": [
      "\n",
      "=== SVC (RBF) (svc_rbf) ===\n"
     ]
    },
    {
     "name": "stdout",
     "output_type": "stream",
     "text": [
      "Selected params: {'C': 3.0, 'gamma': 'scale'} | Inner macro F1=0.9934\n"
     ]
    },
    {
     "name": "stdout",
     "output_type": "stream",
     "text": [
      "Test Accuracy=0.9980 | Test Macro F1=0.9980\n",
      "              precision    recall  f1-score   support\n",
      "\n",
      "           0       1.00      1.00      1.00       504\n",
      "           1       1.00      1.00      1.00       502\n",
      "           2       1.00      1.00      1.00       513\n",
      "\n",
      "    accuracy                           1.00      1519\n",
      "   macro avg       1.00      1.00      1.00      1519\n",
      "weighted avg       1.00      1.00      1.00      1519\n",
      "\n",
      "\n",
      "=== LogisticRegression (logreg) ===\n"
     ]
    },
    {
     "name": "stdout",
     "output_type": "stream",
     "text": [
      "Selected params: {'C': 3.0, 'solver': 'lbfgs', 'max_iter': 3000} | Inner macro F1=0.9984\n"
     ]
    },
    {
     "name": "stdout",
     "output_type": "stream",
     "text": [
      "Test Accuracy=0.9967 | Test Macro F1=0.9967\n",
      "              precision    recall  f1-score   support\n",
      "\n",
      "           0       1.00      1.00      1.00       504\n",
      "           1       0.99      1.00      1.00       502\n",
      "           2       1.00      0.99      1.00       513\n",
      "\n",
      "    accuracy                           1.00      1519\n",
      "   macro avg       1.00      1.00      1.00      1519\n",
      "weighted avg       1.00      1.00      1.00      1519\n",
      "\n",
      "\n",
      "=== ExtraTrees (et) ===\n"
     ]
    },
    {
     "name": "stdout",
     "output_type": "stream",
     "text": [
      "Selected params: {'n_estimators': 300, 'max_depth': None} | Inner macro F1=0.9983\n"
     ]
    },
    {
     "name": "stdout",
     "output_type": "stream",
     "text": [
      "Test Accuracy=1.0000 | Test Macro F1=1.0000\n",
      "              precision    recall  f1-score   support\n",
      "\n",
      "           0       1.00      1.00      1.00       504\n",
      "           1       1.00      1.00      1.00       502\n",
      "           2       1.00      1.00      1.00       513\n",
      "\n",
      "    accuracy                           1.00      1519\n",
      "   macro avg       1.00      1.00      1.00      1519\n",
      "weighted avg       1.00      1.00      1.00      1519\n",
      "\n",
      "\n",
      "=== SGDClassifier (log_loss) (sgd) ===\n",
      "Selected params: {'loss': 'log_loss', 'alpha': 0.0001, 'max_iter': 3000, 'random_state': 42} | Inner macro F1=0.9809\n"
     ]
    },
    {
     "name": "stdout",
     "output_type": "stream",
     "text": [
      "Test Accuracy=0.9789 | Test Macro F1=0.9788\n",
      "              precision    recall  f1-score   support\n",
      "\n",
      "           0       0.98      0.98      0.98       504\n",
      "           1       0.98      0.96      0.97       502\n",
      "           2       0.98      1.00      0.99       513\n",
      "\n",
      "    accuracy                           0.98      1519\n",
      "   macro avg       0.98      0.98      0.98      1519\n",
      "weighted avg       0.98      0.98      0.98      1519\n",
      "\n",
      "\n",
      "=== LinearDiscriminantAnalysis (lda) ===\n"
     ]
    },
    {
     "name": "stdout",
     "output_type": "stream",
     "text": [
      "Selected params: {'solver': 'svd'} | Inner macro F1=0.9114\n",
      "Test Accuracy=0.8953 | Test Macro F1=0.8967\n",
      "              precision    recall  f1-score   support\n",
      "\n",
      "           0       0.95      0.89      0.92       504\n",
      "           1       0.80      0.91      0.85       502\n",
      "           2       0.96      0.88      0.92       513\n",
      "\n",
      "    accuracy                           0.90      1519\n",
      "   macro avg       0.90      0.90      0.90      1519\n",
      "weighted avg       0.90      0.90      0.90      1519\n",
      "\n"
     ]
    }
   ],
   "source": [
    "\n",
    "def fit_select_on_inner_classic(model_key, X_tr_raw, y_tr, groups_tr):\n",
    "    if SPLIT_STRATEGY == 'group':\n",
    "        inner = GroupShuffleSplit(n_splits=1, test_size=0.2, random_state=SEED)\n",
    "        split_gen = inner.split(X_tr_raw, y_tr, groups=groups_tr)\n",
    "    else:\n",
    "        inner = StratifiedShuffleSplit(n_splits=1, test_size=0.2, random_state=SEED)\n",
    "        split_gen = inner.split(X_tr_raw, y_tr)\n",
    "\n",
    "    inner_tr_idx, inner_val_idx = next(split_gen)\n",
    "\n",
    "    X_inner_tr_raw = X_tr_raw.iloc[inner_tr_idx]\n",
    "    X_inner_val_raw = X_tr_raw.iloc[inner_val_idx]\n",
    "    y_inner_tr = y_tr.iloc[inner_tr_idx]\n",
    "    y_inner_val = y_tr.iloc[inner_val_idx]\n",
    "\n",
    "    spec = MODEL_ZOO[model_key]\n",
    "    grid = GRIDS_CLASSIC[model_key]\n",
    "    style = spec['style']\n",
    "\n",
    "    pre = make_preprocessor(style)\n",
    "    X_inner_tr = pre.fit_transform(X_inner_tr_raw)\n",
    "    X_inner_val = pre.transform(X_inner_val_raw)\n",
    "\n",
    "    best_f1 = -np.inf\n",
    "    best_params = None\n",
    "\n",
    "    for params in grid_dict_product(grid):\n",
    "        est = spec['factory'](params)\n",
    "        est.fit(X_inner_tr, y_inner_tr)\n",
    "        y_val_pred = est.predict(X_inner_val)\n",
    "        f1 = f1_score(y_inner_val, y_val_pred, average='macro')\n",
    "        if f1 > best_f1:\n",
    "            best_f1 = f1\n",
    "            best_params = params\n",
    "\n",
    "    return best_params, best_f1\n",
    "\n",
    "records = []\n",
    "\n",
    "for key in MODEL_KEYS:\n",
    "    label = MODEL_ZOO[key]['label']\n",
    "    print()\n",
    "    print(f\"=== {label} ({key}) ===\")\n",
    "\n",
    "    best_params, inner_f1 = fit_select_on_inner_classic(key, X_train_raw, y_train, groups_train)\n",
    "    print(f\"Selected params: {best_params} | Inner macro F1={inner_f1:.4f}\")\n",
    "\n",
    "    pre = make_preprocessor(MODEL_ZOO[key]['style'])\n",
    "    X_train_cls = pre.fit_transform(X_train_raw)\n",
    "    X_test_cls  = pre.transform(X_test_raw)\n",
    "\n",
    "    est = MODEL_ZOO[key]['factory'](best_params)\n",
    "    est.fit(X_train_cls, y_train)\n",
    "\n",
    "    y_pred_cls = est.predict(X_test_cls)\n",
    "    acc = accuracy_score(y_test, y_pred_cls)\n",
    "    f1m = f1_score(y_test, y_pred_cls, average='macro')\n",
    "\n",
    "    print(f\"Test Accuracy={acc:.4f} | Test Macro F1={f1m:.4f}\")\n",
    "    print(classification_report(y_test, y_pred_cls, zero_division=0))\n",
    "\n",
    "    records.append(\n",
    "        {\n",
    "            \"key\": key,\n",
    "            \"model\": label,\n",
    "            \"best_params\": best_params,\n",
    "            \"inner_macro_f1\": round(inner_f1, 4),\n",
    "            \"test_accuracy\": round(acc, 4),\n",
    "            \"test_macro_f1\": round(f1m, 4),\n",
    "        }\n",
    "    )\n",
    "\n"
   ]
  },
  {
   "cell_type": "code",
   "execution_count": 16,
   "id": "ff1a18d1",
   "metadata": {
    "execution": {
     "iopub.execute_input": "2025-09-22T02:30:34.695562Z",
     "iopub.status.busy": "2025-09-22T02:30:34.695351Z",
     "iopub.status.idle": "2025-09-22T02:30:34.709104Z",
     "shell.execute_reply": "2025-09-22T02:30:34.704462Z"
    }
   },
   "outputs": [
    {
     "name": "stdout",
     "output_type": "stream",
     "text": [
      "\n",
      "=== Ranked results (outer test) ===\n",
      "                        model  test_macro_f1  test_accuracy  inner_macro_f1  \\\n",
      "0                  ExtraTrees         1.0000         1.0000          0.9983   \n",
      "1                   SVC (RBF)         0.9980         0.9980          0.9934   \n",
      "2          LogisticRegression         0.9967         0.9967          0.9984   \n",
      "3    SGDClassifier (log_loss)         0.9788         0.9789          0.9809   \n",
      "4  LinearDiscriminantAnalysis         0.8967         0.8953          0.9114   \n",
      "\n",
      "                                         best_params  \n",
      "0           {'n_estimators': 300, 'max_depth': None}  \n",
      "1                       {'C': 3.0, 'gamma': 'scale'}  \n",
      "2    {'C': 3.0, 'solver': 'lbfgs', 'max_iter': 3000}  \n",
      "3  {'loss': 'log_loss', 'alpha': 0.0001, 'max_ite...  \n",
      "4                                  {'solver': 'svd'}  \n"
     ]
    }
   ],
   "source": [
    "\n",
    "results = pd.DataFrame.from_records(records)\n",
    "results_sorted = results.sort_values([\n",
    "    \"test_macro_f1\", \"test_accuracy\"\n",
    "], ascending=False).reset_index(drop=True)\n",
    "\n",
    "print(\"\\n=== Ranked results (outer test) ===\")\n",
    "print(results_sorted[[\"model\", \"test_macro_f1\", \"test_accuracy\", \"inner_macro_f1\", \"best_params\"]])\n"
   ]
  },
  {
   "cell_type": "markdown",
   "id": "6f65c201",
   "metadata": {},
   "source": [
    "## Feature Leakage Audit"
   ]
  },
  {
   "cell_type": "code",
   "execution_count": 17,
   "id": "cda96f08",
   "metadata": {
    "execution": {
     "iopub.execute_input": "2025-09-22T02:30:34.711107Z",
     "iopub.status.busy": "2025-09-22T02:30:34.710945Z",
     "iopub.status.idle": "2025-09-22T02:31:11.581565Z",
     "shell.execute_reply": "2025-09-22T02:31:11.581079Z"
    }
   },
   "outputs": [
    {
     "name": "stdout",
     "output_type": "stream",
     "text": [
      "\n",
      "Running single-feature leakage audit (macro F1 per feature)...\n"
     ]
    },
    {
     "name": "stdout",
     "output_type": "stream",
     "text": [
      "Top 10 features by single-feature macro F1:\n",
      "maintenance_to_price                          0.8298\n",
      "part                                          0.6981\n",
      "repair_to_price                               0.6013\n",
      "repair or replacement cost                    0.5050\n",
      "repair_to_car_price                           0.4566\n",
      "selling location                              0.3735\n",
      "new\\used                                      0.3246\n",
      "critically                                    0.3167\n",
      "service location (repair shop/automotive company 0.3049\n",
      "car type                                      0.2946\n"
     ]
    }
   ],
   "source": [
    "\n",
    "def single_feature_cv_score(feature_name):\n",
    "    if feature_name in cat_cols_effective:\n",
    "        try:\n",
    "            ohe = Pipeline([\n",
    "                ('imputer', SimpleImputer(strategy='most_frequent')),\n",
    "                ('ohe', OneHotEncoder(handle_unknown='ignore', sparse_output=False))\n",
    "            ])\n",
    "        except TypeError:\n",
    "            ohe = Pipeline([\n",
    "                ('imputer', SimpleImputer(strategy='most_frequent')),\n",
    "                ('ohe', OneHotEncoder(handle_unknown='ignore', sparse=False))\n",
    "            ])\n",
    "        pipe = Pipeline([('ohe', ohe),\n",
    "                         ('clf', LogisticRegression(max_iter=2000, multi_class='multinomial'))])\n",
    "        X_feat = df[[feature_name]].astype(str)\n",
    "    else:\n",
    "        steps = [('imputer', SimpleImputer(strategy='median'))]\n",
    "        if feature_name in skewed_cols:\n",
    "            steps.append(('log1p', FunctionTransformer(np.log1p, validate=False)))\n",
    "        steps.append(('scaler', StandardScaler()))\n",
    "        steps.append(('clf', LogisticRegression(max_iter=2000, multi_class='multinomial')))\n",
    "        pipe = Pipeline(steps)\n",
    "        X_feat = df[[feature_name]].copy()\n",
    "\n",
    "    if SPLIT_STRATEGY == 'group':\n",
    "        splitter = GroupKFold(n_splits=5)\n",
    "        split_iter = splitter.split(X_all, None, groups=groups_all)\n",
    "    else:\n",
    "        splitter = StratifiedKFold(n_splits=5, shuffle=True, random_state=SEED)\n",
    "        split_iter = splitter.split(X_all, df['price_bin'])\n",
    "\n",
    "    f1_scores = []\n",
    "    for tr_idx, val_idx in split_iter:\n",
    "        price_tr = df['price'].iloc[tr_idx]\n",
    "        price_val = df['price'].iloc[val_idx]\n",
    "        low_f, high_f = compute_thresholds_from_train(price_tr)\n",
    "        y_tr_f = bin_with_thresholds(price_tr, low_f, high_f)\n",
    "        y_val_f = bin_with_thresholds(price_val, low_f, high_f)\n",
    "\n",
    "        X_tr_f = X_feat.iloc[tr_idx]\n",
    "        X_val_f = X_feat.iloc[val_idx]\n",
    "        pipe.fit(X_tr_f, y_tr_f)\n",
    "        y_val_pred = pipe.predict(X_val_f)\n",
    "        f1_scores.append(f1_score(y_val_f, y_val_pred, average='macro'))\n",
    "\n",
    "    return np.mean(f1_scores)\n",
    "\n",
    "features_to_audit = cat_cols_effective + num_all\n",
    "audit_results = []\n",
    "print()\n",
    "print('Running single-feature leakage audit (macro F1 per feature)...')\n",
    "for feat in features_to_audit:\n",
    "    score = single_feature_cv_score(feat)\n",
    "    audit_results.append((feat, score))\n",
    "audit_results.sort(key=lambda x: x[1], reverse=True)\n",
    "print('Top 10 features by single-feature macro F1:')\n",
    "for name, sc in audit_results[:10]:\n",
    "    print(f\"{name:45s} {sc:.4f}\")\n",
    "\n",
    "suspicious = [(n, s) for n, s in audit_results if s >= 0.99]\n",
    "if suspicious:\n",
    "    print()\n",
    "    print('WARNING: These features alone achieve near-perfect classification under the current split strategy:')\n",
    "    for n, s in suspicious:\n",
    "        print(f\"  - {n}: macro F1 {s:.4f}\")\n",
    "    print('Review whether they encode target information directly or leak future knowledge.')\n",
    "\n"
   ]
  },
  {
   "cell_type": "markdown",
   "id": "4cd2d72e",
   "metadata": {},
   "source": [
    "## SHAP Explanations"
   ]
  },
  {
   "cell_type": "code",
   "execution_count": 18,
   "id": "353d1f60",
   "metadata": {
    "execution": {
     "iopub.execute_input": "2025-09-22T02:31:11.584317Z",
     "iopub.status.busy": "2025-09-22T02:31:11.584134Z",
     "iopub.status.idle": "2025-09-22T02:31:12.265608Z",
     "shell.execute_reply": "2025-09-22T02:31:12.265297Z"
    }
   },
   "outputs": [
    {
     "name": "stdout",
     "output_type": "stream",
     "text": [
      "shap version: 0.46.0\n",
      "Reused in-memory model and preprocessor for SHAP computation.\n",
      "  X_train_proc shape: (5720, 62)\n",
      "  X_test_proc shape : (1872, 62)\n"
     ]
    }
   ],
   "source": [
    "\n",
    "import sys\n",
    "import subprocess\n",
    "import os\n",
    "import platform\n",
    "from pathlib import Path\n",
    "\n",
    "\n",
    "def _ensure_import(module_name, pip_name=None):\n",
    "    try:\n",
    "        return __import__(module_name)\n",
    "    except ModuleNotFoundError:\n",
    "        pkg = pip_name or module_name\n",
    "        subprocess.check_call([sys.executable, '-m', 'pip', 'install', pkg, '-q'])\n",
    "        return __import__(module_name)\n",
    "\n",
    "\n",
    "shap = _ensure_import('shap')\n",
    "print('shap version:', getattr(shap, '__version__', 'unknown'))\n",
    "\n",
    "_ensure_import('numpy')\n",
    "_ensure_import('pandas')\n",
    "\n",
    "tf_pkg = 'tensorflow'\n",
    "system = platform.system()\n",
    "machine = platform.machine().lower()\n",
    "if system == 'Windows':\n",
    "    tf_pkg = 'tensorflow-cpu'\n",
    "elif system == 'Darwin' and 'arm' in machine:\n",
    "    tf_pkg = 'tensorflow-macos'\n",
    "_ensure_import('tensorflow', tf_pkg)\n",
    "_ensure_import('sklearn', 'scikit-learn')\n",
    "\n",
    "import numpy as np  # noqa: E402\n",
    "import pandas as pd  # noqa: E402\n",
    "import tensorflow as tf  # noqa: E402\n",
    "from sklearn.model_selection import GroupShuffleSplit  # noqa: E402\n",
    "\n",
    "required_globals = ['model', 'preprocessor', 'cat_cols_effective', 'num_all']\n",
    "missing = [name for name in required_globals if name not in globals()]\n",
    "if missing:\n",
    "    raise RuntimeError(f\"Run the training cells first to define: {missing}\")\n",
    "\n",
    "seed = int(globals().get('SEED', 42))\n",
    "np.random.seed(seed)\n",
    "tf.random.set_seed(seed)\n",
    "\n",
    "cat_cols_effective = globals()['cat_cols_effective']\n",
    "num_all = globals()['num_all']\n",
    "model = globals()['model']\n",
    "preprocessor = globals()['preprocessor']\n",
    "\n",
    "price_env = os.environ.get('PRICE_DATA_PATH', '').strip()\n",
    "candidates = [Path(p) for p in [price_env] if p] + [\n",
    "    Path('data') / 'Price.csv',\n",
    "    Path('..') / 'data' / 'Price.csv',\n",
    "]\n",
    "file_path = next((p for p in candidates if p.exists()), None)\n",
    "if file_path is None:\n",
    "    raise FileNotFoundError('Could not find Price.csv for SHAP. Set PRICE_DATA_PATH or place it in data/ or ../data/.')\n",
    "\n",
    "df_price = pd.read_csv(file_path)\n",
    "df_price.columns = df_price.columns.str.strip()\n",
    "df_price['price'] = pd.to_numeric(df_price['price'], errors='coerce')\n",
    "df_price = df_price.dropna(subset=['price']).reset_index(drop=True)\n",
    "\n",
    "df_price = df_price.drop_duplicates().reset_index(drop=True)\n",
    "\n",
    "\n",
    "with np.errstate(divide='ignore', invalid='ignore'):\n",
    "    df_price['repair_to_car_price'] = df_price['repair or replacement cost'] / (df_price['price of the car'] + 1e-6)\n",
    "    df_price['repair_to_price'] = df_price['repair or replacement cost'] / (df_price['price'] + 1e-6)\n",
    "    df_price['maintenance_to_price'] = df_price['car total maintenance cost average'] / (df_price['price'] + 1e-6)\n",
    "df_price.replace([np.inf, -np.inf], np.nan, inplace=True)\n",
    "\n",
    "required_cols = set(cat_cols_effective + num_all + ['part', 'price'])\n",
    "missing_cols = sorted(required_cols - set(df_price.columns))\n",
    "if missing_cols:\n",
    "    raise ValueError(f'Dataset missing expected columns: {missing_cols}')\n",
    "\n",
    "X_all_price = df_price[cat_cols_effective + num_all].copy()\n",
    "groups_all_price = df_price['part'].astype(str)\n",
    "\n",
    "gss = GroupShuffleSplit(n_splits=1, test_size=0.2, random_state=seed)\n",
    "train_idx_shap, test_idx_shap = next(gss.split(X_all_price, None, groups=groups_all_price))\n",
    "\n",
    "X_train_raw_shap = X_all_price.iloc[train_idx_shap]\n",
    "X_test_raw_shap = X_all_price.iloc[test_idx_shap]\n",
    "\n",
    "X_train_proc_shap = preprocessor.transform(X_train_raw_shap).astype(\"float32\")\n",
    "X_test_proc_shap = preprocessor.transform(X_test_raw_shap).astype(\"float32\")\n",
    "\n",
    "print('Reused in-memory model and preprocessor for SHAP computation.')\n",
    "print('  X_train_proc shape:', getattr(X_train_proc_shap, 'shape', None))\n",
    "print('  X_test_proc shape :', getattr(X_test_proc_shap, 'shape', None))\n"
   ]
  },
  {
   "cell_type": "code",
   "execution_count": 19,
   "id": "45ccef71",
   "metadata": {
    "execution": {
     "iopub.execute_input": "2025-09-22T02:31:12.266831Z",
     "iopub.status.busy": "2025-09-22T02:31:12.266750Z",
     "iopub.status.idle": "2025-09-22T02:31:12.270154Z",
     "shell.execute_reply": "2025-09-22T02:31:12.269908Z"
    }
   },
   "outputs": [
    {
     "name": "stdout",
     "output_type": "stream",
     "text": [
      "n_features: 62\n",
      "first 10: ['number of cars in jordan', 'failure rate', 'repair or replacement cost', 'critically', 'price of the car', 'repair_to_car_price', 'repair_to_price', 'maintenance_to_price', 'car age', 'car total maintenance cost average']\n"
     ]
    }
   ],
   "source": [
    "\n",
    "def get_feature_names(preprocessor):\n",
    "    try:\n",
    "        names = preprocessor.get_feature_names_out()\n",
    "        return [str(n).replace('num_skew__', '').replace('num__', '').replace('cat__', '') for n in names]\n",
    "    except Exception:\n",
    "        names = []\n",
    "        for name, trans, cols in preprocessor.transformers_:\n",
    "            if name == 'remainder' and trans == 'drop':\n",
    "                continue\n",
    "            if name in ('num_skew', 'num'):\n",
    "                names.extend(list(cols))\n",
    "            elif name == 'cat':\n",
    "                try:\n",
    "                    ohe = trans.named_steps.get('ohe')\n",
    "                    categories = ohe.categories_\n",
    "                    for col, cats in zip(cols, categories):\n",
    "                        for cat in cats:\n",
    "                            names.append(f'{col}={cat}')\n",
    "                except Exception:\n",
    "                    names.extend(list(cols))\n",
    "            else:\n",
    "                if isinstance(cols, list):\n",
    "                    names.extend(list(cols))\n",
    "        return names\n",
    "\n",
    "feature_names = get_feature_names(preprocessor)\n",
    "print('n_features:', len(feature_names))\n",
    "print('first 10:', feature_names[:10])\n"
   ]
  },
  {
   "cell_type": "code",
   "execution_count": 20,
   "id": "dfb1b8db",
   "metadata": {
    "execution": {
     "iopub.execute_input": "2025-09-22T02:31:12.271162Z",
     "iopub.status.busy": "2025-09-22T02:31:12.271094Z",
     "iopub.status.idle": "2025-09-22T02:35:42.045016Z",
     "shell.execute_reply": "2025-09-22T02:35:42.043877Z"
    }
   },
   "outputs": [
    {
     "name": "stdout",
     "output_type": "stream",
     "text": [
      "Using KernelExplainer on Apple Silicon for stability.\n"
     ]
    },
    {
     "data": {
      "application/vnd.jupyter.widget-view+json": {
       "model_id": "3cd67f3365c049d992936e7ecb13e69a",
       "version_major": 2,
       "version_minor": 0
      },
      "text/plain": [
       "  0%|          | 0/200 [00:00<?, ?it/s]"
      ]
     },
     "metadata": {},
     "output_type": "display_data"
    },
    {
     "name": "stdout",
     "output_type": "stream",
     "text": [
      "SHAP explainer: KernelExplainer\n"
     ]
    }
   ],
   "source": [
    "\n",
    "import platform\n",
    "\n",
    "rng = np.random.RandomState(SEED)\n",
    "X_bg = X_train_proc_shap\n",
    "X_eval = X_test_proc_shap if 'X_test_proc_shap' in globals() else X_train_proc_shap\n",
    "\n",
    "bg_size = min(100, X_bg.shape[0])\n",
    "explain_size = min(200, X_eval.shape[0])\n",
    "bg_idx = rng.choice(X_bg.shape[0], size=bg_size, replace=False)\n",
    "explain_idx = rng.choice(X_eval.shape[0], size=explain_size, replace=False)\n",
    "\n",
    "background = X_bg[bg_idx]\n",
    "X_explain = X_eval[explain_idx]\n",
    "\n",
    "if hasattr(background, 'toarray'):\n",
    "    background = background.toarray()\n",
    "if hasattr(X_explain, 'toarray'):\n",
    "    X_explain = X_explain.toarray()\n",
    "\n",
    "\n",
    "def _run_kernel_explainer(nsamples=100):\n",
    "    f = lambda x: model.predict(x, verbose=0)\n",
    "    explainer_loc = shap.KernelExplainer(f, background)\n",
    "    values = explainer_loc.shap_values(X_explain, nsamples=nsamples)\n",
    "    return explainer_loc, values\n",
    "\n",
    "prefer_kernel = (platform.system() == 'Darwin' and platform.machine().lower().startswith('arm'))\n",
    "\n",
    "if prefer_kernel:\n",
    "    print('Using KernelExplainer on Apple Silicon for stability.')\n",
    "    explainer, shap_values = _run_kernel_explainer()\n",
    "    method = 'KernelExplainer'\n",
    "else:\n",
    "    try:\n",
    "        explainer = shap.DeepExplainer(model, background)\n",
    "        shap_values = explainer.shap_values(X_explain)\n",
    "        method = 'DeepExplainer'\n",
    "    except Exception as err:\n",
    "        print('DeepExplainer failed, falling back to KernelExplainer:', err)\n",
    "        explainer, shap_values = _run_kernel_explainer()\n",
    "        method = 'KernelExplainer'\n",
    "\n",
    "print('SHAP explainer:', method)\n",
    "\n",
    "_shap_values = shap_values\n",
    "_X_explain = X_explain\n",
    "_background = background\n"
   ]
  },
  {
   "cell_type": "code",
   "execution_count": 21,
   "id": "0c770c84",
   "metadata": {
    "execution": {
     "iopub.execute_input": "2025-09-22T02:35:42.047889Z",
     "iopub.status.busy": "2025-09-22T02:35:42.047684Z",
     "iopub.status.idle": "2025-09-22T02:35:43.881691Z",
     "shell.execute_reply": "2025-09-22T02:35:43.881464Z"
    }
   },
   "outputs": [
    {
     "data": {
      "image/png": "[encoded data removed]",
      "text/plain": [
       "<Figure size 800x1150 with 1 Axes>"
      ]
     },
     "metadata": {},
     "output_type": "display_data"
    },
    {
     "data": {
      "image/png": "[encoded data removed]",
      "text/plain": [
       "<Figure size 800x1150 with 2 Axes>"
      ]
     },
     "metadata": {},
     "output_type": "display_data"
    },
    {
     "name": "stdout",
     "output_type": "stream",
     "text": [
      "Displayed SHAP beeswarm plot for low_price; top features listed above (not saved).\n"
     ]
    },
    {
     "data": {
      "image/png": "[encoded data removed]",
      "text/plain": [
       "<Figure size 800x1150 with 2 Axes>"
      ]
     },
     "metadata": {},
     "output_type": "display_data"
    },
    {
     "name": "stdout",
     "output_type": "stream",
     "text": [
      "Displayed SHAP beeswarm plot for high_price; top features listed above (not saved).\n",
      "Displayed SHAP summary plot and feature importance details in notebook (saved to figures/).\n",
      "Saved files:\n",
      "figures/price_shap_summary.png\n",
      "figures/price_shap_low_price.png\n",
      "figures/price_shap_high_price.png\n"
     ]
    }
   ],
   "source": [
    "\n",
    "import matplotlib.pyplot as plt\n",
    "import numpy as np\n",
    "import pandas as pd\n",
    "\n",
    "figures_dir = Path('figures')\n",
    "figures_dir.mkdir(exist_ok=True)\n",
    "\n",
    "sv_raw = _shap_values\n",
    "X_explain = _X_explain.toarray() if hasattr(_X_explain, 'toarray') else _X_explain\n",
    "\n",
    "if isinstance(sv_raw, list):\n",
    "    shap_array = np.stack([np.array(s) for s in sv_raw], axis=-1)\n",
    "else:\n",
    "    shap_array = np.array(sv_raw)\n",
    "    if shap_array.ndim == 2:\n",
    "        shap_array = shap_array[..., np.newaxis]\n",
    "\n",
    "_shap_array = shap_array\n",
    "shap_abs = np.abs(shap_array).mean(axis=-1)\n",
    "\n",
    "plt.figure(figsize=(10, 6))\n",
    "shap.summary_plot(shap_abs, X_explain, feature_names=feature_names, plot_type='bar', show=False, max_display=25)\n",
    "plt.tight_layout()\n",
    "summary_path = figures_dir / 'price_shap_summary.png'\n",
    "plt.savefig(summary_path, dpi=300, bbox_inches='tight')\n",
    "plt.show()\n",
    "\n",
    "class_order = globals().get('class_order', list(range(shap_array.shape[-1])))\n",
    "class_indices = {cls: idx for idx, cls in enumerate(class_order) if idx < shap_array.shape[-1]}\n",
    "target_classes = {\n",
    "    'low_price': 0,\n",
    "    'high_price': 2,\n",
    "}\n",
    "\n",
    "for label, cls_id in target_classes.items():\n",
    "    if cls_id not in class_indices:\n",
    "        continue\n",
    "    cls_idx = class_indices[cls_id]\n",
    "    shap_class = shap_array[..., cls_idx]\n",
    "\n",
    "    plt.figure(figsize=(10, 6))\n",
    "    shap.summary_plot(shap_class, X_explain, feature_names=feature_names, show=False, max_display=25)\n",
    "    plt.tight_layout()\n",
    "    beeswarm_path = figures_dir / f'price_shap_{label}.png'\n",
    "    plt.savefig(beeswarm_path, dpi=300, bbox_inches='tight')\n",
    "    plt.show()\n",
    "\n",
    "    vals_cls = np.abs(shap_class).mean(axis=0)\n",
    "    fi_cls = pd.Series(vals_cls, index=feature_names).sort_values(ascending=False)\n",
    "    print(f\"Displayed SHAP beeswarm plot for {label}; top features listed above (not saved).\")\n",
    "\n",
    "vals = shap_abs.mean(axis=0)\n",
    "fi = pd.Series(vals, index=feature_names).sort_values(ascending=False)\n",
    "print('Displayed SHAP summary plot and feature importance details in notebook (saved to figures/).')\n",
    "print('Saved files:')\n",
    "print(summary_path)\n",
    "for label in target_classes:\n",
    "    print(figures_dir / f'price_shap_{label}.png')\n"
   ]
  }
 ],
 "metadata": {
  "language_info": {
   "codemirror_mode": {
    "name": "ipython",
    "version": 3
   },
   "file_extension": ".py",
   "mimetype": "text/x-python",
   "name": "python",
   "nbconvert_exporter": "python",
   "pygments_lexer": "ipython3",
   "version": "3.11.11"
  },
  "widgets": {
   "application/vnd.jupyter.widget-state+json": {
    "state": {
     "0ac002055556458ba3cf864c20fbc2f7": {
      "model_module": "@jupyter-widgets/controls",
      "model_module_version": "1.5.0",
      "model_name": "HTMLModel",
      "state": {
       "_dom_classes": [],
       "_model_module": "@jupyter-widgets/controls",
       "_model_module_version": "1.5.0",
       "_model_name": "HTMLModel",
       "_view_count": null,
       "_view_module": "@jupyter-widgets/controls",
       "_view_module_version": "1.5.0",
       "_view_name": "HTMLView",
       "description": "",
       "description_tooltip": null,
       "layout": "IPY_MODEL_bbf2e45268e940d39dc2fbf6dda123f1",
       "placeholder": "​",
       "style": "IPY_MODEL_3010f5412fdf4481a595c4256a81d61e",
       "value": " 200/200 [04:29&lt;00:00,  1.41s/it]"
      }
     },
     "1c76a579a32746fe8e0078e5cc617dea": {
      "model_module": "@jupyter-widgets/base",
      "model_module_version": "1.2.0",
      "model_name": "LayoutModel",
      "state": {
       "_model_module": "@jupyter-widgets/base",
       "_model_module_version": "1.2.0",
       "_model_name": "LayoutModel",
       "_view_count": null,
       "_view_module": "@jupyter-widgets/base",
       "_view_module_version": "1.2.0",
       "_view_name": "LayoutView",
       "align_content": null,
       "align_items": null,
       "align_self": null,
       "border": null,
       "bottom": null,
       "display": null,
       "flex": null,
       "flex_flow": null,
       "grid_area": null,
       "grid_auto_columns": null,
       "grid_auto_flow": null,
       "grid_auto_rows": null,
       "grid_column": null,
       "grid_gap": null,
       "grid_row": null,
       "grid_template_areas": null,
       "grid_template_columns": null,
       "grid_template_rows": null,
       "height": null,
       "justify_content": null,
       "justify_items": null,
       "left": null,
       "margin": null,
       "max_height": null,
       "max_width": null,
       "min_height": null,
       "min_width": null,
       "object_fit": null,
       "object_position": null,
       "order": null,
       "overflow": null,
       "overflow_x": null,
       "overflow_y": null,
       "padding": null,
       "right": null,
       "top": null,
       "visibility": null,
       "width": null
      }
     },
     "3010f5412fdf4481a595c4256a81d61e": {
      "model_module": "@jupyter-widgets/controls",
      "model_module_version": "1.5.0",
      "model_name": "DescriptionStyleModel",
      "state": {
       "_model_module": "@jupyter-widgets/controls",
       "_model_module_version": "1.5.0",
       "_model_name": "DescriptionStyleModel",
       "_view_count": null,
       "_view_module": "@jupyter-widgets/base",
       "_view_module_version": "1.2.0",
       "_view_name": "StyleView",
       "description_width": ""
      }
     },
     "328334e4615c4901af04d02f7dbb936c": {
      "model_module": "@jupyter-widgets/controls",
      "model_module_version": "1.5.0",
      "model_name": "DescriptionStyleModel",
      "state": {
       "_model_module": "@jupyter-widgets/controls",
       "_model_module_version": "1.5.0",
       "_model_name": "DescriptionStyleModel",
       "_view_count": null,
       "_view_module": "@jupyter-widgets/base",
       "_view_module_version": "1.2.0",
       "_view_name": "StyleView",
       "description_width": ""
      }
     },
     "3cd67f3365c049d992936e7ecb13e69a": {
      "model_module": "@jupyter-widgets/controls",
      "model_module_version": "1.5.0",
      "model_name": "HBoxModel",
      "state": {
       "_dom_classes": [],
       "_model_module": "@jupyter-widgets/controls",
       "_model_module_version": "1.5.0",
       "_model_name": "HBoxModel",
       "_view_count": null,
       "_view_module": "@jupyter-widgets/controls",
       "_view_module_version": "1.5.0",
       "_view_name": "HBoxView",
       "box_style": "",
       "children": [
        "IPY_MODEL_8fa1a58c12dc49a0873d26ee8ad7fed5",
        "IPY_MODEL_870dc39be4c8458aa6957e5c3cfe27fc",
        "IPY_MODEL_0ac002055556458ba3cf864c20fbc2f7"
       ],
       "layout": "IPY_MODEL_3ec310c7d2834f8facd8a92a0053133c"
      }
     },
     "3ec310c7d2834f8facd8a92a0053133c": {
      "model_module": "@jupyter-widgets/base",
      "model_module_version": "1.2.0",
      "model_name": "LayoutModel",
      "state": {
       "_model_module": "@jupyter-widgets/base",
       "_model_module_version": "1.2.0",
       "_model_name": "LayoutModel",
       "_view_count": null,
       "_view_module": "@jupyter-widgets/base",
       "_view_module_version": "1.2.0",
       "_view_name": "LayoutView",
       "align_content": null,
       "align_items": null,
       "align_self": null,
       "border": null,
       "bottom": null,
       "display": null,
       "flex": null,
       "flex_flow": null,
       "grid_area": null,
       "grid_auto_columns": null,
       "grid_auto_flow": null,
       "grid_auto_rows": null,
       "grid_column": null,
       "grid_gap": null,
       "grid_row": null,
       "grid_template_areas": null,
       "grid_template_columns": null,
       "grid_template_rows": null,
       "height": null,
       "justify_content": null,
       "justify_items": null,
       "left": null,
       "margin": null,
       "max_height": null,
       "max_width": null,
       "min_height": null,
       "min_width": null,
       "object_fit": null,
       "object_position": null,
       "order": null,
       "overflow": null,
       "overflow_x": null,
       "overflow_y": null,
       "padding": null,
       "right": null,
       "top": null,
       "visibility": null,
       "width": null
      }
     },
     "51fc1fa7f98544aca2ee5c211a125a1c": {
      "model_module": "@jupyter-widgets/controls",
      "model_module_version": "1.5.0",
      "model_name": "ProgressStyleModel",
      "state": {
       "_model_module": "@jupyter-widgets/controls",
       "_model_module_version": "1.5.0",
       "_model_name": "ProgressStyleModel",
       "_view_count": null,
       "_view_module": "@jupyter-widgets/base",
       "_view_module_version": "1.2.0",
       "_view_name": "StyleView",
       "bar_color": null,
       "description_width": ""
      }
     },
     "870dc39be4c8458aa6957e5c3cfe27fc": {
      "model_module": "@jupyter-widgets/controls",
      "model_module_version": "1.5.0",
      "model_name": "FloatProgressModel",
      "state": {
       "_dom_classes": [],
       "_model_module": "@jupyter-widgets/controls",
       "_model_module_version": "1.5.0",
       "_model_name": "FloatProgressModel",
       "_view_count": null,
       "_view_module": "@jupyter-widgets/controls",
       "_view_module_version": "1.5.0",
       "_view_name": "ProgressView",
       "bar_style": "success",
       "description": "",
       "description_tooltip": null,
       "layout": "IPY_MODEL_b9e76352283745318f0a784ef86c10ec",
       "max": 200.0,
       "min": 0.0,
       "orientation": "horizontal",
       "style": "IPY_MODEL_51fc1fa7f98544aca2ee5c211a125a1c",
       "value": 200.0
      }
     },
     "8fa1a58c12dc49a0873d26ee8ad7fed5": {
      "model_module": "@jupyter-widgets/controls",
      "model_module_version": "1.5.0",
      "model_name": "HTMLModel",
      "state": {
       "_dom_classes": [],
       "_model_module": "@jupyter-widgets/controls",
       "_model_module_version": "1.5.0",
       "_model_name": "HTMLModel",
       "_view_count": null,
       "_view_module": "@jupyter-widgets/controls",
       "_view_module_version": "1.5.0",
       "_view_name": "HTMLView",
       "description": "",
       "description_tooltip": null,
       "layout": "IPY_MODEL_1c76a579a32746fe8e0078e5cc617dea",
       "placeholder": "​",
       "style": "IPY_MODEL_328334e4615c4901af04d02f7dbb936c",
       "value": "100%"
      }
     },
     "b9e76352283745318f0a784ef86c10ec": {
      "model_module": "@jupyter-widgets/base",
      "model_module_version": "1.2.0",
      "model_name": "LayoutModel",
      "state": {
       "_model_module": "@jupyter-widgets/base",
       "_model_module_version": "1.2.0",
       "_model_name": "LayoutModel",
       "_view_count": null,
       "_view_module": "@jupyter-widgets/base",
       "_view_module_version": "1.2.0",
       "_view_name": "LayoutView",
       "align_content": null,
       "align_items": null,
       "align_self": null,
       "border": null,
       "bottom": null,
       "display": null,
       "flex": null,
       "flex_flow": null,
       "grid_area": null,
       "grid_auto_columns": null,
       "grid_auto_flow": null,
       "grid_auto_rows": null,
       "grid_column": null,
       "grid_gap": null,
       "grid_row": null,
       "grid_template_areas": null,
       "grid_template_columns": null,
       "grid_template_rows": null,
       "height": null,
       "justify_content": null,
       "justify_items": null,
       "left": null,
       "margin": null,
       "max_height": null,
       "max_width": null,
       "min_height": null,
       "min_width": null,
       "object_fit": null,
       "object_position": null,
       "order": null,
       "overflow": null,
       "overflow_x": null,
       "overflow_y": null,
       "padding": null,
       "right": null,
       "top": null,
       "visibility": null,
       "width": null
      }
     },
     "bbf2e45268e940d39dc2fbf6dda123f1": {
      "model_module": "@jupyter-widgets/base",
      "model_module_version": "1.2.0",
      "model_name": "LayoutModel",
      "state": {
       "_model_module": "@jupyter-widgets/base",
       "_model_module_version": "1.2.0",
       "_model_name": "LayoutModel",
       "_view_count": null,
       "_view_module": "@jupyter-widgets/base",
       "_view_module_version": "1.2.0",
       "_view_name": "LayoutView",
       "align_content": null,
       "align_items": null,
       "align_self": null,
       "border": null,
       "bottom": null,
       "display": null,
       "flex": null,
       "flex_flow": null,
       "grid_area": null,
       "grid_auto_columns": null,
       "grid_auto_flow": null,
       "grid_auto_rows": null,
       "grid_column": null,
       "grid_gap": null,
       "grid_row": null,
       "grid_template_areas": null,
       "grid_template_columns": null,
       "grid_template_rows": null,
       "height": null,
       "justify_content": null,
       "justify_items": null,
       "left": null,
       "margin": null,
       "max_height": null,
       "max_width": null,
       "min_height": null,
       "min_width": null,
       "object_fit": null,
       "object_position": null,
       "order": null,
       "overflow": null,
       "overflow_x": null,
       "overflow_y": null,
       "padding": null,
       "right": null,
       "top": null,
       "visibility": null,
       "width": null
      }
     }
    },
    "version_major": 2,
    "version_minor": 0
   }
  }
 },
 "nbformat": 4,
 "nbformat_minor": 5
}

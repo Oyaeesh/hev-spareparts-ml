{
 "cells": [
  {
   "cell_type": "markdown",
   "id": "cdad8ab0",
   "metadata": {},
   "source": [
    "# HEV Spare Parts Price Classification\n",
    "\n",
    "_Final consolidated pipeline mirroring the demand workflow for price tiers_"
   ]
  },
  {
   "cell_type": "markdown",
   "id": "b0ec189f",
   "metadata": {},
   "source": [
    "## Environment & Imports"
   ]
  },
  {
   "cell_type": "code",
   "execution_count": 1,
   "id": "0e8b038b",
   "metadata": {
    "execution": {
     "iopub.execute_input": "2025-09-24T18:44:56.551774Z",
     "iopub.status.busy": "2025-09-24T18:44:56.551774Z",
     "iopub.status.idle": "2025-09-24T18:45:02.753069Z",
     "shell.execute_reply": "2025-09-24T18:45:02.753069Z"
    }
   },
   "outputs": [],
   "source": [
    "\n",
    "import warnings\n",
    "warnings.filterwarnings(\"ignore\")\n",
    "\n",
    "import sys\n",
    "import subprocess\n",
    "import platform\n",
    "import os\n",
    "import json\n",
    "import itertools\n",
    "import hashlib\n",
    "from pathlib import Path\n",
    "\n",
    "sys.path.append(str(Path('src').resolve()))\n",
    "\n",
    "\n",
    "def _ensure_import(module_name, pip_name=None):\n",
    "    try:\n",
    "        return __import__(module_name)\n",
    "    except ModuleNotFoundError:\n",
    "        pkg = pip_name or module_name\n",
    "        subprocess.check_call([sys.executable, '-m', 'pip', 'install', pkg, '-q'])\n",
    "        return __import__(module_name)\n",
    "\n",
    "\n",
    "_ensure_import('seaborn', 'seaborn')\n",
    "_ensure_import('sklearn', 'scikit-learn')\n",
    "_ensure_import('numpy', 'numpy')\n",
    "_ensure_import('pandas', 'pandas')\n",
    "_ensure_import('matplotlib', 'matplotlib')\n",
    "\n",
    "system = platform.system()\n",
    "machine = platform.machine().lower()\n",
    "tf_pkg = 'tensorflow'\n",
    "if system == 'Windows':\n",
    "    tf_pkg = 'tensorflow-cpu'\n",
    "elif system == 'Darwin' and 'arm' in machine:\n",
    "    tf_pkg = 'tensorflow-macos'\n",
    "_ensure_import('tensorflow', tf_pkg)\n",
    "\n",
    "import numpy as np\n",
    "import pandas as pd\n",
    "import seaborn as sns\n",
    "import matplotlib.pyplot as plt\n",
    "\n",
    "from sklearn.model_selection import GroupShuffleSplit, GroupKFold, StratifiedKFold, StratifiedShuffleSplit, train_test_split\n",
    "from sklearn.preprocessing import StandardScaler, OneHotEncoder, FunctionTransformer\n",
    "from sklearn.compose import ColumnTransformer\n",
    "from sklearn.pipeline import Pipeline\n",
    "from sklearn.metrics import confusion_matrix, classification_report, accuracy_score, f1_score\n",
    "from sklearn.impute import SimpleImputer\n",
    "from sklearn.linear_model import LogisticRegression, SGDClassifier\n",
    "from sklearn.svm import SVC\n",
    "from sklearn.ensemble import ExtraTreesClassifier\n",
    "from sklearn.discriminant_analysis import LinearDiscriminantAnalysis as LDA\n",
    "from sklearn.utils.class_weight import compute_class_weight\n",
    "\n",
    "import tensorflow as tf\n",
    "from tensorflow.keras import regularizers\n",
    "from tensorflow.keras.models import Sequential\n",
    "from tensorflow.keras.layers import Dense, Dropout\n",
    "from tensorflow.keras.optimizers import Adam\n",
    "from tensorflow.keras.callbacks import EarlyStopping, ReduceLROnPlateau\n",
    "\n",
    "os.environ[\"TF_DETERMINISTIC_OPS\"] = \"1\"\n",
    "\n",
    "SEED = 42\n",
    "np.random.seed(SEED)\n",
    "tf.random.set_seed(SEED)\n"
   ]
  },
  {
   "cell_type": "markdown",
   "id": "e4f51069",
   "metadata": {},
   "source": [
    "## Configuration"
   ]
  },
  {
   "cell_type": "code",
   "execution_count": 2,
   "id": "034a61b6",
   "metadata": {
    "execution": {
     "iopub.execute_input": "2025-09-24T18:45:02.754386Z",
     "iopub.status.busy": "2025-09-24T18:45:02.754386Z",
     "iopub.status.idle": "2025-09-24T18:45:02.893585Z",
     "shell.execute_reply": "2025-09-24T18:45:02.893585Z"
    }
   },
   "outputs": [],
   "source": [
    "from pathlib import Path\n",
    "from utils.feature_config import (\n",
    "    BASE_BLOCKLIST,\n",
    "    sanitize_feature_lists,\n",
    "    save_feature_metadata,\n",
    "    load_feature_metadata,\n",
    ")\n",
    "\n",
    "# Include 'part' as a feature (still used for grouping)\n",
    "DROP_PART = False\n",
    "\n",
    "# Feature/blocklist configuration\n",
    "BLOCKLIST_FEATURES = set(BASE_BLOCKLIST)\n",
    "# No special whitelist for ratio features\n",
    "\n",
    "LEAKAGE_F1_THRESHOLD = 0.85\n",
    "PERSIST_FEATURE_METADATA = True\n",
    "\n",
    "# Write artifacts under src/artifacts regardless of where the notebook is run from\n",
    "# When you run the notebook inside src/, Path('artifacts') -> src/artifacts (correct)\n",
    "ARTIFACTS_METADATA_PATH = Path('artifacts') / 'price_model_metadata.json'\n",
    "ARTIFACTS_METADATA_PATH.parent.mkdir(parents=True, exist_ok=True)\n",
    "\n",
    "\n",
    "# ANN hyperparameter grid (identical to demand workflow; 72 combinations)\n",
    "GRID = {\n",
    "    'num_layers':    [1, 2, 3],\n",
    "    'units':         [16, 32],\n",
    "    'dropout_rate':  [0.0, 0.2],\n",
    "    'l2_reg':        [0.0, 1e-4],\n",
    "    'learning_rate': [1e-3, 3e-3, 1e-2],\n",
    "}\n",
    "\n",
    "# Small grids for the classical models (kept in sync with demand notebook)\n",
    "GRIDS_CLASSIC = {\n",
    "    \"svc_rbf\": {\"C\": [1.0, 3.0], \"gamma\": [\"scale\", \"auto\"]},\n",
    "    \"logreg\":  {\"C\": [0.3, 1.0, 3.0], \"solver\": [\"lbfgs\"], \"max_iter\": [2000]},\n",
    "    \"et\":      {\"n_estimators\": [200, 400], \"max_depth\": [None, 20]},\n",
    "    \"sgd\":     {\"loss\": [\"log_loss\"], \"alpha\": [1e-4, 1e-3], \"max_iter\": [2000], \"random_state\": [SEED]},\n",
    "    \"lda\":     {\"solver\": [\"svd\"]},\n",
    "}\n",
    "\n",
    "MODEL_ZOO = {\n",
    "    \"svc_rbf\": {\n",
    "        \"label\": \"SVC (RBF)\",\n",
    "        \"factory\": lambda p: SVC(**p),\n",
    "        \"style\": \"scale\",\n",
    "    },\n",
    "    \"logreg\": {\n",
    "        \"label\": \"LogisticRegression\",\n",
    "        \"factory\": lambda p: LogisticRegression(multi_class=\"multinomial\", **p),\n",
    "        \"style\": \"scale\",\n",
    "    },\n",
    "    \"et\": {\n",
    "        \"label\": \"ExtraTrees\",\n",
    "        \"factory\": lambda p: ExtraTreesClassifier(random_state=SEED, n_jobs=-1, **p),\n",
    "        \"style\": \"tree\",\n",
    "    },\n",
    "    \"sgd\": {\n",
    "        \"label\": \"SGDClassifier (log_loss)\",\n",
    "        \"factory\": lambda p: SGDClassifier(**p),\n",
    "        \"style\": \"scale\",\n",
    "    },\n",
    "    \"lda\": {\n",
    "        \"label\": \"LinearDiscriminantAnalysis\",\n",
    "        \"factory\": lambda p: LDA(**p),\n",
    "        \"style\": \"scale\",\n",
    "    },\n",
    "}\n",
    "MODEL_KEYS = [\"svc_rbf\", \"logreg\", \"et\", \"sgd\", \"lda\"]\n"
   ]
  },
  {
   "cell_type": "code",
   "execution_count": 3,
   "id": "0c001c1a",
   "metadata": {
    "execution": {
     "iopub.execute_input": "2025-09-24T18:45:02.895621Z",
     "iopub.status.busy": "2025-09-24T18:45:02.895621Z",
     "iopub.status.idle": "2025-09-24T18:45:02.899704Z",
     "shell.execute_reply": "2025-09-24T18:45:02.899704Z"
    }
   },
   "outputs": [
    {
     "name": "stdout",
     "output_type": "stream",
     "text": [
      "Feature overrides applied:\n",
      "  DROP_PART        = True\n",
      "  BLOCKLIST_FEATURES now contains: ['on line price', 'online price', 'predicted_price', 'price', 'price bin', 'price category', 'price of the car', 'price tier', 'price_bin', 'price_category', 'price_tier', 'repair_to_price', 'target']\n"
     ]
    }
   ],
   "source": [
    "# === Feature flag overrides (Price notebook) ===\n",
    "# Ensure every native CSV column (except the target) is usable.\n",
    "\n",
    "DROP_PART = False\n",
    "\n",
    "# Start from the baseline blocklist and only exclude the target explicitly.\n",
    "BLOCKLIST_FEATURES = set(BASE_BLOCKLIST)\n",
    "BLOCKLIST_FEATURES.add('price')\n",
    "\n",
    "print('Feature overrides applied:')\n",
    "print('  DROP_PART        =', DROP_PART)\n",
    "print('  BLOCKLIST_FEATURES now contains:', sorted(BLOCKLIST_FEATURES))\n"
   ]
  },
  {
   "cell_type": "markdown",
   "id": "7db1554b",
   "metadata": {},
   "source": [
    "## Data Loading & Profiling"
   ]
  },
  {
   "cell_type": "code",
   "execution_count": 4,
   "id": "2cb1f801",
   "metadata": {
    "execution": {
     "iopub.execute_input": "2025-09-24T18:45:02.900971Z",
     "iopub.status.busy": "2025-09-24T18:45:02.900971Z",
     "iopub.status.idle": "2025-09-24T18:45:03.087661Z",
     "shell.execute_reply": "2025-09-24T18:45:03.087661Z"
    }
   },
   "outputs": [
    {
     "name": "stdout",
     "output_type": "stream",
     "text": [
      "Loaded price data from: \\\\oochcfs10\\users\\oaliyaeesh\\DOWNLOADS\\hev-spareparts-ml\\data\\Price.csv"
     ]
    },
    {
     "name": "stdout",
     "output_type": "stream",
     "text": [
      "\n",
      "Shape after cleaning: (7592, 16)\n",
      "Removed 60 duplicate rows.\n",
      "Columns: ['car type', 'made in', 'number of cars in jordan', 'car age', 'part', 'failure rate', 'price of the car', 'original/imitator', 'new\\\\used', 'selling location', 'service location (repair shop/automotive company', 'repair or replacement cost', 'car total maintenance cost average', 'critically', 'online price', 'price']\n"
     ]
    }
   ],
   "source": [
    "# Load and clean the price dataset (idempotent)\n",
    "import os\n",
    "from pathlib import Path\n",
    "\n",
    "import numpy as np\n",
    "import pandas as pd\n",
    "\n",
    "price_env = os.environ.get('PRICE_DATA_PATH', '').strip()\n",
    "candidates = [Path(price_env)] if price_env else []\n",
    "candidates += [\n",
    "    Path('data') / 'Price.csv',\n",
    "    Path('..') / 'data' / 'Price.csv',\n",
    "]\n",
    "file_path = next((p for p in candidates if p.exists()), None)\n",
    "if file_path is None:\n",
    "    raise FileNotFoundError('Could not find Price.csv. Update PRICE_DATA_PATH or place the file in data/.')\n",
    "\n",
    "# Load and normalise column names\n",
    "_df = pd.read_csv(file_path)\n",
    "_df.columns = _df.columns.str.strip()\n",
    "\n",
    "# Force numeric dtype for known quantitative columns (target retained for later binning)\n",
    "numeric_cols_force = [\n",
    "    'number of cars in jordan',\n",
    "    'car age',\n",
    "    'failure rate',\n",
    "    'price of the car',\n",
    "    'repair or replacement cost',\n",
    "    'car total maintenance cost average',\n",
    "    'critically',\n",
    "    'online price',\n",
    "    'price',\n",
    "]\n",
    "for col in numeric_cols_force:\n",
    "    if col in _df.columns:\n",
    "        _df[col] = pd.to_numeric(_df[col], errors='coerce')\n",
    "\n",
    "# Replace infinities and drop rows lacking the target\n",
    "_df.replace([np.inf, -np.inf], np.nan, inplace=True)\n",
    "_df = _df.dropna(subset=['price']).reset_index(drop=True)\n",
    "\n",
    "# Deduplicate exact rows for stability\n",
    "before = len(_df)\n",
    "_df = _df.drop_duplicates().reset_index(drop=True)\n",
    "removed_dupes = before - len(_df)\n",
    "\n",
    "# Promote to shared df variable\n",
    "if 'df' in globals():\n",
    "    print('Overwriting existing df with freshly loaded dataset.')\n",
    "df = _df\n",
    "\n",
    "print(f'Loaded price data from: {file_path.resolve()}')\n",
    "print('Shape after cleaning:', df.shape)\n",
    "if removed_dupes:\n",
    "    print(f'Removed {removed_dupes} duplicate rows.')\n",
    "print('Columns:', list(df.columns))\n"
   ]
  },
  {
   "cell_type": "markdown",
   "id": "735e5ed2",
   "metadata": {},
   "source": [
    "## Feature Taxonomy"
   ]
  },
  {
   "cell_type": "code",
   "execution_count": 6,
   "id": "1cafe867",
   "metadata": {
    "execution": {
     "iopub.execute_input": "2025-09-24T18:45:03.102616Z",
     "iopub.status.busy": "2025-09-24T18:45:03.101494Z",
     "iopub.status.idle": "2025-09-24T18:45:03.108866Z",
     "shell.execute_reply": "2025-09-24T18:45:03.108866Z"
    }
   },
   "outputs": [
    {
     "name": "stdout",
     "output_type": "stream",
     "text": [
      "Categorical features: ['car type', 'made in', 'original/imitator', 'new\\\\used', 'selling location', 'service location (repair shop/automotive company']\n",
      "Numeric features: ['number of cars in jordan', 'car age', 'failure rate', 'repair or replacement cost', 'car total maintenance cost average', 'critically', 'repair_to_car_price']\n",
      "Log-transform numeric features: ['number of cars in jordan', 'failure rate', 'repair or replacement cost', 'critically']\n"
     ]
    }
   ],
   "source": [
    "# Categorical and numeric feature candidates from the new dataset\n",
    "cat_cols_raw = [\n",
    "    'car type',\n",
    "    'made in',\n",
    "    'original/imitator',\n",
    "    r'new\\used',\n",
    "    'selling location',\n",
    "    'service location (repair shop/automotive company',\n",
    "    'part',\n",
    "]\n",
    "\n",
    "num_cols_raw = [\n",
    "    'number of cars in jordan',\n",
    "    'car age',\n",
    "    'failure rate',\n",
    "    'price of the car',\n",
    "    'repair or replacement cost',\n",
    "    'car total maintenance cost average',\n",
    "    'critically',\n",
    "    'online price',\n",
    "    # NOTE: 'price' is the target and is intentionally excluded\n",
    "]\n",
    "\n",
    "# Sanitize against availability and blocklist; include 'part' as requested\n",
    "cat_cols_effective, num_all, BLOCKLIST_FEATURES = sanitize_feature_lists(\n",
    "    df,\n",
    "    cat_cols_raw=cat_cols_raw,\n",
    "    num_cols_raw=num_cols_raw,\n",
    "    blocklist=BLOCKLIST_FEATURES,\n",
    "    drop_part=DROP_PART,\n",
    ")\n",
    "\n",
    "# Build full feature frame and group labels\n",
    "X_all = df[cat_cols_effective + num_all].copy()\n",
    "groups_all = df['part'].astype(str)\n",
    "\n",
    "# Candidates to receive log transform inside the ColumnTransformer\n",
    "skewed_candidates = [\n",
    "    'number of cars in jordan',\n",
    "    'failure rate',\n",
    "    'repair or replacement cost',\n",
    "    'critically',\n",
    "    'price of the car',\n",
    "    'online price',\n",
    "]\n",
    "skewed_cols = [c for c in skewed_candidates if c in num_all]\n",
    "other_num_cols = [c for c in num_all if c not in skewed_cols]\n",
    "\n",
    "print('Categorical features:', cat_cols_effective)\n",
    "print('Numeric features:', num_all)\n",
    "print('Log-transform numeric features:', skewed_cols)\n"
   ]
  },
  {
   "cell_type": "markdown",
   "id": "71bc4e84",
   "metadata": {},
   "source": [
    "## Helper Functions"
   ]
  },
  {
   "cell_type": "code",
   "execution_count": 7,
   "id": "50d726a9",
   "metadata": {
    "execution": {
     "iopub.execute_input": "2025-09-24T18:45:03.110908Z",
     "iopub.status.busy": "2025-09-24T18:45:03.109895Z",
     "iopub.status.idle": "2025-09-24T18:45:03.117463Z",
     "shell.execute_reply": "2025-09-24T18:45:03.116415Z"
    }
   },
   "outputs": [],
   "source": [
    "def compute_thresholds_from_train(price_series, q_low=0.33, q_high=0.66):\n",
    "    q = price_series.quantile([q_low, q_high])\n",
    "    return float(q.loc[q_low]), float(q.loc[q_high])\n",
    "\n",
    "def bin_with_thresholds(price_series, low_thr, high_thr):\n",
    "    return pd.cut(\n",
    "        price_series,\n",
    "        bins=[-np.inf, low_thr, high_thr, np.inf],\n",
    "        labels=[0, 1, 2]\n",
    "    ).astype(int)\n",
    "\n",
    "def make_preprocessor(style: str) -> ColumnTransformer:\n",
    "    if style == \"scale\":\n",
    "        num_skew = Pipeline([\n",
    "            ('imputer', SimpleImputer(strategy='median')),\n",
    "            ('log1p', FunctionTransformer(np.log1p, validate=False)),\n",
    "            ('scaler', StandardScaler())\n",
    "        ])\n",
    "        num_plain = Pipeline([\n",
    "            ('imputer', SimpleImputer(strategy='median')),\n",
    "            ('scaler', StandardScaler())\n",
    "        ])\n",
    "    elif style == \"tree\":\n",
    "        num_skew = Pipeline([\n",
    "            ('imputer', SimpleImputer(strategy='median')),\n",
    "            ('log1p', FunctionTransformer(np.log1p, validate=False))\n",
    "        ])\n",
    "        num_plain = Pipeline([\n",
    "            ('imputer', SimpleImputer(strategy='median'))\n",
    "        ])\n",
    "    else:\n",
    "        raise ValueError(f\"Unknown preprocessor style: {style}\")\n",
    "\n",
    "    try:\n",
    "        cat = Pipeline([\n",
    "            ('imputer', SimpleImputer(strategy='most_frequent')),\n",
    "            ('ohe', OneHotEncoder(handle_unknown='ignore', sparse_output=False))\n",
    "        ])\n",
    "    except TypeError:\n",
    "        cat = Pipeline([\n",
    "            ('imputer', SimpleImputer(strategy='most_frequent')),\n",
    "            ('ohe', OneHotEncoder(handle_unknown='ignore', sparse=False))\n",
    "        ])\n",
    "\n",
    "    return ColumnTransformer(\n",
    "        transformers=[\n",
    "            ('num_skew', num_skew,   skewed_cols),\n",
    "            ('num',      num_plain,  other_num_cols),\n",
    "            ('cat',      cat,        cat_cols_effective)\n",
    "        ],\n",
    "        remainder='drop'\n",
    "    )\n",
    "\n",
    "def build_ann(input_dim, num_layers, units, dropout_rate, l2_reg, learning_rate, num_classes=3):\n",
    "    tf.keras.backend.clear_session()\n",
    "    model = Sequential()\n",
    "    reg = regularizers.l2(l2_reg) if l2_reg and l2_reg > 0 else None\n",
    "    for i in range(num_layers):\n",
    "        if i == 0:\n",
    "            model.add(Dense(units, activation='relu', kernel_regularizer=reg, input_shape=(input_dim,)))\n",
    "        else:\n",
    "            model.add(Dense(units, activation='relu', kernel_regularizer=reg))\n",
    "        if dropout_rate and dropout_rate > 0:\n",
    "            model.add(Dropout(dropout_rate))\n",
    "    model.add(Dense(num_classes, activation='softmax'))\n",
    "    model.compile(optimizer=Adam(learning_rate=learning_rate),\n",
    "                  loss='sparse_categorical_crossentropy',\n",
    "                  metrics=['accuracy'])\n",
    "    return model\n",
    "\n",
    "def grid_dict_product(grid):\n",
    "    keys = list(grid.keys())\n",
    "    for values in itertools.product(*(grid[k] for k in keys)):\n",
    "        yield dict(zip(keys, values))\n",
    "\n",
    "def hash_rows(df_like):\n",
    "    str_df = df_like.copy()\n",
    "    for c in str_df.columns:\n",
    "        if pd.api.types.is_numeric_dtype(str_df[c]):\n",
    "            str_df[c] = str_df[c].astype(float).map(lambda x: f\"{x:.12g}\")\n",
    "        else:\n",
    "            str_df[c] = str_df[c].astype(str)\n",
    "    concat = str_df.apply(lambda r: '||'.join(r.values.astype(str)), axis=1)\n",
    "    return concat.map(lambda s: hashlib.md5(s.encode('utf-8')).hexdigest())\n"
   ]
  },
  {
   "cell_type": "markdown",
   "id": "c0f5929d",
   "metadata": {},
   "source": [
    "## Train/Test Split & Label Binning"
   ]
  },
  {
   "cell_type": "code",
   "execution_count": 8,
   "id": "ee6c4dac",
   "metadata": {
    "execution": {
     "iopub.execute_input": "2025-09-24T18:45:03.120117Z",
     "iopub.status.busy": "2025-09-24T18:45:03.119607Z",
     "iopub.status.idle": "2025-09-24T18:45:03.135083Z",
     "shell.execute_reply": "2025-09-24T18:45:03.135083Z"
    }
   },
   "outputs": [],
   "source": [
    "# Outer grouped train/test split (ensures unseen parts in the test set)\n",
    "gss = GroupShuffleSplit(n_splits=1, test_size=0.2, random_state=SEED)\n",
    "train_idx, test_idx = next(gss.split(X_all, None, groups=groups_all))\n",
    "\n",
    "X_train_raw = X_all.iloc[train_idx].reset_index(drop=True)\n",
    "X_test_raw  = X_all.iloc[test_idx].reset_index(drop=True)\n",
    "\n",
    "groups_train = groups_all.iloc[train_idx].reset_index(drop=True)\n",
    "groups_test  = groups_all.iloc[test_idx].reset_index(drop=True)\n",
    "\n",
    "price_train = df['price'].iloc[train_idx].reset_index(drop=True)\n",
    "price_test  = df['price'].iloc[test_idx].reset_index(drop=True)\n",
    "\n",
    "# Create labels using thresholds from TRAIN ONLY\n",
    "low_thr, high_thr = compute_thresholds_from_train(price_train)\n",
    "y_train = bin_with_thresholds(price_train, low_thr, high_thr)\n",
    "y_test  = bin_with_thresholds(price_test,  low_thr, high_thr)\n",
    "\n",
    "class_order = [0, 1, 2]\n"
   ]
  },
  {
   "cell_type": "code",
   "execution_count": 9,
   "id": "c8b83d23",
   "metadata": {
    "execution": {
     "iopub.execute_input": "2025-09-24T18:45:03.136093Z",
     "iopub.status.busy": "2025-09-24T18:45:03.136093Z",
     "iopub.status.idle": "2025-09-24T18:45:03.141589Z",
     "shell.execute_reply": "2025-09-24T18:45:03.141589Z"
    }
   },
   "outputs": [
    {
     "name": "stdout",
     "output_type": "stream",
     "text": [
      "Train-only thresholds: 33%=60.00, 66%=197.51\n",
      "\n",
      "Class distribution (train):\n",
      "price\n",
      "0    1953\n",
      "1    1850\n",
      "2    1917\n",
      "Name: count, dtype: int64\n",
      "Class distribution (test):\n",
      "price\n",
      "0    947\n",
      "1    531\n",
      "2    394\n",
      "Name: count, dtype: int64\n"
     ]
    }
   ],
   "source": [
    "print(f\"Train-only thresholds: 33%={low_thr:.2f}, 66%={high_thr:.2f}\")\n",
    "print(\"\\nClass distribution (train):\")\n",
    "print(y_train.value_counts().sort_index())\n",
    "print(\"Class distribution (test):\")\n",
    "print(y_test.value_counts().sort_index())\n"
   ]
  },
  {
   "cell_type": "code",
   "execution_count": 10,
   "id": "a1070091",
   "metadata": {
    "execution": {
     "iopub.execute_input": "2025-09-24T18:45:03.142630Z",
     "iopub.status.busy": "2025-09-24T18:45:03.142630Z",
     "iopub.status.idle": "2025-09-24T18:45:03.242913Z",
     "shell.execute_reply": "2025-09-24T18:45:03.242913Z"
    }
   },
   "outputs": [
    {
     "name": "stdout",
     "output_type": "stream",
     "text": [
      "\n",
      "Row-hash overlap between train and test using model features: 0 rows\n"
     ]
    }
   ],
   "source": [
    "train_hash = hash_rows(X_train_raw)\n",
    "test_hash  = hash_rows(X_test_raw)\n",
    "overlap = set(train_hash).intersection(set(test_hash))\n",
    "print(f\"\\nRow-hash overlap between train and test using model features: {len(overlap)} rows\")\n",
    "if len(overlap) > 0:\n",
    "    print(\"WARNING: Identical feature rows detected across train and test. Investigate potential duplicates.\")\n"
   ]
  },
  {
   "cell_type": "markdown",
   "id": "81aa14f3",
   "metadata": {},
   "source": [
    "## ANN Hyperparameter Search"
   ]
  },
  {
   "cell_type": "code",
   "execution_count": 11,
   "id": "f73a343b",
   "metadata": {
    "execution": {
     "iopub.execute_input": "2025-09-24T18:45:03.243938Z",
     "iopub.status.busy": "2025-09-24T18:45:03.243938Z",
     "iopub.status.idle": "2025-09-24T19:04:28.437581Z",
     "shell.execute_reply": "2025-09-24T19:04:28.436495Z"
    }
   },
   "outputs": [
    {
     "name": "stdout",
     "output_type": "stream",
     "text": [
      "\n",
      "Starting ANN exhaustive grid search over 72 combinations...\n",
      "Config 1/72: {'num_layers': 1, 'units': 16, 'dropout_rate': 0.0, 'l2_reg': 0.0, 'learning_rate': 0.001}\n"
     ]
    },
    {
     "name": "stdout",
     "output_type": "stream",
     "text": [
      "WARNING:tensorflow:From C:\\Users\\oaliyaeesh\\AppData\\Local\\Programs\\Python\\Python312\\Lib\\site-packages\\keras\\src\\backend\\common\\global_state.py:82: The name tf.reset_default_graph is deprecated. Please use tf.compat.v1.reset_default_graph instead.\n",
      "\n"
     ]
    },
    {
     "name": "stdout",
     "output_type": "stream",
     "text": [
      "Config 2/72: {'num_layers': 1, 'units': 16, 'dropout_rate': 0.0, 'l2_reg': 0.0, 'learning_rate': 0.003}\n"
     ]
    },
    {
     "name": "stdout",
     "output_type": "stream",
     "text": [
      "Config 3/72: {'num_layers': 1, 'units': 16, 'dropout_rate': 0.0, 'l2_reg': 0.0, 'learning_rate': 0.01}\n"
     ]
    },
    {
     "name": "stdout",
     "output_type": "stream",
     "text": [
      "Config 4/72: {'num_layers': 1, 'units': 16, 'dropout_rate': 0.0, 'l2_reg': 0.0001, 'learning_rate': 0.001}\n"
     ]
    },
    {
     "name": "stdout",
     "output_type": "stream",
     "text": [
      "Config 5/72: {'num_layers': 1, 'units': 16, 'dropout_rate': 0.0, 'l2_reg': 0.0001, 'learning_rate': 0.003}\n"
     ]
    },
    {
     "name": "stdout",
     "output_type": "stream",
     "text": [
      "Config 6/72: {'num_layers': 1, 'units': 16, 'dropout_rate': 0.0, 'l2_reg': 0.0001, 'learning_rate': 0.01}\n"
     ]
    },
    {
     "name": "stdout",
     "output_type": "stream",
     "text": [
      "Config 7/72: {'num_layers': 1, 'units': 16, 'dropout_rate': 0.2, 'l2_reg': 0.0, 'learning_rate': 0.001}\n"
     ]
    },
    {
     "name": "stdout",
     "output_type": "stream",
     "text": [
      "Config 8/72: {'num_layers': 1, 'units': 16, 'dropout_rate': 0.2, 'l2_reg': 0.0, 'learning_rate': 0.003}\n"
     ]
    },
    {
     "name": "stdout",
     "output_type": "stream",
     "text": [
      "Config 9/72: {'num_layers': 1, 'units': 16, 'dropout_rate': 0.2, 'l2_reg': 0.0, 'learning_rate': 0.01}\n"
     ]
    },
    {
     "name": "stdout",
     "output_type": "stream",
     "text": [
      "Config 10/72: {'num_layers': 1, 'units': 16, 'dropout_rate': 0.2, 'l2_reg': 0.0001, 'learning_rate': 0.001}\n"
     ]
    },
    {
     "name": "stdout",
     "output_type": "stream",
     "text": [
      "Config 11/72: {'num_layers': 1, 'units': 16, 'dropout_rate': 0.2, 'l2_reg': 0.0001, 'learning_rate': 0.003}\n"
     ]
    },
    {
     "name": "stdout",
     "output_type": "stream",
     "text": [
      "Config 12/72: {'num_layers': 1, 'units': 16, 'dropout_rate': 0.2, 'l2_reg': 0.0001, 'learning_rate': 0.01}\n"
     ]
    },
    {
     "name": "stdout",
     "output_type": "stream",
     "text": [
      "Config 13/72: {'num_layers': 1, 'units': 32, 'dropout_rate': 0.0, 'l2_reg': 0.0, 'learning_rate': 0.001}\n"
     ]
    },
    {
     "name": "stdout",
     "output_type": "stream",
     "text": [
      "Config 14/72: {'num_layers': 1, 'units': 32, 'dropout_rate': 0.0, 'l2_reg': 0.0, 'learning_rate': 0.003}\n"
     ]
    },
    {
     "name": "stdout",
     "output_type": "stream",
     "text": [
      "Config 15/72: {'num_layers': 1, 'units': 32, 'dropout_rate': 0.0, 'l2_reg': 0.0, 'learning_rate': 0.01}\n"
     ]
    },
    {
     "name": "stdout",
     "output_type": "stream",
     "text": [
      "Config 16/72: {'num_layers': 1, 'units': 32, 'dropout_rate': 0.0, 'l2_reg': 0.0001, 'learning_rate': 0.001}\n"
     ]
    },
    {
     "name": "stdout",
     "output_type": "stream",
     "text": [
      "Config 17/72: {'num_layers': 1, 'units': 32, 'dropout_rate': 0.0, 'l2_reg': 0.0001, 'learning_rate': 0.003}\n"
     ]
    },
    {
     "name": "stdout",
     "output_type": "stream",
     "text": [
      "Config 18/72: {'num_layers': 1, 'units': 32, 'dropout_rate': 0.0, 'l2_reg': 0.0001, 'learning_rate': 0.01}\n"
     ]
    },
    {
     "name": "stdout",
     "output_type": "stream",
     "text": [
      "Config 19/72: {'num_layers': 1, 'units': 32, 'dropout_rate': 0.2, 'l2_reg': 0.0, 'learning_rate': 0.001}\n"
     ]
    },
    {
     "name": "stdout",
     "output_type": "stream",
     "text": [
      "Config 20/72: {'num_layers': 1, 'units': 32, 'dropout_rate': 0.2, 'l2_reg': 0.0, 'learning_rate': 0.003}\n"
     ]
    },
    {
     "name": "stdout",
     "output_type": "stream",
     "text": [
      "Config 21/72: {'num_layers': 1, 'units': 32, 'dropout_rate': 0.2, 'l2_reg': 0.0, 'learning_rate': 0.01}\n"
     ]
    },
    {
     "name": "stdout",
     "output_type": "stream",
     "text": [
      "Config 22/72: {'num_layers': 1, 'units': 32, 'dropout_rate': 0.2, 'l2_reg': 0.0001, 'learning_rate': 0.001}\n"
     ]
    },
    {
     "name": "stdout",
     "output_type": "stream",
     "text": [
      "Config 23/72: {'num_layers': 1, 'units': 32, 'dropout_rate': 0.2, 'l2_reg': 0.0001, 'learning_rate': 0.003}\n"
     ]
    },
    {
     "name": "stdout",
     "output_type": "stream",
     "text": [
      "Config 24/72: {'num_layers': 1, 'units': 32, 'dropout_rate': 0.2, 'l2_reg': 0.0001, 'learning_rate': 0.01}\n"
     ]
    },
    {
     "name": "stdout",
     "output_type": "stream",
     "text": [
      "Config 25/72: {'num_layers': 2, 'units': 16, 'dropout_rate': 0.0, 'l2_reg': 0.0, 'learning_rate': 0.001}\n"
     ]
    },
    {
     "name": "stdout",
     "output_type": "stream",
     "text": [
      "Config 26/72: {'num_layers': 2, 'units': 16, 'dropout_rate': 0.0, 'l2_reg': 0.0, 'learning_rate': 0.003}\n"
     ]
    },
    {
     "name": "stdout",
     "output_type": "stream",
     "text": [
      "Config 27/72: {'num_layers': 2, 'units': 16, 'dropout_rate': 0.0, 'l2_reg': 0.0, 'learning_rate': 0.01}\n"
     ]
    },
    {
     "name": "stdout",
     "output_type": "stream",
     "text": [
      "Config 28/72: {'num_layers': 2, 'units': 16, 'dropout_rate': 0.0, 'l2_reg': 0.0001, 'learning_rate': 0.001}\n"
     ]
    },
    {
     "name": "stdout",
     "output_type": "stream",
     "text": [
      "Config 29/72: {'num_layers': 2, 'units': 16, 'dropout_rate': 0.0, 'l2_reg': 0.0001, 'learning_rate': 0.003}\n"
     ]
    },
    {
     "name": "stdout",
     "output_type": "stream",
     "text": [
      "Config 30/72: {'num_layers': 2, 'units': 16, 'dropout_rate': 0.0, 'l2_reg': 0.0001, 'learning_rate': 0.01}\n"
     ]
    },
    {
     "name": "stdout",
     "output_type": "stream",
     "text": [
      "Config 31/72: {'num_layers': 2, 'units': 16, 'dropout_rate': 0.2, 'l2_reg': 0.0, 'learning_rate': 0.001}\n"
     ]
    },
    {
     "name": "stdout",
     "output_type": "stream",
     "text": [
      "Config 32/72: {'num_layers': 2, 'units': 16, 'dropout_rate': 0.2, 'l2_reg': 0.0, 'learning_rate': 0.003}\n"
     ]
    },
    {
     "name": "stdout",
     "output_type": "stream",
     "text": [
      "Config 33/72: {'num_layers': 2, 'units': 16, 'dropout_rate': 0.2, 'l2_reg': 0.0, 'learning_rate': 0.01}\n"
     ]
    },
    {
     "name": "stdout",
     "output_type": "stream",
     "text": [
      "Config 34/72: {'num_layers': 2, 'units': 16, 'dropout_rate': 0.2, 'l2_reg': 0.0001, 'learning_rate': 0.001}\n"
     ]
    },
    {
     "name": "stdout",
     "output_type": "stream",
     "text": [
      "Config 35/72: {'num_layers': 2, 'units': 16, 'dropout_rate': 0.2, 'l2_reg': 0.0001, 'learning_rate': 0.003}\n"
     ]
    },
    {
     "name": "stdout",
     "output_type": "stream",
     "text": [
      "Config 36/72: {'num_layers': 2, 'units': 16, 'dropout_rate': 0.2, 'l2_reg': 0.0001, 'learning_rate': 0.01}\n"
     ]
    },
    {
     "name": "stdout",
     "output_type": "stream",
     "text": [
      "Config 37/72: {'num_layers': 2, 'units': 32, 'dropout_rate': 0.0, 'l2_reg': 0.0, 'learning_rate': 0.001}\n"
     ]
    },
    {
     "name": "stdout",
     "output_type": "stream",
     "text": [
      "Config 38/72: {'num_layers': 2, 'units': 32, 'dropout_rate': 0.0, 'l2_reg': 0.0, 'learning_rate': 0.003}\n"
     ]
    },
    {
     "name": "stdout",
     "output_type": "stream",
     "text": [
      "Config 39/72: {'num_layers': 2, 'units': 32, 'dropout_rate': 0.0, 'l2_reg': 0.0, 'learning_rate': 0.01}\n"
     ]
    },
    {
     "name": "stdout",
     "output_type": "stream",
     "text": [
      "Config 40/72: {'num_layers': 2, 'units': 32, 'dropout_rate': 0.0, 'l2_reg': 0.0001, 'learning_rate': 0.001}\n"
     ]
    },
    {
     "name": "stdout",
     "output_type": "stream",
     "text": [
      "Config 41/72: {'num_layers': 2, 'units': 32, 'dropout_rate': 0.0, 'l2_reg': 0.0001, 'learning_rate': 0.003}\n"
     ]
    },
    {
     "name": "stdout",
     "output_type": "stream",
     "text": [
      "Config 42/72: {'num_layers': 2, 'units': 32, 'dropout_rate': 0.0, 'l2_reg': 0.0001, 'learning_rate': 0.01}\n"
     ]
    },
    {
     "name": "stdout",
     "output_type": "stream",
     "text": [
      "Config 43/72: {'num_layers': 2, 'units': 32, 'dropout_rate': 0.2, 'l2_reg': 0.0, 'learning_rate': 0.001}\n"
     ]
    },
    {
     "name": "stdout",
     "output_type": "stream",
     "text": [
      "Config 44/72: {'num_layers': 2, 'units': 32, 'dropout_rate': 0.2, 'l2_reg': 0.0, 'learning_rate': 0.003}\n"
     ]
    },
    {
     "name": "stdout",
     "output_type": "stream",
     "text": [
      "Config 45/72: {'num_layers': 2, 'units': 32, 'dropout_rate': 0.2, 'l2_reg': 0.0, 'learning_rate': 0.01}\n"
     ]
    },
    {
     "name": "stdout",
     "output_type": "stream",
     "text": [
      "Config 46/72: {'num_layers': 2, 'units': 32, 'dropout_rate': 0.2, 'l2_reg': 0.0001, 'learning_rate': 0.001}\n"
     ]
    },
    {
     "name": "stdout",
     "output_type": "stream",
     "text": [
      "Config 47/72: {'num_layers': 2, 'units': 32, 'dropout_rate': 0.2, 'l2_reg': 0.0001, 'learning_rate': 0.003}\n"
     ]
    },
    {
     "name": "stdout",
     "output_type": "stream",
     "text": [
      "Config 48/72: {'num_layers': 2, 'units': 32, 'dropout_rate': 0.2, 'l2_reg': 0.0001, 'learning_rate': 0.01}\n"
     ]
    },
    {
     "name": "stdout",
     "output_type": "stream",
     "text": [
      "Config 49/72: {'num_layers': 3, 'units': 16, 'dropout_rate': 0.0, 'l2_reg': 0.0, 'learning_rate': 0.001}\n"
     ]
    },
    {
     "name": "stdout",
     "output_type": "stream",
     "text": [
      "Config 50/72: {'num_layers': 3, 'units': 16, 'dropout_rate': 0.0, 'l2_reg': 0.0, 'learning_rate': 0.003}\n"
     ]
    },
    {
     "name": "stdout",
     "output_type": "stream",
     "text": [
      "Config 51/72: {'num_layers': 3, 'units': 16, 'dropout_rate': 0.0, 'l2_reg': 0.0, 'learning_rate': 0.01}\n"
     ]
    },
    {
     "name": "stdout",
     "output_type": "stream",
     "text": [
      "Config 52/72: {'num_layers': 3, 'units': 16, 'dropout_rate': 0.0, 'l2_reg': 0.0001, 'learning_rate': 0.001}\n"
     ]
    },
    {
     "name": "stdout",
     "output_type": "stream",
     "text": [
      "Config 53/72: {'num_layers': 3, 'units': 16, 'dropout_rate': 0.0, 'l2_reg': 0.0001, 'learning_rate': 0.003}\n"
     ]
    },
    {
     "name": "stdout",
     "output_type": "stream",
     "text": [
      "Config 54/72: {'num_layers': 3, 'units': 16, 'dropout_rate': 0.0, 'l2_reg': 0.0001, 'learning_rate': 0.01}\n"
     ]
    },
    {
     "name": "stdout",
     "output_type": "stream",
     "text": [
      "Config 55/72: {'num_layers': 3, 'units': 16, 'dropout_rate': 0.2, 'l2_reg': 0.0, 'learning_rate': 0.001}\n"
     ]
    },
    {
     "name": "stdout",
     "output_type": "stream",
     "text": [
      "Config 56/72: {'num_layers': 3, 'units': 16, 'dropout_rate': 0.2, 'l2_reg': 0.0, 'learning_rate': 0.003}\n"
     ]
    },
    {
     "name": "stdout",
     "output_type": "stream",
     "text": [
      "Config 57/72: {'num_layers': 3, 'units': 16, 'dropout_rate': 0.2, 'l2_reg': 0.0, 'learning_rate': 0.01}\n"
     ]
    },
    {
     "name": "stdout",
     "output_type": "stream",
     "text": [
      "Config 58/72: {'num_layers': 3, 'units': 16, 'dropout_rate': 0.2, 'l2_reg': 0.0001, 'learning_rate': 0.001}\n"
     ]
    },
    {
     "name": "stdout",
     "output_type": "stream",
     "text": [
      "Config 59/72: {'num_layers': 3, 'units': 16, 'dropout_rate': 0.2, 'l2_reg': 0.0001, 'learning_rate': 0.003}\n"
     ]
    },
    {
     "name": "stdout",
     "output_type": "stream",
     "text": [
      "Config 60/72: {'num_layers': 3, 'units': 16, 'dropout_rate': 0.2, 'l2_reg': 0.0001, 'learning_rate': 0.01}\n"
     ]
    },
    {
     "name": "stdout",
     "output_type": "stream",
     "text": [
      "Config 61/72: {'num_layers': 3, 'units': 32, 'dropout_rate': 0.0, 'l2_reg': 0.0, 'learning_rate': 0.001}\n"
     ]
    },
    {
     "name": "stdout",
     "output_type": "stream",
     "text": [
      "Config 62/72: {'num_layers': 3, 'units': 32, 'dropout_rate': 0.0, 'l2_reg': 0.0, 'learning_rate': 0.003}\n"
     ]
    },
    {
     "name": "stdout",
     "output_type": "stream",
     "text": [
      "Config 63/72: {'num_layers': 3, 'units': 32, 'dropout_rate': 0.0, 'l2_reg': 0.0, 'learning_rate': 0.01}\n"
     ]
    },
    {
     "name": "stdout",
     "output_type": "stream",
     "text": [
      "Config 64/72: {'num_layers': 3, 'units': 32, 'dropout_rate': 0.0, 'l2_reg': 0.0001, 'learning_rate': 0.001}\n"
     ]
    },
    {
     "name": "stdout",
     "output_type": "stream",
     "text": [
      "Config 65/72: {'num_layers': 3, 'units': 32, 'dropout_rate': 0.0, 'l2_reg': 0.0001, 'learning_rate': 0.003}\n"
     ]
    },
    {
     "name": "stdout",
     "output_type": "stream",
     "text": [
      "Config 66/72: {'num_layers': 3, 'units': 32, 'dropout_rate': 0.0, 'l2_reg': 0.0001, 'learning_rate': 0.01}\n"
     ]
    },
    {
     "name": "stdout",
     "output_type": "stream",
     "text": [
      "Config 67/72: {'num_layers': 3, 'units': 32, 'dropout_rate': 0.2, 'l2_reg': 0.0, 'learning_rate': 0.001}\n"
     ]
    },
    {
     "name": "stdout",
     "output_type": "stream",
     "text": [
      "Config 68/72: {'num_layers': 3, 'units': 32, 'dropout_rate': 0.2, 'l2_reg': 0.0, 'learning_rate': 0.003}\n"
     ]
    },
    {
     "name": "stdout",
     "output_type": "stream",
     "text": [
      "Config 69/72: {'num_layers': 3, 'units': 32, 'dropout_rate': 0.2, 'l2_reg': 0.0, 'learning_rate': 0.01}\n"
     ]
    },
    {
     "name": "stdout",
     "output_type": "stream",
     "text": [
      "Config 70/72: {'num_layers': 3, 'units': 32, 'dropout_rate': 0.2, 'l2_reg': 0.0001, 'learning_rate': 0.001}\n"
     ]
    },
    {
     "name": "stdout",
     "output_type": "stream",
     "text": [
      "Config 71/72: {'num_layers': 3, 'units': 32, 'dropout_rate': 0.2, 'l2_reg': 0.0001, 'learning_rate': 0.003}\n"
     ]
    },
    {
     "name": "stdout",
     "output_type": "stream",
     "text": [
      "Config 72/72: {'num_layers': 3, 'units': 32, 'dropout_rate': 0.2, 'l2_reg': 0.0001, 'learning_rate': 0.01}\n"
     ]
    },
    {
     "name": "stdout",
     "output_type": "stream",
     "text": [
      "\n",
      "Best ANN grid configuration (inner grouped val macro F1): 0.5896\n",
      "{'num_layers': 3, 'units': 16, 'dropout_rate': 0.2, 'l2_reg': 0.0001, 'learning_rate': 0.01}\n"
     ]
    }
   ],
   "source": [
    "# Carve inner validation from outer training (grouped)\n",
    "inner_gss = GroupShuffleSplit(n_splits=1, test_size=0.2, random_state=SEED)\n",
    "inner_tr_idx, inner_val_idx = next(inner_gss.split(X_train_raw, y_train, groups=groups_train))\n",
    "X_inner_tr_raw = X_train_raw.iloc[inner_tr_idx]\n",
    "X_inner_val_raw = X_train_raw.iloc[inner_val_idx]\n",
    "y_inner_tr = y_train.iloc[inner_tr_idx]\n",
    "y_inner_val = y_train.iloc[inner_val_idx]\n",
    "\n",
    "# Fit ONE preprocessor for the inner split and reuse its matrices across grid combos\n",
    "pre_gs = make_preprocessor(style=\"scale\")\n",
    "X_inner_tr = pre_gs.fit_transform(X_inner_tr_raw)\n",
    "X_inner_val = pre_gs.transform(X_inner_val_raw)\n",
    "input_dim_inner = X_inner_tr.shape[1]\n",
    "\n",
    "best_cfg = None\n",
    "best_val_f1 = -np.inf\n",
    "best_history = None\n",
    "\n",
    "total_combos = int(np.prod([len(v) for v in GRID.values()]))\n",
    "print(f\"\\nStarting ANN exhaustive grid search over {total_combos} combinations...\")\n",
    "for idx, cfg in enumerate(grid_dict_product(GRID), start=1):\n",
    "    print(f\"Config {idx}/{total_combos}: {cfg}\")\n",
    "    model = build_ann(\n",
    "        input_dim=input_dim_inner,\n",
    "        num_layers=cfg['num_layers'],\n",
    "        units=cfg['units'],\n",
    "        dropout_rate=cfg['dropout_rate'],\n",
    "        l2_reg=cfg['l2_reg'],\n",
    "        learning_rate=cfg['learning_rate'],\n",
    "        num_classes=len(class_order),\n",
    "    )\n",
    "    early_stop = EarlyStopping(monitor='val_loss', patience=15, restore_best_weights=True)\n",
    "    reduce_lr  = ReduceLROnPlateau(monitor='val_loss', factor=0.5, patience=5, min_lr=1e-5, verbose=0)\n",
    "\n",
    "    history = model.fit(\n",
    "        X_inner_tr, y_inner_tr,\n",
    "        epochs=200,\n",
    "        validation_data=(X_inner_val, y_inner_val),\n",
    "        callbacks=[early_stop, reduce_lr],\n",
    "        verbose=0,\n",
    "    )\n",
    "\n",
    "    y_val_pred = np.argmax(model.predict(X_inner_val, verbose=0), axis=1)\n",
    "    f1 = f1_score(y_inner_val, y_val_pred, average='macro')\n",
    "    if f1 > best_val_f1:\n",
    "        best_val_f1 = f1\n",
    "        best_cfg = cfg\n",
    "        best_history = history\n",
    "\n",
    "print(\"\\nBest ANN grid configuration (inner grouped val macro F1):\", round(best_val_f1, 4))\n",
    "print(best_cfg)\n"
   ]
  },
  {
   "cell_type": "markdown",
   "id": "8f851b2c",
   "metadata": {},
   "source": [
    "## Final ANN Training & Evaluation"
   ]
  },
  {
   "cell_type": "code",
   "execution_count": 12,
   "id": "0ceb8e82",
   "metadata": {
    "execution": {
     "iopub.execute_input": "2025-09-24T19:04:28.443119Z",
     "iopub.status.busy": "2025-09-24T19:04:28.443119Z",
     "iopub.status.idle": "2025-09-24T19:04:37.403977Z",
     "shell.execute_reply": "2025-09-24T19:04:37.402802Z"
    }
   },
   "outputs": [
    {
     "name": "stdout",
     "output_type": "stream",
     "text": [
      "Input dim: 23\n",
      "Inner class counts (train): {0: 1136, 1: 1587, 2: 1689}\n",
      "Inner class counts (val)  : {0: 817, 1: 263, 2: 228}\n",
      "Current optimizer lr: 0.0012499999720603228\n"
     ]
    }
   ],
   "source": [
    "# Fit ONE preprocessor on the full outer training set (stratified grouped val; unweighted val loss)\n",
    "import numpy as np\n",
    "import tensorflow as tf\n",
    "from tensorflow.keras.callbacks import EarlyStopping, ReduceLROnPlateau\n",
    "\n",
    "# Try to import StratifiedGroupKFold; fall back if not available\n",
    "try:\n",
    "    from sklearn.model_selection import StratifiedGroupKFold\n",
    "except Exception:\n",
    "    from sklearn.model_selection import GroupKFold as StratifiedGroupKFold  # fallback (no stratification)\n",
    "\n",
    "def _has_all_classes(y_vec, class_order):\n",
    "    \"\"\"Return True if every class in class_order appears at least once in y_vec.\"\"\"\n",
    "    vc = np.bincount(np.asarray(y_vec, dtype=int), minlength=max(class_order)+1)\n",
    "    return all(vc[c] > 0 for c in class_order)\n",
    "\n",
    "# 1) Preprocess outer train/test\n",
    "preprocessor = make_preprocessor(style=\"scale\")\n",
    "X_train_proc = preprocessor.fit_transform(X_train_raw)\n",
    "X_test_proc  = preprocessor.transform(X_test_raw)\n",
    "input_dim = X_train_proc.shape[1]\n",
    "\n",
    "# 2) Inner validation split (grouped + stratified by class)\n",
    "SEED = globals().get(\"SEED\", 42)\n",
    "class_order = globals().get(\"class_order\", [0, 1, 2])\n",
    "\n",
    "sgkf2 = StratifiedGroupKFold(n_splits=5, shuffle=True, random_state=SEED)\n",
    "inner_tr_idx2, inner_val_idx2 = None, None\n",
    "for tr_idx, va_idx in sgkf2.split(X_train_raw, y_train, groups=groups_train):\n",
    "    if _has_all_classes(y_train.iloc[va_idx], class_order):\n",
    "        inner_tr_idx2, inner_val_idx2 = tr_idx, va_idx\n",
    "        break\n",
    "# fallback to first split if none cover all classes\n",
    "if inner_tr_idx2 is None:\n",
    "    inner_tr_idx2, inner_val_idx2 = next(sgkf2.split(X_train_raw, y_train, groups=groups_train))\n",
    "\n",
    "X_tr2 = X_train_proc[inner_tr_idx2]\n",
    "X_val2 = X_train_proc[inner_val_idx2]\n",
    "y_tr2 = y_train.iloc[inner_tr_idx2]\n",
    "y_val2 = y_train.iloc[inner_val_idx2]\n",
    "\n",
    "# 3) Define callbacks (monitor accuracy to reduce weighted-loss noise)\n",
    "early_stop_final = EarlyStopping(\n",
    "    monitor='val_accuracy', patience=12, restore_best_weights=True, verbose=0\n",
    ")\n",
    "reduce_lr_final  = ReduceLROnPlateau(\n",
    "    monitor='val_accuracy', factor=0.5, patience=4, min_lr=1e-5, mode='max', verbose=0\n",
    ")\n",
    "\n",
    "# Optional extras if you already created them earlier\n",
    "callbacks = [early_stop_final, reduce_lr_final]\n",
    "if 'ckpt' in globals():\n",
    "    callbacks.append(ckpt)\n",
    "if 'LrLogger' in globals():\n",
    "    try:\n",
    "        callbacks.append(LrLogger())\n",
    "    except Exception:\n",
    "        pass\n",
    "\n",
    "# 4) Build model (use your best_cfg if available; otherwise default construction)\n",
    "if 'best_cfg' in globals() and best_cfg:\n",
    "    try:\n",
    "        model = build_ann(input_dim=input_dim, **best_cfg)\n",
    "    except TypeError:\n",
    "        # if best_cfg keys don't match signature, fall back to default\n",
    "        model = build_ann(input_dim=input_dim)\n",
    "else:\n",
    "    model = build_ann(input_dim=input_dim)\n",
    "\n",
    "# 5) Train with UNWEIGHTED validation (matches Demand). Keep class_weight for training if you have it.\n",
    "fit_kwargs = dict(\n",
    "    x=X_tr2, y=y_tr2,\n",
    "    epochs=200,\n",
    "    validation_data=(X_val2, y_val2),  # <- no val_sample_weight here\n",
    "    callbacks=callbacks,\n",
    "    verbose=0\n",
    ")\n",
    "if 'class_weight' in globals() and class_weight is not None:\n",
    "    fit_kwargs['class_weight'] = class_weight\n",
    "\n",
    "history = model.fit(**fit_kwargs)\n",
    "\n",
    "# 6) Quick sanity printout\n",
    "def current_lr(optimizer):\n",
    "    lr_t = optimizer.learning_rate\n",
    "    try:\n",
    "        return float(tf.keras.backend.get_value(lr_t))\n",
    "    except Exception:\n",
    "        return float(lr_t) if isinstance(lr_t, (float, int)) else None\n",
    "\n",
    "print(\"Input dim:\", input_dim)\n",
    "print(\"Inner class counts (train):\", y_tr2.value_counts().sort_index().to_dict())\n",
    "print(\"Inner class counts (val)  :\", y_val2.value_counts().sort_index().to_dict())\n",
    "print(\"Current optimizer lr:\", current_lr(model.optimizer))\n"
   ]
  },
  {
   "cell_type": "code",
   "execution_count": 13,
   "id": "4d495d27",
   "metadata": {
    "execution": {
     "iopub.execute_input": "2025-09-24T19:04:37.406570Z",
     "iopub.status.busy": "2025-09-24T19:04:37.406570Z",
     "iopub.status.idle": "2025-09-24T19:04:37.410730Z",
     "shell.execute_reply": "2025-09-24T19:04:37.410730Z"
    }
   },
   "outputs": [
    {
     "name": "stdout",
     "output_type": "stream",
     "text": [
      "Current optimizer lr: 0.0012499999720603228\n"
     ]
    }
   ],
   "source": [
    "# Learning Rate Check (post-training)\n",
    "import tensorflow as tf\n",
    "\n",
    "def current_lr(optimizer):\n",
    "    lr_t = optimizer.learning_rate  # NOT optimizer.lr\n",
    "    try:\n",
    "        return float(tf.keras.backend.get_value(lr_t))\n",
    "    except Exception:\n",
    "        # Fallback: if it's already a Python float\n",
    "        return float(lr_t) if isinstance(lr_t, (float, int)) else None\n",
    "\n",
    "lr_now = current_lr(model.optimizer)\n",
    "print(\"Current optimizer lr:\", lr_now)\n"
   ]
  },
  {
   "cell_type": "code",
   "execution_count": 14,
   "id": "c3cdb0da",
   "metadata": {
    "execution": {
     "iopub.execute_input": "2025-09-24T19:04:37.412267Z",
     "iopub.status.busy": "2025-09-24T19:04:37.412267Z",
     "iopub.status.idle": "2025-09-24T19:04:37.709570Z",
     "shell.execute_reply": "2025-09-24T19:04:37.708209Z"
    }
   },
   "outputs": [
    {
     "data": {
      "image/png": "[encoded data removed]",
      "text/plain": [
       "<Figure size 1000x500 with 2 Axes>"
      ]
     },
     "metadata": {},
     "output_type": "display_data"
    }
   ],
   "source": [
    "# Plot training and validation curves from the final training run (match Demand style)\n",
    "import numpy as np\n",
    "import matplotlib.pyplot as plt\n",
    "\n",
    "# Prefer the most recent Keras History: 'history' from the final training cell\n",
    "h = None\n",
    "if 'history' in globals() and hasattr(history, 'history'):\n",
    "    h = history.history\n",
    "elif 'best_history' in globals() and best_history is not None and hasattr(best_history, 'history'):\n",
    "    h = best_history.history\n",
    "\n",
    "if h is None:\n",
    "    raise RuntimeError(\"No Keras History object found. Make sure the training cell ran successfully.\")\n",
    "\n",
    "plt.figure(figsize=(10, 5))\n",
    "\n",
    "# Accuracy subplot (Demand style)\n",
    "plt.subplot(1, 2, 1)\n",
    "if 'accuracy' in h:\n",
    "    plt.plot(h['accuracy'], label='Train Accuracy')\n",
    "if 'val_accuracy' in h:\n",
    "    plt.plot(h['val_accuracy'], label='Validation Accuracy')\n",
    "plt.title('Model Accuracy')\n",
    "plt.xlabel('Epoch'); plt.ylabel('Accuracy'); plt.legend()\n",
    "\n",
    "# Loss subplot (Demand style with 0..1 clamp)\n",
    "plt.subplot(1, 2, 2)\n",
    "if 'loss' in h:\n",
    "    plt.plot(h['loss'], label='Train Loss')\n",
    "if 'val_loss' in h:\n",
    "    plt.plot(h['val_loss'], label='Validation Loss')\n",
    "plt.ylim(0, 1)\n",
    "plt.title('Model Loss')\n",
    "plt.xlabel('Epoch'); plt.ylabel('Loss'); plt.legend()\n",
    "\n",
    "plt.tight_layout()\n",
    "plt.show()\n"
   ]
  },
  {
   "cell_type": "code",
   "execution_count": 15,
   "id": "fd725017",
   "metadata": {
    "execution": {
     "iopub.execute_input": "2025-09-24T19:04:37.711685Z",
     "iopub.status.busy": "2025-09-24T19:04:37.711685Z",
     "iopub.status.idle": "2025-09-24T19:04:38.333381Z",
     "shell.execute_reply": "2025-09-24T19:04:38.332370Z"
    }
   },
   "outputs": [
    {
     "data": {
      "image/png": "[encoded data removed]",
      "text/plain": [
       "<Figure size 800x600 with 2 Axes>"
      ]
     },
     "metadata": {},
     "output_type": "display_data"
    },
    {
     "name": "stdout",
     "output_type": "stream",
     "text": [
      "Classification report (price tiers):\n",
      "              precision    recall  f1-score   support\n",
      "\n",
      "           0       0.67      0.56      0.61       947\n",
      "           1       0.31      0.30      0.30       531\n",
      "           2       0.52      0.75      0.61       394\n",
      "\n",
      "    accuracy                           0.52      1872\n",
      "   macro avg       0.50      0.53      0.51      1872\n",
      "weighted avg       0.53      0.52      0.52      1872\n",
      "\n",
      "Test Accuracy: 0.5240\n",
      "Macro F1:      0.5080\n",
      "Best ANN configuration: {'num_layers': 3, 'units': 16, 'dropout_rate': 0.2, 'l2_reg': 0.0001, 'learning_rate': 0.01}\n",
      "Thresholds kept in-session: low=60.00, high=197.51\n"
     ]
    },
    {
     "name": "stdout",
     "output_type": "stream",
     "text": [
      "Persisted feature schema and thresholds to artifacts\\price_model_metadata.json\n"
     ]
    }
   ],
   "source": [
    "y_pred_proba = model.predict(X_test_proc, verbose=0)\n",
    "y_pred = np.argmax(y_pred_proba, axis=1)\n",
    "y_true = y_test.to_numpy()\n",
    "\n",
    "cm = confusion_matrix(y_true, y_pred)\n",
    "plt.figure(figsize=(8, 6))\n",
    "sns.heatmap(cm, annot=True, fmt='d', cmap='Blues', xticklabels=class_order, yticklabels=class_order)\n",
    "plt.title('Confusion Matrix (price tiers)')\n",
    "plt.xlabel('Predicted'); plt.ylabel('True')\n",
    "plt.show()\n",
    "\n",
    "print(\"Classification report (price tiers):\")\n",
    "print(classification_report(y_true, y_pred, zero_division=0))\n",
    "print(f\"Test Accuracy: {accuracy_score(y_true, y_pred):.4f}\")\n",
    "print(f\"Macro F1:      {f1_score(y_true, y_pred, average='macro'):.4f}\")\n",
    "print(f\"Best ANN configuration: {best_cfg}\")\n",
    "print(f\"Thresholds kept in-session: low={low_thr:.2f}, high={high_thr:.2f}\")\n",
    "\n",
    "save_feature_metadata(\n",
    "    ARTIFACTS_METADATA_PATH,\n",
    "    categorical=cat_cols_effective,\n",
    "    numerical=num_all,\n",
    "    blocklist=BLOCKLIST_FEATURES,\n",
    "    thresholds={'low': low_thr, 'high': high_thr},\n",
    "    enabled=PERSIST_FEATURE_METADATA,\n",
    ")\n",
    "if PERSIST_FEATURE_METADATA:\n",
    "    print(f\"Persisted feature schema and thresholds to {ARTIFACTS_METADATA_PATH}\")\n"
   ]
  },
  {
   "cell_type": "markdown",
   "id": "48fb2cfc",
   "metadata": {},
   "source": [
    "## Grouped Cross-Validation (ANN)"
   ]
  },
  {
   "cell_type": "code",
   "execution_count": 16,
   "id": "1972662c",
   "metadata": {
    "execution": {
     "iopub.execute_input": "2025-09-24T19:04:38.335893Z",
     "iopub.status.busy": "2025-09-24T19:04:38.335893Z",
     "iopub.status.idle": "2025-09-24T19:05:27.734328Z",
     "shell.execute_reply": "2025-09-24T19:05:27.734328Z"
    }
   },
   "outputs": [
    {
     "name": "stdout",
     "output_type": "stream",
     "text": [
      "Fold 1: Acc=54.47% | Loss=1.1782 | MacroF1=0.5056\n"
     ]
    },
    {
     "name": "stdout",
     "output_type": "stream",
     "text": [
      "Fold 2: Acc=47.66% | Loss=1.0071 | MacroF1=0.4146\n"
     ]
    },
    {
     "name": "stdout",
     "output_type": "stream",
     "text": [
      "Fold 3: Acc=63.20% | Loss=0.8476 | MacroF1=0.5987\n"
     ]
    },
    {
     "name": "stdout",
     "output_type": "stream",
     "text": [
      "Fold 4: Acc=46.31% | Loss=1.3441 | MacroF1=0.4152\n"
     ]
    },
    {
     "name": "stdout",
     "output_type": "stream",
     "text": [
      "Fold 5: Acc=48.87% | Loss=0.9522 | MacroF1=0.4980\n",
      "\n",
      "------------------------------------------------------------------------\n",
      "Grouped CV summary (unseen parts each fold):\n",
      "Accuracy: mean 52.10%  (+/- 6.20)\n",
      "Macro F1: mean 0.4864 (+/- 0.0683)\n",
      "Loss:     mean 1.0659\n",
      "------------------------------------------------------------------------\n"
     ]
    }
   ],
   "source": [
    "num_folds = 5\n",
    "gkf = GroupKFold(n_splits=num_folds)\n",
    "\n",
    "acc_per_fold, f1_per_fold, loss_per_fold = [], [], []\n",
    "for fold_no, (tr_idx, val_idx) in enumerate(gkf.split(X_all, None, groups=groups_all), start=1):\n",
    "    X_tr_raw, X_val_raw = X_all.iloc[tr_idx], X_all.iloc[val_idx]\n",
    "    price_tr = df['price'].iloc[tr_idx]\n",
    "    price_val = df['price'].iloc[val_idx]\n",
    "\n",
    "    low_f, high_f = compute_thresholds_from_train(price_tr)\n",
    "    y_tr_f = bin_with_thresholds(price_tr, low_f, high_f)\n",
    "    y_val_f = bin_with_thresholds(price_val, low_f, high_f)\n",
    "\n",
    "    pre_fold = make_preprocessor(style=\"scale\")\n",
    "    X_tr = pre_fold.fit_transform(X_tr_raw)\n",
    "    X_val = pre_fold.transform(X_val_raw)\n",
    "\n",
    "    model_fold = build_ann(\n",
    "        input_dim=X_tr.shape[1],\n",
    "        num_layers=best_cfg['num_layers'],\n",
    "        units=best_cfg['units'],\n",
    "        dropout_rate=best_cfg['dropout_rate'],\n",
    "        l2_reg=best_cfg['l2_reg'],\n",
    "        learning_rate=best_cfg['learning_rate'],\n",
    "        num_classes=len(class_order),\n",
    "    )\n",
    "\n",
    "    early_stop_cv = EarlyStopping(monitor='val_loss', patience=15, restore_best_weights=True)\n",
    "    reduce_lr_cv  = ReduceLROnPlateau(monitor='val_loss', factor=0.5, patience=5, min_lr=1e-5, verbose=0)\n",
    "\n",
    "    model_fold.fit(\n",
    "        X_tr, y_tr_f,\n",
    "        epochs=200,\n",
    "        validation_data=(X_val, y_val_f),\n",
    "        callbacks=[early_stop_cv, reduce_lr_cv],\n",
    "        verbose=0,\n",
    "    )\n",
    "\n",
    "    loss, acc = model_fold.evaluate(X_val, y_val_f, verbose=0)\n",
    "    y_val_pred = np.argmax(model_fold.predict(X_val, verbose=0), axis=1)\n",
    "    f1 = f1_score(y_val_f, y_val_pred, average='macro')\n",
    "\n",
    "    print(f\"Fold {fold_no}: Acc={acc*100:.2f}% | Loss={loss:.4f} | MacroF1={f1:.4f}\")\n",
    "    acc_per_fold.append(acc * 100)\n",
    "    f1_per_fold.append(f1)\n",
    "    loss_per_fold.append(loss)\n",
    "\n",
    "print('\\n' + '-'*72)\n",
    "print('Grouped CV summary (unseen parts each fold):')\n",
    "print(f\"Accuracy: mean {np.mean(acc_per_fold):.2f}%  (+/- {np.std(acc_per_fold):.2f})\")\n",
    "print(f\"Macro F1: mean {np.mean(f1_per_fold):.4f} (+/- {np.std(f1_per_fold):.4f})\")\n",
    "print(f\"Loss:     mean {np.mean(loss_per_fold):.4f}\")\n",
    "print('-'*72)\n"
   ]
  },
  {
   "cell_type": "markdown",
   "id": "970125e8",
   "metadata": {},
   "source": [
    "## Classical Model Benchmark"
   ]
  },
  {
   "cell_type": "code",
   "execution_count": 17,
   "id": "752850cc",
   "metadata": {
    "execution": {
     "iopub.execute_input": "2025-09-24T19:05:27.736924Z",
     "iopub.status.busy": "2025-09-24T19:05:27.735867Z",
     "iopub.status.idle": "2025-09-24T19:05:37.561562Z",
     "shell.execute_reply": "2025-09-24T19:05:37.560543Z"
    }
   },
   "outputs": [
    {
     "name": "stdout",
     "output_type": "stream",
     "text": [
      "\n",
      "=== SVC (RBF) (svc_rbf) ===\n"
     ]
    },
    {
     "name": "stdout",
     "output_type": "stream",
     "text": [
      "Selected params: {'C': 1.0, 'gamma': 'auto'} | Inner macro F1=0.4904\n"
     ]
    },
    {
     "name": "stdout",
     "output_type": "stream",
     "text": [
      "Test Accuracy=0.5203 | Test Macro F1=0.5079\n",
      "              precision    recall  f1-score   support\n",
      "\n",
      "           0       0.71      0.53      0.61       947\n",
      "           1       0.32      0.35      0.34       531\n",
      "           2       0.49      0.72      0.58       394\n",
      "\n",
      "    accuracy                           0.52      1872\n",
      "   macro avg       0.51      0.53      0.51      1872\n",
      "weighted avg       0.55      0.52      0.52      1872\n",
      "\n",
      "\n",
      "=== LogisticRegression (logreg) ===\n"
     ]
    },
    {
     "name": "stdout",
     "output_type": "stream",
     "text": [
      "Selected params: {'C': 1.0, 'solver': 'lbfgs', 'max_iter': 2000} | Inner macro F1=0.5006\n",
      "Test Accuracy=0.5518 | Test Macro F1=0.5311\n",
      "              precision    recall  f1-score   support\n",
      "\n",
      "           0       0.70      0.61      0.65       947\n",
      "           1       0.32      0.31      0.32       531\n",
      "           2       0.54      0.73      0.62       394\n",
      "\n",
      "    accuracy                           0.55      1872\n",
      "   macro avg       0.52      0.55      0.53      1872\n",
      "weighted avg       0.56      0.55      0.55      1872\n",
      "\n",
      "\n",
      "=== ExtraTrees (et) ===\n"
     ]
    },
    {
     "name": "stdout",
     "output_type": "stream",
     "text": [
      "Selected params: {'n_estimators': 200, 'max_depth': None} | Inner macro F1=0.4077\n"
     ]
    },
    {
     "name": "stdout",
     "output_type": "stream",
     "text": [
      "Test Accuracy=0.4626 | Test Macro F1=0.4573\n",
      "              precision    recall  f1-score   support\n",
      "\n",
      "           0       0.66      0.48      0.56       947\n",
      "           1       0.27      0.37      0.31       531\n",
      "           2       0.47      0.54      0.50       394\n",
      "\n",
      "    accuracy                           0.46      1872\n",
      "   macro avg       0.47      0.46      0.46      1872\n",
      "weighted avg       0.51      0.46      0.48      1872\n",
      "\n",
      "\n",
      "=== SGDClassifier (log_loss) (sgd) ===\n"
     ]
    },
    {
     "name": "stdout",
     "output_type": "stream",
     "text": [
      "Selected params: {'loss': 'log_loss', 'alpha': 0.0001, 'max_iter': 2000, 'random_state': 42} | Inner macro F1=0.5397\n",
      "Test Accuracy=0.5598 | Test Macro F1=0.5099\n",
      "              precision    recall  f1-score   support\n",
      "\n",
      "           0       0.68      0.67      0.68       947\n",
      "           1       0.40      0.22      0.29       531\n",
      "           2       0.45      0.75      0.56       394\n",
      "\n",
      "    accuracy                           0.56      1872\n",
      "   macro avg       0.51      0.55      0.51      1872\n",
      "weighted avg       0.56      0.56      0.54      1872\n",
      "\n",
      "\n",
      "=== LinearDiscriminantAnalysis (lda) ===\n"
     ]
    },
    {
     "name": "stdout",
     "output_type": "stream",
     "text": [
      "Selected params: {'solver': 'svd'} | Inner macro F1=0.5128\n"
     ]
    },
    {
     "name": "stdout",
     "output_type": "stream",
     "text": [
      "Test Accuracy=0.5374 | Test Macro F1=0.5180\n",
      "              precision    recall  f1-score   support\n",
      "\n",
      "           0       0.69      0.59      0.63       947\n",
      "           1       0.32      0.31      0.32       531\n",
      "           2       0.52      0.72      0.60       394\n",
      "\n",
      "    accuracy                           0.54      1872\n",
      "   macro avg       0.51      0.54      0.52      1872\n",
      "weighted avg       0.55      0.54      0.54      1872\n",
      "\n"
     ]
    }
   ],
   "source": [
    "def fit_select_on_inner_classic(model_key, X_tr_raw, y_tr, groups_tr):\n",
    "    # Carve an inner grouped validation split from outer-train to select hyperparams.\n",
    "    inner = GroupShuffleSplit(n_splits=1, test_size=0.2, random_state=SEED)\n",
    "    inner_tr_idx, inner_val_idx = next(inner.split(X_tr_raw, y_tr, groups=groups_tr))\n",
    "\n",
    "    X_inner_tr_raw = X_tr_raw.iloc[inner_tr_idx]\n",
    "    X_inner_val_raw = X_tr_raw.iloc[inner_val_idx]\n",
    "    y_inner_tr = y_tr.iloc[inner_tr_idx]\n",
    "    y_inner_val = y_tr.iloc[inner_val_idx]\n",
    "\n",
    "    spec = MODEL_ZOO[model_key]\n",
    "    grid = GRIDS_CLASSIC[model_key]\n",
    "    style = spec[\"style\"]\n",
    "\n",
    "    pre = make_preprocessor(style)\n",
    "    X_inner_tr = pre.fit_transform(X_inner_tr_raw)\n",
    "    X_inner_val = pre.transform(X_inner_val_raw)\n",
    "\n",
    "    best_f1 = -np.inf\n",
    "    best_params = None\n",
    "\n",
    "    for params in grid_dict_product(grid):\n",
    "        est = spec[\"factory\"](params)\n",
    "        est.fit(X_inner_tr, y_inner_tr)\n",
    "        y_val_pred = est.predict(X_inner_val)\n",
    "        f1 = f1_score(y_inner_val, y_val_pred, average=\"macro\")\n",
    "        if f1 > best_f1:\n",
    "            best_f1 = f1\n",
    "            best_params = params\n",
    "\n",
    "    return best_params, best_f1\n",
    "\n",
    "records = []\n",
    "\n",
    "for key in MODEL_KEYS:\n",
    "    label = MODEL_ZOO[key][\"label\"]\n",
    "    print()\n",
    "    print(f\"=== {label} ({key}) ===\")\n",
    "\n",
    "    # Hyperparameter selection on a grouped inner split\n",
    "    best_params, inner_f1 = fit_select_on_inner_classic(key, X_train_raw, y_train, groups_train)\n",
    "    print(f\"Selected params: {best_params} | Inner macro F1={inner_f1:.4f}\")\n",
    "\n",
    "    # Refit preprocessor on full outer-train, then train and evaluate\n",
    "    pre = make_preprocessor(MODEL_ZOO[key][\"style\"])\n",
    "    X_train_cls = pre.fit_transform(X_train_raw)\n",
    "    X_test_cls  = pre.transform(X_test_raw)\n",
    "\n",
    "    est = MODEL_ZOO[key][\"factory\"](best_params)\n",
    "    est.fit(X_train_cls, y_train)\n",
    "\n",
    "    y_pred_cls = est.predict(X_test_cls)\n",
    "    acc = accuracy_score(y_test, y_pred_cls)\n",
    "    f1m = f1_score(y_test, y_pred_cls, average=\"macro\")\n",
    "\n",
    "    print(f\"Test Accuracy={acc:.4f} | Test Macro F1={f1m:.4f}\")\n",
    "    print(classification_report(y_test, y_pred_cls, zero_division=0))\n",
    "\n",
    "    records.append(\n",
    "        {\n",
    "            \"key\": key,\n",
    "            \"model\": label,\n",
    "            \"best_params\": best_params,\n",
    "            \"inner_macro_f1\": round(inner_f1, 4),\n",
    "            \"test_accuracy\": round(acc, 4),\n",
    "            \"test_macro_f1\": round(f1m, 4),\n",
    "        }\n",
    "    )\n"
   ]
  },
  {
   "cell_type": "code",
   "execution_count": 18,
   "id": "ff1a18d1",
   "metadata": {
    "execution": {
     "iopub.execute_input": "2025-09-24T19:05:37.565561Z",
     "iopub.status.busy": "2025-09-24T19:05:37.564562Z",
     "iopub.status.idle": "2025-09-24T19:05:37.587447Z",
     "shell.execute_reply": "2025-09-24T19:05:37.586086Z"
    }
   },
   "outputs": [
    {
     "name": "stdout",
     "output_type": "stream",
     "text": [
      "\n",
      "=== Ranked results (outer test) ===\n",
      "                        model  test_macro_f1  test_accuracy  inner_macro_f1  \\\n",
      "0          LogisticRegression         0.5311         0.5518          0.5006   \n",
      "1  LinearDiscriminantAnalysis         0.5180         0.5374          0.5128   \n",
      "2    SGDClassifier (log_loss)         0.5099         0.5598          0.5397   \n",
      "3                   SVC (RBF)         0.5079         0.5203          0.4904   \n",
      "4                  ExtraTrees         0.4573         0.4626          0.4077   \n",
      "\n",
      "                                         best_params  \n",
      "0    {'C': 1.0, 'solver': 'lbfgs', 'max_iter': 2000}  \n",
      "1                                  {'solver': 'svd'}  \n",
      "2  {'loss': 'log_loss', 'alpha': 0.0001, 'max_ite...  \n",
      "3                        {'C': 1.0, 'gamma': 'auto'}  \n",
      "4           {'n_estimators': 200, 'max_depth': None}  \n"
     ]
    }
   ],
   "source": [
    "\n",
    "results = pd.DataFrame.from_records(records)\n",
    "results_sorted = results.sort_values([\n",
    "    \"test_macro_f1\", \"test_accuracy\"\n",
    "], ascending=False).reset_index(drop=True)\n",
    "\n",
    "print(\"\\n=== Ranked results (outer test) ===\")\n",
    "print(results_sorted[[\"model\", \"test_macro_f1\", \"test_accuracy\", \"inner_macro_f1\", \"best_params\"]])\n"
   ]
  },
  {
   "cell_type": "markdown",
   "id": "6f65c201",
   "metadata": {},
   "source": [
    "## Feature Leakage Audit"
   ]
  },
  {
   "cell_type": "code",
   "execution_count": 19,
   "id": "cda96f08",
   "metadata": {
    "execution": {
     "iopub.execute_input": "2025-09-24T19:05:37.589682Z",
     "iopub.status.busy": "2025-09-24T19:05:37.589682Z",
     "iopub.status.idle": "2025-09-24T19:05:38.669068Z",
     "shell.execute_reply": "2025-09-24T19:05:38.669068Z"
    }
   },
   "outputs": [
    {
     "name": "stdout",
     "output_type": "stream",
     "text": [
      "No single feature breached the threshold (0.85). Peak macro F1 = 0.3082 (car type).\n"
     ]
    }
   ],
   "source": [
    "import numpy as np\n",
    "from sklearn.pipeline import Pipeline\n",
    "from sklearn.impute import SimpleImputer\n",
    "from sklearn.preprocessing import OneHotEncoder, StandardScaler\n",
    "from sklearn.linear_model import LogisticRegression\n",
    "from sklearn.model_selection import GroupKFold\n",
    "from sklearn.metrics import f1_score\n",
    "\n",
    "def single_feature_cv_score(feature_name):\n",
    "    # Build a tiny pipeline: transform only this feature, then multinomial logistic regression\n",
    "    if feature_name in cat_cols_effective:\n",
    "        try:\n",
    "            ohe = Pipeline([\n",
    "                ('imputer', SimpleImputer(strategy='most_frequent')),\n",
    "                ('ohe', OneHotEncoder(handle_unknown='ignore', sparse_output=False))\n",
    "            ])\n",
    "        except TypeError:\n",
    "            ohe = Pipeline([\n",
    "                ('imputer', SimpleImputer(strategy='most_frequent')),\n",
    "                ('ohe', OneHotEncoder(handle_unknown='ignore', sparse=False))\n",
    "            ])\n",
    "        pipe = Pipeline([('ohe', ohe),\n",
    "                         ('clf', LogisticRegression(max_iter=200, multi_class='multinomial'))])\n",
    "        X_feat = X_train_raw[[feature_name]]\n",
    "    else:\n",
    "        pipe = Pipeline([\n",
    "            ('imputer', SimpleImputer(strategy='median')),\n",
    "            ('scaler', StandardScaler()),\n",
    "            ('clf', LogisticRegression(max_iter=200, multi_class='multinomial'))\n",
    "        ])\n",
    "        X_feat = X_train_raw[[feature_name]]\n",
    "\n",
    "    # Grouped CV by 'part' to simulate unseen parts\n",
    "    gkf = GroupKFold(n_splits=5)\n",
    "    f1_scores = []\n",
    "    for tr_idx, val_idx in gkf.split(X_feat, y_train, groups=groups_train):\n",
    "        X_tr, X_val = X_feat.iloc[tr_idx], X_feat.iloc[val_idx]\n",
    "        price_tr = df['price'].iloc[tr_idx]\n",
    "        price_val = df['price'].iloc[val_idx]\n",
    "        low_f, high_f = compute_thresholds_from_train(price_tr)\n",
    "        y_tr_f = bin_with_thresholds(price_tr, low_f, high_f)\n",
    "        y_val_f = bin_with_thresholds(price_val, low_f, high_f)\n",
    "        pipe.fit(X_tr, y_tr_f)\n",
    "        y_val_pred = pipe.predict(X_val)\n",
    "        f1_scores.append(f1_score(y_val_f, y_val_pred, average='macro'))\n",
    "    return np.mean(f1_scores)\n",
    "\n",
    "# Audit each feature (categorical + numeric) — target not included by construction\n",
    "audit_results = []\n",
    "for name in cat_cols_effective + num_all:\n",
    "    score = single_feature_cv_score(name)\n",
    "    audit_results.append((name, score))\n",
    "audit_results.sort(key=lambda x: x[1], reverse=True)\n",
    "\n",
    "# Warn-only to avoid blocking runs\n",
    "suspicious = [(n, s) for n, s in audit_results if s >= LEAKAGE_F1_THRESHOLD]\n",
    "if suspicious:\n",
    "    print(f\"WARNING: The following features individually exceeded the macro F1 threshold ({LEAKAGE_F1_THRESHOLD:.2f}):\")\n",
    "    for n, s in suspicious:\n",
    "        print(f\"  - {n}: macro F1={s:.4f}\")\n",
    "    print(\"Proceeding anyway per request to include all features except the target.\")\n",
    "else:\n",
    "    worst_name, worst_score = audit_results[0]\n",
    "    print(f\"No single feature breached the threshold ({LEAKAGE_F1_THRESHOLD:.2f}). \"\n",
    "          f\"Peak macro F1 = {worst_score:.4f} ({worst_name}).\")\n"
   ]
  },
  {
   "cell_type": "markdown",
   "id": "4cd2d72e",
   "metadata": {},
   "source": [
    "## SHAP Explanations"
   ]
  },
  {
   "cell_type": "code",
   "execution_count": 20,
   "id": "353d1f60",
   "metadata": {
    "execution": {
     "iopub.execute_input": "2025-09-24T19:05:38.671098Z",
     "iopub.status.busy": "2025-09-24T19:05:38.671098Z",
     "iopub.status.idle": "2025-09-24T19:05:38.936734Z",
     "shell.execute_reply": "2025-09-24T19:05:38.936734Z"
    }
   },
   "outputs": [
    {
     "name": "stdout",
     "output_type": "stream",
     "text": [
      "Reused in-memory model and preprocessor for SHAP computation.\n",
      "  X_train_proc shape: (5720, 23)\n",
      "  X_test_proc shape : (1932, 23)\n"
     ]
    }
   ],
   "source": [
    "import sys\n",
    "import subprocess\n",
    "import os\n",
    "from pathlib import Path\n",
    "\n",
    "def _ensure_import(module_name, pip_name=None):\n",
    "    try:\n",
    "        return __import__(module_name)\n",
    "    except ModuleNotFoundError:\n",
    "        pkg = pip_name or module_name\n",
    "        subprocess.check_call([sys.executable, '-m', 'pip', 'install', pkg, '-q'])\n",
    "        return __import__(module_name)\n",
    "\n",
    "_ensure_import('numpy')\n",
    "_ensure_import('pandas')\n",
    "_ensure_import('sklearn', 'scikit-learn')\n",
    "\n",
    "import numpy as np  # noqa: E402\n",
    "import pandas as pd  # noqa: E402\n",
    "from sklearn.model_selection import GroupShuffleSplit  # noqa: E402\n",
    "\n",
    "# Re-load the price data and feature metadata for SHAP reuse\n",
    "price_env = os.environ.get('PRICE_DATA_PATH', '').strip()\n",
    "candidates = [Path(p) for p in [price_env] if p] + [\n",
    "    Path('data') / 'Price.csv',\n",
    "    Path('..') / 'data' / 'Price.csv',\n",
    "]\n",
    "file_path = next((p for p in candidates if p.exists()), None)\n",
    "if file_path is None:\n",
    "    raise FileNotFoundError('Could not find Price.csv for SHAP reuse.')\n",
    "\n",
    "df_price = pd.read_csv(file_path)\n",
    "df_price.columns = df_price.columns.str.strip()\n",
    "df_price['price'] = pd.to_numeric(df_price['price'], errors='coerce')\n",
    "\n",
    "# Coerce numeric columns in the SHAP copy too\n",
    "numeric_cols_force = [\n",
    "    'number of cars in jordan',\n",
    "    'car age',\n",
    "    'failure rate',\n",
    "    'price of the car',\n",
    "    'repair or replacement cost',\n",
    "    'car total maintenance cost average',\n",
    "    'critically',\n",
    "    'online price',\n",
    "    'price',\n",
    "]\n",
    "for c in numeric_cols_force:\n",
    "    if c in df_price.columns:\n",
    "        df_price[c] = pd.to_numeric(df_price[c], errors='coerce')\n",
    "\n",
    "df_price.replace([np.inf, -np.inf], np.nan, inplace=True)\n",
    "\n",
    "epsilon = 1e-6\n",
    "with np.errstate(divide='ignore', invalid='ignore'):\n",
    "    if {'repair or replacement cost', 'price of the car'}.issubset(df_price.columns):\n",
    "        df_price['repair_to_car_price'] = df_price['repair or replacement cost'] / (df_price['price of the car'] + epsilon)\n",
    "    if {'repair or replacement cost', 'price'}.issubset(df_price.columns):\n",
    "        df_price['repair_to_price'] = df_price['repair or replacement cost'] / (df_price['price'] + epsilon)\n",
    "\n",
    "df_price.replace([np.inf, -np.inf], np.nan, inplace=True)\n",
    "\n",
    "# Load saved feature metadata\n",
    "metadata = load_feature_metadata(ARTIFACTS_METADATA_PATH)\n",
    "blocklist = set(metadata.get('blocklist', []))\n",
    "\n",
    "drop_cols = sorted(blocklist.intersection(df_price.columns))\n",
    "if drop_cols:\n",
    "    df_price = df_price.drop(columns=drop_cols)\n",
    "\n",
    "cat_cols_effective = metadata['feature_schema']['categorical']\n",
    "num_all = metadata['feature_schema']['numerical']\n",
    "\n",
    "X_all_price = df_price[cat_cols_effective + num_all].copy()\n",
    "groups_all_price = df_price['part'].astype(str)\n",
    "\n",
    "_gss = GroupShuffleSplit(n_splits=1, test_size=0.2, random_state=SEED)\n",
    "train_idx_shap, test_idx_shap = next(_gss.split(X_all_price, None, groups=groups_all_price))\n",
    "\n",
    "X_train_raw_shap = X_all_price.iloc[train_idx_shap]\n",
    "X_test_raw_shap = X_all_price.iloc[test_idx_shap]\n",
    "\n",
    "X_train_proc_shap = preprocessor.transform(X_train_raw_shap).astype('float32')\n",
    "X_test_proc_shap  = preprocessor.transform(X_test_raw_shap).astype('float32')\n",
    "\n",
    "print('Reused in-memory model and preprocessor for SHAP computation.')\n",
    "print('  X_train_proc shape:', getattr(X_train_proc_shap, 'shape', None))\n",
    "print('  X_test_proc shape :', getattr(X_test_proc_shap, 'shape', None))\n"
   ]
  },
  {
   "cell_type": "code",
   "execution_count": 21,
   "id": "45ccef71",
   "metadata": {
    "execution": {
     "iopub.execute_input": "2025-09-24T19:05:38.939148Z",
     "iopub.status.busy": "2025-09-24T19:05:38.939148Z",
     "iopub.status.idle": "2025-09-24T19:05:38.944676Z",
     "shell.execute_reply": "2025-09-24T19:05:38.944676Z"
    }
   },
   "outputs": [
    {
     "name": "stdout",
     "output_type": "stream",
     "text": [
      "n_features: 23\n",
      "first 10: ['number of cars in jordan', 'failure rate', 'repair or replacement cost', 'critically', 'car age', 'car total maintenance cost average', 'repair_to_car_price', 'car type=1', 'car type=2', 'car type=3']\n"
     ]
    }
   ],
   "source": [
    "import sys\n",
    "import subprocess\n",
    "import os\n",
    "from pathlib import Path\n",
    "\n",
    "def _ensure_import(module_name, pip_name=None):\n",
    "    try:\n",
    "        return __import__(module_name)\n",
    "    except ModuleNotFoundError:\n",
    "        pkg = pip_name or module_name\n",
    "        subprocess.check_call([sys.executable, '-m', 'pip', 'install', pkg, '-q'])\n",
    "        return __import__(module_name)\n",
    "\n",
    "_ensure_import('numpy')\n",
    "_ensure_import('pandas')\n",
    "_ensure_import('sklearn', 'scikit-learn')\n",
    "\n",
    "import numpy as np  # noqa: E402\n",
    "import pandas as pd  # noqa: E402\n",
    "from sklearn.model_selection import GroupShuffleSplit  # noqa: E402\n",
    "\n",
    "# Re-load the price data and feature metadata for SHAP reuse\n",
    "price_env = os.environ.get('PRICE_DATA_PATH', '').strip()\n",
    "candidates = [Path(p) for p in [price_env] if p] + [\n",
    "    Path('data') / 'Price.csv',\n",
    "    Path('..') / 'data' / 'Price.csv',\n",
    "]\n",
    "file_path = next((p for p in candidates if p.exists()), None)\n",
    "if file_path is None:\n",
    "    raise FileNotFoundError('Could not find Price.csv for SHAP reuse.')\n",
    "\n",
    "df_price = pd.read_csv(file_path)\n",
    "df_price.columns = df_price.columns.str.strip()\n",
    "\n",
    "numeric_cols_force = [\n",
    "    'number of cars in jordan',\n",
    "    'car age',\n",
    "    'failure rate',\n",
    "    'price of the car',\n",
    "    'repair or replacement cost',\n",
    "    'car total maintenance cost average',\n",
    "    'critically',\n",
    "    'online price',\n",
    "    'price',\n",
    "]\n",
    "for c in numeric_cols_force:\n",
    "    if c in df_price.columns:\n",
    "        df_price[c] = pd.to_numeric(df_price[c], errors='coerce')\n",
    "\n",
    "df_price.replace([np.inf, -np.inf], np.nan, inplace=True)\n",
    "\n",
    "epsilon = 1e-6  # reserved for any downstream checks that expect this symbol\n",
    "\n",
    "# Load saved feature metadata\n",
    "metadata = load_feature_metadata(ARTIFACTS_METADATA_PATH)\n",
    "blocklist = set(metadata.get('blocklist', []))\n",
    "\n",
    "# Only drop columns that are in the recorded blocklist\n",
    "drop_cols = sorted(blocklist.intersection(df_price.columns))\n",
    "if drop_cols:\n",
    "    df_price = df_price.drop(columns=drop_cols)\n",
    "\n",
    "cat_cols_effective = metadata['feature_schema']['categorical']\n",
    "num_all = metadata['feature_schema']['numerical']\n",
    "\n",
    "X_all_price = df_price[cat_cols_effective + num_all].copy()\n",
    "groups_all_price = df_price['part'].astype(str)\n",
    "\n",
    "_gss = GroupShuffleSplit(n_splits=1, test_size=0.2, random_state=SEED)\n",
    "train_idx_shap, test_idx_shap = next(_gss.split(X_all_price, None, groups=groups_all_price))\n",
    "\n",
    "X_train_raw_shap = X_all_price.iloc[train_idx_shap]\n",
    "X_test_raw_shap = X_all_price.iloc[test_idx_shap]\n",
    "\n",
    "X_train_proc_shap = preprocessor.transform(X_train_raw_shap).astype('float32')\n",
    "X_test_proc_shap  = preprocessor.transform(X_test_raw_shap).astype('float32')\n",
    "\n",
    "print('Reused in-memory model and preprocessor for SHAP computation.')\n",
    "print('  X_train_proc shape:', getattr(X_train_proc_shap, 'shape', None))\n",
    "print('  X_test_proc shape :', getattr(X_test_proc_shap, 'shape', None))\n"
   ]
  },
  {
   "cell_type": "code",
   "execution_count": 22,
   "id": "dfb1b8db",
   "metadata": {
    "execution": {
     "iopub.execute_input": "2025-09-24T19:05:38.946835Z",
     "iopub.status.busy": "2025-09-24T19:05:38.945811Z",
     "iopub.status.idle": "2025-09-24T19:05:41.580105Z",
     "shell.execute_reply": "2025-09-24T19:05:41.580105Z"
    }
   },
   "outputs": [
    {
     "name": "stdout",
     "output_type": "stream",
     "text": [
      "SHAP explainer: DeepExplainer\n"
     ]
    }
   ],
   "source": [
    "_ensure_import('shap', 'shap')\n",
    "import shap\n",
    "\n",
    "import platform\n",
    "\n",
    "rng = np.random.RandomState(SEED)\n",
    "X_bg = X_train_proc_shap\n",
    "X_eval = X_test_proc_shap if 'X_test_proc_shap' in globals() else X_train_proc_shap\n",
    "\n",
    "bg_size = min(100, X_bg.shape[0])\n",
    "explain_size = min(200, X_eval.shape[0])\n",
    "bg_idx = rng.choice(X_bg.shape[0], size=bg_size, replace=False)\n",
    "explain_idx = rng.choice(X_eval.shape[0], size=explain_size, replace=False)\n",
    "\n",
    "background = X_bg[bg_idx]\n",
    "X_explain = X_eval[explain_idx]\n",
    "\n",
    "if hasattr(background, 'toarray'):\n",
    "    background = background.toarray()\n",
    "if hasattr(X_explain, 'toarray'):\n",
    "    X_explain = X_explain.toarray()\n",
    "\n",
    "\n",
    "def _run_kernel_explainer(nsamples=100):\n",
    "    f = lambda x: model.predict(x, verbose=0)\n",
    "    explainer_loc = shap.KernelExplainer(f, background)\n",
    "    values = explainer_loc.shap_values(X_explain, nsamples=nsamples)\n",
    "    return explainer_loc, values\n",
    "\n",
    "prefer_kernel = (platform.system() == 'Darwin' and platform.machine().lower().startswith('arm'))\n",
    "\n",
    "if prefer_kernel:\n",
    "    print('Using KernelExplainer on Apple Silicon for stability.')\n",
    "    explainer, shap_values = _run_kernel_explainer()\n",
    "    method = 'KernelExplainer'\n",
    "else:\n",
    "    try:\n",
    "        explainer = shap.DeepExplainer(model, background)\n",
    "        shap_values = explainer.shap_values(X_explain)\n",
    "        method = 'DeepExplainer'\n",
    "    except Exception as err:\n",
    "        print('DeepExplainer failed, falling back to KernelExplainer:', err)\n",
    "        explainer, shap_values = _run_kernel_explainer()\n",
    "        method = 'KernelExplainer'\n",
    "\n",
    "print('SHAP explainer:', method)\n",
    "\n",
    "_shap_values = shap_values\n",
    "_X_explain = X_explain\n",
    "_background = background\n"
   ]
  },
  {
   "cell_type": "code",
   "execution_count": 23,
   "id": "0c770c84",
   "metadata": {
    "execution": {
     "iopub.execute_input": "2025-09-24T19:05:41.582184Z",
     "iopub.status.busy": "2025-09-24T19:05:41.582184Z",
     "iopub.status.idle": "2025-09-24T19:05:45.547832Z",
     "shell.execute_reply": "2025-09-24T19:05:45.546768Z"
    }
   },
   "outputs": [
    {
     "data": {
      "image/png": "[encoded data removed]",
      "text/plain": [
       "<Figure size 800x1070 with 1 Axes>"
      ]
     },
     "metadata": {},
     "output_type": "display_data"
    },
    {
     "data": {
      "image/png": "[encoded data removed]",
      "text/plain": [
       "<Figure size 800x1070 with 2 Axes>"
      ]
     },
     "metadata": {},
     "output_type": "display_data"
    },
    {
     "name": "stdout",
     "output_type": "stream",
     "text": [
      "Displayed SHAP beeswarm plot for low_price; top features listed above (not saved).\n"
     ]
    },
    {
     "data": {
      "image/png": "[encoded data removed]",
      "text/plain": [
       "<Figure size 800x1070 with 2 Axes>"
      ]
     },
     "metadata": {},
     "output_type": "display_data"
    },
    {
     "name": "stdout",
     "output_type": "stream",
     "text": [
      "Displayed SHAP beeswarm plot for high_price; top features listed above (not saved).\n",
      "Displayed SHAP summary plot and feature importance details in notebook (saved to figures/).\n",
      "Saved files:\n",
      "figures\\price_shap_summary.png\n",
      "figures\\price_shap_low_price.png\n",
      "figures\\price_shap_high_price.png\n"
     ]
    }
   ],
   "source": [
    "\n",
    "import matplotlib.pyplot as plt\n",
    "import numpy as np\n",
    "import pandas as pd\n",
    "\n",
    "figures_dir = Path('figures')\n",
    "figures_dir.mkdir(exist_ok=True)\n",
    "\n",
    "sv_raw = _shap_values\n",
    "X_explain = _X_explain.toarray() if hasattr(_X_explain, 'toarray') else _X_explain\n",
    "\n",
    "if isinstance(sv_raw, list):\n",
    "    shap_array = np.stack([np.array(s) for s in sv_raw], axis=-1)\n",
    "else:\n",
    "    shap_array = np.array(sv_raw)\n",
    "    if shap_array.ndim == 2:\n",
    "        shap_array = shap_array[..., np.newaxis]\n",
    "\n",
    "_shap_array = shap_array\n",
    "shap_abs = np.abs(shap_array).mean(axis=-1)\n",
    "\n",
    "plt.figure(figsize=(10, 6))\n",
    "shap.summary_plot(shap_abs, X_explain, feature_names=feature_names, plot_type='bar', show=False, max_display=25)\n",
    "plt.tight_layout()\n",
    "summary_path = figures_dir / 'price_shap_summary.png'\n",
    "plt.savefig(summary_path, dpi=300, bbox_inches='tight')\n",
    "plt.show()\n",
    "\n",
    "class_order = globals().get('class_order', list(range(shap_array.shape[-1])))\n",
    "class_indices = {cls: idx for idx, cls in enumerate(class_order) if idx < shap_array.shape[-1]}\n",
    "target_classes = {\n",
    "    'low_price': 0,\n",
    "    'high_price': 2,\n",
    "}\n",
    "\n",
    "for label, cls_id in target_classes.items():\n",
    "    if cls_id not in class_indices:\n",
    "        continue\n",
    "    cls_idx = class_indices[cls_id]\n",
    "    shap_class = shap_array[..., cls_idx]\n",
    "\n",
    "    plt.figure(figsize=(10, 6))\n",
    "    shap.summary_plot(shap_class, X_explain, feature_names=feature_names, show=False, max_display=25)\n",
    "    plt.tight_layout()\n",
    "    beeswarm_path = figures_dir / f'price_shap_{label}.png'\n",
    "    plt.savefig(beeswarm_path, dpi=300, bbox_inches='tight')\n",
    "    plt.show()\n",
    "\n",
    "    vals_cls = np.abs(shap_class).mean(axis=0)\n",
    "    fi_cls = pd.Series(vals_cls, index=feature_names).sort_values(ascending=False)\n",
    "    print(f\"Displayed SHAP beeswarm plot for {label}; top features listed above (not saved).\")\n",
    "\n",
    "vals = shap_abs.mean(axis=0)\n",
    "fi = pd.Series(vals, index=feature_names).sort_values(ascending=False)\n",
    "print('Displayed SHAP summary plot and feature importance details in notebook (saved to figures/).')\n",
    "print('Saved files:')\n",
    "print(summary_path)\n",
    "for label in target_classes:\n",
    "    print(figures_dir / f'price_shap_{label}.png')\n"
   ]
  }
 ],
 "metadata": {
  "kernelspec": {
   "display_name": ".venv",
   "language": "python",
   "name": "python3"
  },
  "language_info": {
   "codemirror_mode": {
    "name": "ipython",
    "version": 3
   },
   "file_extension": ".py",
   "mimetype": "text/x-python",
   "name": "python",
   "nbconvert_exporter": "python",
   "pygments_lexer": "ipython3",
   "version": "3.12.4"
  },
  "widgets": {
   "application/vnd.jupyter.widget-state+json": {
    "state": {
     "0ac002055556458ba3cf864c20fbc2f7": {
      "model_module": "@jupyter-widgets/controls",
      "model_module_version": "1.5.0",
      "model_name": "HTMLModel",
      "state": {
       "_dom_classes": [],
       "_model_module": "@jupyter-widgets/controls",
       "_model_module_version": "1.5.0",
       "_model_name": "HTMLModel",
       "_view_count": null,
       "_view_module": "@jupyter-widgets/controls",
       "_view_module_version": "1.5.0",
       "_view_name": "HTMLView",
       "description": "",
       "description_tooltip": null,
       "layout": "IPY_MODEL_bbf2e45268e940d39dc2fbf6dda123f1",
       "placeholder": "​",
       "style": "IPY_MODEL_3010f5412fdf4481a595c4256a81d61e",
       "value": " 200/200 [04:29&lt;00:00,  1.41s/it]"
      }
     },
     "1c76a579a32746fe8e0078e5cc617dea": {
      "model_module": "@jupyter-widgets/base",
      "model_module_version": "1.2.0",
      "model_name": "LayoutModel",
      "state": {
       "_model_module": "@jupyter-widgets/base",
       "_model_module_version": "1.2.0",
       "_model_name": "LayoutModel",
       "_view_count": null,
       "_view_module": "@jupyter-widgets/base",
       "_view_module_version": "1.2.0",
       "_view_name": "LayoutView",
       "align_content": null,
       "align_items": null,
       "align_self": null,
       "border": null,
       "bottom": null,
       "display": null,
       "flex": null,
       "flex_flow": null,
       "grid_area": null,
       "grid_auto_columns": null,
       "grid_auto_flow": null,
       "grid_auto_rows": null,
       "grid_column": null,
       "grid_gap": null,
       "grid_row": null,
       "grid_template_areas": null,
       "grid_template_columns": null,
       "grid_template_rows": null,
       "height": null,
       "justify_content": null,
       "justify_items": null,
       "left": null,
       "margin": null,
       "max_height": null,
       "max_width": null,
       "min_height": null,
       "min_width": null,
       "object_fit": null,
       "object_position": null,
       "order": null,
       "overflow": null,
       "overflow_x": null,
       "overflow_y": null,
       "padding": null,
       "right": null,
       "top": null,
       "visibility": null,
       "width": null
      }
     },
     "3010f5412fdf4481a595c4256a81d61e": {
      "model_module": "@jupyter-widgets/controls",
      "model_module_version": "1.5.0",
      "model_name": "DescriptionStyleModel",
      "state": {
       "_model_module": "@jupyter-widgets/controls",
       "_model_module_version": "1.5.0",
       "_model_name": "DescriptionStyleModel",
       "_view_count": null,
       "_view_module": "@jupyter-widgets/base",
       "_view_module_version": "1.2.0",
       "_view_name": "StyleView",
       "description_width": ""
      }
     },
     "328334e4615c4901af04d02f7dbb936c": {
      "model_module": "@jupyter-widgets/controls",
      "model_module_version": "1.5.0",
      "model_name": "DescriptionStyleModel",
      "state": {
       "_model_module": "@jupyter-widgets/controls",
       "_model_module_version": "1.5.0",
       "_model_name": "DescriptionStyleModel",
       "_view_count": null,
       "_view_module": "@jupyter-widgets/base",
       "_view_module_version": "1.2.0",
       "_view_name": "StyleView",
       "description_width": ""
      }
     },
     "3cd67f3365c049d992936e7ecb13e69a": {
      "model_module": "@jupyter-widgets/controls",
      "model_module_version": "1.5.0",
      "model_name": "HBoxModel",
      "state": {
       "_dom_classes": [],
       "_model_module": "@jupyter-widgets/controls",
       "_model_module_version": "1.5.0",
       "_model_name": "HBoxModel",
       "_view_count": null,
       "_view_module": "@jupyter-widgets/controls",
       "_view_module_version": "1.5.0",
       "_view_name": "HBoxView",
       "box_style": "",
       "children": [
        "IPY_MODEL_8fa1a58c12dc49a0873d26ee8ad7fed5",
        "IPY_MODEL_870dc39be4c8458aa6957e5c3cfe27fc",
        "IPY_MODEL_0ac002055556458ba3cf864c20fbc2f7"
       ],
       "layout": "IPY_MODEL_3ec310c7d2834f8facd8a92a0053133c"
      }
     },
     "3ec310c7d2834f8facd8a92a0053133c": {
      "model_module": "@jupyter-widgets/base",
      "model_module_version": "1.2.0",
      "model_name": "LayoutModel",
      "state": {
       "_model_module": "@jupyter-widgets/base",
       "_model_module_version": "1.2.0",
       "_model_name": "LayoutModel",
       "_view_count": null,
       "_view_module": "@jupyter-widgets/base",
       "_view_module_version": "1.2.0",
       "_view_name": "LayoutView",
       "align_content": null,
       "align_items": null,
       "align_self": null,
       "border": null,
       "bottom": null,
       "display": null,
       "flex": null,
       "flex_flow": null,
       "grid_area": null,
       "grid_auto_columns": null,
       "grid_auto_flow": null,
       "grid_auto_rows": null,
       "grid_column": null,
       "grid_gap": null,
       "grid_row": null,
       "grid_template_areas": null,
       "grid_template_columns": null,
       "grid_template_rows": null,
       "height": null,
       "justify_content": null,
       "justify_items": null,
       "left": null,
       "margin": null,
       "max_height": null,
       "max_width": null,
       "min_height": null,
       "min_width": null,
       "object_fit": null,
       "object_position": null,
       "order": null,
       "overflow": null,
       "overflow_x": null,
       "overflow_y": null,
       "padding": null,
       "right": null,
       "top": null,
       "visibility": null,
       "width": null
      }
     },
     "51fc1fa7f98544aca2ee5c211a125a1c": {
      "model_module": "@jupyter-widgets/controls",
      "model_module_version": "1.5.0",
      "model_name": "ProgressStyleModel",
      "state": {
       "_model_module": "@jupyter-widgets/controls",
       "_model_module_version": "1.5.0",
       "_model_name": "ProgressStyleModel",
       "_view_count": null,
       "_view_module": "@jupyter-widgets/base",
       "_view_module_version": "1.2.0",
       "_view_name": "StyleView",
       "bar_color": null,
       "description_width": ""
      }
     },
     "870dc39be4c8458aa6957e5c3cfe27fc": {
      "model_module": "@jupyter-widgets/controls",
      "model_module_version": "1.5.0",
      "model_name": "FloatProgressModel",
      "state": {
       "_dom_classes": [],
       "_model_module": "@jupyter-widgets/controls",
       "_model_module_version": "1.5.0",
       "_model_name": "FloatProgressModel",
       "_view_count": null,
       "_view_module": "@jupyter-widgets/controls",
       "_view_module_version": "1.5.0",
       "_view_name": "ProgressView",
       "bar_style": "success",
       "description": "",
       "description_tooltip": null,
       "layout": "IPY_MODEL_b9e76352283745318f0a784ef86c10ec",
       "max": 200,
       "min": 0,
       "orientation": "horizontal",
       "style": "IPY_MODEL_51fc1fa7f98544aca2ee5c211a125a1c",
       "value": 200
      }
     },
     "8fa1a58c12dc49a0873d26ee8ad7fed5": {
      "model_module": "@jupyter-widgets/controls",
      "model_module_version": "1.5.0",
      "model_name": "HTMLModel",
      "state": {
       "_dom_classes": [],
       "_model_module": "@jupyter-widgets/controls",
       "_model_module_version": "1.5.0",
       "_model_name": "HTMLModel",
       "_view_count": null,
       "_view_module": "@jupyter-widgets/controls",
       "_view_module_version": "1.5.0",
       "_view_name": "HTMLView",
       "description": "",
       "description_tooltip": null,
       "layout": "IPY_MODEL_1c76a579a32746fe8e0078e5cc617dea",
       "placeholder": "​",
       "style": "IPY_MODEL_328334e4615c4901af04d02f7dbb936c",
       "value": "100%"
      }
     },
     "b9e76352283745318f0a784ef86c10ec": {
      "model_module": "@jupyter-widgets/base",
      "model_module_version": "1.2.0",
      "model_name": "LayoutModel",
      "state": {
       "_model_module": "@jupyter-widgets/base",
       "_model_module_version": "1.2.0",
       "_model_name": "LayoutModel",
       "_view_count": null,
       "_view_module": "@jupyter-widgets/base",
       "_view_module_version": "1.2.0",
       "_view_name": "LayoutView",
       "align_content": null,
       "align_items": null,
       "align_self": null,
       "border": null,
       "bottom": null,
       "display": null,
       "flex": null,
       "flex_flow": null,
       "grid_area": null,
       "grid_auto_columns": null,
       "grid_auto_flow": null,
       "grid_auto_rows": null,
       "grid_column": null,
       "grid_gap": null,
       "grid_row": null,
       "grid_template_areas": null,
       "grid_template_columns": null,
       "grid_template_rows": null,
       "height": null,
       "justify_content": null,
       "justify_items": null,
       "left": null,
       "margin": null,
       "max_height": null,
       "max_width": null,
       "min_height": null,
       "min_width": null,
       "object_fit": null,
       "object_position": null,
       "order": null,
       "overflow": null,
       "overflow_x": null,
       "overflow_y": null,
       "padding": null,
       "right": null,
       "top": null,
       "visibility": null,
       "width": null
      }
     },
     "bbf2e45268e940d39dc2fbf6dda123f1": {
      "model_module": "@jupyter-widgets/base",
      "model_module_version": "1.2.0",
      "model_name": "LayoutModel",
      "state": {
       "_model_module": "@jupyter-widgets/base",
       "_model_module_version": "1.2.0",
       "_model_name": "LayoutModel",
       "_view_count": null,
       "_view_module": "@jupyter-widgets/base",
       "_view_module_version": "1.2.0",
       "_view_name": "LayoutView",
       "align_content": null,
       "align_items": null,
       "align_self": null,
       "border": null,
       "bottom": null,
       "display": null,
       "flex": null,
       "flex_flow": null,
       "grid_area": null,
       "grid_auto_columns": null,
       "grid_auto_flow": null,
       "grid_auto_rows": null,
       "grid_column": null,
       "grid_gap": null,
       "grid_row": null,
       "grid_template_areas": null,
       "grid_template_columns": null,
       "grid_template_rows": null,
       "height": null,
       "justify_content": null,
       "justify_items": null,
       "left": null,
       "margin": null,
       "max_height": null,
       "max_width": null,
       "min_height": null,
       "min_width": null,
       "object_fit": null,
       "object_position": null,
       "order": null,
       "overflow": null,
       "overflow_x": null,
       "overflow_y": null,
       "padding": null,
       "right": null,
       "top": null,
       "visibility": null,
       "width": null
      }
     }
    },
    "version_major": 2,
    "version_minor": 0
   }
  }
 },
 "nbformat": 4,
 "nbformat_minor": 5
}

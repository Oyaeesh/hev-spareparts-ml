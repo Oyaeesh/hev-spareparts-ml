{
 "cells": [
  {
   "cell_type": "markdown",
   "id": "final-overview",
   "metadata": {},
   "source": [
    "# Hybrid EV Spare Parts Demand Classification\n",
    "_Final consolidated script (ANN + benchmarks) with all edits applied_\n"
   ]
  },
  {
   "cell_type": "markdown",
   "id": "final-imports-reproducibility-md",
   "metadata": {},
   "source": [
    "# Imports & Reproducibility\n"
   ]
  },
  {
   "cell_type": "code",
   "execution_count": 1,
   "id": "final-imports-reproducibility",
   "metadata": {
    "execution": {
     "iopub.execute_input": "2025-09-27T13:01:02.900615Z",
     "iopub.status.busy": "2025-09-27T13:01:02.898597Z",
     "iopub.status.idle": "2025-09-27T13:01:40.739936Z",
     "shell.execute_reply": "2025-09-27T13:01:40.737380Z"
    }
   },
   "outputs": [],
   "source": [
    "import warnings\n",
    "warnings.filterwarnings(\"ignore\")\n",
    "import sys\n",
    "import subprocess\n",
    "import platform\n",
    "\n",
    "def _ensure_import(module_name, pip_name=None):\n",
    "    try:\n",
    "        return __import__(module_name)\n",
    "    except ModuleNotFoundError:\n",
    "        pkg = pip_name or module_name\n",
    "        subprocess.check_call([sys.executable, '-m', 'pip', 'install', pkg, '-q'])\n",
    "        return __import__(module_name)\n",
    "\n",
    "_ensure_import('seaborn', 'seaborn')\n",
    "_ensure_import('sklearn', 'scikit-learn')\n",
    "_ensure_import('joblib', 'joblib')\n",
    "_ensure_import('numpy', 'numpy')\n",
    "_ensure_import('pandas', 'pandas')\n",
    "_ensure_import('matplotlib', 'matplotlib')\n",
    "system = platform.system()\n",
    "machine = platform.machine().lower()\n",
    "tf_pkg = 'tensorflow'\n",
    "if system == 'Windows':\n",
    "    tf_pkg = 'tensorflow-cpu'\n",
    "elif system == 'Darwin' and 'arm' in machine:\n",
    "    tf_pkg = 'tensorflow-macos'\n",
    "_ensure_import('tensorflow', tf_pkg)\n",
    "\n",
    "\n",
    "\n",
    "import os\n",
    "os.environ[\"TF_DETERMINISTIC_OPS\"] = \"1\"\n",
    "\n",
    "import json\n",
    "import itertools\n",
    "import hashlib\n",
    "from pathlib import Path\n",
    "\n",
    "import numpy as np\n",
    "import pandas as pd\n",
    "import matplotlib.pyplot as plt\n",
    "import seaborn as sns\n",
    "\n",
    "from sklearn.model_selection import GroupShuffleSplit, GroupKFold\n",
    "from sklearn.preprocessing import StandardScaler, OneHotEncoder, FunctionTransformer\n",
    "from sklearn.compose import ColumnTransformer\n",
    "from sklearn.pipeline import Pipeline\n",
    "from sklearn.metrics import (\n",
    "    confusion_matrix, classification_report, accuracy_score, f1_score\n",
    ")\n",
    "from sklearn.impute import SimpleImputer\n",
    "from sklearn.linear_model import LogisticRegression, SGDClassifier\n",
    "from sklearn.svm import SVC\n",
    "from sklearn.ensemble import ExtraTreesClassifier\n",
    "from sklearn.discriminant_analysis import LinearDiscriminantAnalysis as LDA\n",
    "from sklearn.utils.class_weight import compute_class_weight\n",
    "\n",
    "import joblib\n",
    "\n",
    "import tensorflow as tf\n",
    "from tensorflow.keras import regularizers\n",
    "from tensorflow.keras.models import Sequential\n",
    "from tensorflow.keras.layers import Dense, Dropout\n",
    "from tensorflow.keras.optimizers import Adam\n",
    "from tensorflow.keras.callbacks import EarlyStopping, ReduceLROnPlateau\n",
    "\n",
    "# Seeds\n",
    "SEED = 42\n",
    "np.random.seed(SEED)\n",
    "tf.random.set_seed(SEED)\n",
    "\n"
   ]
  },
  {
   "cell_type": "markdown",
   "id": "final-config-md",
   "metadata": {},
   "source": [
    "# Config\n"
   ]
  },
  {
   "cell_type": "code",
   "execution_count": 2,
   "id": "final-config",
   "metadata": {
    "execution": {
     "iopub.execute_input": "2025-09-27T13:01:40.748636Z",
     "iopub.status.busy": "2025-09-27T13:01:40.745981Z",
     "iopub.status.idle": "2025-09-27T13:01:40.769528Z",
     "shell.execute_reply": "2025-09-27T13:01:40.766763Z"
    }
   },
   "outputs": [],
   "source": [
    "# Exclude 'part' from features (still used for grouping)\n",
    "DROP_PART = True\n",
    "\n",
    "# ANN hyperparameter grid (exhaustive but small)\n",
    "GRID = {\n",
    "    'num_layers':    [1, 2, 3],\n",
    "    'units':         [16, 32],\n",
    "    'dropout_rate':  [0.0, 0.2],\n",
    "    'l2_reg':        [0.0, 1e-4],\n",
    "    'learning_rate': [1e-3, 3e-3, 1e-2]\n",
    "}\n",
    "\n",
    "# Small grids for the classical models\n",
    "GRIDS_CLASSIC = {\n",
    "    \"svc_rbf\": {\"C\": [1.0, 3.0], \"gamma\": [\"scale\", \"auto\"]},\n",
    "    \"logreg\":  {\"C\": [0.3, 1.0, 3.0], \"solver\": [\"lbfgs\"], \"max_iter\": [2000]},\n",
    "    \"et\":      {\"n_estimators\": [200, 300], \"max_depth\": [14, 18], \"min_samples_leaf\": [4, 6]},\n",
    "    \"sgd\":     {\"loss\": [\"log_loss\"], \"alpha\": [1e-4, 1e-3], \"max_iter\": [2000], \"random_state\": [SEED]},\n",
    "    \"lda\":     {\"solver\": [\"svd\"]},\n",
    "}\n",
    "\n",
    "MODEL_ZOO = {\n",
    "    \"svc_rbf\": {\n",
    "        \"label\": \"SVC (RBF)\",\n",
    "        \"factory\": lambda p: SVC(**p),\n",
    "        \"style\": \"scale\",\n",
    "    },\n",
    "    \"logreg\": {\n",
    "        \"label\": \"LogisticRegression\",\n",
    "        \"factory\": lambda p: LogisticRegression(multi_class=\"multinomial\", **p),\n",
    "        \"style\": \"scale\",\n",
    "    },\n",
    "    \"et\": {\n",
    "        \"label\": \"ExtraTrees\",\n",
    "        \"factory\": lambda p: ExtraTreesClassifier(random_state=SEED, n_jobs=-1, **p),\n",
    "        \"style\": \"tree\",\n",
    "    },\n",
    "    \"sgd\": {\n",
    "        \"label\": \"SGDClassifier (log_loss)\",\n",
    "        \"factory\": lambda p: SGDClassifier(**p),\n",
    "        \"style\": \"scale\",\n",
    "    },\n",
    "    \"lda\": {\n",
    "        \"label\": \"LinearDiscriminantAnalysis\",\n",
    "        \"factory\": lambda p: LDA(**p),\n",
    "        \"style\": \"scale\",\n",
    "    },\n",
    "}\n",
    "MODEL_KEYS = [\"svc_rbf\", \"logreg\", \"et\", \"sgd\", \"lda\"]\n",
    "\n"
   ]
  },
  {
   "cell_type": "markdown",
   "id": "final-load-clean-md",
   "metadata": {},
   "source": [
    "# Load & clean\n"
   ]
  },
  {
   "cell_type": "code",
   "execution_count": 3,
   "id": "final-load-clean",
   "metadata": {
    "execution": {
     "iopub.execute_input": "2025-09-27T13:01:40.775633Z",
     "iopub.status.busy": "2025-09-27T13:01:40.774609Z",
     "iopub.status.idle": "2025-09-27T13:01:43.287604Z",
     "shell.execute_reply": "2025-09-27T13:01:43.285484Z"
    }
   },
   "outputs": [
    {
     "name": "stdout",
     "output_type": "stream",
     "text": [
      "Using file: \\\\oochcfs10\\users\\oaliyaeesh\\DOWNLOADS\\hev-spareparts-ml\\data\\demand.csv\n",
      "Initial shape: (7652, 16)\n",
      "Dropping 60 duplicate rows\n"
     ]
    }
   ],
   "source": [
    "# Support environment override, then common relative paths\n",
    "data_env = os.environ.get(\"DEMAND_DATA_PATH\", \"\").strip()\n",
    "candidates = [Path(p) for p in [data_env] if p] + [\n",
    "    Path(\"data\") / \"demand.csv\",\n",
    "    Path(\"..\") / \"data\" / \"demand.csv\",\n",
    "]\n",
    "file_path = None\n",
    "for p in candidates:\n",
    "    if p.exists():\n",
    "        file_path = p\n",
    "        break\n",
    "if file_path is None:\n",
    "    raise FileNotFoundError(\"Could not find demand.csv. Set DEMAND_DATA_PATH or place the file in data/ or ../data/.\")\n",
    "\n",
    "df = pd.read_csv(file_path)\n",
    "df.columns = df.columns.str.strip()\n",
    "print(\"Using file:\", file_path.resolve())\n",
    "print(\"Initial shape:\", df.shape)\n",
    "\n",
    "# Drop exact duplicates\n",
    "dup_count = df.duplicated().sum()\n",
    "if dup_count:\n",
    "    print(f\"Dropping {dup_count} duplicate rows\")\n",
    "    df = df.drop_duplicates().reset_index(drop=True)\n",
    "\n"
   ]
  },
  {
   "cell_type": "markdown",
   "id": "final-feature-schema-md",
   "metadata": {},
   "source": [
    "# Feature schema\n"
   ]
  },
  {
   "cell_type": "code",
   "execution_count": 4,
   "id": "final-feature-schema",
   "metadata": {
    "execution": {
     "iopub.execute_input": "2025-09-27T13:01:43.296161Z",
     "iopub.status.busy": "2025-09-27T13:01:43.294062Z",
     "iopub.status.idle": "2025-09-27T13:01:43.331187Z",
     "shell.execute_reply": "2025-09-27T13:01:43.325466Z"
    }
   },
   "outputs": [],
   "source": [
    "# Keep the exact strings as present in your CSV.\n",
    "cat_cols = [\n",
    "    'car type',\n",
    "    'made in',\n",
    "    'original/imitator',\n",
    "    'new\\\\used',\n",
    "    'selling location',\n",
    "    'service location (repair shop/automotive company',\n",
    "    'part'  # identity-like\n",
    "]\n",
    "num_all = [\n",
    "    'number of cars in jordan',\n",
    "    'car age',\n",
    "    'failure rate',\n",
    "    'price of the car',\n",
    "    'repair or replacement cost',\n",
    "    'critically',                         # ensure this matches the CSV header\n",
    "    'on line price',\n",
    "    'car total maintenance cost average'  # numeric\n",
    "]\n",
    "\n",
    "required_cols = cat_cols + num_all + ['demand']\n",
    "missing_cols = [c for c in required_cols if c not in df.columns]\n",
    "if missing_cols:\n",
    "    raise ValueError(f\"Missing expected columns: {missing_cols}\")\n",
    "\n",
    "cat_cols_effective = [c for c in cat_cols if not (DROP_PART and c == 'part')]\n",
    "X_all = df[cat_cols_effective + num_all].copy()\n",
    "groups_all = df['part'].astype(str)  # for grouped splits\n",
    "\n",
    "# Numeric columns that benefit from log1p\n",
    "skewed_cols = [\n",
    "    'on line price',\n",
    "    'number of cars in jordan',\n",
    "    'failure rate',\n",
    "    'repair or replacement cost',\n",
    "    'critically',\n",
    "    'price of the car'\n",
    "]\n",
    "other_num_cols = [c for c in num_all if c not in skewed_cols]\n",
    "\n"
   ]
  },
  {
   "cell_type": "markdown",
   "id": "final-helper-functions-md",
   "metadata": {},
   "source": [
    "# Helper functions\n"
   ]
  },
  {
   "cell_type": "code",
   "execution_count": 5,
   "id": "final-helper-functions",
   "metadata": {
    "execution": {
     "iopub.execute_input": "2025-09-27T13:01:43.339428Z",
     "iopub.status.busy": "2025-09-27T13:01:43.337760Z",
     "iopub.status.idle": "2025-09-27T13:01:43.380305Z",
     "shell.execute_reply": "2025-09-27T13:01:43.375701Z"
    }
   },
   "outputs": [],
   "source": [
    "def compute_thresholds_from_train(demand_series, q_low=0.33, q_high=0.66):\n",
    "    q = demand_series.quantile([q_low, q_high])\n",
    "    return float(q.loc[q_low]), float(q.loc[q_high])\n",
    "\n",
    "def bin_with_thresholds(demand_series, low_thr, high_thr):\n",
    "    # Note: pd.cut ties at exact quantiles fall into the higher bin by default\n",
    "    return pd.cut(\n",
    "        demand_series,\n",
    "        bins=[-np.inf, low_thr, high_thr, np.inf],\n",
    "        labels=[0, 1, 2]\n",
    "    ).astype(int)\n",
    "\n",
    "def make_preprocessor(style: str) -> ColumnTransformer:\n",
    "    \"\"\"Return a ColumnTransformer adapted to the model style.\"\"\"\n",
    "    if style == \"scale\":\n",
    "        num_skew = Pipeline([\n",
    "            ('imputer', SimpleImputer(strategy='median')),\n",
    "            ('log1p', FunctionTransformer(np.log1p, validate=False)),\n",
    "            ('scaler', StandardScaler())\n",
    "        ])\n",
    "        num_plain = Pipeline([\n",
    "            ('imputer', SimpleImputer(strategy='median')),\n",
    "            ('scaler', StandardScaler())\n",
    "        ])\n",
    "    elif style == \"tree\":\n",
    "        num_skew = Pipeline([\n",
    "            ('imputer', SimpleImputer(strategy='median')),\n",
    "            ('log1p', FunctionTransformer(np.log1p, validate=False))\n",
    "        ])  # no scaler\n",
    "        num_plain = Pipeline([\n",
    "            ('imputer', SimpleImputer(strategy='median'))\n",
    "        ])\n",
    "    else:\n",
    "        raise ValueError(f\"Unknown preprocessor style: {style}\")\n",
    "\n",
    "    # OHE dense for compatibility across versions\n",
    "    try:\n",
    "        cat = Pipeline([\n",
    "            ('imputer', SimpleImputer(strategy='most_frequent')),\n",
    "            ('ohe', OneHotEncoder(handle_unknown='ignore', sparse_output=False))\n",
    "        ])\n",
    "    except TypeError:\n",
    "        cat = Pipeline([\n",
    "            ('imputer', SimpleImputer(strategy='most_frequent')),\n",
    "            ('ohe', OneHotEncoder(handle_unknown='ignore', sparse=False))\n",
    "        ])\n",
    "\n",
    "    return ColumnTransformer(\n",
    "        transformers=[\n",
    "            ('num_skew', num_skew,   skewed_cols),\n",
    "            ('num',      num_plain,  other_num_cols),\n",
    "            ('cat',      cat,        cat_cols_effective)\n",
    "        ],\n",
    "        remainder='drop'\n",
    "    )\n",
    "\n",
    "def build_ann(input_dim, num_layers, units, dropout_rate, l2_reg, learning_rate, num_classes=3):\n",
    "    tf.keras.backend.clear_session()\n",
    "    model = Sequential()\n",
    "    reg = regularizers.l2(l2_reg) if l2_reg and l2_reg > 0 else None\n",
    "    for i in range(num_layers):\n",
    "        if i == 0:\n",
    "            model.add(Dense(units, activation='relu', kernel_regularizer=reg, input_shape=(input_dim,)))\n",
    "        else:\n",
    "            model.add(Dense(units, activation='relu', kernel_regularizer=reg))\n",
    "        if dropout_rate and dropout_rate > 0:\n",
    "            model.add(Dropout(dropout_rate))\n",
    "    model.add(Dense(num_classes, activation='softmax'))\n",
    "    model.compile(optimizer=Adam(learning_rate=learning_rate),\n",
    "                  loss='sparse_categorical_crossentropy',\n",
    "                  metrics=['accuracy'])\n",
    "    return model\n",
    "\n",
    "def grid_dict_product(grid):\n",
    "    keys = list(grid.keys())\n",
    "    for values in itertools.product(*(grid[k] for k in keys)):\n",
    "        yield dict(zip(keys, values))\n",
    "\n",
    "def hash_rows(df_like):\n",
    "    \"\"\"Create a stable hash per row using the actual feature columns used by the model.\"\"\"\n",
    "    str_df = df_like.copy()\n",
    "    for c in str_df.columns:\n",
    "        if pd.api.types.is_float_dtype(str_df[c]) or pd.api.types.is_integer_dtype(str_df[c]):\n",
    "            str_df[c] = str_df[c].astype(float).map(lambda x: f\"{x:.12g}\")\n",
    "        else:\n",
    "            str_df[c] = str_df[c].astype(str)\n",
    "    concat = str_df.apply(lambda r: '||'.join(r.values.astype(str)), axis=1)\n",
    "    return concat.map(lambda s: hashlib.md5(s.encode('utf-8')).hexdigest())\n",
    "\n"
   ]
  },
  {
   "cell_type": "markdown",
   "id": "final-basic-dataset-profile-md",
   "metadata": {},
   "source": [
    "# Basic dataset profile\n"
   ]
  },
  {
   "cell_type": "code",
   "execution_count": 6,
   "id": "final-basic-dataset-profile",
   "metadata": {
    "execution": {
     "iopub.execute_input": "2025-09-27T13:01:43.389839Z",
     "iopub.status.busy": "2025-09-27T13:01:43.388377Z",
     "iopub.status.idle": "2025-09-27T13:01:43.427340Z",
     "shell.execute_reply": "2025-09-27T13:01:43.423664Z"
    }
   },
   "outputs": [
    {
     "name": "stdout",
     "output_type": "stream",
     "text": [
      "n_rows: 7592 n_unique_parts: 36\n",
      "Rows per part (describe):\n"
     ]
    },
    {
     "name": "stdout",
     "output_type": "stream",
     "text": [
      "count     36.000000\n",
      "mean     210.888889\n",
      "std       59.474738\n",
      "min       40.000000\n",
      "25%      188.000000\n",
      "50%      188.000000\n",
      "75%      235.500000\n",
      "max      340.000000\n",
      "Name: count, dtype: float64\n"
     ]
    }
   ],
   "source": [
    "print(\"n_rows:\", len(df), \"n_unique_parts:\", df['part'].nunique())\n",
    "print(\"Rows per part (describe):\")\n",
    "print(df['part'].value_counts().describe())\n",
    "\n"
   ]
  },
  {
   "cell_type": "markdown",
   "id": "final-per-part-purity-leakage-hint-md",
   "metadata": {},
   "source": [
    "# Per-part purity (leakage hint)\n"
   ]
  },
  {
   "cell_type": "code",
   "execution_count": 7,
   "id": "final-per-part-purity-leakage-hint",
   "metadata": {
    "execution": {
     "iopub.execute_input": "2025-09-27T13:01:43.436272Z",
     "iopub.status.busy": "2025-09-27T13:01:43.434262Z",
     "iopub.status.idle": "2025-09-27T13:01:43.532535Z",
     "shell.execute_reply": "2025-09-27T13:01:43.527478Z"
    }
   },
   "outputs": [
    {
     "name": "stdout",
     "output_type": "stream",
     "text": [
      "\n",
      "Per-part purity, top 10:\n",
      "part\n",
      "2     1.000000\n",
      "1     0.900000\n",
      "29    0.829787\n",
      "6     0.796748\n",
      "24    0.739130\n",
      "36    0.702128\n",
      "18    0.659574\n",
      "20    0.609524\n",
      "10    0.608696\n",
      "15    0.595745\n",
      "dtype: float64\n",
      "Mean per-part purity: 0.5293\n"
     ]
    }
   ],
   "source": [
    "tmp_low, tmp_high = compute_thresholds_from_train(df['demand'])  # approximate\n",
    "tmp_y = bin_with_thresholds(df['demand'], tmp_low, tmp_high)\n",
    "part_class_counts = pd.crosstab(df['part'], tmp_y)\n",
    "part_purity = part_class_counts.max(axis=1) / part_class_counts.sum(axis=1)\n",
    "print(\"\\nPer-part purity, top 10:\")\n",
    "print(part_purity.sort_values(ascending=False).head(10))\n",
    "print(f\"Mean per-part purity: {part_purity.mean():.4f}\")\n",
    "\n"
   ]
  },
  {
   "cell_type": "markdown",
   "id": "final-outer-grouped-train-test-split-md",
   "metadata": {},
   "source": [
    "# Outer grouped train/test split\n"
   ]
  },
  {
   "cell_type": "code",
   "execution_count": 8,
   "id": "final-outer-grouped-train-test-split",
   "metadata": {
    "execution": {
     "iopub.execute_input": "2025-09-27T13:01:43.541553Z",
     "iopub.status.busy": "2025-09-27T13:01:43.540553Z",
     "iopub.status.idle": "2025-09-27T13:01:43.621579Z",
     "shell.execute_reply": "2025-09-27T13:01:43.619028Z"
    }
   },
   "outputs": [
    {
     "name": "stdout",
     "output_type": "stream",
     "text": [
      "\n",
      "Train-only thresholds: 33%=1.800064, 66%=5.589000\n",
      "\n",
      "Class distribution (train):\n",
      "demand\n",
      "0    1917\n",
      "1    1861\n",
      "2    1942\n",
      "Name: count, dtype: int64\n",
      "Class distribution (test):\n",
      "demand\n",
      "0    636\n",
      "1    632\n",
      "2    604\n",
      "Name: count, dtype: int64\n"
     ]
    }
   ],
   "source": [
    "gss = GroupShuffleSplit(n_splits=1, test_size=0.2, random_state=SEED)\n",
    "train_idx, test_idx = next(gss.split(X_all, None, groups=groups_all))\n",
    "\n",
    "X_train_raw, X_test_raw = X_all.iloc[train_idx], X_all.iloc[test_idx]\n",
    "groups_train, groups_test = groups_all.iloc[train_idx], groups_all.iloc[test_idx]\n",
    "demand_train, demand_test = df['demand'].iloc[train_idx], df['demand'].iloc[test_idx]\n",
    "\n",
    "# Create labels using thresholds from TRAIN ONLY\n",
    "low_thr, high_thr = compute_thresholds_from_train(demand_train)\n",
    "print(f\"\\nTrain-only thresholds: 33%={low_thr:.6f}, 66%={high_thr:.6f}\")\n",
    "y_train = bin_with_thresholds(demand_train, low_thr, high_thr)\n",
    "y_test  = bin_with_thresholds(demand_test,  low_thr, high_thr)\n",
    "\n",
    "# Class distribution check\n",
    "print(\"\\nClass distribution (train):\")\n",
    "print(y_train.value_counts().sort_index())\n",
    "print(\"Class distribution (test):\")\n",
    "print(y_test.value_counts().sort_index())\n",
    "\n"
   ]
  },
  {
   "cell_type": "markdown",
   "id": "final-row-hash-overlap-audit-md",
   "metadata": {},
   "source": [
    "# Row-hash overlap audit\n"
   ]
  },
  {
   "cell_type": "code",
   "execution_count": 9,
   "id": "final-row-hash-overlap-audit",
   "metadata": {
    "execution": {
     "iopub.execute_input": "2025-09-27T13:01:43.628577Z",
     "iopub.status.busy": "2025-09-27T13:01:43.627575Z",
     "iopub.status.idle": "2025-09-27T13:01:44.333082Z",
     "shell.execute_reply": "2025-09-27T13:01:44.330558Z"
    }
   },
   "outputs": [
    {
     "name": "stdout",
     "output_type": "stream",
     "text": [
      "\n",
      "Row-hash overlap between train and test using model features: 0 rows\n"
     ]
    }
   ],
   "source": [
    "train_hash = hash_rows(X_train_raw)\n",
    "test_hash  = hash_rows(X_test_raw)\n",
    "overlap = set(train_hash).intersection(set(test_hash))\n",
    "print(f\"\\nRow-hash overlap between train and test using model features: {len(overlap)} rows\")\n",
    "if len(overlap) > 0:\n",
    "    print(\"WARNING: Identical feature rows detected across train and test. Investigate potential duplicates.\")\n",
    "\n"
   ]
  },
  {
   "cell_type": "markdown",
   "id": "final-ann-grid-search-on-grouped-inner-split-md",
   "metadata": {},
   "source": [
    "# ANN grid search on grouped inner split\n"
   ]
  },
  {
   "cell_type": "code",
   "execution_count": 10,
   "id": "final-ann-grid-search-on-grouped-inner-split",
   "metadata": {
    "execution": {
     "iopub.execute_input": "2025-09-27T13:01:44.341248Z",
     "iopub.status.busy": "2025-09-27T13:01:44.340244Z",
     "iopub.status.idle": "2025-09-27T13:53:09.558591Z",
     "shell.execute_reply": "2025-09-27T13:53:09.557061Z"
    }
   },
   "outputs": [
    {
     "name": "stdout",
     "output_type": "stream",
     "text": [
      "\n",
      "Starting ANN exhaustive grid search over 72 combinations...\n",
      "Config 1/72: {'num_layers': 1, 'units': 16, 'dropout_rate': 0.0, 'l2_reg': 0.0, 'learning_rate': 0.001}\n"
     ]
    },
    {
     "name": "stdout",
     "output_type": "stream",
     "text": [
      "WARNING:tensorflow:From C:\\Users\\oaliyaeesh\\AppData\\Local\\Programs\\Python\\Python312\\Lib\\site-packages\\keras\\src\\backend\\common\\global_state.py:82: The name tf.reset_default_graph is deprecated. Please use tf.compat.v1.reset_default_graph instead.\n",
      "\n"
     ]
    },
    {
     "name": "stdout",
     "output_type": "stream",
     "text": [
      "Config 2/72: {'num_layers': 1, 'units': 16, 'dropout_rate': 0.0, 'l2_reg': 0.0, 'learning_rate': 0.003}\n"
     ]
    },
    {
     "name": "stdout",
     "output_type": "stream",
     "text": [
      "Config 3/72: {'num_layers': 1, 'units': 16, 'dropout_rate': 0.0, 'l2_reg': 0.0, 'learning_rate': 0.01}\n"
     ]
    },
    {
     "name": "stdout",
     "output_type": "stream",
     "text": [
      "Config 4/72: {'num_layers': 1, 'units': 16, 'dropout_rate': 0.0, 'l2_reg': 0.0001, 'learning_rate': 0.001}\n"
     ]
    },
    {
     "name": "stdout",
     "output_type": "stream",
     "text": [
      "Config 5/72: {'num_layers': 1, 'units': 16, 'dropout_rate': 0.0, 'l2_reg': 0.0001, 'learning_rate': 0.003}\n"
     ]
    },
    {
     "name": "stdout",
     "output_type": "stream",
     "text": [
      "Config 6/72: {'num_layers': 1, 'units': 16, 'dropout_rate': 0.0, 'l2_reg': 0.0001, 'learning_rate': 0.01}\n"
     ]
    },
    {
     "name": "stdout",
     "output_type": "stream",
     "text": [
      "Config 7/72: {'num_layers': 1, 'units': 16, 'dropout_rate': 0.2, 'l2_reg': 0.0, 'learning_rate': 0.001}\n"
     ]
    },
    {
     "name": "stdout",
     "output_type": "stream",
     "text": [
      "Config 8/72: {'num_layers': 1, 'units': 16, 'dropout_rate': 0.2, 'l2_reg': 0.0, 'learning_rate': 0.003}\n"
     ]
    },
    {
     "name": "stdout",
     "output_type": "stream",
     "text": [
      "Config 9/72: {'num_layers': 1, 'units': 16, 'dropout_rate': 0.2, 'l2_reg': 0.0, 'learning_rate': 0.01}\n"
     ]
    },
    {
     "name": "stdout",
     "output_type": "stream",
     "text": [
      "Config 10/72: {'num_layers': 1, 'units': 16, 'dropout_rate': 0.2, 'l2_reg': 0.0001, 'learning_rate': 0.001}\n"
     ]
    },
    {
     "name": "stdout",
     "output_type": "stream",
     "text": [
      "Config 11/72: {'num_layers': 1, 'units': 16, 'dropout_rate': 0.2, 'l2_reg': 0.0001, 'learning_rate': 0.003}\n"
     ]
    },
    {
     "name": "stdout",
     "output_type": "stream",
     "text": [
      "Config 12/72: {'num_layers': 1, 'units': 16, 'dropout_rate': 0.2, 'l2_reg': 0.0001, 'learning_rate': 0.01}\n"
     ]
    },
    {
     "name": "stdout",
     "output_type": "stream",
     "text": [
      "Config 13/72: {'num_layers': 1, 'units': 32, 'dropout_rate': 0.0, 'l2_reg': 0.0, 'learning_rate': 0.001}\n"
     ]
    },
    {
     "name": "stdout",
     "output_type": "stream",
     "text": [
      "Config 14/72: {'num_layers': 1, 'units': 32, 'dropout_rate': 0.0, 'l2_reg': 0.0, 'learning_rate': 0.003}\n"
     ]
    },
    {
     "name": "stdout",
     "output_type": "stream",
     "text": [
      "Config 15/72: {'num_layers': 1, 'units': 32, 'dropout_rate': 0.0, 'l2_reg': 0.0, 'learning_rate': 0.01}\n"
     ]
    },
    {
     "name": "stdout",
     "output_type": "stream",
     "text": [
      "Config 16/72: {'num_layers': 1, 'units': 32, 'dropout_rate': 0.0, 'l2_reg': 0.0001, 'learning_rate': 0.001}\n"
     ]
    },
    {
     "name": "stdout",
     "output_type": "stream",
     "text": [
      "Config 17/72: {'num_layers': 1, 'units': 32, 'dropout_rate': 0.0, 'l2_reg': 0.0001, 'learning_rate': 0.003}\n"
     ]
    },
    {
     "name": "stdout",
     "output_type": "stream",
     "text": [
      "Config 18/72: {'num_layers': 1, 'units': 32, 'dropout_rate': 0.0, 'l2_reg': 0.0001, 'learning_rate': 0.01}\n"
     ]
    },
    {
     "name": "stdout",
     "output_type": "stream",
     "text": [
      "Config 19/72: {'num_layers': 1, 'units': 32, 'dropout_rate': 0.2, 'l2_reg': 0.0, 'learning_rate': 0.001}\n"
     ]
    },
    {
     "name": "stdout",
     "output_type": "stream",
     "text": [
      "Config 20/72: {'num_layers': 1, 'units': 32, 'dropout_rate': 0.2, 'l2_reg': 0.0, 'learning_rate': 0.003}\n"
     ]
    },
    {
     "name": "stdout",
     "output_type": "stream",
     "text": [
      "Config 21/72: {'num_layers': 1, 'units': 32, 'dropout_rate': 0.2, 'l2_reg': 0.0, 'learning_rate': 0.01}\n"
     ]
    },
    {
     "name": "stdout",
     "output_type": "stream",
     "text": [
      "Config 22/72: {'num_layers': 1, 'units': 32, 'dropout_rate': 0.2, 'l2_reg': 0.0001, 'learning_rate': 0.001}\n"
     ]
    },
    {
     "name": "stdout",
     "output_type": "stream",
     "text": [
      "Config 23/72: {'num_layers': 1, 'units': 32, 'dropout_rate': 0.2, 'l2_reg': 0.0001, 'learning_rate': 0.003}\n"
     ]
    },
    {
     "name": "stdout",
     "output_type": "stream",
     "text": [
      "Config 24/72: {'num_layers': 1, 'units': 32, 'dropout_rate': 0.2, 'l2_reg': 0.0001, 'learning_rate': 0.01}\n"
     ]
    },
    {
     "name": "stdout",
     "output_type": "stream",
     "text": [
      "Config 25/72: {'num_layers': 2, 'units': 16, 'dropout_rate': 0.0, 'l2_reg': 0.0, 'learning_rate': 0.001}\n"
     ]
    },
    {
     "name": "stdout",
     "output_type": "stream",
     "text": [
      "Config 26/72: {'num_layers': 2, 'units': 16, 'dropout_rate': 0.0, 'l2_reg': 0.0, 'learning_rate': 0.003}\n"
     ]
    },
    {
     "name": "stdout",
     "output_type": "stream",
     "text": [
      "Config 27/72: {'num_layers': 2, 'units': 16, 'dropout_rate': 0.0, 'l2_reg': 0.0, 'learning_rate': 0.01}\n"
     ]
    },
    {
     "name": "stdout",
     "output_type": "stream",
     "text": [
      "Config 28/72: {'num_layers': 2, 'units': 16, 'dropout_rate': 0.0, 'l2_reg': 0.0001, 'learning_rate': 0.001}\n"
     ]
    },
    {
     "name": "stdout",
     "output_type": "stream",
     "text": [
      "Config 29/72: {'num_layers': 2, 'units': 16, 'dropout_rate': 0.0, 'l2_reg': 0.0001, 'learning_rate': 0.003}\n"
     ]
    },
    {
     "name": "stdout",
     "output_type": "stream",
     "text": [
      "Config 30/72: {'num_layers': 2, 'units': 16, 'dropout_rate': 0.0, 'l2_reg': 0.0001, 'learning_rate': 0.01}\n"
     ]
    },
    {
     "name": "stdout",
     "output_type": "stream",
     "text": [
      "Config 31/72: {'num_layers': 2, 'units': 16, 'dropout_rate': 0.2, 'l2_reg': 0.0, 'learning_rate': 0.001}\n"
     ]
    },
    {
     "name": "stdout",
     "output_type": "stream",
     "text": [
      "Config 32/72: {'num_layers': 2, 'units': 16, 'dropout_rate': 0.2, 'l2_reg': 0.0, 'learning_rate': 0.003}\n"
     ]
    },
    {
     "name": "stdout",
     "output_type": "stream",
     "text": [
      "Config 33/72: {'num_layers': 2, 'units': 16, 'dropout_rate': 0.2, 'l2_reg': 0.0, 'learning_rate': 0.01}\n"
     ]
    },
    {
     "name": "stdout",
     "output_type": "stream",
     "text": [
      "Config 34/72: {'num_layers': 2, 'units': 16, 'dropout_rate': 0.2, 'l2_reg': 0.0001, 'learning_rate': 0.001}\n"
     ]
    },
    {
     "name": "stdout",
     "output_type": "stream",
     "text": [
      "Config 35/72: {'num_layers': 2, 'units': 16, 'dropout_rate': 0.2, 'l2_reg': 0.0001, 'learning_rate': 0.003}\n"
     ]
    },
    {
     "name": "stdout",
     "output_type": "stream",
     "text": [
      "Config 36/72: {'num_layers': 2, 'units': 16, 'dropout_rate': 0.2, 'l2_reg': 0.0001, 'learning_rate': 0.01}\n"
     ]
    },
    {
     "name": "stdout",
     "output_type": "stream",
     "text": [
      "Config 37/72: {'num_layers': 2, 'units': 32, 'dropout_rate': 0.0, 'l2_reg': 0.0, 'learning_rate': 0.001}\n"
     ]
    },
    {
     "name": "stdout",
     "output_type": "stream",
     "text": [
      "Config 38/72: {'num_layers': 2, 'units': 32, 'dropout_rate': 0.0, 'l2_reg': 0.0, 'learning_rate': 0.003}\n"
     ]
    },
    {
     "name": "stdout",
     "output_type": "stream",
     "text": [
      "Config 39/72: {'num_layers': 2, 'units': 32, 'dropout_rate': 0.0, 'l2_reg': 0.0, 'learning_rate': 0.01}\n"
     ]
    },
    {
     "name": "stdout",
     "output_type": "stream",
     "text": [
      "Config 40/72: {'num_layers': 2, 'units': 32, 'dropout_rate': 0.0, 'l2_reg': 0.0001, 'learning_rate': 0.001}\n"
     ]
    },
    {
     "name": "stdout",
     "output_type": "stream",
     "text": [
      "Config 41/72: {'num_layers': 2, 'units': 32, 'dropout_rate': 0.0, 'l2_reg': 0.0001, 'learning_rate': 0.003}\n"
     ]
    },
    {
     "name": "stdout",
     "output_type": "stream",
     "text": [
      "Config 42/72: {'num_layers': 2, 'units': 32, 'dropout_rate': 0.0, 'l2_reg': 0.0001, 'learning_rate': 0.01}\n"
     ]
    },
    {
     "name": "stdout",
     "output_type": "stream",
     "text": [
      "Config 43/72: {'num_layers': 2, 'units': 32, 'dropout_rate': 0.2, 'l2_reg': 0.0, 'learning_rate': 0.001}\n"
     ]
    },
    {
     "name": "stdout",
     "output_type": "stream",
     "text": [
      "Config 44/72: {'num_layers': 2, 'units': 32, 'dropout_rate': 0.2, 'l2_reg': 0.0, 'learning_rate': 0.003}\n"
     ]
    },
    {
     "name": "stdout",
     "output_type": "stream",
     "text": [
      "Config 45/72: {'num_layers': 2, 'units': 32, 'dropout_rate': 0.2, 'l2_reg': 0.0, 'learning_rate': 0.01}\n"
     ]
    },
    {
     "name": "stdout",
     "output_type": "stream",
     "text": [
      "Config 46/72: {'num_layers': 2, 'units': 32, 'dropout_rate': 0.2, 'l2_reg': 0.0001, 'learning_rate': 0.001}\n"
     ]
    },
    {
     "name": "stdout",
     "output_type": "stream",
     "text": [
      "Config 47/72: {'num_layers': 2, 'units': 32, 'dropout_rate': 0.2, 'l2_reg': 0.0001, 'learning_rate': 0.003}\n"
     ]
    },
    {
     "name": "stdout",
     "output_type": "stream",
     "text": [
      "Config 48/72: {'num_layers': 2, 'units': 32, 'dropout_rate': 0.2, 'l2_reg': 0.0001, 'learning_rate': 0.01}\n"
     ]
    },
    {
     "name": "stdout",
     "output_type": "stream",
     "text": [
      "Config 49/72: {'num_layers': 3, 'units': 16, 'dropout_rate': 0.0, 'l2_reg': 0.0, 'learning_rate': 0.001}\n"
     ]
    },
    {
     "name": "stdout",
     "output_type": "stream",
     "text": [
      "Config 50/72: {'num_layers': 3, 'units': 16, 'dropout_rate': 0.0, 'l2_reg': 0.0, 'learning_rate': 0.003}\n"
     ]
    },
    {
     "name": "stdout",
     "output_type": "stream",
     "text": [
      "Config 51/72: {'num_layers': 3, 'units': 16, 'dropout_rate': 0.0, 'l2_reg': 0.0, 'learning_rate': 0.01}\n"
     ]
    },
    {
     "name": "stdout",
     "output_type": "stream",
     "text": [
      "Config 52/72: {'num_layers': 3, 'units': 16, 'dropout_rate': 0.0, 'l2_reg': 0.0001, 'learning_rate': 0.001}\n"
     ]
    },
    {
     "name": "stdout",
     "output_type": "stream",
     "text": [
      "Config 53/72: {'num_layers': 3, 'units': 16, 'dropout_rate': 0.0, 'l2_reg': 0.0001, 'learning_rate': 0.003}\n"
     ]
    },
    {
     "name": "stdout",
     "output_type": "stream",
     "text": [
      "Config 54/72: {'num_layers': 3, 'units': 16, 'dropout_rate': 0.0, 'l2_reg': 0.0001, 'learning_rate': 0.01}\n"
     ]
    },
    {
     "name": "stdout",
     "output_type": "stream",
     "text": [
      "Config 55/72: {'num_layers': 3, 'units': 16, 'dropout_rate': 0.2, 'l2_reg': 0.0, 'learning_rate': 0.001}\n"
     ]
    },
    {
     "name": "stdout",
     "output_type": "stream",
     "text": [
      "Config 56/72: {'num_layers': 3, 'units': 16, 'dropout_rate': 0.2, 'l2_reg': 0.0, 'learning_rate': 0.003}\n"
     ]
    },
    {
     "name": "stdout",
     "output_type": "stream",
     "text": [
      "Config 57/72: {'num_layers': 3, 'units': 16, 'dropout_rate': 0.2, 'l2_reg': 0.0, 'learning_rate': 0.01}\n"
     ]
    },
    {
     "name": "stdout",
     "output_type": "stream",
     "text": [
      "Config 58/72: {'num_layers': 3, 'units': 16, 'dropout_rate': 0.2, 'l2_reg': 0.0001, 'learning_rate': 0.001}\n"
     ]
    },
    {
     "name": "stdout",
     "output_type": "stream",
     "text": [
      "Config 59/72: {'num_layers': 3, 'units': 16, 'dropout_rate': 0.2, 'l2_reg': 0.0001, 'learning_rate': 0.003}\n"
     ]
    },
    {
     "name": "stdout",
     "output_type": "stream",
     "text": [
      "Config 60/72: {'num_layers': 3, 'units': 16, 'dropout_rate': 0.2, 'l2_reg': 0.0001, 'learning_rate': 0.01}\n"
     ]
    },
    {
     "name": "stdout",
     "output_type": "stream",
     "text": [
      "Config 61/72: {'num_layers': 3, 'units': 32, 'dropout_rate': 0.0, 'l2_reg': 0.0, 'learning_rate': 0.001}\n"
     ]
    },
    {
     "name": "stdout",
     "output_type": "stream",
     "text": [
      "Config 62/72: {'num_layers': 3, 'units': 32, 'dropout_rate': 0.0, 'l2_reg': 0.0, 'learning_rate': 0.003}\n"
     ]
    },
    {
     "name": "stdout",
     "output_type": "stream",
     "text": [
      "Config 63/72: {'num_layers': 3, 'units': 32, 'dropout_rate': 0.0, 'l2_reg': 0.0, 'learning_rate': 0.01}\n"
     ]
    },
    {
     "name": "stdout",
     "output_type": "stream",
     "text": [
      "Config 64/72: {'num_layers': 3, 'units': 32, 'dropout_rate': 0.0, 'l2_reg': 0.0001, 'learning_rate': 0.001}\n"
     ]
    },
    {
     "name": "stdout",
     "output_type": "stream",
     "text": [
      "Config 65/72: {'num_layers': 3, 'units': 32, 'dropout_rate': 0.0, 'l2_reg': 0.0001, 'learning_rate': 0.003}\n"
     ]
    },
    {
     "name": "stdout",
     "output_type": "stream",
     "text": [
      "Config 66/72: {'num_layers': 3, 'units': 32, 'dropout_rate': 0.0, 'l2_reg': 0.0001, 'learning_rate': 0.01}\n"
     ]
    },
    {
     "name": "stdout",
     "output_type": "stream",
     "text": [
      "Config 67/72: {'num_layers': 3, 'units': 32, 'dropout_rate': 0.2, 'l2_reg': 0.0, 'learning_rate': 0.001}\n"
     ]
    },
    {
     "name": "stdout",
     "output_type": "stream",
     "text": [
      "Config 68/72: {'num_layers': 3, 'units': 32, 'dropout_rate': 0.2, 'l2_reg': 0.0, 'learning_rate': 0.003}\n"
     ]
    },
    {
     "name": "stdout",
     "output_type": "stream",
     "text": [
      "Config 69/72: {'num_layers': 3, 'units': 32, 'dropout_rate': 0.2, 'l2_reg': 0.0, 'learning_rate': 0.01}\n"
     ]
    },
    {
     "name": "stdout",
     "output_type": "stream",
     "text": [
      "Config 70/72: {'num_layers': 3, 'units': 32, 'dropout_rate': 0.2, 'l2_reg': 0.0001, 'learning_rate': 0.001}\n"
     ]
    },
    {
     "name": "stdout",
     "output_type": "stream",
     "text": [
      "Config 71/72: {'num_layers': 3, 'units': 32, 'dropout_rate': 0.2, 'l2_reg': 0.0001, 'learning_rate': 0.003}\n"
     ]
    },
    {
     "name": "stdout",
     "output_type": "stream",
     "text": [
      "Config 72/72: {'num_layers': 3, 'units': 32, 'dropout_rate': 0.2, 'l2_reg': 0.0001, 'learning_rate': 0.01}\n"
     ]
    },
    {
     "name": "stdout",
     "output_type": "stream",
     "text": [
      "\n",
      "Best ANN grid configuration (inner grouped val macro F1): 0.9976\n",
      "{'num_layers': 1, 'units': 32, 'dropout_rate': 0.0, 'l2_reg': 0.0001, 'learning_rate': 0.003}\n"
     ]
    }
   ],
   "source": [
    "# Carve inner validation from outer training (grouped)\n",
    "inner_gss = GroupShuffleSplit(n_splits=1, test_size=0.2, random_state=SEED)\n",
    "inner_tr_idx, inner_val_idx = next(inner_gss.split(X_train_raw, y_train, groups=groups_train))\n",
    "X_inner_tr_raw = X_train_raw.iloc[inner_tr_idx]\n",
    "X_inner_val_raw = X_train_raw.iloc[inner_val_idx]\n",
    "y_inner_tr = y_train.iloc[inner_tr_idx]\n",
    "y_inner_val = y_train.iloc[inner_val_idx]\n",
    "\n",
    "# Fit ONE preprocessor for the inner split and reuse its matrices across grid combos\n",
    "pre_gs = make_preprocessor(style=\"scale\")\n",
    "X_inner_tr = pre_gs.fit_transform(X_inner_tr_raw)\n",
    "X_inner_val = pre_gs.transform(X_inner_val_raw)\n",
    "input_dim_inner = X_inner_tr.shape[1]\n",
    "\n",
    "best_cfg = None\n",
    "best_val_f1 = -np.inf\n",
    "best_history = None\n",
    "\n",
    "total_combos = int(np.prod([len(v) for v in GRID.values()]))\n",
    "print(f\"\\nStarting ANN exhaustive grid search over {total_combos} combinations...\")\n",
    "for idx, cfg in enumerate(grid_dict_product(GRID), start=1):\n",
    "    print(f\"Config {idx}/{total_combos}: {cfg}\")\n",
    "    model = build_ann(\n",
    "        input_dim=input_dim_inner,\n",
    "        num_layers=cfg['num_layers'],\n",
    "        units=cfg['units'],\n",
    "        dropout_rate=cfg['dropout_rate'],\n",
    "        l2_reg=cfg['l2_reg'],\n",
    "        learning_rate=cfg['learning_rate'],\n",
    "        num_classes=3\n",
    "    )\n",
    "    early_stop = EarlyStopping(monitor='val_loss', patience=15, restore_best_weights=True)\n",
    "    reduce_lr  = ReduceLROnPlateau(monitor='val_loss', factor=0.5, patience=5, min_lr=1e-5, verbose=0)\n",
    "\n",
    "    history = model.fit(\n",
    "        X_inner_tr, y_inner_tr,\n",
    "        epochs=200,\n",
    "        validation_data=(X_inner_val, y_inner_val),\n",
    "        callbacks=[early_stop, reduce_lr],\n",
    "        verbose=0\n",
    "    )\n",
    "\n",
    "    y_val_pred = np.argmax(model.predict(X_inner_val, verbose=0), axis=1)\n",
    "    f1 = f1_score(y_inner_val, y_val_pred, average='macro')\n",
    "    if f1 > best_val_f1:\n",
    "        best_val_f1 = f1\n",
    "        best_cfg = cfg\n",
    "        best_history = history\n",
    "\n",
    "print(\"\\nBest ANN grid configuration (inner grouped val macro F1):\", round(best_val_f1, 4))\n",
    "print(best_cfg)\n",
    "\n"
   ]
  },
  {
   "cell_type": "markdown",
   "id": "final-retrain-ann-on-full-training-set-w-f9e2e9",
   "metadata": {},
   "source": [
    "# Retrain ANN on full training set with grouped early stopping\n"
   ]
  },
  {
   "cell_type": "code",
   "execution_count": 11,
   "id": "final-retrain-ann-on-full-training-set-w-94423d",
   "metadata": {
    "execution": {
     "iopub.execute_input": "2025-09-27T13:53:09.569126Z",
     "iopub.status.busy": "2025-09-27T13:53:09.568128Z",
     "iopub.status.idle": "2025-09-27T13:54:39.327392Z",
     "shell.execute_reply": "2025-09-27T13:54:39.325376Z"
    }
   },
   "outputs": [],
   "source": [
    "# Fit ONE preprocessor on the full outer training set\n",
    "preprocessor = make_preprocessor(style=\"scale\")\n",
    "X_train_proc = preprocessor.fit_transform(X_train_raw)\n",
    "X_test_proc  = preprocessor.transform(X_test_raw)\n",
    "input_dim = X_train_proc.shape[1]\n",
    "\n",
    "# Early-stopping split by indexing the already-transformed matrix\n",
    "inner_tr_idx2, inner_val_idx2 = next(inner_gss.split(X_train_raw, y_train, groups=groups_train))\n",
    "X_tr2 = X_train_proc[inner_tr_idx2]\n",
    "X_val2 = X_train_proc[inner_val_idx2]\n",
    "y_tr2, y_val2 = y_train.iloc[inner_tr_idx2], y_train.iloc[inner_val_idx2]\n",
    "\n",
    "model = build_ann(\n",
    "    input_dim=input_dim,\n",
    "    num_layers=best_cfg['num_layers'],\n",
    "    units=best_cfg['units'],\n",
    "    dropout_rate=best_cfg['dropout_rate'],\n",
    "    l2_reg=best_cfg['l2_reg'],\n",
    "    learning_rate=best_cfg['learning_rate'],\n",
    "    num_classes=3\n",
    ")\n",
    "\n",
    "# Optional class weights if imbalance exists\n",
    "class_weight = None\n",
    "train_counts = y_tr2.value_counts().sort_index()\n",
    "if train_counts.min() / train_counts.max() < 0.6:\n",
    "    cw = compute_class_weight(class_weight='balanced', classes=np.array([0,1,2]), y=y_tr2)\n",
    "    class_weight = {i: w for i, w in enumerate(cw)}\n",
    "    print(\"Using class weights:\", class_weight)\n",
    "\n",
    "early_stop_final = EarlyStopping(monitor='val_loss', patience=15, restore_best_weights=True)\n",
    "reduce_lr_final  = ReduceLROnPlateau(monitor='val_loss', factor=0.5, patience=5, min_lr=1e-5, verbose=0)\n",
    "\n",
    "history = model.fit(\n",
    "    X_tr2, y_tr2,\n",
    "    epochs=200,\n",
    "    validation_data=(X_val2, y_val2),\n",
    "    callbacks=[early_stop_final, reduce_lr_final],\n",
    "    verbose=0,\n",
    "    class_weight=class_weight\n",
    ")\n",
    "\n"
   ]
  },
  {
   "cell_type": "markdown",
   "id": "final-plots-md",
   "metadata": {},
   "source": [
    "# Plots\n"
   ]
  },
  {
   "cell_type": "code",
   "execution_count": 12,
   "id": "final-plots",
   "metadata": {
    "execution": {
     "iopub.execute_input": "2025-09-27T13:54:39.333608Z",
     "iopub.status.busy": "2025-09-27T13:54:39.333060Z",
     "iopub.status.idle": "2025-09-27T13:54:41.169262Z",
     "shell.execute_reply": "2025-09-27T13:54:41.166252Z"
    }
   },
   "outputs": [
    {
     "data": {
      "image/png": "[encoded data removed]",
      "text/plain": [
       "<Figure size 1000x500 with 2 Axes>"
      ]
     },
     "metadata": {},
     "output_type": "display_data"
    }
   ],
   "source": [
    "plt.figure(figsize=(10, 5))\n",
    "plt.subplot(1, 2, 1)\n",
    "plt.plot(history.history['accuracy'], label='Train Accuracy')\n",
    "plt.plot(history.history['val_accuracy'], label='Validation Accuracy')\n",
    "plt.title('Model Accuracy')\n",
    "plt.xlabel('Epoch'); plt.ylabel('Accuracy'); plt.legend()\n",
    "\n",
    "plt.subplot(1, 2, 2)\n",
    "plt.plot(history.history['loss'], label='Train Loss')\n",
    "plt.plot(history.history['val_loss'], label='Validation Loss')\n",
    "plt.ylim(0, 1)\n",
    "plt.title('Model Loss')\n",
    "plt.xlabel('Epoch'); plt.ylabel('Loss'); plt.legend()\n",
    "\n",
    "plt.tight_layout()\n",
    "# plt.savefig('training_validation_curves.png', dpi=300, bbox_inches='tight')\n",
    "plt.show()\n",
    "\n"
   ]
  },
  {
   "cell_type": "markdown",
   "id": "final-test-evaluation-unseen-parts-md",
   "metadata": {},
   "source": [
    "# Test evaluation (unseen parts)\n"
   ]
  },
  {
   "cell_type": "code",
   "execution_count": 13,
   "id": "final-test-evaluation-unseen-parts",
   "metadata": {
    "execution": {
     "iopub.execute_input": "2025-09-27T13:54:41.178284Z",
     "iopub.status.busy": "2025-09-27T13:54:41.177289Z",
     "iopub.status.idle": "2025-09-27T13:54:42.552051Z",
     "shell.execute_reply": "2025-09-27T13:54:42.550037Z"
    }
   },
   "outputs": [
    {
     "data": {
      "image/png": "[encoded data removed]",
      "text/plain": [
       "<Figure size 800x600 with 2 Axes>"
      ]
     },
     "metadata": {},
     "output_type": "display_data"
    },
    {
     "name": "stdout",
     "output_type": "stream",
     "text": [
      "\n",
      "Classification Report (grouped split: unseen parts):\n",
      "              precision    recall  f1-score   support\n",
      "\n",
      "           0       1.00      0.99      0.99       636\n",
      "           1       0.96      0.99      0.97       632\n",
      "           2       0.99      0.97      0.98       604\n",
      "\n",
      "    accuracy                           0.98      1872\n",
      "   macro avg       0.98      0.98      0.98      1872\n",
      "weighted avg       0.98      0.98      0.98      1872\n",
      "\n",
      "Test Accuracy: 0.9818\n",
      "Macro F1:      0.9818\n"
     ]
    }
   ],
   "source": [
    "y_pred_proba = model.predict(X_test_proc, verbose=0)\n",
    "y_pred = np.argmax(y_pred_proba, axis=1)\n",
    "y_true = y_test.to_numpy()\n",
    "\n",
    "cm = confusion_matrix(y_true, y_pred)\n",
    "plt.figure(figsize=(8, 6))\n",
    "sns.heatmap(cm, annot=True, fmt='d', cmap='Blues',\n",
    "            xticklabels=[0, 1, 2], yticklabels=[0, 1, 2])\n",
    "plt.title('Confusion Matrix (counts) - grouped split (unseen parts)')\n",
    "plt.xlabel('Predicted'); plt.ylabel('True')\n",
    "# plt.savefig('confusion_matrix.png', dpi=300, bbox_inches='tight')\n",
    "plt.show()\n",
    "\n",
    "print(\"\\nClassification Report (grouped split: unseen parts):\")\n",
    "print(classification_report(y_true, y_pred, zero_division=0))\n",
    "print(f\"Test Accuracy: {accuracy_score(y_true, y_pred):.4f}\")\n",
    "print(f\"Macro F1:      {f1_score(y_true, y_pred, average='macro'):.4f}\")\n",
    "\n"
   ]
  },
  {
   "cell_type": "markdown",
   "id": "final-grouped-cv-with-per-fold-threshold-39789c",
   "metadata": {},
   "source": [
    "# Grouped CV with per-fold thresholds & preprocessing\n"
   ]
  },
  {
   "cell_type": "code",
   "execution_count": 14,
   "id": "final-grouped-cv-with-per-fold-threshold-f2ad8f",
   "metadata": {
    "execution": {
     "iopub.execute_input": "2025-09-27T13:54:42.559108Z",
     "iopub.status.busy": "2025-09-27T13:54:42.558111Z",
     "iopub.status.idle": "2025-09-27T14:08:30.311700Z",
     "shell.execute_reply": "2025-09-27T14:08:30.308672Z"
    }
   },
   "outputs": [
    {
     "name": "stdout",
     "output_type": "stream",
     "text": [
      "Fold 1: Acc=97.77% | Loss=0.0773 | MacroF1=0.9777\n"
     ]
    },
    {
     "name": "stdout",
     "output_type": "stream",
     "text": [
      "Fold 2: Acc=98.37% | Loss=0.0595 | MacroF1=0.9821\n"
     ]
    },
    {
     "name": "stdout",
     "output_type": "stream",
     "text": [
      "Fold 3: Acc=97.15% | Loss=0.0674 | MacroF1=0.9730\n"
     ]
    },
    {
     "name": "stdout",
     "output_type": "stream",
     "text": [
      "Fold 4: Acc=99.54% | Loss=0.0304 | MacroF1=0.9951\n"
     ]
    },
    {
     "name": "stdout",
     "output_type": "stream",
     "text": [
      "Fold 5: Acc=97.88% | Loss=0.0905 | MacroF1=0.9784\n",
      "\n",
      "------------------------------------------------------------------------\n",
      "Grouped CV summary (unseen parts each fold):\n",
      "Accuracy: mean 98.14%  (Â± 0.80)\n",
      "Macro F1: mean 0.9812 (Â± 0.0075)\n",
      "Loss:     mean 0.0650\n",
      "------------------------------------------------------------------------\n"
     ]
    }
   ],
   "source": [
    "num_folds = 5\n",
    "gkf = GroupKFold(n_splits=num_folds)\n",
    "\n",
    "acc_per_fold, f1_per_fold, loss_per_fold = [], [], []\n",
    "fold_no = 1\n",
    "for tr_idx, val_idx in gkf.split(X_all, None, groups=groups_all):\n",
    "    X_tr_raw, X_val_raw = X_all.iloc[tr_idx], X_all.iloc[val_idx]\n",
    "    demand_tr, demand_val = df['demand'].iloc[tr_idx], df['demand'].iloc[val_idx]\n",
    "\n",
    "    # Fold-specific thresholds from training portion\n",
    "    low_f, high_f = compute_thresholds_from_train(demand_tr)\n",
    "    y_tr_f = bin_with_thresholds(demand_tr, low_f, high_f)\n",
    "    y_val_f = bin_with_thresholds(demand_val, low_f, high_f)\n",
    "\n",
    "    pre_fold = make_preprocessor(style=\"scale\")\n",
    "    X_tr = pre_fold.fit_transform(X_tr_raw)\n",
    "    X_val = pre_fold.transform(X_val_raw)\n",
    "\n",
    "    model_fold = build_ann(\n",
    "        input_dim=X_tr.shape[1],\n",
    "        num_layers=best_cfg['num_layers'],\n",
    "        units=best_cfg['units'],\n",
    "        dropout_rate=best_cfg['dropout_rate'],\n",
    "        l2_reg=best_cfg['l2_reg'],\n",
    "        learning_rate=best_cfg['learning_rate'],\n",
    "        num_classes=3\n",
    "    )\n",
    "\n",
    "    hist_f = model_fold.fit(\n",
    "        X_tr, y_tr_f,\n",
    "        epochs=200,\n",
    "        validation_data=(X_val, y_val_f),\n",
    "        callbacks=[EarlyStopping(monitor='val_loss', patience=15, restore_best_weights=True),\n",
    "                   ReduceLROnPlateau(monitor='val_loss', factor=0.5, patience=5, min_lr=1e-5, verbose=0)],\n",
    "        verbose=0\n",
    "    )\n",
    "\n",
    "    loss, acc = model_fold.evaluate(X_val, y_val_f, verbose=0)\n",
    "    y_val_pred = np.argmax(model_fold.predict(X_val, verbose=0), axis=1)\n",
    "    f1 = f1_score(y_val_f, y_val_pred, average='macro')\n",
    "\n",
    "    print(f\"Fold {fold_no}: Acc={acc*100:.2f}% | Loss={loss:.4f} | MacroF1={f1:.4f}\")\n",
    "    acc_per_fold.append(acc * 100); f1_per_fold.append(f1); loss_per_fold.append(loss)\n",
    "    fold_no += 1\n",
    "\n",
    "print('\\n' + '-'*72)\n",
    "print('Grouped CV summary (unseen parts each fold):')\n",
    "print(f\"Accuracy: mean {np.mean(acc_per_fold):.2f}%  (Â± {np.std(acc_per_fold):.2f})\")\n",
    "print(f\"Macro F1: mean {np.mean(f1_per_fold):.4f} (Â± {np.std(f1_per_fold):.4f})\")\n",
    "print(f\"Loss:     mean {np.mean(loss_per_fold):.4f}\")\n",
    "print('-'*72)\n",
    "\n"
   ]
  },
  {
   "cell_type": "markdown",
   "id": "final-single-feature-leakage-audit-grouped-cv-md",
   "metadata": {},
   "source": [
    "# Single-feature leakage audit (grouped CV)\n"
   ]
  },
  {
   "cell_type": "code",
   "execution_count": 15,
   "id": "final-single-feature-leakage-audit-grouped-cv",
   "metadata": {
    "execution": {
     "iopub.execute_input": "2025-09-27T14:08:30.321248Z",
     "iopub.status.busy": "2025-09-27T14:08:30.319248Z",
     "iopub.status.idle": "2025-09-27T14:08:35.573696Z",
     "shell.execute_reply": "2025-09-27T14:08:35.571172Z"
    }
   },
   "outputs": [
    {
     "name": "stdout",
     "output_type": "stream",
     "text": [
      "\n",
      "Running single-feature leakage audit (grouped CV, macro F1 per feature)...\n"
     ]
    },
    {
     "name": "stdout",
     "output_type": "stream",
     "text": [
      "Top 10 features by single-feature macro F1:\n",
      "failure rate                                  0.5584\n",
      "number of cars in jordan                      0.5395\n",
      "price of the car                              0.3703\n",
      "car age                                       0.3547\n",
      "on line price                                 0.3132\n",
      "repair or replacement cost                    0.3093\n",
      "car type                                      0.3081\n",
      "new\\used                                      0.2728\n",
      "selling location                              0.2643\n",
      "made in                                       0.2480\n"
     ]
    }
   ],
   "source": [
    "def single_feature_cv_score(feature_name):\n",
    "    # Build a tiny pipeline: transform only this feature, then multinomial logistic regression\n",
    "    if feature_name in cat_cols_effective:\n",
    "        try:\n",
    "            ohe = Pipeline([\n",
    "                ('imputer', SimpleImputer(strategy='most_frequent')),\n",
    "                ('ohe', OneHotEncoder(handle_unknown='ignore', sparse_output=False))\n",
    "            ])\n",
    "        except TypeError:\n",
    "            ohe = Pipeline([\n",
    "                ('imputer', SimpleImputer(strategy='most_frequent')),\n",
    "                ('ohe', OneHotEncoder(handle_unknown='ignore', sparse=False))\n",
    "            ])\n",
    "        pipe = Pipeline([('ohe', ohe),\n",
    "                         ('clf', LogisticRegression(max_iter=2000, multi_class='multinomial'))])\n",
    "        X_feat = df[[feature_name]].astype(str)\n",
    "    else:\n",
    "        steps = []\n",
    "        steps.append(('imputer', SimpleImputer(strategy='median')))\n",
    "        if feature_name in skewed_cols:\n",
    "            steps.append(('log1p', FunctionTransformer(np.log1p, validate=False)))\n",
    "        steps.append(('scaler', StandardScaler()))\n",
    "        steps.append(('clf', LogisticRegression(max_iter=2000, multi_class='multinomial')))\n",
    "        pipe = Pipeline(steps)\n",
    "        X_feat = df[[feature_name]].copy()\n",
    "\n",
    "    f1_scores = []\n",
    "    for tr_idx, val_idx in gkf.split(X_all, None, groups=groups_all):\n",
    "        d_tr = df['demand'].iloc[tr_idx]; d_val = df['demand'].iloc[val_idx]\n",
    "        low_f, high_f = compute_thresholds_from_train(d_tr)\n",
    "        y_tr_f = bin_with_thresholds(d_tr, low_f, high_f)\n",
    "        y_val_f = bin_with_thresholds(d_val, low_f, high_f)\n",
    "\n",
    "        X_tr_f = X_feat.iloc[tr_idx]; X_val_f = X_feat.iloc[val_idx]\n",
    "        pipe.fit(X_tr_f, y_tr_f)\n",
    "        y_val_pred = pipe.predict(X_val_f)\n",
    "        f1_scores.append(f1_score(y_val_f, y_val_pred, average='macro'))\n",
    "\n",
    "    return np.mean(f1_scores)\n",
    "\n",
    "features_to_audit = cat_cols_effective + num_all\n",
    "audit_results = []\n",
    "print(\"\\nRunning single-feature leakage audit (grouped CV, macro F1 per feature)...\")\n",
    "for feat in features_to_audit:\n",
    "    score = single_feature_cv_score(feat)\n",
    "    audit_results.append((feat, score))\n",
    "audit_results.sort(key=lambda x: x[1], reverse=True)\n",
    "print(\"Top 10 features by single-feature macro F1:\")\n",
    "for name, sc in audit_results[:10]:\n",
    "    print(f\"{name:45s} {sc:.4f}\")\n",
    "\n",
    "suspicious = [(n, s) for n, s in audit_results if s >= 0.99]\n",
    "if suspicious:\n",
    "    print(\"\\nWARNING: These features alone achieve near-perfect classification under grouped CV:\")\n",
    "    for n, s in suspicious:\n",
    "        print(f\"  - {n}: macro F1 {s:.4f}\")\n",
    "    print(\"Review whether they encode target information directly or leak future knowledge.\")\n",
    "\n"
   ]
  },
  {
   "cell_type": "markdown",
   "id": "final-save-tuned-ann-model-preprocessor-e3ae37",
   "metadata": {},
   "source": [
    "# Save tuned ANN model, preprocessor, and thresholds\n"
   ]
  },
  {
   "cell_type": "code",
   "execution_count": 16,
   "id": "final-save-tuned-ann-model-preprocessor-5b472b",
   "metadata": {
    "execution": {
     "iopub.execute_input": "2025-09-27T14:08:35.581220Z",
     "iopub.status.busy": "2025-09-27T14:08:35.580226Z",
     "iopub.status.idle": "2025-09-27T14:08:35.596698Z",
     "shell.execute_reply": "2025-09-27T14:08:35.594176Z"
    }
   },
   "outputs": [
    {
     "name": "stdout",
     "output_type": "stream",
     "text": [
      "Skipping artifact persistence per project policy; model and preprocessing pipeline stay in memory.\n",
      "Thresholds kept in-session: low_thr=1.8001, high_thr=5.5890\n",
      "Best ANN configuration: {'num_layers': 1, 'units': 32, 'dropout_rate': 0.0, 'l2_reg': 0.0001, 'learning_rate': 0.003}\n"
     ]
    }
   ],
   "source": [
    "print(\"Skipping artifact persistence per project policy; model and preprocessing pipeline stay in memory.\")\n",
    "print(f\"Thresholds kept in-session: low_thr={low_thr:.4f}, high_thr={high_thr:.4f}\")\n",
    "print(\"Best ANN configuration:\", GRID if best_cfg is None else best_cfg)\n"
   ]
  },
  {
   "cell_type": "markdown",
   "id": "final-classical-models-benchmark-top-5-md",
   "metadata": {},
   "source": [
    "# Classical models benchmark (top 5)\n"
   ]
  },
  {
   "cell_type": "code",
   "execution_count": 17,
   "id": "final-classical-models-benchmark-top-5",
   "metadata": {
    "execution": {
     "iopub.execute_input": "2025-09-27T14:08:35.604251Z",
     "iopub.status.busy": "2025-09-27T14:08:35.603239Z",
     "iopub.status.idle": "2025-09-27T14:09:03.456643Z",
     "shell.execute_reply": "2025-09-27T14:09:03.453545Z"
    }
   },
   "outputs": [
    {
     "name": "stdout",
     "output_type": "stream",
     "text": [
      "\n",
      "=== SVC (RBF) (svc_rbf) ===\n"
     ]
    },
    {
     "name": "stdout",
     "output_type": "stream",
     "text": [
      "Selected params: {'C': 3.0, 'gamma': 'auto'} | Inner macro F1=0.9646\n"
     ]
    },
    {
     "name": "stdout",
     "output_type": "stream",
     "text": [
      "Test Accuracy=0.9621 | Test Macro F1=0.9626\n",
      "              precision    recall  f1-score   support\n",
      "\n",
      "           0       0.99      0.94      0.96       636\n",
      "           1       0.91      0.99      0.95       632\n",
      "           2       1.00      0.96      0.98       604\n",
      "\n",
      "    accuracy                           0.96      1872\n",
      "   macro avg       0.96      0.96      0.96      1872\n",
      "weighted avg       0.96      0.96      0.96      1872\n",
      "\n",
      "\n",
      "=== LogisticRegression (logreg) ===\n"
     ]
    },
    {
     "name": "stdout",
     "output_type": "stream",
     "text": [
      "Selected params: {'C': 1.0, 'solver': 'lbfgs', 'max_iter': 2000} | Inner macro F1=0.9369\n"
     ]
    },
    {
     "name": "stdout",
     "output_type": "stream",
     "text": [
      "Test Accuracy=0.9359 | Test Macro F1=0.9366\n",
      "              precision    recall  f1-score   support\n",
      "\n",
      "           0       0.96      0.94      0.95       636\n",
      "           1       0.88      0.94      0.91       632\n",
      "           2       0.97      0.93      0.95       604\n",
      "\n",
      "    accuracy                           0.94      1872\n",
      "   macro avg       0.94      0.94      0.94      1872\n",
      "weighted avg       0.94      0.94      0.94      1872\n",
      "\n",
      "\n",
      "=== ExtraTrees (et) ===\n"
     ]
    },
    {
     "name": "stdout",
     "output_type": "stream",
     "text": [
      "Selected params: {'n_estimators': 200, 'max_depth': 18, 'min_samples_leaf': 4} | Inner macro F1=0.8691\n"
     ]
    },
    {
     "name": "stdout",
     "output_type": "stream",
     "text": [
      "Test Accuracy=0.8851 | Test Macro F1=0.8861\n",
      "              precision    recall  f1-score   support\n",
      "\n",
      "           0       0.93      0.88      0.90       636\n",
      "           1       0.82      0.85      0.84       632\n",
      "           2       0.91      0.92      0.92       604\n",
      "\n",
      "    accuracy                           0.89      1872\n",
      "   macro avg       0.89      0.89      0.89      1872\n",
      "weighted avg       0.89      0.89      0.89      1872\n",
      "\n",
      "\n",
      "=== SGDClassifier (log_loss) (sgd) ===\n"
     ]
    },
    {
     "name": "stdout",
     "output_type": "stream",
     "text": [
      "Selected params: {'loss': 'log_loss', 'alpha': 0.001, 'max_iter': 2000, 'random_state': 42} | Inner macro F1=0.8913\n"
     ]
    },
    {
     "name": "stdout",
     "output_type": "stream",
     "text": [
      "Test Accuracy=0.9300 | Test Macro F1=0.9302\n",
      "              precision    recall  f1-score   support\n",
      "\n",
      "           0       0.93      0.94      0.93       636\n",
      "           1       0.91      0.88      0.89       632\n",
      "           2       0.95      0.97      0.96       604\n",
      "\n",
      "    accuracy                           0.93      1872\n",
      "   macro avg       0.93      0.93      0.93      1872\n",
      "weighted avg       0.93      0.93      0.93      1872\n",
      "\n",
      "\n",
      "=== LinearDiscriminantAnalysis (lda) ===\n"
     ]
    },
    {
     "name": "stdout",
     "output_type": "stream",
     "text": [
      "Selected params: {'solver': 'svd'} | Inner macro F1=0.7870\n"
     ]
    },
    {
     "name": "stdout",
     "output_type": "stream",
     "text": [
      "Test Accuracy=0.7762 | Test Macro F1=0.7807\n",
      "              precision    recall  f1-score   support\n",
      "\n",
      "           0       0.88      0.80      0.84       636\n",
      "           1       0.62      0.88      0.73       632\n",
      "           2       0.98      0.65      0.78       604\n",
      "\n",
      "    accuracy                           0.78      1872\n",
      "   macro avg       0.83      0.77      0.78      1872\n",
      "weighted avg       0.82      0.78      0.78      1872\n",
      "\n"
     ]
    }
   ],
   "source": [
    "def fit_select_on_inner_classic(model_key, X_tr_raw, y_tr, groups_tr):\n",
    "    \"\"\"Carve an inner grouped validation split from outer-train to select hyperparams.\n",
    "       Fit ONE preprocessor for that model style and reuse its matrices across param combos.\"\"\"\n",
    "    inner = GroupShuffleSplit(n_splits=1, test_size=0.2, random_state=SEED)\n",
    "    inner_tr_idx, inner_val_idx = next(inner.split(X_tr_raw, y_tr, groups=groups_tr))\n",
    "\n",
    "    X_inner_tr_raw = X_tr_raw.iloc[inner_tr_idx]\n",
    "    X_inner_val_raw = X_tr_raw.iloc[inner_val_idx]\n",
    "    y_inner_tr = y_tr.iloc[inner_tr_idx]\n",
    "    y_inner_val = y_tr.iloc[inner_val_idx]\n",
    "\n",
    "    spec = MODEL_ZOO[model_key]\n",
    "    grid = GRIDS_CLASSIC[model_key]\n",
    "    style = spec[\"style\"]\n",
    "\n",
    "    pre = make_preprocessor(style)\n",
    "    X_inner_tr = pre.fit_transform(X_inner_tr_raw)\n",
    "    X_inner_val = pre.transform(X_inner_val_raw)\n",
    "\n",
    "    best_f1 = -np.inf\n",
    "    best_params = None\n",
    "\n",
    "    for params in grid_dict_product(grid):\n",
    "        est = spec[\"factory\"](params)\n",
    "        est.fit(X_inner_tr, y_inner_tr)\n",
    "        y_val_pred = est.predict(X_inner_val)\n",
    "        f1 = f1_score(y_inner_val, y_val_pred, average=\"macro\")\n",
    "        if f1 > best_f1:\n",
    "            best_f1 = f1\n",
    "            best_params = params\n",
    "\n",
    "    return best_params, best_f1\n",
    "\n",
    "records = []\n",
    "\n",
    "for key in MODEL_KEYS:\n",
    "    label = MODEL_ZOO[key][\"label\"]\n",
    "    print(f\"\\n=== {label} ({key}) ===\")\n",
    "\n",
    "    # Hyperparameter selection on a grouped inner split\n",
    "    best_params, inner_f1 = fit_select_on_inner_classic(key, X_train_raw, y_train, groups_train)\n",
    "    print(f\"Selected params: {best_params} | Inner macro F1={inner_f1:.4f}\")\n",
    "\n",
    "    # Refit preprocessor on full outer-train, then train and evaluate\n",
    "    pre = make_preprocessor(MODEL_ZOO[key][\"style\"])\n",
    "    X_train_cls = pre.fit_transform(X_train_raw)\n",
    "    X_test_cls  = pre.transform(X_test_raw)\n",
    "\n",
    "    est = MODEL_ZOO[key][\"factory\"](best_params)\n",
    "    est.fit(X_train_cls, y_train)\n",
    "\n",
    "    y_pred_cls = est.predict(X_test_cls)\n",
    "    acc = accuracy_score(y_test, y_pred_cls)\n",
    "    f1m = f1_score(y_test, y_pred_cls, average=\"macro\")\n",
    "\n",
    "    print(f\"Test Accuracy={acc:.4f} | Test Macro F1={f1m:.4f}\")\n",
    "    print(classification_report(y_test, y_pred_cls, zero_division=0))\n",
    "\n",
    "    records.append(\n",
    "        {\n",
    "            \"key\": key,\n",
    "            \"model\": label,\n",
    "            \"best_params\": best_params,\n",
    "            \"inner_macro_f1\": round(inner_f1, 4),\n",
    "            \"test_accuracy\": round(acc, 4),\n",
    "            \"test_macro_f1\": round(f1m, 4),\n",
    "        }\n",
    "    )\n",
    "\n"
   ]
  },
  {
   "cell_type": "markdown",
   "id": "final-summary-of-classical-models-md",
   "metadata": {},
   "source": [
    "# Summary of classical models\n"
   ]
  },
  {
   "cell_type": "code",
   "execution_count": 18,
   "id": "final-summary-of-classical-models",
   "metadata": {
    "execution": {
     "iopub.execute_input": "2025-09-27T14:09:03.464805Z",
     "iopub.status.busy": "2025-09-27T14:09:03.462177Z",
     "iopub.status.idle": "2025-09-27T14:09:03.516630Z",
     "shell.execute_reply": "2025-09-27T14:09:03.514105Z"
    }
   },
   "outputs": [
    {
     "name": "stdout",
     "output_type": "stream",
     "text": [
      "\n",
      "=== Ranked results (outer test) ===\n",
      "                        model  test_macro_f1  test_accuracy  inner_macro_f1  \\\n",
      "0                   SVC (RBF)         0.9626         0.9621          0.9646   \n",
      "1          LogisticRegression         0.9366         0.9359          0.9369   \n",
      "2    SGDClassifier (log_loss)         0.9302         0.9300          0.8913   \n",
      "3                  ExtraTrees         0.8861         0.8851          0.8691   \n",
      "4  LinearDiscriminantAnalysis         0.7807         0.7762          0.7870   \n",
      "\n",
      "                                         best_params  \n",
      "0                        {'C': 3.0, 'gamma': 'auto'}  \n",
      "1    {'C': 1.0, 'solver': 'lbfgs', 'max_iter': 2000}  \n",
      "2  {'loss': 'log_loss', 'alpha': 0.001, 'max_iter...  \n",
      "3  {'n_estimators': 200, 'max_depth': 18, 'min_sa...  \n",
      "4                                  {'solver': 'svd'}  \n",
      "\n",
      "Saved benchmark table to model_benchmark_results_top5.csv\n"
     ]
    }
   ],
   "source": [
    "results = pd.DataFrame.from_records(records)\n",
    "results_sorted = results.sort_values(\n",
    "    [\"test_macro_f1\", \"test_accuracy\"], ascending=False\n",
    ").reset_index(drop=True)\n",
    "\n",
    "print(\"\\n=== Ranked results (outer test) ===\")\n",
    "print(results_sorted[[\"model\", \"test_macro_f1\", \"test_accuracy\", \"inner_macro_f1\", \"best_params\"]])\n",
    "\n",
    "# results_sorted.to_csv(\"model_benchmark_results_top5.csv\", index=False)\n",
    "print(\"\\nSaved benchmark table to model_benchmark_results_top5.csv\")\n"
   ]
  },
  {
   "cell_type": "markdown",
   "id": "shap-setup-md",
   "metadata": {},
   "source": [
    "# SHAP Setup & Imports\n"
   ]
  },
  {
   "cell_type": "code",
   "execution_count": 19,
   "id": "shap-setup",
   "metadata": {
    "execution": {
     "iopub.execute_input": "2025-09-27T14:09:03.526952Z",
     "iopub.status.busy": "2025-09-27T14:09:03.525355Z",
     "iopub.status.idle": "2025-09-27T14:09:12.194859Z",
     "shell.execute_reply": "2025-09-27T14:09:12.192750Z"
    }
   },
   "outputs": [
    {
     "name": "stdout",
     "output_type": "stream",
     "text": [
      "shap version: 0.48.0\n"
     ]
    },
    {
     "name": "stdout",
     "output_type": "stream",
     "text": [
      "Reused in-memory model and preprocessor for SHAP computation.\n",
      "  X_train_proc shape: (5720, 24)\n",
      "  X_test_proc shape : (1932, 24)\n"
     ]
    }
   ],
   "source": [
    "# Install and import SHAP; reuse in-memory model instead of saved artifacts\n",
    "import sys\n",
    "import subprocess\n",
    "import os\n",
    "import platform\n",
    "from pathlib import Path\n",
    "\n",
    "\n",
    "def _ensure_import(module_name, pip_name=None):\n",
    "    try:\n",
    "        return __import__(module_name)\n",
    "    except ModuleNotFoundError:\n",
    "        pkg = pip_name or module_name\n",
    "        subprocess.check_call([sys.executable, '-m', 'pip', 'install', pkg, '-q'])\n",
    "        return __import__(module_name)\n",
    "\n",
    "\n",
    "shap = _ensure_import('shap')\n",
    "print('shap version:', getattr(shap, '__version__', 'unknown'))\n",
    "\n",
    "_ensure_import('numpy')\n",
    "_ensure_import('pandas')\n",
    "\n",
    "tf_pkg = 'tensorflow'\n",
    "system = platform.system()\n",
    "machine = platform.machine().lower()\n",
    "if system == 'Windows':\n",
    "    tf_pkg = 'tensorflow-cpu'\n",
    "elif system == 'Darwin' and 'arm' in machine:\n",
    "    tf_pkg = 'tensorflow-macos'\n",
    "_ensure_import('tensorflow', tf_pkg)\n",
    "_ensure_import('sklearn', 'scikit-learn')\n",
    "\n",
    "import numpy as np  # noqa: E402\n",
    "import pandas as pd  # noqa: E402\n",
    "import tensorflow as tf  # noqa: E402\n",
    "from sklearn.model_selection import GroupShuffleSplit  # noqa: E402\n",
    "\n",
    "required_globals = ['model', 'preprocessor', 'cat_cols_effective', 'num_all']\n",
    "missing = [name for name in required_globals if name not in globals()]\n",
    "if missing:\n",
    "    raise RuntimeError(f\"Run the training cells first to define: {missing}\")\n",
    "\n",
    "seed = int(globals().get('SEED', 42))\n",
    "np.random.seed(seed)\n",
    "tf.random.set_seed(seed)\n",
    "\n",
    "cat_cols_effective = globals()['cat_cols_effective']\n",
    "num_all = globals()['num_all']\n",
    "model = globals()['model']\n",
    "preprocessor = globals()['preprocessor']\n",
    "\n",
    "base = Path.cwd()\n",
    "data_env = os.environ.get('DEMAND_DATA_PATH', '').strip()\n",
    "candidates = [Path(p) for p in [data_env] if p]\n",
    "candidates += [\n",
    "    base / 'data' / 'demand.csv',\n",
    "    base.parent / 'data' / 'demand.csv',\n",
    "]\n",
    "file_path = next((p for p in candidates if p.exists()), None)\n",
    "if file_path is None:\n",
    "    raise FileNotFoundError('Could not find demand.csv for SHAP. Set DEMAND_DATA_PATH or place it in data/.')\n",
    "\n",
    "df = pd.read_csv(file_path)\n",
    "df.columns = df.columns.str.strip()\n",
    "\n",
    "required_cols = set(cat_cols_effective + num_all + ['part'])\n",
    "missing_cols = sorted(required_cols - set(df.columns))\n",
    "if missing_cols:\n",
    "    raise ValueError(f'Dataset missing expected columns: {missing_cols}')\n",
    "\n",
    "X_all = df[cat_cols_effective + num_all].copy()\n",
    "groups_all = df['part'].astype(str)\n",
    "\n",
    "gss = GroupShuffleSplit(n_splits=1, test_size=0.2, random_state=seed)\n",
    "train_idx, test_idx = next(gss.split(X_all, None, groups=groups_all))\n",
    "X_train_raw = X_all.iloc[train_idx]\n",
    "X_test_raw = X_all.iloc[test_idx]\n",
    "\n",
    "X_train_proc = preprocessor.transform(X_train_raw)\n",
    "X_test_proc = preprocessor.transform(X_test_raw)\n",
    "\n",
    "print('Reused in-memory model and preprocessor for SHAP computation.')\n",
    "print('  X_train_proc shape:', getattr(X_train_proc, 'shape', None))\n",
    "print('  X_test_proc shape :', getattr(X_test_proc, 'shape', None))\n"
   ]
  },
  {
   "cell_type": "markdown",
   "id": "shap-names-md",
   "metadata": {},
   "source": [
    "# SHAP Feature Names\n"
   ]
  },
  {
   "cell_type": "code",
   "execution_count": 20,
   "id": "shap-names",
   "metadata": {
    "execution": {
     "iopub.execute_input": "2025-09-27T14:09:12.205527Z",
     "iopub.status.busy": "2025-09-27T14:09:12.204470Z",
     "iopub.status.idle": "2025-09-27T14:09:12.234690Z",
     "shell.execute_reply": "2025-09-27T14:09:12.230442Z"
    }
   },
   "outputs": [
    {
     "name": "stdout",
     "output_type": "stream",
     "text": [
      "n_features: 24\n",
      "first 10: ['on line price', 'number of cars in jordan', 'failure rate', 'repair or replacement cost', 'critically', 'price of the car', 'car age', 'car total maintenance cost average', 'car type=1', 'car type=2']\n"
     ]
    }
   ],
   "source": [
    "# Extract human-readable feature names from the fitted preprocessor\n",
    "def get_feature_names(preprocessor):\n",
    "    try:\n",
    "        names = preprocessor.get_feature_names_out()\n",
    "        return [str(n).replace('num_skew__', '').replace('num__', '').replace('cat__', '') for n in names]\n",
    "    except Exception:\n",
    "        names = []\n",
    "        for name, trans, cols in preprocessor.transformers_:\n",
    "            if name == 'remainder' and trans == 'drop':\n",
    "                continue\n",
    "            if name in ('num_skew', 'num'):\n",
    "                names.extend(list(cols))\n",
    "            elif name == 'cat':\n",
    "                try:\n",
    "                    ohe = trans.named_steps.get('ohe')\n",
    "                    categories = ohe.categories_\n",
    "                    for col, cats in zip(cols, categories):\n",
    "                        for cat in cats:\n",
    "                            names.append(f'{col}={cat}')\n",
    "                except Exception:\n",
    "                    names.extend(list(cols))\n",
    "            else:\n",
    "                if isinstance(cols, list):\n",
    "                    names.extend(list(cols))\n",
    "        return names\n",
    "\n",
    "feature_names = get_feature_names(preprocessor)\n",
    "print('n_features:', len(feature_names))\n",
    "print('first 10:', feature_names[:10])\n"
   ]
  },
  {
   "cell_type": "markdown",
   "id": "shap-explainer-md",
   "metadata": {},
   "source": [
    "# SHAP Explainer for ANN\n"
   ]
  },
  {
   "cell_type": "code",
   "execution_count": 21,
   "id": "shap-explainer",
   "metadata": {
    "execution": {
     "iopub.execute_input": "2025-09-27T14:09:12.243397Z",
     "iopub.status.busy": "2025-09-27T14:09:12.241486Z",
     "iopub.status.idle": "2025-09-27T14:09:17.906642Z",
     "shell.execute_reply": "2025-09-27T14:09:17.903536Z"
    }
   },
   "outputs": [
    {
     "name": "stdout",
     "output_type": "stream",
     "text": [
      "SHAP explainer: DeepExplainer\n"
     ]
    }
   ],
   "source": [
    "import platform\n",
    "\n",
    "rng = np.random.RandomState(SEED)\n",
    "X_bg = X_train_proc\n",
    "X_eval_proc = X_test_proc if 'X_test_proc' in globals() else X_train_proc\n",
    "X_eval_raw = X_test_raw if 'X_test_raw' in globals() else X_train_raw\n",
    "\n",
    "bg_size = min(100, X_bg.shape[0])\n",
    "explain_size = min(200, X_eval_proc.shape[0])\n",
    "\n",
    "bg_idx = rng.choice(X_bg.shape[0], size=bg_size, replace=False)\n",
    "explain_idx = rng.choice(X_eval_proc.shape[0], size=explain_size, replace=False)\n",
    "\n",
    "background = X_bg[bg_idx]\n",
    "X_explain_proc = X_eval_proc[explain_idx]\n",
    "X_explain_raw = X_eval_raw.iloc[explain_idx].reset_index(drop=True)\n",
    "\n",
    "if hasattr(background, 'toarray'):\n",
    "    background = background.toarray()\n",
    "if hasattr(X_explain_proc, 'toarray'):\n",
    "    X_explain_proc = X_explain_proc.toarray()\n",
    "\n",
    "prefer_kernel = (platform.system() == 'Darwin' and platform.machine().lower().startswith('arm'))\n",
    "\n",
    "def _run_kernel_explainer(nsamples=100):\n",
    "    f = lambda x: model.predict(x, verbose=0)\n",
    "    explainer_loc = shap.KernelExplainer(f, background)\n",
    "    values = explainer_loc.shap_values(X_explain_proc, nsamples=nsamples)\n",
    "    return explainer_loc, values\n",
    "\n",
    "if prefer_kernel:\n",
    "    print('Using KernelExplainer on Apple Silicon for stability.')\n",
    "    explainer, shap_values = _run_kernel_explainer()\n",
    "    method = 'KernelExplainer'\n",
    "else:\n",
    "    try:\n",
    "        explainer = shap.DeepExplainer(model, background)\n",
    "        shap_values = explainer.shap_values(X_explain_proc)\n",
    "        method = 'DeepExplainer'\n",
    "    except Exception as err:\n",
    "        print('DeepExplainer failed, falling back to KernelExplainer:', err)\n",
    "        explainer, shap_values = _run_kernel_explainer()\n",
    "        method = 'KernelExplainer'\n",
    "\n",
    "# Build transformed feature-name list\n",
    "feature_names_transformed = []\n",
    "for name, transformer, cols in preprocessor.transformers_:\n",
    "    if name in ('num_skew', 'num'):\n",
    "        feature_names_transformed.extend(list(cols))\n",
    "    elif name == 'cat':\n",
    "        ohe = transformer.named_steps['ohe']\n",
    "        for col, categories in zip(cols, ohe.categories_):\n",
    "            feature_names_transformed.extend([f\"{col}__{cat}\" for cat in categories])\n",
    "    else:\n",
    "        raise ValueError(f'Unexpected transformer {name}')\n",
    "\n",
    "print('SHAP explainer:', method)\n",
    "\n",
    "_shap_values = shap_values\n",
    "_X_explain = X_explain_proc\n",
    "_X_explain_raw = X_explain_raw\n",
    "_background = background\n",
    "_feature_names_transformed = feature_names_transformed\n"
   ]
  },
  {
   "cell_type": "markdown",
   "id": "shap-summary-md",
   "metadata": {},
   "source": [
    "# SHAP Summary Plots\n"
   ]
  },
  {
   "cell_type": "code",
   "execution_count": 22,
   "id": "shap-summary",
   "metadata": {
    "execution": {
     "iopub.execute_input": "2025-09-27T14:09:17.913831Z",
     "iopub.status.busy": "2025-09-27T14:09:17.912319Z",
     "iopub.status.idle": "2025-09-27T14:09:21.910087Z",
     "shell.execute_reply": "2025-09-27T14:09:21.907461Z"
    }
   },
   "outputs": [
    {
     "data": {
      "image/png": "[encoded data removed]",
      "text/plain": [
       "<Figure size 800x710 with 1 Axes>"
      ]
     },
     "metadata": {},
     "output_type": "display_data"
    },
    {
     "data": {
      "image/png": "[encoded data removed]",
      "text/plain": [
       "<Figure size 800x710 with 2 Axes>"
      ]
     },
     "metadata": {},
     "output_type": "display_data"
    },
    {
     "name": "stdout",
     "output_type": "stream",
     "text": [
      "Displayed SHAP beeswarm plot for low_demand; top features listed above (not saved).\n",
      "number of cars in jordan              0.346893\n",
      "failure rate                          0.246330\n",
      "car age                               0.135458\n",
      "repair or replacement cost            0.104618\n",
      "on line price                         0.087744\n",
      "made in                               0.070190\n",
      "car type                              0.062570\n",
      "critically                            0.058795\n",
      "price of the car                      0.056363\n",
      "car total maintenance cost average    0.053585\n",
      "dtype: float64\n"
     ]
    },
    {
     "data": {
      "image/png": "[encoded data removed]",
      "text/plain": [
       "<Figure size 800x710 with 2 Axes>"
      ]
     },
     "metadata": {},
     "output_type": "display_data"
    },
    {
     "name": "stdout",
     "output_type": "stream",
     "text": [
      "Displayed SHAP beeswarm plot for high_demand; top features listed above (not saved).\n",
      "number of cars in jordan              0.271464\n",
      "failure rate                          0.239766\n",
      "car age                               0.053974\n",
      "car type                              0.039153\n",
      "made in                               0.033597\n",
      "critically                            0.029280\n",
      "car total maintenance cost average    0.025613\n",
      "price of the car                      0.020226\n",
      "repair or replacement cost            0.017334\n",
      "on line price                         0.011997\n",
      "dtype: float64\n",
      "\n",
      "Top aggregated SHAP importances (absolute mean):\n",
      "number of cars in jordan                            0.327489\n",
      "failure rate                                        0.257021\n",
      "car age                                             0.139400\n",
      "repair or replacement cost                          0.085197\n",
      "car type                                            0.070347\n",
      "made in                                             0.069372\n",
      "on line price                                       0.068237\n",
      "critically                                          0.065027\n",
      "car total maintenance cost average                  0.054962\n",
      "price of the car                                    0.051170\n",
      "new\\used                                            0.023934\n",
      "service location (repair shop/automotive company    0.023207\n",
      "selling location                                    0.016953\n",
      "original/imitator                                   0.012587\n",
      "dtype: float64\n"
     ]
    }
   ],
   "source": [
    "import numpy as np\n",
    "import pandas as pd\n",
    "import matplotlib.pyplot as plt\n",
    "from collections import OrderedDict\n",
    "\n",
    "raw_shap = _shap_values\n",
    "X_proc = _X_explain\n",
    "X_raw = _X_explain_raw.copy()\n",
    "feature_names_transformed = globals().get('feature_names', []) or []\n",
    "\n",
    "if hasattr(X_proc, 'toarray'):\n",
    "    X_proc = X_proc.toarray()\n",
    "\n",
    "if isinstance(raw_shap, list):\n",
    "    shap_array = np.stack([np.asarray(sv) for sv in raw_shap], axis=-1)\n",
    "elif isinstance(raw_shap, np.ndarray) and raw_shap.ndim == 3:\n",
    "    shap_array = raw_shap\n",
    "elif isinstance(raw_shap, np.ndarray) and raw_shap.ndim == 2:\n",
    "    shap_array = shap_array = raw_shap[..., np.newaxis]\n",
    "else:\n",
    "    raise ValueError('Unsupported SHAP output format')\n",
    "\n",
    "n_classes = shap_array.shape[-1]\n",
    "\n",
    "transformers = preprocessor.transformers_\n",
    "group_labels = []\n",
    "for name, transformer, cols in transformers:\n",
    "    if name in ('num_skew', 'num'):\n",
    "        group_labels.extend(list(cols))\n",
    "    elif name == 'cat':\n",
    "        ohe = transformer.named_steps['ohe']\n",
    "        for col, categories in zip(cols, ohe.categories_):\n",
    "            group_labels.extend([col] * len(categories))\n",
    "    else:\n",
    "        raise ValueError(f'Unexpected transformer {name}')\n",
    "\n",
    "if len(group_labels) != len(feature_names_transformed):\n",
    "    group_labels = feature_names_transformed if feature_names_transformed else group_labels\n",
    "\n",
    "group_to_indices = OrderedDict()\n",
    "for idx, label in enumerate(group_labels):\n",
    "    group_to_indices.setdefault(label, []).append(idx)\n",
    "\n",
    "group_names = list(group_to_indices.keys())\n",
    "\n",
    "X_group = pd.DataFrame({\n",
    "    name: X_raw[name].to_numpy() if name in X_raw.columns else X_proc[:, group_to_indices[name][0]]\n",
    "    for name in group_names\n",
    "})\n",
    "\n",
    "def aggregate(values: np.ndarray) -> np.ndarray:\n",
    "    agg = np.zeros((values.shape[0], len(group_names)))\n",
    "    for j, idxs in enumerate(group_to_indices.values()):\n",
    "        agg[:, j] = values[:, idxs].sum(axis=1)\n",
    "    return agg\n",
    "\n",
    "shap_grouped_list = [aggregate(shap_array[:, :, cls]) for cls in range(n_classes)]\n",
    "shap_tensor = np.stack(shap_grouped_list, axis=-1)\n",
    "\n",
    "if n_classes == 1:\n",
    "    shap_for_summary = shap_grouped_list[0]\n",
    "else:\n",
    "    shap_for_summary = shap_grouped_list\n",
    "\n",
    "plt.figure(figsize=(10, 6))\n",
    "shap.summary_plot(shap_for_summary, X_group, feature_names=group_names, plot_type='bar', show=False, max_display=25)\n",
    "plt.tight_layout()\n",
    "plt.show()\n",
    "\n",
    "shap_tensor_abs = np.abs(shap_tensor)\n",
    "class_order = globals().get('class_order', list(range(n_classes)))\n",
    "class_indices = {cls: idx for idx, cls in enumerate(class_order) if idx < n_classes}\n",
    "\n",
    "for label, cls_id in {'low_demand': 0, 'high_demand': 2}.items():\n",
    "    if cls_id not in class_indices:\n",
    "        continue\n",
    "    idx = class_indices[cls_id]\n",
    "    values_cls = shap_grouped_list[idx]\n",
    "    plt.figure(figsize=(10, 6))\n",
    "    shap.summary_plot(values_cls, X_group, feature_names=group_names, show=False, max_display=25)\n",
    "    plt.tight_layout()\n",
    "    plt.show()\n",
    "    vals_cls = shap_tensor_abs[:, :, idx].mean(axis=0)\n",
    "    fi_cls = pd.Series(vals_cls, index=group_names).sort_values(ascending=False)\n",
    "    print(f\"Displayed SHAP beeswarm plot for {label}; top features listed above (not saved).\")\n",
    "    print(fi_cls.head(10))\n",
    "\n",
    "print()\n",
    "print('Top aggregated SHAP importances (absolute mean):')\n",
    "print(pd.Series(shap_tensor_abs.mean(axis=(0, 2)), index=group_names).sort_values(ascending=False).head(25))\n"
   ]
  }
 ],
 "metadata": {
  "kernelspec": {
   "display_name": ".venv (3.11.11)",
   "language": "python",
   "name": "python3"
  },
  "language_info": {
   "codemirror_mode": {
    "name": "ipython",
    "version": 3
   },
   "file_extension": ".py",
   "mimetype": "text/x-python",
   "name": "python",
   "nbconvert_exporter": "python",
   "pygments_lexer": "ipython3",
   "version": "3.12.4"
  }
 },
 "nbformat": 4,
 "nbformat_minor": 5
}
